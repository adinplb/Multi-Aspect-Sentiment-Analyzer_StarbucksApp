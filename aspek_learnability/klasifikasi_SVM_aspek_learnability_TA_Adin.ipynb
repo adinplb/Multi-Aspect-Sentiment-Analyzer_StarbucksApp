{
  "nbformat": 4,
  "nbformat_minor": 0,
  "metadata": {
    "colab": {
      "provenance": [],
      "collapsed_sections": [
        "N45e1Bwvi7FE",
        "9upZEhtNjnt5",
        "ApTaQveGDQwx",
        "l1EYsNnglNjG",
        "l4vpa9onlh-7",
        "fV9hWKimmNIp",
        "1_8D4d0dmxPK",
        "HKx1ffInoUaV",
        "mb_UuPtBpWIU",
        "QqXpuoiestXe",
        "In2GZfOSu1Pc",
        "g4P8YglHvlpA",
        "G2fZwJyTwy03",
        "jbBTyNVgx2B6",
        "etunappIXY1I",
        "3XcZdCfngpWK",
        "M3RUXP32g0gX",
        "yzCHI6ADhFUC",
        "uq3dIbWNhOP0",
        "0vuHbN70hYYn"
      ]
    },
    "kernelspec": {
      "name": "python3",
      "display_name": "Python 3"
    },
    "language_info": {
      "name": "python"
    }
  },
  "cells": [
    {
      "cell_type": "markdown",
      "source": [
        "# Install & Import Package"
      ],
      "metadata": {
        "id": "N45e1Bwvi7FE"
      }
    },
    {
      "cell_type": "code",
      "source": [
        "!pip install Sastrawi"
      ],
      "metadata": {
        "colab": {
          "base_uri": "https://localhost:8080/"
        },
        "id": "BYNo887FjXnC",
        "outputId": "2b9fa159-0743-4d58-af78-243f84b87ef2"
      },
      "execution_count": null,
      "outputs": [
        {
          "output_type": "stream",
          "name": "stdout",
          "text": [
            "Looking in indexes: https://pypi.org/simple, https://us-python.pkg.dev/colab-wheels/public/simple/\n",
            "Collecting Sastrawi\n",
            "  Downloading Sastrawi-1.0.1-py2.py3-none-any.whl (209 kB)\n",
            "\u001b[2K     \u001b[90m━━━━━━━━━━━━━━━━━━━━━━━━━━━━━━━━━━━━━━━\u001b[0m \u001b[32m209.7/209.7 kB\u001b[0m \u001b[31m5.3 MB/s\u001b[0m eta \u001b[36m0:00:00\u001b[0m\n",
            "\u001b[?25hInstalling collected packages: Sastrawi\n",
            "Successfully installed Sastrawi-1.0.1\n"
          ]
        }
      ]
    },
    {
      "cell_type": "code",
      "execution_count": null,
      "metadata": {
        "id": "ER9s6ALUivQT"
      },
      "outputs": [],
      "source": [
        "# LIBRARY UNTUK MENGOLAH DATA\n",
        "import pandas as pd\n",
        "import numpy as np\n",
        "import re,string #import regular expression\n",
        "import Sastrawi\n",
        "import joblib\n",
        "\n",
        "import matplotlib.pyplot as plt\n",
        "import seaborn as sns\n",
        "sns.set()\n",
        "import matplotlib as mpl\n",
        "\n",
        "#Library Untuk Split Data\n",
        "from sklearn import model_selection\n",
        "from sklearn.model_selection import train_test_split\n",
        "\n",
        "#Library Ekstraksi Fitur TFIDF\n",
        "from sklearn.feature_extraction.text import TfidfVectorizer\n",
        "from sklearn.preprocessing import OneHotEncoder\n",
        "\n",
        "#Library Klasifikasi Support Vector Machine\n",
        "from sklearn.svm import SVC\n",
        "from sklearn import svm\n",
        "from sklearn.metrics import f1_score as f1\n",
        "from sklearn .metrics import accuracy_score as acc\n",
        "from sklearn.metrics import precision_score as prec\n",
        "from sklearn.metrics import recall_score as recall\n",
        "from sklearn.metrics import confusion_matrix\n",
        "from sklearn.metrics import classification_report\n",
        "from sklearn import metrics\n",
        "\n",
        "\n",
        "#Library HyperParameter Tuning\n",
        "from sklearn.model_selection import cross_val_score\n",
        "from sklearn.model_selection import GridSearchCV\n",
        "import timeit\n",
        "\n",
        "import warnings\n",
        "warnings.filterwarnings('ignore')"
      ]
    },
    {
      "cell_type": "markdown",
      "source": [
        "# Import Dataset \"Hasil Prepro Aspek Learnability"
      ],
      "metadata": {
        "id": "9upZEhtNjnt5"
      }
    },
    {
      "cell_type": "code",
      "source": [
        "from google.colab import drive\n",
        "drive.mount('/content/drive')"
      ],
      "metadata": {
        "colab": {
          "base_uri": "https://localhost:8080/"
        },
        "id": "R6_YIr8_jwrt",
        "outputId": "2b5d9941-8181-47c7-c7ff-5813a8664a2a"
      },
      "execution_count": null,
      "outputs": [
        {
          "output_type": "stream",
          "name": "stdout",
          "text": [
            "Mounted at /content/drive\n"
          ]
        }
      ]
    },
    {
      "cell_type": "code",
      "source": [
        "ulasan_aspek_learnability = pd.read_csv(\"/content/drive/MyDrive/TA_ADIN_ASBA_STARBUCKS_APP/hasil_prepro_aspek_learnability_starbucks_app.csv\")\n",
        "ulasan_aspek_learnability.shape"
      ],
      "metadata": {
        "colab": {
          "base_uri": "https://localhost:8080/"
        },
        "id": "4o7btSJojmvd",
        "outputId": "a1aa1286-584c-4692-a89a-f368a57c969f"
      },
      "execution_count": null,
      "outputs": [
        {
          "output_type": "execute_result",
          "data": {
            "text/plain": [
              "(1500, 3)"
            ]
          },
          "metadata": {},
          "execution_count": 4
        }
      ]
    },
    {
      "cell_type": "code",
      "source": [
        "ulasan_aspek_learnability['Learnability'].value_counts()"
      ],
      "metadata": {
        "colab": {
          "base_uri": "https://localhost:8080/"
        },
        "id": "MYG9OAm_kzbP",
        "outputId": "2d8810b1-f789-4565-90c0-3849c75549ad"
      },
      "execution_count": null,
      "outputs": [
        {
          "output_type": "execute_result",
          "data": {
            "text/plain": [
              "0    1371\n",
              "1     129\n",
              "Name: Learnability, dtype: int64"
            ]
          },
          "metadata": {},
          "execution_count": 5
        }
      ]
    },
    {
      "cell_type": "code",
      "source": [
        "#detect missing values\n",
        "ulasan_aspek_learnability.isna().sum()"
      ],
      "metadata": {
        "colab": {
          "base_uri": "https://localhost:8080/"
        },
        "id": "-kCzND0sk3ls",
        "outputId": "b6935a3e-2347-4958-a73d-fced1e2fa7ec"
      },
      "execution_count": null,
      "outputs": [
        {
          "output_type": "execute_result",
          "data": {
            "text/plain": [
              "Ulasan          0\n",
              "stemming        0\n",
              "Learnability    0\n",
              "dtype: int64"
            ]
          },
          "metadata": {},
          "execution_count": 6
        }
      ]
    },
    {
      "cell_type": "markdown",
      "source": [
        "# Inisialisasi Data"
      ],
      "metadata": {
        "id": "l1EYsNnglNjG"
      }
    },
    {
      "cell_type": "code",
      "source": [
        "x_learnability = ulasan_aspek_learnability['stemming'] #hasil stemming\n",
        "y_learnability = ulasan_aspek_learnability['Learnability'].values #labelnya"
      ],
      "metadata": {
        "id": "I_oVSzANlM7-"
      },
      "execution_count": null,
      "outputs": []
    },
    {
      "cell_type": "markdown",
      "source": [
        "# Split Data"
      ],
      "metadata": {
        "id": "l4vpa9onlh-7"
      }
    },
    {
      "cell_type": "code",
      "source": [
        "from sklearn.model_selection import train_test_split\n",
        "\n",
        "#Perbandingan data train dan data test sebesar 8:2\n",
        "x_learnability_train, x_learnability_test, y_learnability_train, y_learnability_test = train_test_split(\n",
        "    ulasan_aspek_learnability['stemming'],\n",
        "    ulasan_aspek_learnability['Learnability'],\n",
        "    test_size=0.2)\n",
        "\n",
        "train_df = pd.DataFrame()\n",
        "train_df['Ulasan'] = x_learnability_train\n",
        "train_df['sentiment'] = y_learnability_train\n",
        "test_df = pd.DataFrame()\n",
        "test_df['Ulasan'] = x_learnability_test\n",
        "test_df['sentiment'] = y_learnability_test"
      ],
      "metadata": {
        "id": "Jdez-gT0lhEC"
      },
      "execution_count": null,
      "outputs": []
    },
    {
      "cell_type": "markdown",
      "source": [
        "# Feature TF-IDF \"x_learnability\""
      ],
      "metadata": {
        "id": "fV9hWKimmNIp"
      }
    },
    {
      "cell_type": "code",
      "source": [
        "#merubah nilai x_learnability menjadi sebuah angka bukan teks\n",
        "tfidf_vect = TfidfVectorizer(use_idf=True)\n",
        "tfidf_vect.fit(x_learnability_train)\n",
        "x_learnability_train_vectorized = tfidf_vect.transform(x_learnability_train)\n",
        "x_learnability_test_vectorized = tfidf_vect.transform(x_learnability_test)"
      ],
      "metadata": {
        "id": "e7oO9WQMmiTr"
      },
      "execution_count": null,
      "outputs": []
    },
    {
      "cell_type": "code",
      "source": [
        "print (x_learnability_train_vectorized)"
      ],
      "metadata": {
        "colab": {
          "base_uri": "https://localhost:8080/"
        },
        "id": "ZK81udifmlx4",
        "outputId": "798b6301-9388-433d-d205-b718a3ccfe24"
      },
      "execution_count": null,
      "outputs": [
        {
          "output_type": "stream",
          "name": "stdout",
          "text": [
            "  (0, 1455)\t0.44541340896771275\n",
            "  (0, 942)\t0.5522234895286872\n",
            "  (0, 836)\t0.35143289188194377\n",
            "  (0, 305)\t0.40508564830784416\n",
            "  (0, 178)\t0.4572271347623944\n",
            "  (1, 904)\t1.0\n",
            "  (2, 1388)\t1.0\n",
            "  (3, 1386)\t0.7255399922016651\n",
            "  (3, 1360)\t0.6881800053154754\n",
            "  (4, 1439)\t0.5737657417148951\n",
            "  (4, 836)\t0.34245563446800076\n",
            "  (4, 521)\t0.5443219271815385\n",
            "  (4, 467)\t0.5071791119958026\n",
            "  (7, 1094)\t0.8358772432184245\n",
            "  (7, 836)\t0.5489164182911334\n",
            "  (8, 1455)\t0.3513649887701197\n",
            "  (8, 1312)\t0.3013045025045987\n",
            "  (8, 1078)\t0.6129357536190649\n",
            "  (8, 942)\t0.43562226976177204\n",
            "  (8, 401)\t0.30034663973794423\n",
            "  (8, 178)\t0.3606842628368834\n",
            "  (9, 1581)\t0.22675578773928376\n",
            "  (9, 1515)\t0.20159726758591245\n",
            "  (9, 1455)\t0.3480362858373702\n",
            "  (9, 1450)\t0.27512146894159156\n",
            "  :\t:\n",
            "  (1196, 1275)\t0.3672817690958437\n",
            "  (1196, 836)\t0.18960455647036123\n",
            "  (1196, 829)\t0.4192046788454058\n",
            "  (1196, 759)\t0.3672817690958437\n",
            "  (1196, 748)\t0.2379473444388577\n",
            "  (1196, 270)\t0.25541767685209366\n",
            "  (1196, 97)\t0.232441423265161\n",
            "  (1196, 28)\t0.4192046788454058\n",
            "  (1197, 515)\t0.9309663553665064\n",
            "  (1197, 56)\t0.36510497829474187\n",
            "  (1198, 1531)\t0.18515947554488082\n",
            "  (1198, 1316)\t0.3418915315613313\n",
            "  (1198, 1312)\t0.1778113596614484\n",
            "  (1198, 1056)\t0.39757458533057377\n",
            "  (1198, 961)\t0.23267903569061893\n",
            "  (1198, 631)\t0.36171693031522834\n",
            "  (1198, 564)\t0.36171693031522834\n",
            "  (1198, 467)\t0.24229727396670775\n",
            "  (1198, 252)\t0.36171693031522834\n",
            "  (1198, 112)\t0.23096322983174988\n",
            "  (1198, 26)\t0.3169144830253391\n",
            "  (1199, 1312)\t0.3855197764927877\n",
            "  (1199, 668)\t0.5349783271142898\n",
            "  (1199, 629)\t0.5573796563869003\n",
            "  (1199, 385)\t0.5044805349039424\n"
          ]
        }
      ]
    },
    {
      "cell_type": "markdown",
      "source": [
        "# Klasifikasi SVM dengan K-Fold Cross Validation Menggunakan Kernel Linear"
      ],
      "metadata": {
        "id": "1_8D4d0dmxPK"
      }
    },
    {
      "cell_type": "markdown",
      "source": [
        "Kernel Linear memiliki akurasi paling tinggi sebesar 0.9208 (Tanpa Hyperparamater Tunning)"
      ],
      "metadata": {
        "id": "EwMyhi3qrKdz"
      }
    },
    {
      "cell_type": "code",
      "source": [
        "#Membuat Model dg Kernel Linear\n",
        "clf_linear = SVC(kernel='linear')\n",
        "\n",
        "#Evaluasi dg K-Fold Cross Validation\n",
        "#Menggunakan Data Train untuk Melatih Model\n",
        "cv_linear = cross_val_score(clf_linear, x_learnability_train_vectorized, y_learnability_train, scoring='accuracy', cv=5)\n",
        "\n",
        "#Hasil Setelah dilakukan 5x Fold (cv=5)\n",
        "print(\"Accuracy Score Linear of : %0.4f\" % (cv_linear.mean()))"
      ],
      "metadata": {
        "colab": {
          "base_uri": "https://localhost:8080/"
        },
        "id": "5hGtLQs7mwRZ",
        "outputId": "34ced8f0-e0b6-4ce6-a8c3-2232654a0699"
      },
      "execution_count": null,
      "outputs": [
        {
          "output_type": "stream",
          "name": "stdout",
          "text": [
            "Accuracy Score Linear of : 0.9192\n"
          ]
        }
      ]
    },
    {
      "cell_type": "markdown",
      "source": [
        "# Klasifikasi SVM dengan K-Fold Cross Validation Menggunakan Kernel Polynomial"
      ],
      "metadata": {
        "id": "HKx1ffInoUaV"
      }
    },
    {
      "cell_type": "code",
      "source": [
        "#Membuat Model dg Kernel Polynomial\n",
        "clf_poly = SVC(kernel='poly')\n",
        "\n",
        "#Evaluasi dg K-Fold Cross Validation\n",
        "#Menggunakan Data Train untuk Melatih Model\n",
        "cv_poly = cross_val_score(clf_poly, x_learnability_train_vectorized, y_learnability_train, scoring='accuracy', cv=5)\n",
        "\n",
        "#Hasil Setelah 5lipatan/fold (nilai cv=5)\n",
        "print(\"Accuracy Score Poly of : %0.4f\" % (cv_poly.mean()))"
      ],
      "metadata": {
        "colab": {
          "base_uri": "https://localhost:8080/"
        },
        "id": "ROq8aEcaoZDw",
        "outputId": "79a63c4d-aeef-4613-9281-97685d68e268"
      },
      "execution_count": null,
      "outputs": [
        {
          "output_type": "stream",
          "name": "stdout",
          "text": [
            "Accuracy Score Poly of : 0.9192\n"
          ]
        }
      ]
    },
    {
      "cell_type": "markdown",
      "source": [
        "# Klasifikasi SVM dengan K-Fold Cross Validation Menggunakan Kernel RBF"
      ],
      "metadata": {
        "id": "mb_UuPtBpWIU"
      }
    },
    {
      "cell_type": "code",
      "source": [
        "#Membuat Model dg Kernel rbf\n",
        "clf_rbf = SVC(kernel='rbf')\n",
        "\n",
        "#Evaluasi dg K-Fold Cross Validation\n",
        "#Menggunakan Data Train untuk Melatih Model\n",
        "cv_rbf= cross_val_score(clf_rbf, x_learnability_train_vectorized, y_learnability_train, scoring='accuracy', cv=5)\n",
        "\n",
        "#Hasil Setelah 5lipatan/fold (nilai cv=5)\n",
        "print(\"Accuracy Score RBF of : %0.4f\" % (cv_rbf.mean()))"
      ],
      "metadata": {
        "colab": {
          "base_uri": "https://localhost:8080/"
        },
        "id": "l59CuVryqfWY",
        "outputId": "9382285d-4337-4347-d3d6-46cc4483e547"
      },
      "execution_count": null,
      "outputs": [
        {
          "output_type": "stream",
          "name": "stdout",
          "text": [
            "Accuracy Score RBF of : 0.9175\n"
          ]
        }
      ]
    },
    {
      "cell_type": "markdown",
      "source": [
        "# Klasifikasi SVM (Hyperparameter Tunning) Menggunakan Kernel Linear"
      ],
      "metadata": {
        "id": "QqXpuoiestXe"
      }
    },
    {
      "cell_type": "code",
      "source": [
        "#Tuning Parameter with GridSearchCV\n",
        "#LINEAR KERNEL\n",
        "\n",
        "param_grid = {'C': [0.1, 1, 10, 100],\n",
        "              'kernel': ['linear'],\n",
        "              'gamma' :[0.01, 0.1, 1, 10]\n",
        "             }\n",
        "\n",
        "grid = GridSearchCV(svm.SVC(), param_grid, scoring='accuracy', refit = True, verbose = 3)\n",
        "# fitting the model for grid search\n",
        "grid.fit(x_learnability_train_vectorized, y_learnability_train)\n",
        "\n",
        "selected_kernel_linear = grid.best_params_['kernel']\n",
        "print(\"Selected Kernel: \", selected_kernel_linear)\n",
        "selected_C_linear = grid.best_params_['C']\n",
        "print(\"Selected C: \", selected_C_linear)\n",
        "selected_gamma_linear= grid.best_params_['gamma']\n",
        "print(\"Selected Gamma: \", selected_gamma_linear)\n",
        "\n",
        "best_params_linear_HT = grid.best_params_\n",
        "model_looks_linear_HT= grid.best_estimator_\n",
        "\n",
        "print(f'Best Score : {grid.best_score_}')\n",
        "print(\"best estimator: %s\" % (model_looks_linear_HT))"
      ],
      "metadata": {
        "colab": {
          "base_uri": "https://localhost:8080/"
        },
        "id": "Xq8iUoJmrpJR",
        "outputId": "4c4f36de-f4ec-4438-fbd3-e6b985b06525"
      },
      "execution_count": null,
      "outputs": [
        {
          "output_type": "stream",
          "name": "stdout",
          "text": [
            "Fitting 5 folds for each of 16 candidates, totalling 80 fits\n",
            "[CV 1/5] END ..C=0.1, gamma=0.01, kernel=linear;, score=0.917 total time=   0.1s\n",
            "[CV 2/5] END ..C=0.1, gamma=0.01, kernel=linear;, score=0.917 total time=   0.1s\n",
            "[CV 3/5] END ..C=0.1, gamma=0.01, kernel=linear;, score=0.917 total time=   0.1s\n",
            "[CV 4/5] END ..C=0.1, gamma=0.01, kernel=linear;, score=0.917 total time=   0.1s\n",
            "[CV 5/5] END ..C=0.1, gamma=0.01, kernel=linear;, score=0.917 total time=   0.2s\n",
            "[CV 1/5] END ...C=0.1, gamma=0.1, kernel=linear;, score=0.917 total time=   0.1s\n",
            "[CV 2/5] END ...C=0.1, gamma=0.1, kernel=linear;, score=0.917 total time=   0.1s\n",
            "[CV 3/5] END ...C=0.1, gamma=0.1, kernel=linear;, score=0.917 total time=   0.1s\n",
            "[CV 4/5] END ...C=0.1, gamma=0.1, kernel=linear;, score=0.917 total time=   0.1s\n",
            "[CV 5/5] END ...C=0.1, gamma=0.1, kernel=linear;, score=0.917 total time=   0.1s\n",
            "[CV 1/5] END .....C=0.1, gamma=1, kernel=linear;, score=0.917 total time=   0.1s\n",
            "[CV 2/5] END .....C=0.1, gamma=1, kernel=linear;, score=0.917 total time=   0.0s\n",
            "[CV 3/5] END .....C=0.1, gamma=1, kernel=linear;, score=0.917 total time=   0.1s\n",
            "[CV 4/5] END .....C=0.1, gamma=1, kernel=linear;, score=0.917 total time=   0.0s\n",
            "[CV 5/5] END .....C=0.1, gamma=1, kernel=linear;, score=0.917 total time=   0.1s\n",
            "[CV 1/5] END ....C=0.1, gamma=10, kernel=linear;, score=0.917 total time=   0.0s\n",
            "[CV 2/5] END ....C=0.1, gamma=10, kernel=linear;, score=0.917 total time=   0.0s\n",
            "[CV 3/5] END ....C=0.1, gamma=10, kernel=linear;, score=0.917 total time=   0.1s\n",
            "[CV 4/5] END ....C=0.1, gamma=10, kernel=linear;, score=0.917 total time=   0.0s\n",
            "[CV 5/5] END ....C=0.1, gamma=10, kernel=linear;, score=0.917 total time=   0.1s\n",
            "[CV 1/5] END ....C=1, gamma=0.01, kernel=linear;, score=0.933 total time=   0.1s\n",
            "[CV 2/5] END ....C=1, gamma=0.01, kernel=linear;, score=0.917 total time=   0.1s\n",
            "[CV 3/5] END ....C=1, gamma=0.01, kernel=linear;, score=0.925 total time=   0.1s\n",
            "[CV 4/5] END ....C=1, gamma=0.01, kernel=linear;, score=0.908 total time=   0.1s\n",
            "[CV 5/5] END ....C=1, gamma=0.01, kernel=linear;, score=0.912 total time=   0.2s\n",
            "[CV 1/5] END .....C=1, gamma=0.1, kernel=linear;, score=0.933 total time=   0.2s\n",
            "[CV 2/5] END .....C=1, gamma=0.1, kernel=linear;, score=0.917 total time=   0.2s\n",
            "[CV 3/5] END .....C=1, gamma=0.1, kernel=linear;, score=0.925 total time=   0.1s\n",
            "[CV 4/5] END .....C=1, gamma=0.1, kernel=linear;, score=0.908 total time=   0.1s\n",
            "[CV 5/5] END .....C=1, gamma=0.1, kernel=linear;, score=0.912 total time=   0.1s\n",
            "[CV 1/5] END .......C=1, gamma=1, kernel=linear;, score=0.933 total time=   0.1s\n",
            "[CV 2/5] END .......C=1, gamma=1, kernel=linear;, score=0.917 total time=   0.2s\n",
            "[CV 3/5] END .......C=1, gamma=1, kernel=linear;, score=0.925 total time=   0.1s\n",
            "[CV 4/5] END .......C=1, gamma=1, kernel=linear;, score=0.908 total time=   0.1s\n",
            "[CV 5/5] END .......C=1, gamma=1, kernel=linear;, score=0.912 total time=   0.1s\n",
            "[CV 1/5] END ......C=1, gamma=10, kernel=linear;, score=0.933 total time=   0.1s\n",
            "[CV 2/5] END ......C=1, gamma=10, kernel=linear;, score=0.917 total time=   0.0s\n",
            "[CV 3/5] END ......C=1, gamma=10, kernel=linear;, score=0.925 total time=   0.0s\n",
            "[CV 4/5] END ......C=1, gamma=10, kernel=linear;, score=0.908 total time=   0.0s\n",
            "[CV 5/5] END ......C=1, gamma=10, kernel=linear;, score=0.912 total time=   0.0s\n",
            "[CV 1/5] END ...C=10, gamma=0.01, kernel=linear;, score=0.912 total time=   0.0s\n",
            "[CV 2/5] END ...C=10, gamma=0.01, kernel=linear;, score=0.896 total time=   0.0s\n",
            "[CV 3/5] END ...C=10, gamma=0.01, kernel=linear;, score=0.925 total time=   0.0s\n",
            "[CV 4/5] END ...C=10, gamma=0.01, kernel=linear;, score=0.892 total time=   0.0s\n",
            "[CV 5/5] END ...C=10, gamma=0.01, kernel=linear;, score=0.883 total time=   0.0s\n",
            "[CV 1/5] END ....C=10, gamma=0.1, kernel=linear;, score=0.912 total time=   0.0s\n",
            "[CV 2/5] END ....C=10, gamma=0.1, kernel=linear;, score=0.896 total time=   0.0s\n",
            "[CV 3/5] END ....C=10, gamma=0.1, kernel=linear;, score=0.925 total time=   0.0s\n",
            "[CV 4/5] END ....C=10, gamma=0.1, kernel=linear;, score=0.892 total time=   0.0s\n",
            "[CV 5/5] END ....C=10, gamma=0.1, kernel=linear;, score=0.883 total time=   0.0s\n",
            "[CV 1/5] END ......C=10, gamma=1, kernel=linear;, score=0.912 total time=   0.0s\n",
            "[CV 2/5] END ......C=10, gamma=1, kernel=linear;, score=0.896 total time=   0.0s\n",
            "[CV 3/5] END ......C=10, gamma=1, kernel=linear;, score=0.925 total time=   0.0s\n",
            "[CV 4/5] END ......C=10, gamma=1, kernel=linear;, score=0.892 total time=   0.0s\n",
            "[CV 5/5] END ......C=10, gamma=1, kernel=linear;, score=0.883 total time=   0.0s\n",
            "[CV 1/5] END .....C=10, gamma=10, kernel=linear;, score=0.912 total time=   0.0s\n",
            "[CV 2/5] END .....C=10, gamma=10, kernel=linear;, score=0.896 total time=   0.0s\n",
            "[CV 3/5] END .....C=10, gamma=10, kernel=linear;, score=0.925 total time=   0.0s\n",
            "[CV 4/5] END .....C=10, gamma=10, kernel=linear;, score=0.892 total time=   0.0s\n",
            "[CV 5/5] END .....C=10, gamma=10, kernel=linear;, score=0.883 total time=   0.0s\n",
            "[CV 1/5] END ..C=100, gamma=0.01, kernel=linear;, score=0.908 total time=   0.0s\n",
            "[CV 2/5] END ..C=100, gamma=0.01, kernel=linear;, score=0.883 total time=   0.0s\n",
            "[CV 3/5] END ..C=100, gamma=0.01, kernel=linear;, score=0.892 total time=   0.0s\n",
            "[CV 4/5] END ..C=100, gamma=0.01, kernel=linear;, score=0.867 total time=   0.0s\n",
            "[CV 5/5] END ..C=100, gamma=0.01, kernel=linear;, score=0.896 total time=   0.0s\n",
            "[CV 1/5] END ...C=100, gamma=0.1, kernel=linear;, score=0.908 total time=   0.0s\n",
            "[CV 2/5] END ...C=100, gamma=0.1, kernel=linear;, score=0.883 total time=   0.0s\n",
            "[CV 3/5] END ...C=100, gamma=0.1, kernel=linear;, score=0.892 total time=   0.0s\n",
            "[CV 4/5] END ...C=100, gamma=0.1, kernel=linear;, score=0.867 total time=   0.0s\n",
            "[CV 5/5] END ...C=100, gamma=0.1, kernel=linear;, score=0.896 total time=   0.0s\n",
            "[CV 1/5] END .....C=100, gamma=1, kernel=linear;, score=0.908 total time=   0.0s\n",
            "[CV 2/5] END .....C=100, gamma=1, kernel=linear;, score=0.883 total time=   0.0s\n",
            "[CV 3/5] END .....C=100, gamma=1, kernel=linear;, score=0.892 total time=   0.0s\n",
            "[CV 4/5] END .....C=100, gamma=1, kernel=linear;, score=0.867 total time=   0.0s\n",
            "[CV 5/5] END .....C=100, gamma=1, kernel=linear;, score=0.896 total time=   0.0s\n",
            "[CV 1/5] END ....C=100, gamma=10, kernel=linear;, score=0.908 total time=   0.0s\n",
            "[CV 2/5] END ....C=100, gamma=10, kernel=linear;, score=0.883 total time=   0.0s\n",
            "[CV 3/5] END ....C=100, gamma=10, kernel=linear;, score=0.892 total time=   0.0s\n",
            "[CV 4/5] END ....C=100, gamma=10, kernel=linear;, score=0.867 total time=   0.0s\n",
            "[CV 5/5] END ....C=100, gamma=10, kernel=linear;, score=0.896 total time=   0.0s\n",
            "Selected Kernel:  linear\n",
            "Selected C:  1\n",
            "Selected Gamma:  0.01\n",
            "Best Score : 0.9191666666666667\n",
            "best estimator: SVC(C=1, gamma=0.01, kernel='linear')\n"
          ]
        }
      ]
    },
    {
      "cell_type": "markdown",
      "source": [
        "# Klasifikasi SVM (Hyperparameter Tunning) Menggunakan Kernel Polynomial"
      ],
      "metadata": {
        "id": "In2GZfOSu1Pc"
      }
    },
    {
      "cell_type": "code",
      "source": [
        "#Tuning Parameter with GridSearchCV\n",
        "#Kernel Polynomial\n",
        "\n",
        "param_grid = {'C': [0.1, 1, 10, 100],\n",
        "              'kernel': ['poly'],\n",
        "              'gamma' :[0.01, 0.1, 1, 10]\n",
        "             }\n",
        "\n",
        "grid = GridSearchCV(svm.SVC(), param_grid, scoring='accuracy', refit = True, verbose = 3)\n",
        "# fitting the model for grid search\n",
        "grid.fit(x_learnability_train_vectorized, y_learnability_train)\n",
        "\n",
        "\n",
        "selected_kernel_poly = grid.best_params_['kernel']\n",
        "print(\"Selected Kernel: \", selected_kernel_poly)\n",
        "selected_C_poly= grid.best_params_['C']\n",
        "print(\"Selected C: \", selected_C_poly)\n",
        "selected_gamma_poly = grid.best_params_['gamma']\n",
        "print(\"Selected Gamma: \", selected_gamma_poly)\n",
        "\n",
        "\n",
        "best_params_poly_HT = grid.best_params_\n",
        "model_looks_poly_HT= grid.best_estimator_\n",
        "\n",
        "print(f'Best Score : {grid.best_score_}')\n",
        "print(\"best estimator: %s\" % (model_looks_poly_HT))"
      ],
      "metadata": {
        "colab": {
          "base_uri": "https://localhost:8080/"
        },
        "id": "QlbaYx25u5yh",
        "outputId": "bc8d69c6-f896-43df-b12e-919fe7869838"
      },
      "execution_count": null,
      "outputs": [
        {
          "output_type": "stream",
          "name": "stdout",
          "text": [
            "Fitting 5 folds for each of 16 candidates, totalling 80 fits\n",
            "[CV 1/5] END ....C=0.1, gamma=0.01, kernel=poly;, score=0.917 total time=   0.0s\n",
            "[CV 2/5] END ....C=0.1, gamma=0.01, kernel=poly;, score=0.917 total time=   0.0s\n",
            "[CV 3/5] END ....C=0.1, gamma=0.01, kernel=poly;, score=0.917 total time=   0.0s\n",
            "[CV 4/5] END ....C=0.1, gamma=0.01, kernel=poly;, score=0.917 total time=   0.0s\n",
            "[CV 5/5] END ....C=0.1, gamma=0.01, kernel=poly;, score=0.917 total time=   0.0s\n",
            "[CV 1/5] END .....C=0.1, gamma=0.1, kernel=poly;, score=0.917 total time=   0.0s\n",
            "[CV 2/5] END .....C=0.1, gamma=0.1, kernel=poly;, score=0.917 total time=   0.0s\n",
            "[CV 3/5] END .....C=0.1, gamma=0.1, kernel=poly;, score=0.917 total time=   0.0s\n",
            "[CV 4/5] END .....C=0.1, gamma=0.1, kernel=poly;, score=0.917 total time=   0.0s\n",
            "[CV 5/5] END .....C=0.1, gamma=0.1, kernel=poly;, score=0.917 total time=   0.0s\n",
            "[CV 1/5] END .......C=0.1, gamma=1, kernel=poly;, score=0.917 total time=   0.1s\n",
            "[CV 2/5] END .......C=0.1, gamma=1, kernel=poly;, score=0.917 total time=   0.1s\n",
            "[CV 3/5] END .......C=0.1, gamma=1, kernel=poly;, score=0.917 total time=   0.1s\n",
            "[CV 4/5] END .......C=0.1, gamma=1, kernel=poly;, score=0.917 total time=   0.1s\n",
            "[CV 5/5] END .......C=0.1, gamma=1, kernel=poly;, score=0.917 total time=   0.1s\n",
            "[CV 1/5] END ......C=0.1, gamma=10, kernel=poly;, score=0.917 total time=   0.1s\n",
            "[CV 2/5] END ......C=0.1, gamma=10, kernel=poly;, score=0.917 total time=   0.1s\n",
            "[CV 3/5] END ......C=0.1, gamma=10, kernel=poly;, score=0.921 total time=   0.1s\n",
            "[CV 4/5] END ......C=0.1, gamma=10, kernel=poly;, score=0.917 total time=   0.1s\n",
            "[CV 5/5] END ......C=0.1, gamma=10, kernel=poly;, score=0.925 total time=   0.1s\n",
            "[CV 1/5] END ......C=1, gamma=0.01, kernel=poly;, score=0.917 total time=   0.0s\n",
            "[CV 2/5] END ......C=1, gamma=0.01, kernel=poly;, score=0.917 total time=   0.0s\n",
            "[CV 3/5] END ......C=1, gamma=0.01, kernel=poly;, score=0.917 total time=   0.0s\n",
            "[CV 4/5] END ......C=1, gamma=0.01, kernel=poly;, score=0.917 total time=   0.0s\n",
            "[CV 5/5] END ......C=1, gamma=0.01, kernel=poly;, score=0.917 total time=   0.0s\n",
            "[CV 1/5] END .......C=1, gamma=0.1, kernel=poly;, score=0.917 total time=   0.0s\n",
            "[CV 2/5] END .......C=1, gamma=0.1, kernel=poly;, score=0.917 total time=   0.0s\n",
            "[CV 3/5] END .......C=1, gamma=0.1, kernel=poly;, score=0.917 total time=   0.0s\n",
            "[CV 4/5] END .......C=1, gamma=0.1, kernel=poly;, score=0.917 total time=   0.0s\n",
            "[CV 5/5] END .......C=1, gamma=0.1, kernel=poly;, score=0.917 total time=   0.0s\n",
            "[CV 1/5] END .........C=1, gamma=1, kernel=poly;, score=0.917 total time=   0.1s\n",
            "[CV 2/5] END .........C=1, gamma=1, kernel=poly;, score=0.917 total time=   0.1s\n",
            "[CV 3/5] END .........C=1, gamma=1, kernel=poly;, score=0.921 total time=   0.1s\n",
            "[CV 4/5] END .........C=1, gamma=1, kernel=poly;, score=0.917 total time=   0.1s\n",
            "[CV 5/5] END .........C=1, gamma=1, kernel=poly;, score=0.925 total time=   0.1s\n",
            "[CV 1/5] END ........C=1, gamma=10, kernel=poly;, score=0.917 total time=   0.1s\n",
            "[CV 2/5] END ........C=1, gamma=10, kernel=poly;, score=0.917 total time=   0.1s\n",
            "[CV 3/5] END ........C=1, gamma=10, kernel=poly;, score=0.921 total time=   0.1s\n",
            "[CV 4/5] END ........C=1, gamma=10, kernel=poly;, score=0.917 total time=   0.1s\n",
            "[CV 5/5] END ........C=1, gamma=10, kernel=poly;, score=0.925 total time=   0.1s\n",
            "[CV 1/5] END .....C=10, gamma=0.01, kernel=poly;, score=0.917 total time=   0.0s\n",
            "[CV 2/5] END .....C=10, gamma=0.01, kernel=poly;, score=0.917 total time=   0.0s\n",
            "[CV 3/5] END .....C=10, gamma=0.01, kernel=poly;, score=0.917 total time=   0.0s\n",
            "[CV 4/5] END .....C=10, gamma=0.01, kernel=poly;, score=0.917 total time=   0.0s\n",
            "[CV 5/5] END .....C=10, gamma=0.01, kernel=poly;, score=0.917 total time=   0.0s\n",
            "[CV 1/5] END ......C=10, gamma=0.1, kernel=poly;, score=0.917 total time=   0.0s\n",
            "[CV 2/5] END ......C=10, gamma=0.1, kernel=poly;, score=0.917 total time=   0.0s\n",
            "[CV 3/5] END ......C=10, gamma=0.1, kernel=poly;, score=0.917 total time=   0.0s\n",
            "[CV 4/5] END ......C=10, gamma=0.1, kernel=poly;, score=0.917 total time=   0.0s\n",
            "[CV 5/5] END ......C=10, gamma=0.1, kernel=poly;, score=0.917 total time=   0.0s\n",
            "[CV 1/5] END ........C=10, gamma=1, kernel=poly;, score=0.917 total time=   0.1s\n",
            "[CV 2/5] END ........C=10, gamma=1, kernel=poly;, score=0.917 total time=   0.1s\n",
            "[CV 3/5] END ........C=10, gamma=1, kernel=poly;, score=0.921 total time=   0.1s\n",
            "[CV 4/5] END ........C=10, gamma=1, kernel=poly;, score=0.917 total time=   0.1s\n",
            "[CV 5/5] END ........C=10, gamma=1, kernel=poly;, score=0.925 total time=   0.1s\n",
            "[CV 1/5] END .......C=10, gamma=10, kernel=poly;, score=0.917 total time=   0.1s\n",
            "[CV 2/5] END .......C=10, gamma=10, kernel=poly;, score=0.917 total time=   0.1s\n",
            "[CV 3/5] END .......C=10, gamma=10, kernel=poly;, score=0.921 total time=   0.1s\n",
            "[CV 4/5] END .......C=10, gamma=10, kernel=poly;, score=0.917 total time=   0.1s\n",
            "[CV 5/5] END .......C=10, gamma=10, kernel=poly;, score=0.925 total time=   0.1s\n",
            "[CV 1/5] END ....C=100, gamma=0.01, kernel=poly;, score=0.917 total time=   0.0s\n",
            "[CV 2/5] END ....C=100, gamma=0.01, kernel=poly;, score=0.917 total time=   0.0s\n",
            "[CV 3/5] END ....C=100, gamma=0.01, kernel=poly;, score=0.917 total time=   0.0s\n",
            "[CV 4/5] END ....C=100, gamma=0.01, kernel=poly;, score=0.917 total time=   0.0s\n",
            "[CV 5/5] END ....C=100, gamma=0.01, kernel=poly;, score=0.917 total time=   0.0s\n",
            "[CV 1/5] END .....C=100, gamma=0.1, kernel=poly;, score=0.917 total time=   0.1s\n",
            "[CV 2/5] END .....C=100, gamma=0.1, kernel=poly;, score=0.917 total time=   0.1s\n",
            "[CV 3/5] END .....C=100, gamma=0.1, kernel=poly;, score=0.917 total time=   0.1s\n",
            "[CV 4/5] END .....C=100, gamma=0.1, kernel=poly;, score=0.917 total time=   0.1s\n",
            "[CV 5/5] END .....C=100, gamma=0.1, kernel=poly;, score=0.917 total time=   0.1s\n",
            "[CV 1/5] END .......C=100, gamma=1, kernel=poly;, score=0.917 total time=   0.1s\n",
            "[CV 2/5] END .......C=100, gamma=1, kernel=poly;, score=0.917 total time=   0.1s\n",
            "[CV 3/5] END .......C=100, gamma=1, kernel=poly;, score=0.921 total time=   0.1s\n",
            "[CV 4/5] END .......C=100, gamma=1, kernel=poly;, score=0.917 total time=   0.1s\n",
            "[CV 5/5] END .......C=100, gamma=1, kernel=poly;, score=0.925 total time=   0.1s\n",
            "[CV 1/5] END ......C=100, gamma=10, kernel=poly;, score=0.917 total time=   0.1s\n",
            "[CV 2/5] END ......C=100, gamma=10, kernel=poly;, score=0.917 total time=   0.1s\n",
            "[CV 3/5] END ......C=100, gamma=10, kernel=poly;, score=0.921 total time=   0.1s\n",
            "[CV 4/5] END ......C=100, gamma=10, kernel=poly;, score=0.917 total time=   0.1s\n",
            "[CV 5/5] END ......C=100, gamma=10, kernel=poly;, score=0.925 total time=   0.1s\n",
            "Selected Kernel:  poly\n",
            "Selected C:  0.1\n",
            "Selected Gamma:  10\n",
            "Best Score : 0.9191666666666667\n",
            "best estimator: SVC(C=0.1, gamma=10, kernel='poly')\n"
          ]
        }
      ]
    },
    {
      "cell_type": "markdown",
      "source": [
        "# Klasifikasi SVM (Hyperparameter Tunning) Menggunakan Kernel RBF"
      ],
      "metadata": {
        "id": "g4P8YglHvlpA"
      }
    },
    {
      "cell_type": "markdown",
      "source": [
        "Hyperparameter terbaik untuk aspek efficiency ada pada kernel RBF dg C=100, gamma 0.01, score=0.9275"
      ],
      "metadata": {
        "id": "tJWDZyYJwIlA"
      }
    },
    {
      "cell_type": "code",
      "source": [
        "#Tuning Parameter with GridSearchCV\n",
        "#Kernel RBF\n",
        "\n",
        "param_grid = {'C': [0.1, 1, 10, 100],\n",
        "              'kernel': ['rbf'],\n",
        "              'gamma' :[0.01, 0.1, 1, 10]\n",
        "             }\n",
        "\n",
        "grid = GridSearchCV(svm.SVC(), param_grid, scoring='accuracy', refit = True, verbose = 3)\n",
        "# fitting the model for grid search\n",
        "grid.fit(x_learnability_train_vectorized, y_learnability_train)\n",
        "\n",
        "selected_kernel_rbf = grid.best_params_['kernel']\n",
        "print(\"Selected Kernel: \", selected_kernel_rbf)\n",
        "selected_C_rbf = grid.best_params_['C']\n",
        "print(\"Selected C: \", selected_C_rbf)\n",
        "selected_gamma_rbf= grid.best_params_['gamma']\n",
        "print(\"Selected Gamma: \", selected_gamma_rbf)\n",
        "\n",
        "best_params_rbf_HT = grid.best_params_\n",
        "model_looks_rbf_HT= grid.best_estimator_\n",
        "\n",
        "print(f'Best Score : {grid.best_score_}')\n",
        "print(\"best estimator: %s\" % (model_looks_rbf_HT))"
      ],
      "metadata": {
        "colab": {
          "base_uri": "https://localhost:8080/"
        },
        "id": "VXEof0fKvrzl",
        "outputId": "1575767e-96ef-4aad-b85b-30245e6ed171"
      },
      "execution_count": null,
      "outputs": [
        {
          "output_type": "stream",
          "name": "stdout",
          "text": [
            "Fitting 5 folds for each of 16 candidates, totalling 80 fits\n",
            "[CV 1/5] END .....C=0.1, gamma=0.01, kernel=rbf;, score=0.917 total time=   0.0s\n",
            "[CV 2/5] END .....C=0.1, gamma=0.01, kernel=rbf;, score=0.917 total time=   0.0s\n",
            "[CV 3/5] END .....C=0.1, gamma=0.01, kernel=rbf;, score=0.917 total time=   0.0s\n",
            "[CV 4/5] END .....C=0.1, gamma=0.01, kernel=rbf;, score=0.917 total time=   0.0s\n",
            "[CV 5/5] END .....C=0.1, gamma=0.01, kernel=rbf;, score=0.917 total time=   0.0s\n",
            "[CV 1/5] END ......C=0.1, gamma=0.1, kernel=rbf;, score=0.917 total time=   0.0s\n",
            "[CV 2/5] END ......C=0.1, gamma=0.1, kernel=rbf;, score=0.917 total time=   0.0s\n",
            "[CV 3/5] END ......C=0.1, gamma=0.1, kernel=rbf;, score=0.917 total time=   0.0s\n",
            "[CV 4/5] END ......C=0.1, gamma=0.1, kernel=rbf;, score=0.917 total time=   0.0s\n",
            "[CV 5/5] END ......C=0.1, gamma=0.1, kernel=rbf;, score=0.917 total time=   0.0s\n",
            "[CV 1/5] END ........C=0.1, gamma=1, kernel=rbf;, score=0.917 total time=   0.1s\n",
            "[CV 2/5] END ........C=0.1, gamma=1, kernel=rbf;, score=0.917 total time=   0.1s\n",
            "[CV 3/5] END ........C=0.1, gamma=1, kernel=rbf;, score=0.917 total time=   0.1s\n",
            "[CV 4/5] END ........C=0.1, gamma=1, kernel=rbf;, score=0.917 total time=   0.1s\n",
            "[CV 5/5] END ........C=0.1, gamma=1, kernel=rbf;, score=0.917 total time=   0.1s\n",
            "[CV 1/5] END .......C=0.1, gamma=10, kernel=rbf;, score=0.917 total time=   0.1s\n",
            "[CV 2/5] END .......C=0.1, gamma=10, kernel=rbf;, score=0.917 total time=   0.1s\n",
            "[CV 3/5] END .......C=0.1, gamma=10, kernel=rbf;, score=0.917 total time=   0.1s\n",
            "[CV 4/5] END .......C=0.1, gamma=10, kernel=rbf;, score=0.917 total time=   0.1s\n",
            "[CV 5/5] END .......C=0.1, gamma=10, kernel=rbf;, score=0.917 total time=   0.1s\n",
            "[CV 1/5] END .......C=1, gamma=0.01, kernel=rbf;, score=0.917 total time=   0.0s\n",
            "[CV 2/5] END .......C=1, gamma=0.01, kernel=rbf;, score=0.917 total time=   0.0s\n",
            "[CV 3/5] END .......C=1, gamma=0.01, kernel=rbf;, score=0.917 total time=   0.0s\n",
            "[CV 4/5] END .......C=1, gamma=0.01, kernel=rbf;, score=0.917 total time=   0.0s\n",
            "[CV 5/5] END .......C=1, gamma=0.01, kernel=rbf;, score=0.917 total time=   0.0s\n",
            "[CV 1/5] END ........C=1, gamma=0.1, kernel=rbf;, score=0.917 total time=   0.0s\n",
            "[CV 2/5] END ........C=1, gamma=0.1, kernel=rbf;, score=0.917 total time=   0.0s\n",
            "[CV 3/5] END ........C=1, gamma=0.1, kernel=rbf;, score=0.917 total time=   0.0s\n",
            "[CV 4/5] END ........C=1, gamma=0.1, kernel=rbf;, score=0.917 total time=   0.0s\n",
            "[CV 5/5] END ........C=1, gamma=0.1, kernel=rbf;, score=0.917 total time=   0.0s\n",
            "[CV 1/5] END ..........C=1, gamma=1, kernel=rbf;, score=0.921 total time=   0.1s\n",
            "[CV 2/5] END ..........C=1, gamma=1, kernel=rbf;, score=0.917 total time=   0.1s\n",
            "[CV 3/5] END ..........C=1, gamma=1, kernel=rbf;, score=0.921 total time=   0.1s\n",
            "[CV 4/5] END ..........C=1, gamma=1, kernel=rbf;, score=0.912 total time=   0.1s\n",
            "[CV 5/5] END ..........C=1, gamma=1, kernel=rbf;, score=0.917 total time=   0.1s\n",
            "[CV 1/5] END .........C=1, gamma=10, kernel=rbf;, score=0.921 total time=   0.1s\n",
            "[CV 2/5] END .........C=1, gamma=10, kernel=rbf;, score=0.912 total time=   0.1s\n",
            "[CV 3/5] END .........C=1, gamma=10, kernel=rbf;, score=0.912 total time=   0.1s\n",
            "[CV 4/5] END .........C=1, gamma=10, kernel=rbf;, score=0.917 total time=   0.1s\n",
            "[CV 5/5] END .........C=1, gamma=10, kernel=rbf;, score=0.921 total time=   0.1s\n",
            "[CV 1/5] END ......C=10, gamma=0.01, kernel=rbf;, score=0.917 total time=   0.1s\n",
            "[CV 2/5] END ......C=10, gamma=0.01, kernel=rbf;, score=0.917 total time=   0.0s\n",
            "[CV 3/5] END ......C=10, gamma=0.01, kernel=rbf;, score=0.917 total time=   0.0s\n",
            "[CV 4/5] END ......C=10, gamma=0.01, kernel=rbf;, score=0.917 total time=   0.0s\n",
            "[CV 5/5] END ......C=10, gamma=0.01, kernel=rbf;, score=0.917 total time=   0.1s\n",
            "[CV 1/5] END .......C=10, gamma=0.1, kernel=rbf;, score=0.929 total time=   0.0s\n",
            "[CV 2/5] END .......C=10, gamma=0.1, kernel=rbf;, score=0.908 total time=   0.1s\n",
            "[CV 3/5] END .......C=10, gamma=0.1, kernel=rbf;, score=0.925 total time=   0.1s\n",
            "[CV 4/5] END .......C=10, gamma=0.1, kernel=rbf;, score=0.912 total time=   0.1s\n",
            "[CV 5/5] END .......C=10, gamma=0.1, kernel=rbf;, score=0.921 total time=   0.1s\n",
            "[CV 1/5] END .........C=10, gamma=1, kernel=rbf;, score=0.921 total time=   0.1s\n",
            "[CV 2/5] END .........C=10, gamma=1, kernel=rbf;, score=0.912 total time=   0.1s\n",
            "[CV 3/5] END .........C=10, gamma=1, kernel=rbf;, score=0.925 total time=   0.1s\n",
            "[CV 4/5] END .........C=10, gamma=1, kernel=rbf;, score=0.908 total time=   0.1s\n",
            "[CV 5/5] END .........C=10, gamma=1, kernel=rbf;, score=0.917 total time=   0.2s\n",
            "[CV 1/5] END ........C=10, gamma=10, kernel=rbf;, score=0.921 total time=   0.3s\n",
            "[CV 2/5] END ........C=10, gamma=10, kernel=rbf;, score=0.912 total time=   0.2s\n",
            "[CV 3/5] END ........C=10, gamma=10, kernel=rbf;, score=0.912 total time=   0.3s\n",
            "[CV 4/5] END ........C=10, gamma=10, kernel=rbf;, score=0.917 total time=   0.3s\n",
            "[CV 5/5] END ........C=10, gamma=10, kernel=rbf;, score=0.921 total time=   0.3s\n",
            "[CV 1/5] END .....C=100, gamma=0.01, kernel=rbf;, score=0.933 total time=   0.1s\n",
            "[CV 2/5] END .....C=100, gamma=0.01, kernel=rbf;, score=0.912 total time=   0.1s\n",
            "[CV 3/5] END .....C=100, gamma=0.01, kernel=rbf;, score=0.925 total time=   0.1s\n",
            "[CV 4/5] END .....C=100, gamma=0.01, kernel=rbf;, score=0.912 total time=   0.1s\n",
            "[CV 5/5] END .....C=100, gamma=0.01, kernel=rbf;, score=0.921 total time=   0.2s\n",
            "[CV 1/5] END ......C=100, gamma=0.1, kernel=rbf;, score=0.908 total time=   0.1s\n",
            "[CV 2/5] END ......C=100, gamma=0.1, kernel=rbf;, score=0.908 total time=   0.1s\n",
            "[CV 3/5] END ......C=100, gamma=0.1, kernel=rbf;, score=0.917 total time=   0.1s\n",
            "[CV 4/5] END ......C=100, gamma=0.1, kernel=rbf;, score=0.887 total time=   0.1s\n",
            "[CV 5/5] END ......C=100, gamma=0.1, kernel=rbf;, score=0.896 total time=   0.1s\n",
            "[CV 1/5] END ........C=100, gamma=1, kernel=rbf;, score=0.921 total time=   0.2s\n",
            "[CV 2/5] END ........C=100, gamma=1, kernel=rbf;, score=0.912 total time=   0.2s\n",
            "[CV 3/5] END ........C=100, gamma=1, kernel=rbf;, score=0.925 total time=   0.2s\n",
            "[CV 4/5] END ........C=100, gamma=1, kernel=rbf;, score=0.908 total time=   0.2s\n",
            "[CV 5/5] END ........C=100, gamma=1, kernel=rbf;, score=0.917 total time=   0.2s\n",
            "[CV 1/5] END .......C=100, gamma=10, kernel=rbf;, score=0.921 total time=   0.1s\n",
            "[CV 2/5] END .......C=100, gamma=10, kernel=rbf;, score=0.912 total time=   0.2s\n",
            "[CV 3/5] END .......C=100, gamma=10, kernel=rbf;, score=0.912 total time=   0.1s\n",
            "[CV 4/5] END .......C=100, gamma=10, kernel=rbf;, score=0.917 total time=   0.2s\n",
            "[CV 5/5] END .......C=100, gamma=10, kernel=rbf;, score=0.921 total time=   0.1s\n",
            "Selected Kernel:  rbf\n",
            "Selected C:  100\n",
            "Selected Gamma:  0.01\n",
            "Best Score : 0.9208333333333332\n",
            "best estimator: SVC(C=100, gamma=0.01)\n"
          ]
        }
      ]
    },
    {
      "cell_type": "markdown",
      "source": [
        "# K-Fold Cross Validation dengan Hyperparameter Tunning"
      ],
      "metadata": {
        "id": "G2fZwJyTwy03"
      }
    },
    {
      "cell_type": "code",
      "source": [
        "cross_val_score_linear= cross_val_score(model_looks_linear_HT, x_learnability_train_vectorized, y_learnability_train, scoring='accuracy', cv=5)\n",
        "print(\"Accuracy Score Linear of : %0.4f\" % cross_val_score_linear.mean(), cross_val_score_linear.std())\n",
        "\n",
        "cross_val_score_poly = cross_val_score(model_looks_poly_HT, x_learnability_train_vectorized, y_learnability_train, scoring='accuracy', cv=5)\n",
        "print(\"Accuracy Score poly of : %0.4f\" % cross_val_score_poly.mean(), cross_val_score_poly.std())\n",
        "\n",
        "cross_val_score_rbf = cross_val_score(model_looks_rbf_HT, x_learnability_train_vectorized, y_learnability_train, scoring='accuracy', cv=5)\n",
        "print(\"Accuracy Score rbf of : %0.4f\" % cross_val_score_rbf.mean(), cross_val_score_rbf.std())"
      ],
      "metadata": {
        "colab": {
          "base_uri": "https://localhost:8080/"
        },
        "id": "oJO4xRGdxBej",
        "outputId": "7c13499c-8c13-4fe7-aad3-30b9bfc02574"
      },
      "execution_count": null,
      "outputs": [
        {
          "output_type": "stream",
          "name": "stdout",
          "text": [
            "Accuracy Score Linear of : 0.9192 0.008975274678557525\n",
            "Accuracy Score poly of : 0.9192 0.0033333333333333604\n",
            "Accuracy Score rbf of : 0.9208 0.007905694150420967\n"
          ]
        }
      ]
    },
    {
      "cell_type": "markdown",
      "source": [
        "# Visualisasi Pengaruh Hyperparameter Tunning pada Model Klasifikasi SVM di Aspek Efficiency"
      ],
      "metadata": {
        "id": "jbBTyNVgx2B6"
      }
    },
    {
      "cell_type": "markdown",
      "source": [
        "Hyperparameter tunning pada aspek efficiency hanya berpengaruh pada kernel RBF dengan kenaikan sebesar 0.0075"
      ],
      "metadata": {
        "id": "LyYmgeYlyw_6"
      }
    },
    {
      "cell_type": "code",
      "source": [
        "import numpy as np\n",
        "from matplotlib.ticker import FormatStrFormatter\n",
        "\n",
        "import matplotlib.pyplot as plt\n",
        "%matplotlib inline\n",
        "\n",
        "\n",
        "name = ['Linear', 'RBF', 'Polynomial']\n",
        "before_HT = [cv_linear.mean(), cv_rbf.mean(), cv_poly.mean()]\n",
        "after_HT = [cross_val_score_linear.mean(), cross_val_score_rbf.mean(), cross_val_score_poly.mean()]\n",
        "diff_linear = ((cross_val_score_linear.mean()-cv_linear.mean()))\n",
        "diff_rbf = ((cross_val_score_rbf.mean()-cv_rbf.mean()))\n",
        "diff_poly = ((cross_val_score_poly.mean()-cv_poly.mean()))\n",
        "diff_HT = [diff_linear, diff_rbf, diff_poly]\n",
        "\n",
        "x = np.arange(len(name))\n",
        "width = 0.2\n",
        "\n",
        "fig, ax = plt.subplots(figsize=(14, 7))\n",
        "\n",
        "bfr = ax.bar(x - width/2, before_HT, width, label='Before', color='steelblue')\n",
        "aftr = ax.bar(x + width/2, after_HT, width, label='After', color='orange')\n",
        "diff = ax.bar(x + 0.3, diff_HT, width, label='Diffrenciate', color='cyan')\n",
        "\n",
        "ax.set_title('Hasil Hyperparameter Aspek Learnability', size=16)\n",
        "ax.set_ylabel('Accuracy', size=14)\n",
        "ax.set_xticks(x)\n",
        "ax.set_xticklabels(name, size=14)\n",
        "ax.legend(fontsize=14)\n",
        "ax.legend(bbox_to_anchor=(1.02, 1), loc='upper left', borderaxespad=0)\n",
        "ax.yaxis.set_major_formatter(FormatStrFormatter(\"%0.2f\"))\n",
        "for p in ax.patches:\n",
        "    h = p.get_height()\n",
        "    x = p.get_x()+p.get_width()/2\n",
        "    if h!= 0:\n",
        "      ax.annotate(\"%g\" % p.get_height(), xy=(x,h), xytext=(0,5), textcoords=\"offset points\",\n",
        "                  ha=\"center\", fontsize=10)\n",
        "\n",
        "plt.show()"
      ],
      "metadata": {
        "colab": {
          "base_uri": "https://localhost:8080/"
        },
        "id": "jqZN4Uh4xyBG",
        "outputId": "a24d1fe0-f381-4ae2-9e00-519762abec62"
      },
      "execution_count": null,
      "outputs": [
        {
          "output_type": "display_data",
          "data": {
            "text/plain": [
              "<Figure size 1400x700 with 1 Axes>"
            ],
            "image/png": "[encoded data removed]"
          },
          "metadata": {}
        }
      ]
    },
    {
      "cell_type": "markdown",
      "source": [
        "# Validasi Model Hyperparameter Tunning Data Test Linear Kernel"
      ],
      "metadata": {
        "id": "etunappIXY1I"
      }
    },
    {
      "cell_type": "code",
      "source": [
        "grid_predictions = model_looks_linear_HT.predict(x_learnability_test_vectorized)\n",
        "\n",
        "print(\"F1-SCORE \",f1(y_learnability_test,grid_predictions,average='macro') * 100)\n",
        "print(\"ACCURACY \",acc(y_learnability_test,grid_predictions) * 100)\n",
        "print(\"PRECISION \",prec(y_learnability_test,grid_predictions,average='macro') * 100)\n",
        "print(\"RECALL\",recall(y_learnability_test,grid_predictions,average='macro') * 100)\n",
        "\n",
        "print('Confusion Matrix : \\n', confusion_matrix(y_learnability_test, grid_predictions))\n",
        "print('Report Hasil : \\n',classification_report(y_learnability_test, grid_predictions))"
      ],
      "metadata": {
        "colab": {
          "base_uri": "https://localhost:8080/"
        },
        "id": "1SX832YjgWJ9",
        "outputId": "ef68559c-6370-4b72-8365-b7fb0c536838"
      },
      "execution_count": null,
      "outputs": [
        {
          "output_type": "stream",
          "name": "stdout",
          "text": [
            "F1-SCORE  56.00505689001265\n",
            "ACCURACY  90.33333333333333\n",
            "PRECISION  70.57823129251702\n",
            "RECALL 54.6189082580481\n",
            "Confusion Matrix : \n",
            " [[268   3]\n",
            " [ 26   3]]\n",
            "Report Hasil : \n",
            "               precision    recall  f1-score   support\n",
            "\n",
            "           0       0.91      0.99      0.95       271\n",
            "           1       0.50      0.10      0.17        29\n",
            "\n",
            "    accuracy                           0.90       300\n",
            "   macro avg       0.71      0.55      0.56       300\n",
            "weighted avg       0.87      0.90      0.87       300\n",
            "\n"
          ]
        }
      ]
    },
    {
      "cell_type": "markdown",
      "source": [
        "# Validasi Model Hyperparameter Tunning Data Test Polynomial Kernel"
      ],
      "metadata": {
        "id": "3XcZdCfngpWK"
      }
    },
    {
      "cell_type": "code",
      "source": [
        "grid_predictions = model_looks_poly_HT.predict(x_learnability_test_vectorized)\n",
        "\n",
        "print(\"F1-SCORE \",f1(y_learnability_test,grid_predictions,average='macro') * 100)\n",
        "print(\"ACCURACY \",acc(y_learnability_test,grid_predictions) * 100)\n",
        "print(\"PRECISION \",prec(y_learnability_test,grid_predictions,average='macro') * 100)\n",
        "print(\"RECALL\",recall(y_learnability_test,grid_predictions,average='macro') * 100)\n",
        "\n",
        "print('Confusion Matrix : \\n', confusion_matrix(y_learnability_test, grid_predictions))\n",
        "print('Report Hasil : \\n',classification_report(y_learnability_test, grid_predictions))"
      ],
      "metadata": {
        "colab": {
          "base_uri": "https://localhost:8080/"
        },
        "id": "9cU2FkyXgvQ4",
        "outputId": "de14ed96-b914-4013-98d2-4a611a9ee7f3"
      },
      "execution_count": null,
      "outputs": [
        {
          "output_type": "stream",
          "name": "stdout",
          "text": [
            "F1-SCORE  55.673758865248224\n",
            "ACCURACY  90.0\n",
            "PRECISION  66.99171136031204\n",
            "RECALL 54.43440641302965\n",
            "Confusion Matrix : \n",
            " [[267   4]\n",
            " [ 26   3]]\n",
            "Report Hasil : \n",
            "               precision    recall  f1-score   support\n",
            "\n",
            "           0       0.91      0.99      0.95       271\n",
            "           1       0.43      0.10      0.17        29\n",
            "\n",
            "    accuracy                           0.90       300\n",
            "   macro avg       0.67      0.54      0.56       300\n",
            "weighted avg       0.86      0.90      0.87       300\n",
            "\n"
          ]
        }
      ]
    },
    {
      "cell_type": "markdown",
      "source": [
        "# Validasi Model Hyperparameter Tunning Data Test RBF Kernel"
      ],
      "metadata": {
        "id": "M3RUXP32g0gX"
      }
    },
    {
      "cell_type": "code",
      "source": [
        "grid_predictions = model_looks_rbf_HT.predict(x_learnability_test_vectorized)\n",
        "\n",
        "print(\"F1-SCORE \",f1(y_learnability_test,grid_predictions,average='macro') * 100)\n",
        "print(\"ACCURACY \",acc(y_learnability_test,grid_predictions) * 100)\n",
        "print(\"PRECISION \",prec(y_learnability_test,grid_predictions,average='macro') * 100)\n",
        "print(\"RECALL\",recall(y_learnability_test,grid_predictions,average='macro') * 100)\n",
        "\n",
        "print('Confusion Matrix : \\n', confusion_matrix(y_learnability_test, grid_predictions))\n",
        "print('Report Hasil : \\n',classification_report(y_learnability_test, grid_predictions))"
      ],
      "metadata": {
        "colab": {
          "base_uri": "https://localhost:8080/"
        },
        "id": "QL1_wrr0g6M9",
        "outputId": "856fde31-718f-4045-b477-7d0d96628352"
      },
      "execution_count": null,
      "outputs": [
        {
          "output_type": "stream",
          "name": "stdout",
          "text": [
            "F1-SCORE  62.040228631266636\n",
            "ACCURACY  90.33333333333333\n",
            "PRECISION  71.00694444444444\n",
            "RECALL 59.237816516096196\n",
            "Confusion Matrix : \n",
            " [[265   6]\n",
            " [ 23   6]]\n",
            "Report Hasil : \n",
            "               precision    recall  f1-score   support\n",
            "\n",
            "           0       0.92      0.98      0.95       271\n",
            "           1       0.50      0.21      0.29        29\n",
            "\n",
            "    accuracy                           0.90       300\n",
            "   macro avg       0.71      0.59      0.62       300\n",
            "weighted avg       0.88      0.90      0.88       300\n",
            "\n"
          ]
        }
      ]
    },
    {
      "cell_type": "markdown",
      "source": [
        "# Validasi Model Hyperparameter Tunning Data Train Linear Kernel"
      ],
      "metadata": {
        "id": "yzCHI6ADhFUC"
      }
    },
    {
      "cell_type": "code",
      "source": [
        "grid_predictions = model_looks_linear_HT.predict(x_learnability_train_vectorized)\n",
        "\n",
        "print(\"F1-SCORE \",f1(y_learnability_train,grid_predictions,average='macro') * 100)\n",
        "print(\"ACCURACY \",acc(y_learnability_train,grid_predictions) * 100)\n",
        "print(\"PRECISION \",prec(y_learnability_train,grid_predictions,average='macro') * 100)\n",
        "print(\"RECALL\",recall(y_learnability_train,grid_predictions,average='macro') * 100)\n",
        "\n",
        "print('Confusion Matrix : \\n', confusion_matrix(y_learnability_train, grid_predictions))\n",
        "print('Report Hasil : \\n',classification_report(y_learnability_train, grid_predictions))"
      ],
      "metadata": {
        "colab": {
          "base_uri": "https://localhost:8080/"
        },
        "id": "-j-5F5t-hLPk",
        "outputId": "8945d8d0-d7a6-4fae-8515-1e09bd5fe001"
      },
      "execution_count": null,
      "outputs": [
        {
          "output_type": "stream",
          "name": "stdout",
          "text": [
            "F1-SCORE  69.72133535639671\n",
            "ACCURACY  93.75\n",
            "PRECISION  92.08173514721709\n",
            "RECALL 63.86363636363637\n",
            "Confusion Matrix : \n",
            " [[1097    3]\n",
            " [  72   28]]\n",
            "Report Hasil : \n",
            "               precision    recall  f1-score   support\n",
            "\n",
            "           0       0.94      1.00      0.97      1100\n",
            "           1       0.90      0.28      0.43       100\n",
            "\n",
            "    accuracy                           0.94      1200\n",
            "   macro avg       0.92      0.64      0.70      1200\n",
            "weighted avg       0.94      0.94      0.92      1200\n",
            "\n"
          ]
        }
      ]
    },
    {
      "cell_type": "markdown",
      "source": [
        "# Validasi Model Hyperparameter Tunning Data Train Polynomial Kernel"
      ],
      "metadata": {
        "id": "uq3dIbWNhOP0"
      }
    },
    {
      "cell_type": "code",
      "source": [
        "grid_predictions = model_looks_poly_HT.predict(x_learnability_train_vectorized)\n",
        "\n",
        "print(\"F1-SCORE \",f1(y_learnability_train,grid_predictions,average='macro') * 100)\n",
        "print(\"ACCURACY \",acc(y_learnability_train,grid_predictions) * 100)\n",
        "print(\"PRECISION \",prec(y_learnability_train,grid_predictions,average='macro') * 100)\n",
        "print(\"RECALL\",recall(y_learnability_train,grid_predictions,average='macro') * 100)\n",
        "\n",
        "print('Confusion Matrix : \\n', confusion_matrix(y_learnability_train, grid_predictions))\n",
        "print('Report Hasil : \\n',classification_report(y_learnability_train, grid_predictions))"
      ],
      "metadata": {
        "colab": {
          "base_uri": "https://localhost:8080/"
        },
        "id": "RBrSYY-xhTBf",
        "outputId": "7057fe5f-c74f-4323-a498-83e128db8924"
      },
      "execution_count": null,
      "outputs": [
        {
          "output_type": "stream",
          "name": "stdout",
          "text": [
            "F1-SCORE  99.18551851927266\n",
            "ACCURACY  99.75\n",
            "PRECISION  98.9644050847305\n",
            "RECALL 99.4090909090909\n",
            "Confusion Matrix : \n",
            " [[1098    2]\n",
            " [   1   99]]\n",
            "Report Hasil : \n",
            "               precision    recall  f1-score   support\n",
            "\n",
            "           0       1.00      1.00      1.00      1100\n",
            "           1       0.98      0.99      0.99       100\n",
            "\n",
            "    accuracy                           1.00      1200\n",
            "   macro avg       0.99      0.99      0.99      1200\n",
            "weighted avg       1.00      1.00      1.00      1200\n",
            "\n"
          ]
        }
      ]
    },
    {
      "cell_type": "markdown",
      "source": [
        "# Validasi Model Hyperparameter Tunning Data Train RBF Kernel"
      ],
      "metadata": {
        "id": "0vuHbN70hYYn"
      }
    },
    {
      "cell_type": "code",
      "source": [
        "grid_predictions = model_looks_rbf_HT.predict(x_learnability_train_vectorized)\n",
        "\n",
        "print(\"F1-SCORE \",f1(y_learnability_train,grid_predictions,average='macro') * 100)\n",
        "print(\"ACCURACY \",acc(y_learnability_train,grid_predictions) * 100)\n",
        "print(\"PRECISION \",prec(y_learnability_train,grid_predictions,average='macro') * 100)\n",
        "print(\"RECALL\",recall(y_learnability_train,grid_predictions,average='macro') * 100)\n",
        "\n",
        "print('Confusion Matrix : \\n', confusion_matrix(y_learnability_train, grid_predictions))\n",
        "print('Report Hasil : \\n',classification_report(y_learnability_train, grid_predictions))"
      ],
      "metadata": {
        "colab": {
          "base_uri": "https://localhost:8080/"
        },
        "id": "y54Zoj-MhcAL",
        "outputId": "bf0d6458-b9c9-4879-c5ef-37b3080c126a"
      },
      "execution_count": null,
      "outputs": [
        {
          "output_type": "stream",
          "name": "stdout",
          "text": [
            "F1-SCORE  94.49050457795573\n",
            "ACCURACY  98.41666666666666\n",
            "PRECISION  97.55708399169687\n",
            "RECALL 91.86363636363637\n",
            "Confusion Matrix : \n",
            " [[1097    3]\n",
            " [  16   84]]\n",
            "Report Hasil : \n",
            "               precision    recall  f1-score   support\n",
            "\n",
            "           0       0.99      1.00      0.99      1100\n",
            "           1       0.97      0.84      0.90       100\n",
            "\n",
            "    accuracy                           0.98      1200\n",
            "   macro avg       0.98      0.92      0.94      1200\n",
            "weighted avg       0.98      0.98      0.98      1200\n",
            "\n"
          ]
        }
      ]
    }
  ]
}