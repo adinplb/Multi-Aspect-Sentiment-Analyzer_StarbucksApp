{
  "nbformat": 4,
  "nbformat_minor": 0,
  "metadata": {
    "colab": {
      "provenance": [],
      "collapsed_sections": [
        "N45e1Bwvi7FE",
        "9upZEhtNjnt5",
        "l1EYsNnglNjG",
        "l4vpa9onlh-7",
        "fV9hWKimmNIp",
        "1_8D4d0dmxPK",
        "HKx1ffInoUaV",
        "mb_UuPtBpWIU",
        "QqXpuoiestXe",
        "In2GZfOSu1Pc",
        "g4P8YglHvlpA",
        "G2fZwJyTwy03",
        "jbBTyNVgx2B6",
        "etunappIXY1I",
        "3XcZdCfngpWK",
        "M3RUXP32g0gX",
        "yzCHI6ADhFUC",
        "uq3dIbWNhOP0",
        "0vuHbN70hYYn"
      ]
    },
    "kernelspec": {
      "name": "python3",
      "display_name": "Python 3"
    },
    "language_info": {
      "name": "python"
    }
  },
  "cells": [
    {
      "cell_type": "markdown",
      "source": [
        "# Install & Import Package"
      ],
      "metadata": {
        "id": "N45e1Bwvi7FE"
      }
    },
    {
      "cell_type": "code",
      "source": [
        "!pip install Sastrawi"
      ],
      "metadata": {
        "colab": {
          "base_uri": "https://localhost:8080/"
        },
        "id": "BYNo887FjXnC",
        "outputId": "1e2663e8-010c-4895-e90c-65f59054446d"
      },
      "execution_count": null,
      "outputs": [
        {
          "output_type": "stream",
          "name": "stdout",
          "text": [
            "Looking in indexes: https://pypi.org/simple, https://us-python.pkg.dev/colab-wheels/public/simple/\n",
            "Collecting Sastrawi\n",
            "  Downloading Sastrawi-1.0.1-py2.py3-none-any.whl (209 kB)\n",
            "\u001b[2K     \u001b[90m━━━━━━━━━━━━━━━━━━━━━━━━━━━━━━━━━━━━━━━\u001b[0m \u001b[32m209.7/209.7 kB\u001b[0m \u001b[31m4.6 MB/s\u001b[0m eta \u001b[36m0:00:00\u001b[0m\n",
            "\u001b[?25hInstalling collected packages: Sastrawi\n",
            "Successfully installed Sastrawi-1.0.1\n"
          ]
        }
      ]
    },
    {
      "cell_type": "code",
      "execution_count": null,
      "metadata": {
        "id": "ER9s6ALUivQT"
      },
      "outputs": [],
      "source": [
        "# LIBRARY UNTUK MENGOLAH DATA\n",
        "import pandas as pd\n",
        "import numpy as np\n",
        "import re,string #import regular expression\n",
        "import Sastrawi\n",
        "import joblib\n",
        "\n",
        "import matplotlib.pyplot as plt\n",
        "import seaborn as sns\n",
        "sns.set()\n",
        "import matplotlib as mpl\n",
        "\n",
        "#Library Untuk Split Data\n",
        "from sklearn import model_selection\n",
        "from sklearn.model_selection import train_test_split\n",
        "\n",
        "#Library Ekstraksi Fitur TFIDF\n",
        "from sklearn.feature_extraction.text import TfidfVectorizer\n",
        "from sklearn.preprocessing import OneHotEncoder\n",
        "\n",
        "#Library Klasifikasi Support Vector Machine\n",
        "from sklearn.svm import SVC\n",
        "from sklearn import svm\n",
        "from sklearn.metrics import f1_score as f1\n",
        "from sklearn .metrics import accuracy_score as acc\n",
        "from sklearn.metrics import precision_score as prec\n",
        "from sklearn.metrics import recall_score as recall\n",
        "from sklearn.metrics import confusion_matrix\n",
        "from sklearn.metrics import classification_report\n",
        "from sklearn import metrics\n",
        "\n",
        "\n",
        "#Library HyperParameter Tuning\n",
        "from sklearn.model_selection import cross_val_score\n",
        "from sklearn.model_selection import GridSearchCV\n",
        "import timeit\n",
        "\n",
        "import warnings\n",
        "warnings.filterwarnings('ignore')"
      ]
    },
    {
      "cell_type": "markdown",
      "source": [
        "# Import Dataset \"Hasil Prepro Sentimen BerAspek Satisfaction"
      ],
      "metadata": {
        "id": "9upZEhtNjnt5"
      }
    },
    {
      "cell_type": "code",
      "source": [
        "from google.colab import drive\n",
        "drive.mount('/content/drive')"
      ],
      "metadata": {
        "colab": {
          "base_uri": "https://localhost:8080/"
        },
        "id": "R6_YIr8_jwrt",
        "outputId": "8eb294e6-55b3-4ed5-84b6-8f7d4f999cb1"
      },
      "execution_count": null,
      "outputs": [
        {
          "output_type": "stream",
          "name": "stdout",
          "text": [
            "Drive already mounted at /content/drive; to attempt to forcibly remount, call drive.mount(\"/content/drive\", force_remount=True).\n"
          ]
        }
      ]
    },
    {
      "cell_type": "code",
      "source": [
        "ulasan_sentimen_satisfaction = pd.read_csv(\"/content/drive/MyDrive/TA_ADIN_ASBA_STARBUCKS_APP/hasil_prepro_sentimen_satisfaction_starbucks_app.csv\")\n",
        "ulasan_sentimen_satisfaction.shape"
      ],
      "metadata": {
        "colab": {
          "base_uri": "https://localhost:8080/"
        },
        "id": "4o7btSJojmvd",
        "outputId": "2a481a69-9823-43ab-c73b-fd734ce3790a"
      },
      "execution_count": null,
      "outputs": [
        {
          "output_type": "execute_result",
          "data": {
            "text/plain": [
              "(1500, 3)"
            ]
          },
          "metadata": {},
          "execution_count": 6
        }
      ]
    },
    {
      "cell_type": "code",
      "source": [
        "ulasan_sentimen_satisfaction['Satisfaction'].value_counts()"
      ],
      "metadata": {
        "colab": {
          "base_uri": "https://localhost:8080/"
        },
        "id": "MYG9OAm_kzbP",
        "outputId": "8b91b97f-7005-4c4a-f96b-a0ae9e723fdf"
      },
      "execution_count": null,
      "outputs": [
        {
          "output_type": "execute_result",
          "data": {
            "text/plain": [
              " 0    989\n",
              " 1    405\n",
              "-1    106\n",
              "Name: Satisfaction, dtype: int64"
            ]
          },
          "metadata": {},
          "execution_count": 7
        }
      ]
    },
    {
      "cell_type": "code",
      "source": [
        "#detect missing values\n",
        "ulasan_sentimen_satisfaction.isna().sum()"
      ],
      "metadata": {
        "colab": {
          "base_uri": "https://localhost:8080/"
        },
        "id": "-kCzND0sk3ls",
        "outputId": "6877bf26-7303-4b43-855f-7574d48dc105"
      },
      "execution_count": null,
      "outputs": [
        {
          "output_type": "execute_result",
          "data": {
            "text/plain": [
              "Ulasan          0\n",
              "stemming        0\n",
              "Satisfaction    0\n",
              "dtype: int64"
            ]
          },
          "metadata": {},
          "execution_count": 8
        }
      ]
    },
    {
      "cell_type": "markdown",
      "source": [
        "# Inisialisasi Data"
      ],
      "metadata": {
        "id": "l1EYsNnglNjG"
      }
    },
    {
      "cell_type": "code",
      "source": [
        "x_satisfaction = ulasan_sentimen_satisfaction['stemming'] #hasil stemming\n",
        "y_satisfaction = ulasan_sentimen_satisfaction['Satisfaction'].values #labelnya"
      ],
      "metadata": {
        "id": "I_oVSzANlM7-"
      },
      "execution_count": null,
      "outputs": []
    },
    {
      "cell_type": "markdown",
      "source": [
        "# Split Data"
      ],
      "metadata": {
        "id": "l4vpa9onlh-7"
      }
    },
    {
      "cell_type": "code",
      "source": [
        "from sklearn.model_selection import train_test_split\n",
        "\n",
        "#Perbandingan data train dan data test sebesar 8:2\n",
        "x_satisfaction_train, x_satisfaction_test, y_satisfaction_train, y_satisfaction_test = train_test_split(\n",
        "    ulasan_sentimen_satisfaction['stemming'],\n",
        "    ulasan_sentimen_satisfaction['Satisfaction'],\n",
        "    test_size=0.2)\n",
        "\n",
        "train_df = pd.DataFrame()\n",
        "train_df['Ulasan'] = x_satisfaction_train\n",
        "train_df['sentiment'] = y_satisfaction_train\n",
        "test_df = pd.DataFrame()\n",
        "test_df['Ulasan'] = x_satisfaction_test\n",
        "test_df['sentiment'] = y_satisfaction_test"
      ],
      "metadata": {
        "id": "Jdez-gT0lhEC"
      },
      "execution_count": null,
      "outputs": []
    },
    {
      "cell_type": "markdown",
      "source": [
        "# Feature TF-IDF \"x_satisfaction\""
      ],
      "metadata": {
        "id": "fV9hWKimmNIp"
      }
    },
    {
      "cell_type": "code",
      "source": [
        "#merubah nilai x_satisfaction menjadi sebuah angka bukan teks\n",
        "tfidf_vect = TfidfVectorizer(use_idf=True)\n",
        "tfidf_vect.fit(x_satisfaction_train)\n",
        "x_satisfaction_train_vectorized = tfidf_vect.transform(x_satisfaction_train)\n",
        "x_satisfaction_test_vectorized = tfidf_vect.transform(x_satisfaction_test)"
      ],
      "metadata": {
        "id": "e7oO9WQMmiTr"
      },
      "execution_count": null,
      "outputs": []
    },
    {
      "cell_type": "code",
      "source": [
        "print (x_satisfaction_train_vectorized)"
      ],
      "metadata": {
        "colab": {
          "base_uri": "https://localhost:8080/"
        },
        "id": "ZK81udifmlx4",
        "outputId": "a4cf5515-d27a-4896-e418-e2e823075a3a"
      },
      "execution_count": null,
      "outputs": [
        {
          "output_type": "stream",
          "name": "stdout",
          "text": [
            "  (0, 1407)\t0.32112962213567947\n",
            "  (0, 291)\t0.5171007686459046\n",
            "  (0, 184)\t0.4562853492659929\n",
            "  (0, 169)\t0.6490656676315743\n",
            "  (1, 1464)\t0.4305898236269364\n",
            "  (1, 1110)\t0.33833725033885415\n",
            "  (1, 1023)\t0.5661207935995715\n",
            "  (1, 804)\t0.45388156748974406\n",
            "  (1, 333)\t0.4166762275068155\n",
            "  (2, 1509)\t0.3116286216248497\n",
            "  (2, 1505)\t0.20385328292661467\n",
            "  (2, 1308)\t0.33168760191248664\n",
            "  (2, 1089)\t0.2631054953230635\n",
            "  (2, 941)\t0.3659786552071982\n",
            "  (2, 865)\t0.2973965486177751\n",
            "  (2, 853)\t0.3659786552071982\n",
            "  (2, 658)\t0.2631054953230635\n",
            "  (2, 577)\t0.34591967491956127\n",
            "  (2, 345)\t0.3040025512524616\n",
            "  (2, 190)\t0.21086095109011752\n",
            "  (3, 204)\t0.9493326016108934\n",
            "  (3, 64)\t0.3142731479440978\n",
            "  (4, 1554)\t0.40743622108344635\n",
            "  (4, 1438)\t0.22538702765516655\n",
            "  (4, 1214)\t0.3827963036428829\n",
            "  :\t:\n",
            "  (1195, 1565)\t0.42067920755205335\n",
            "  (1195, 1519)\t0.30175151823279023\n",
            "  (1195, 1505)\t0.3044886432976078\n",
            "  (1195, 1489)\t0.42067920755205335\n",
            "  (1195, 640)\t0.44421100464992735\n",
            "  (1195, 228)\t0.2653604962714809\n",
            "  (1195, 190)\t0.31495575641519713\n",
            "  (1195, 105)\t0.3087943618026853\n",
            "  (1196, 1302)\t0.43062912524228475\n",
            "  (1196, 1187)\t0.31408734760608054\n",
            "  (1196, 1167)\t0.4200909147391077\n",
            "  (1196, 875)\t0.4029102941237618\n",
            "  (1196, 848)\t0.34832187323207614\n",
            "  (1196, 793)\t0.5057336111409869\n",
            "  (1197, 115)\t1.0\n",
            "  (1198, 1249)\t0.3744148288628779\n",
            "  (1198, 1247)\t0.23253143139252808\n",
            "  (1198, 1168)\t0.3393333325291684\n",
            "  (1198, 1097)\t0.31881197270476164\n",
            "  (1198, 1025)\t0.3744148288628779\n",
            "  (1198, 700)\t0.3393333325291684\n",
            "  (1198, 311)\t0.3744148288628779\n",
            "  (1198, 303)\t0.3280396132486593\n",
            "  (1198, 268)\t0.29295811691494983\n",
            "  (1199, 1438)\t1.0\n"
          ]
        }
      ]
    },
    {
      "cell_type": "markdown",
      "source": [
        "# Klasifikasi SVM dengan K-Fold Cross Validation Menggunakan Kernel Linear"
      ],
      "metadata": {
        "id": "1_8D4d0dmxPK"
      }
    },
    {
      "cell_type": "markdown",
      "source": [
        "Kernel Linear memiliki akurasi paling tinggi sebesar 0.9208 (Tanpa Hyperparamater Tunning)"
      ],
      "metadata": {
        "id": "EwMyhi3qrKdz"
      }
    },
    {
      "cell_type": "code",
      "source": [
        "#Membuat Model dg Kernel Linear\n",
        "clf_linear = SVC(kernel='linear')\n",
        "\n",
        "#Evaluasi dg K-Fold Cross Validation\n",
        "#Menggunakan Data Train untuk Melatih Model\n",
        "cv_linear = cross_val_score(clf_linear, x_satisfaction_train_vectorized, y_satisfaction_train, scoring='accuracy', cv=5)\n",
        "\n",
        "#Hasil Setelah dilakukan 5x Fold (cv=5)\n",
        "print(\"Accuracy Score Linear of : %0.4f\" % (cv_linear.mean()))"
      ],
      "metadata": {
        "colab": {
          "base_uri": "https://localhost:8080/"
        },
        "id": "5hGtLQs7mwRZ",
        "outputId": "147824ca-e192-4a35-b600-f83d2047027d"
      },
      "execution_count": null,
      "outputs": [
        {
          "output_type": "stream",
          "name": "stdout",
          "text": [
            "Accuracy Score Linear of : 0.7917\n"
          ]
        }
      ]
    },
    {
      "cell_type": "markdown",
      "source": [
        "# Klasifikasi SVM dengan K-Fold Cross Validation Menggunakan Kernel Polynomial"
      ],
      "metadata": {
        "id": "HKx1ffInoUaV"
      }
    },
    {
      "cell_type": "code",
      "source": [
        "#Membuat Model dg Kernel Polynomial\n",
        "clf_poly = SVC(kernel='poly')\n",
        "\n",
        "#Evaluasi dg K-Fold Cross Validation\n",
        "#Menggunakan Data Train untuk Melatih Model\n",
        "cv_poly = cross_val_score(clf_poly, x_satisfaction_train_vectorized, y_satisfaction_train, scoring='accuracy', cv=5)\n",
        "\n",
        "#Hasil Setelah 5lipatan/fold (nilai cv=5)\n",
        "print(\"Accuracy Score Poly of : %0.4f\" % (cv_poly.mean()))"
      ],
      "metadata": {
        "colab": {
          "base_uri": "https://localhost:8080/"
        },
        "id": "ROq8aEcaoZDw",
        "outputId": "b602d77e-fc7b-4dd3-c715-738e16bf4303"
      },
      "execution_count": null,
      "outputs": [
        {
          "output_type": "stream",
          "name": "stdout",
          "text": [
            "Accuracy Score Poly of : 0.7750\n"
          ]
        }
      ]
    },
    {
      "cell_type": "markdown",
      "source": [
        "# Klasifikasi SVM dengan K-Fold Cross Validation Menggunakan Kernel RBF"
      ],
      "metadata": {
        "id": "mb_UuPtBpWIU"
      }
    },
    {
      "cell_type": "code",
      "source": [
        "#Membuat Model dg Kernel rbf\n",
        "clf_rbf = SVC(kernel='rbf')\n",
        "\n",
        "#Evaluasi dg K-Fold Cross Validation\n",
        "#Menggunakan Data Train untuk Melatih Model\n",
        "cv_rbf= cross_val_score(clf_rbf, x_satisfaction_train_vectorized, y_satisfaction_train, scoring='accuracy', cv=5)\n",
        "\n",
        "#Hasil Setelah 5lipatan/fold (nilai cv=5)\n",
        "print(\"Accuracy Score RBF of : %0.4f\" % (cv_rbf.mean()))"
      ],
      "metadata": {
        "colab": {
          "base_uri": "https://localhost:8080/"
        },
        "id": "l59CuVryqfWY",
        "outputId": "b421b801-85bf-4692-cd99-9423fa78345f"
      },
      "execution_count": null,
      "outputs": [
        {
          "output_type": "stream",
          "name": "stdout",
          "text": [
            "Accuracy Score RBF of : 0.8283\n"
          ]
        }
      ]
    },
    {
      "cell_type": "markdown",
      "source": [
        "# Klasifikasi SVM (Hyperparameter Tunning) Menggunakan Kernel Linear"
      ],
      "metadata": {
        "id": "QqXpuoiestXe"
      }
    },
    {
      "cell_type": "code",
      "source": [
        "#Tuning Parameter with GridSearchCV\n",
        "#LINEAR KERNEL\n",
        "\n",
        "param_grid = {'C': [0.1, 1, 10, 100],\n",
        "              'kernel': ['linear'],\n",
        "              'gamma' :[0.01, 0.1, 1, 10]\n",
        "             }\n",
        "\n",
        "grid = GridSearchCV(svm.SVC(), param_grid, scoring='accuracy', refit = True, verbose = 3)\n",
        "# fitting the model for grid search\n",
        "grid.fit(x_satisfaction_train_vectorized, y_satisfaction_train)\n",
        "\n",
        "selected_kernel_linear = grid.best_params_['kernel']\n",
        "print(\"Selected Kernel: \", selected_kernel_linear)\n",
        "selected_C_linear = grid.best_params_['C']\n",
        "print(\"Selected C: \", selected_C_linear)\n",
        "selected_gamma_linear= grid.best_params_['gamma']\n",
        "print(\"Selected Gamma: \", selected_gamma_linear)\n",
        "\n",
        "best_params_linear_HT = grid.best_params_\n",
        "model_looks_linear_HT= grid.best_estimator_\n",
        "\n",
        "print(f'Best Score : {grid.best_score_}')\n",
        "print(\"best estimator: %s\" % (model_looks_linear_HT))"
      ],
      "metadata": {
        "colab": {
          "base_uri": "https://localhost:8080/"
        },
        "id": "Xq8iUoJmrpJR",
        "outputId": "1902dfcb-2f58-49b4-db75-d321fa5ccd94"
      },
      "execution_count": null,
      "outputs": [
        {
          "output_type": "stream",
          "name": "stdout",
          "text": [
            "Fitting 5 folds for each of 16 candidates, totalling 80 fits\n",
            "[CV 1/5] END ..C=0.1, gamma=0.01, kernel=linear;, score=0.754 total time=   0.1s\n",
            "[CV 2/5] END ..C=0.1, gamma=0.01, kernel=linear;, score=0.713 total time=   0.1s\n",
            "[CV 3/5] END ..C=0.1, gamma=0.01, kernel=linear;, score=0.725 total time=   0.1s\n",
            "[CV 4/5] END ..C=0.1, gamma=0.01, kernel=linear;, score=0.758 total time=   0.1s\n",
            "[CV 5/5] END ..C=0.1, gamma=0.01, kernel=linear;, score=0.733 total time=   0.1s\n",
            "[CV 1/5] END ...C=0.1, gamma=0.1, kernel=linear;, score=0.754 total time=   0.1s\n",
            "[CV 2/5] END ...C=0.1, gamma=0.1, kernel=linear;, score=0.713 total time=   0.1s\n",
            "[CV 3/5] END ...C=0.1, gamma=0.1, kernel=linear;, score=0.725 total time=   0.1s\n",
            "[CV 4/5] END ...C=0.1, gamma=0.1, kernel=linear;, score=0.758 total time=   0.1s\n",
            "[CV 5/5] END ...C=0.1, gamma=0.1, kernel=linear;, score=0.733 total time=   0.1s\n",
            "[CV 1/5] END .....C=0.1, gamma=1, kernel=linear;, score=0.754 total time=   0.1s\n",
            "[CV 2/5] END .....C=0.1, gamma=1, kernel=linear;, score=0.713 total time=   0.1s\n",
            "[CV 3/5] END .....C=0.1, gamma=1, kernel=linear;, score=0.725 total time=   0.1s\n",
            "[CV 4/5] END .....C=0.1, gamma=1, kernel=linear;, score=0.758 total time=   0.1s\n",
            "[CV 5/5] END .....C=0.1, gamma=1, kernel=linear;, score=0.733 total time=   0.1s\n",
            "[CV 1/5] END ....C=0.1, gamma=10, kernel=linear;, score=0.754 total time=   0.1s\n",
            "[CV 2/5] END ....C=0.1, gamma=10, kernel=linear;, score=0.713 total time=   0.1s\n",
            "[CV 3/5] END ....C=0.1, gamma=10, kernel=linear;, score=0.725 total time=   0.1s\n",
            "[CV 4/5] END ....C=0.1, gamma=10, kernel=linear;, score=0.758 total time=   0.1s\n",
            "[CV 5/5] END ....C=0.1, gamma=10, kernel=linear;, score=0.733 total time=   0.1s\n",
            "[CV 1/5] END ....C=1, gamma=0.01, kernel=linear;, score=0.804 total time=   0.1s\n",
            "[CV 2/5] END ....C=1, gamma=0.01, kernel=linear;, score=0.779 total time=   0.1s\n",
            "[CV 3/5] END ....C=1, gamma=0.01, kernel=linear;, score=0.792 total time=   0.1s\n",
            "[CV 4/5] END ....C=1, gamma=0.01, kernel=linear;, score=0.808 total time=   0.1s\n",
            "[CV 5/5] END ....C=1, gamma=0.01, kernel=linear;, score=0.775 total time=   0.1s\n",
            "[CV 1/5] END .....C=1, gamma=0.1, kernel=linear;, score=0.804 total time=   0.1s\n",
            "[CV 2/5] END .....C=1, gamma=0.1, kernel=linear;, score=0.779 total time=   0.1s\n",
            "[CV 3/5] END .....C=1, gamma=0.1, kernel=linear;, score=0.792 total time=   0.1s\n",
            "[CV 4/5] END .....C=1, gamma=0.1, kernel=linear;, score=0.808 total time=   0.1s\n",
            "[CV 5/5] END .....C=1, gamma=0.1, kernel=linear;, score=0.775 total time=   0.1s\n",
            "[CV 1/5] END .......C=1, gamma=1, kernel=linear;, score=0.804 total time=   0.1s\n",
            "[CV 2/5] END .......C=1, gamma=1, kernel=linear;, score=0.779 total time=   0.1s\n",
            "[CV 3/5] END .......C=1, gamma=1, kernel=linear;, score=0.792 total time=   0.1s\n",
            "[CV 4/5] END .......C=1, gamma=1, kernel=linear;, score=0.808 total time=   0.1s\n",
            "[CV 5/5] END .......C=1, gamma=1, kernel=linear;, score=0.775 total time=   0.1s\n",
            "[CV 1/5] END ......C=1, gamma=10, kernel=linear;, score=0.804 total time=   0.1s\n",
            "[CV 2/5] END ......C=1, gamma=10, kernel=linear;, score=0.779 total time=   0.1s\n",
            "[CV 3/5] END ......C=1, gamma=10, kernel=linear;, score=0.792 total time=   0.1s\n",
            "[CV 4/5] END ......C=1, gamma=10, kernel=linear;, score=0.808 total time=   0.1s\n",
            "[CV 5/5] END ......C=1, gamma=10, kernel=linear;, score=0.775 total time=   0.1s\n",
            "[CV 1/5] END ...C=10, gamma=0.01, kernel=linear;, score=0.762 total time=   0.1s\n",
            "[CV 2/5] END ...C=10, gamma=0.01, kernel=linear;, score=0.742 total time=   0.1s\n",
            "[CV 3/5] END ...C=10, gamma=0.01, kernel=linear;, score=0.746 total time=   0.1s\n",
            "[CV 4/5] END ...C=10, gamma=0.01, kernel=linear;, score=0.779 total time=   0.1s\n",
            "[CV 5/5] END ...C=10, gamma=0.01, kernel=linear;, score=0.733 total time=   0.1s\n",
            "[CV 1/5] END ....C=10, gamma=0.1, kernel=linear;, score=0.762 total time=   0.1s\n",
            "[CV 2/5] END ....C=10, gamma=0.1, kernel=linear;, score=0.742 total time=   0.1s\n",
            "[CV 3/5] END ....C=10, gamma=0.1, kernel=linear;, score=0.746 total time=   0.1s\n",
            "[CV 4/5] END ....C=10, gamma=0.1, kernel=linear;, score=0.779 total time=   0.1s\n",
            "[CV 5/5] END ....C=10, gamma=0.1, kernel=linear;, score=0.733 total time=   0.1s\n",
            "[CV 1/5] END ......C=10, gamma=1, kernel=linear;, score=0.762 total time=   0.1s\n",
            "[CV 2/5] END ......C=10, gamma=1, kernel=linear;, score=0.742 total time=   0.1s\n",
            "[CV 3/5] END ......C=10, gamma=1, kernel=linear;, score=0.746 total time=   0.1s\n",
            "[CV 4/5] END ......C=10, gamma=1, kernel=linear;, score=0.779 total time=   0.1s\n",
            "[CV 5/5] END ......C=10, gamma=1, kernel=linear;, score=0.733 total time=   0.1s\n",
            "[CV 1/5] END .....C=10, gamma=10, kernel=linear;, score=0.762 total time=   0.1s\n",
            "[CV 2/5] END .....C=10, gamma=10, kernel=linear;, score=0.742 total time=   0.1s\n",
            "[CV 3/5] END .....C=10, gamma=10, kernel=linear;, score=0.746 total time=   0.1s\n",
            "[CV 4/5] END .....C=10, gamma=10, kernel=linear;, score=0.779 total time=   0.1s\n",
            "[CV 5/5] END .....C=10, gamma=10, kernel=linear;, score=0.733 total time=   0.1s\n",
            "[CV 1/5] END ..C=100, gamma=0.01, kernel=linear;, score=0.754 total time=   0.1s\n",
            "[CV 2/5] END ..C=100, gamma=0.01, kernel=linear;, score=0.738 total time=   0.1s\n",
            "[CV 3/5] END ..C=100, gamma=0.01, kernel=linear;, score=0.725 total time=   0.1s\n",
            "[CV 4/5] END ..C=100, gamma=0.01, kernel=linear;, score=0.762 total time=   0.1s\n",
            "[CV 5/5] END ..C=100, gamma=0.01, kernel=linear;, score=0.704 total time=   0.1s\n",
            "[CV 1/5] END ...C=100, gamma=0.1, kernel=linear;, score=0.754 total time=   0.1s\n",
            "[CV 2/5] END ...C=100, gamma=0.1, kernel=linear;, score=0.738 total time=   0.1s\n",
            "[CV 3/5] END ...C=100, gamma=0.1, kernel=linear;, score=0.725 total time=   0.1s\n",
            "[CV 4/5] END ...C=100, gamma=0.1, kernel=linear;, score=0.762 total time=   0.1s\n",
            "[CV 5/5] END ...C=100, gamma=0.1, kernel=linear;, score=0.704 total time=   0.1s\n",
            "[CV 1/5] END .....C=100, gamma=1, kernel=linear;, score=0.754 total time=   0.1s\n",
            "[CV 2/5] END .....C=100, gamma=1, kernel=linear;, score=0.738 total time=   0.1s\n",
            "[CV 3/5] END .....C=100, gamma=1, kernel=linear;, score=0.725 total time=   0.1s\n",
            "[CV 4/5] END .....C=100, gamma=1, kernel=linear;, score=0.762 total time=   0.1s\n",
            "[CV 5/5] END .....C=100, gamma=1, kernel=linear;, score=0.704 total time=   0.1s\n",
            "[CV 1/5] END ....C=100, gamma=10, kernel=linear;, score=0.754 total time=   0.1s\n",
            "[CV 2/5] END ....C=100, gamma=10, kernel=linear;, score=0.738 total time=   0.1s\n",
            "[CV 3/5] END ....C=100, gamma=10, kernel=linear;, score=0.725 total time=   0.1s\n",
            "[CV 4/5] END ....C=100, gamma=10, kernel=linear;, score=0.762 total time=   0.1s\n",
            "[CV 5/5] END ....C=100, gamma=10, kernel=linear;, score=0.704 total time=   0.1s\n",
            "Selected Kernel:  linear\n",
            "Selected C:  1\n",
            "Selected Gamma:  0.01\n",
            "Best Score : 0.7916666666666667\n",
            "best estimator: SVC(C=1, gamma=0.01, kernel='linear')\n"
          ]
        }
      ]
    },
    {
      "cell_type": "markdown",
      "source": [
        "# Klasifikasi SVM (Hyperparameter Tunning) Menggunakan Kernel Polynomial"
      ],
      "metadata": {
        "id": "In2GZfOSu1Pc"
      }
    },
    {
      "cell_type": "code",
      "source": [
        "#Tuning Parameter with GridSearchCV\n",
        "#Kernel Polynomial\n",
        "\n",
        "param_grid = {'C': [0.1, 1, 10, 100],\n",
        "              'kernel': ['poly'],\n",
        "              'gamma' :[0.01, 0.1, 1, 10]\n",
        "             }\n",
        "\n",
        "grid = GridSearchCV(svm.SVC(), param_grid, scoring='accuracy', refit = True, verbose = 3)\n",
        "# fitting the model for grid search\n",
        "grid.fit(x_satisfaction_train_vectorized, y_satisfaction_train)\n",
        "\n",
        "\n",
        "selected_kernel_poly = grid.best_params_['kernel']\n",
        "print(\"Selected Kernel: \", selected_kernel_poly)\n",
        "selected_C_poly= grid.best_params_['C']\n",
        "print(\"Selected C: \", selected_C_poly)\n",
        "selected_gamma_poly = grid.best_params_['gamma']\n",
        "print(\"Selected Gamma: \", selected_gamma_poly)\n",
        "\n",
        "\n",
        "best_params_poly_HT = grid.best_params_\n",
        "model_looks_poly_HT= grid.best_estimator_\n",
        "\n",
        "print(f'Best Score : {grid.best_score_}')\n",
        "print(\"best estimator: %s\" % (model_looks_poly_HT))"
      ],
      "metadata": {
        "colab": {
          "base_uri": "https://localhost:8080/"
        },
        "id": "QlbaYx25u5yh",
        "outputId": "254db37d-5670-4b62-c22f-adf78d3aafc9"
      },
      "execution_count": null,
      "outputs": [
        {
          "output_type": "stream",
          "name": "stdout",
          "text": [
            "Fitting 5 folds for each of 16 candidates, totalling 80 fits\n",
            "[CV 1/5] END ....C=0.1, gamma=0.01, kernel=poly;, score=0.654 total time=   0.1s\n",
            "[CV 2/5] END ....C=0.1, gamma=0.01, kernel=poly;, score=0.658 total time=   0.1s\n",
            "[CV 3/5] END ....C=0.1, gamma=0.01, kernel=poly;, score=0.658 total time=   0.1s\n",
            "[CV 4/5] END ....C=0.1, gamma=0.01, kernel=poly;, score=0.658 total time=   0.1s\n",
            "[CV 5/5] END ....C=0.1, gamma=0.01, kernel=poly;, score=0.654 total time=   0.1s\n",
            "[CV 1/5] END .....C=0.1, gamma=0.1, kernel=poly;, score=0.654 total time=   0.1s\n",
            "[CV 2/5] END .....C=0.1, gamma=0.1, kernel=poly;, score=0.658 total time=   0.1s\n",
            "[CV 3/5] END .....C=0.1, gamma=0.1, kernel=poly;, score=0.658 total time=   0.1s\n",
            "[CV 4/5] END .....C=0.1, gamma=0.1, kernel=poly;, score=0.658 total time=   0.1s\n",
            "[CV 5/5] END .....C=0.1, gamma=0.1, kernel=poly;, score=0.654 total time=   0.1s\n",
            "[CV 1/5] END .......C=0.1, gamma=1, kernel=poly;, score=0.738 total time=   0.1s\n",
            "[CV 2/5] END .......C=0.1, gamma=1, kernel=poly;, score=0.700 total time=   0.1s\n",
            "[CV 3/5] END .......C=0.1, gamma=1, kernel=poly;, score=0.721 total time=   0.1s\n",
            "[CV 4/5] END .......C=0.1, gamma=1, kernel=poly;, score=0.738 total time=   0.1s\n",
            "[CV 5/5] END .......C=0.1, gamma=1, kernel=poly;, score=0.717 total time=   0.1s\n",
            "[CV 1/5] END ......C=0.1, gamma=10, kernel=poly;, score=0.388 total time=   0.2s\n",
            "[CV 2/5] END ......C=0.1, gamma=10, kernel=poly;, score=0.379 total time=   0.2s\n",
            "[CV 3/5] END ......C=0.1, gamma=10, kernel=poly;, score=0.425 total time=   0.2s\n",
            "[CV 4/5] END ......C=0.1, gamma=10, kernel=poly;, score=0.408 total time=   0.2s\n",
            "[CV 5/5] END ......C=0.1, gamma=10, kernel=poly;, score=0.400 total time=   0.2s\n",
            "[CV 1/5] END ......C=1, gamma=0.01, kernel=poly;, score=0.654 total time=   0.1s\n",
            "[CV 2/5] END ......C=1, gamma=0.01, kernel=poly;, score=0.658 total time=   0.1s\n",
            "[CV 3/5] END ......C=1, gamma=0.01, kernel=poly;, score=0.658 total time=   0.1s\n",
            "[CV 4/5] END ......C=1, gamma=0.01, kernel=poly;, score=0.658 total time=   0.1s\n",
            "[CV 5/5] END ......C=1, gamma=0.01, kernel=poly;, score=0.654 total time=   0.1s\n",
            "[CV 1/5] END .......C=1, gamma=0.1, kernel=poly;, score=0.654 total time=   0.1s\n",
            "[CV 2/5] END .......C=1, gamma=0.1, kernel=poly;, score=0.658 total time=   0.1s\n",
            "[CV 3/5] END .......C=1, gamma=0.1, kernel=poly;, score=0.658 total time=   0.1s\n",
            "[CV 4/5] END .......C=1, gamma=0.1, kernel=poly;, score=0.658 total time=   0.1s\n",
            "[CV 5/5] END .......C=1, gamma=0.1, kernel=poly;, score=0.654 total time=   0.1s\n",
            "[CV 1/5] END .........C=1, gamma=1, kernel=poly;, score=0.783 total time=   0.1s\n",
            "[CV 2/5] END .........C=1, gamma=1, kernel=poly;, score=0.758 total time=   0.1s\n",
            "[CV 3/5] END .........C=1, gamma=1, kernel=poly;, score=0.771 total time=   0.1s\n",
            "[CV 4/5] END .........C=1, gamma=1, kernel=poly;, score=0.804 total time=   0.1s\n",
            "[CV 5/5] END .........C=1, gamma=1, kernel=poly;, score=0.758 total time=   0.1s\n",
            "[CV 1/5] END ........C=1, gamma=10, kernel=poly;, score=0.388 total time=   0.2s\n",
            "[CV 2/5] END ........C=1, gamma=10, kernel=poly;, score=0.379 total time=   0.2s\n",
            "[CV 3/5] END ........C=1, gamma=10, kernel=poly;, score=0.425 total time=   0.2s\n",
            "[CV 4/5] END ........C=1, gamma=10, kernel=poly;, score=0.408 total time=   0.2s\n",
            "[CV 5/5] END ........C=1, gamma=10, kernel=poly;, score=0.400 total time=   0.2s\n",
            "[CV 1/5] END .....C=10, gamma=0.01, kernel=poly;, score=0.654 total time=   0.1s\n",
            "[CV 2/5] END .....C=10, gamma=0.01, kernel=poly;, score=0.658 total time=   0.1s\n",
            "[CV 3/5] END .....C=10, gamma=0.01, kernel=poly;, score=0.658 total time=   0.1s\n",
            "[CV 4/5] END .....C=10, gamma=0.01, kernel=poly;, score=0.658 total time=   0.1s\n",
            "[CV 5/5] END .....C=10, gamma=0.01, kernel=poly;, score=0.654 total time=   0.1s\n",
            "[CV 1/5] END ......C=10, gamma=0.1, kernel=poly;, score=0.654 total time=   0.1s\n",
            "[CV 2/5] END ......C=10, gamma=0.1, kernel=poly;, score=0.658 total time=   0.1s\n",
            "[CV 3/5] END ......C=10, gamma=0.1, kernel=poly;, score=0.658 total time=   0.1s\n",
            "[CV 4/5] END ......C=10, gamma=0.1, kernel=poly;, score=0.658 total time=   0.1s\n",
            "[CV 5/5] END ......C=10, gamma=0.1, kernel=poly;, score=0.654 total time=   0.1s\n",
            "[CV 1/5] END ........C=10, gamma=1, kernel=poly;, score=0.629 total time=   0.1s\n",
            "[CV 2/5] END ........C=10, gamma=1, kernel=poly;, score=0.608 total time=   0.1s\n",
            "[CV 3/5] END ........C=10, gamma=1, kernel=poly;, score=0.604 total time=   0.1s\n",
            "[CV 4/5] END ........C=10, gamma=1, kernel=poly;, score=0.688 total time=   0.1s\n",
            "[CV 5/5] END ........C=10, gamma=1, kernel=poly;, score=0.617 total time=   0.1s\n",
            "[CV 1/5] END .......C=10, gamma=10, kernel=poly;, score=0.388 total time=   0.1s\n",
            "[CV 2/5] END .......C=10, gamma=10, kernel=poly;, score=0.379 total time=   0.1s\n",
            "[CV 3/5] END .......C=10, gamma=10, kernel=poly;, score=0.425 total time=   0.1s\n",
            "[CV 4/5] END .......C=10, gamma=10, kernel=poly;, score=0.408 total time=   0.1s\n",
            "[CV 5/5] END .......C=10, gamma=10, kernel=poly;, score=0.400 total time=   0.1s\n",
            "[CV 1/5] END ....C=100, gamma=0.01, kernel=poly;, score=0.654 total time=   0.0s\n",
            "[CV 2/5] END ....C=100, gamma=0.01, kernel=poly;, score=0.658 total time=   0.0s\n",
            "[CV 3/5] END ....C=100, gamma=0.01, kernel=poly;, score=0.658 total time=   0.0s\n",
            "[CV 4/5] END ....C=100, gamma=0.01, kernel=poly;, score=0.658 total time=   0.0s\n",
            "[CV 5/5] END ....C=100, gamma=0.01, kernel=poly;, score=0.654 total time=   0.0s\n",
            "[CV 1/5] END .....C=100, gamma=0.1, kernel=poly;, score=0.738 total time=   0.1s\n",
            "[CV 2/5] END .....C=100, gamma=0.1, kernel=poly;, score=0.700 total time=   0.1s\n",
            "[CV 3/5] END .....C=100, gamma=0.1, kernel=poly;, score=0.721 total time=   0.1s\n",
            "[CV 4/5] END .....C=100, gamma=0.1, kernel=poly;, score=0.738 total time=   0.1s\n",
            "[CV 5/5] END .....C=100, gamma=0.1, kernel=poly;, score=0.717 total time=   0.1s\n",
            "[CV 1/5] END .......C=100, gamma=1, kernel=poly;, score=0.388 total time=   0.1s\n",
            "[CV 2/5] END .......C=100, gamma=1, kernel=poly;, score=0.379 total time=   0.1s\n",
            "[CV 3/5] END .......C=100, gamma=1, kernel=poly;, score=0.425 total time=   0.1s\n",
            "[CV 4/5] END .......C=100, gamma=1, kernel=poly;, score=0.408 total time=   0.1s\n",
            "[CV 5/5] END .......C=100, gamma=1, kernel=poly;, score=0.400 total time=   0.1s\n",
            "[CV 1/5] END ......C=100, gamma=10, kernel=poly;, score=0.388 total time=   0.1s\n",
            "[CV 2/5] END ......C=100, gamma=10, kernel=poly;, score=0.379 total time=   0.1s\n",
            "[CV 3/5] END ......C=100, gamma=10, kernel=poly;, score=0.425 total time=   0.1s\n",
            "[CV 4/5] END ......C=100, gamma=10, kernel=poly;, score=0.408 total time=   0.1s\n",
            "[CV 5/5] END ......C=100, gamma=10, kernel=poly;, score=0.400 total time=   0.1s\n",
            "Selected Kernel:  poly\n",
            "Selected C:  1\n",
            "Selected Gamma:  1\n",
            "Best Score : 0.775\n",
            "best estimator: SVC(C=1, gamma=1, kernel='poly')\n"
          ]
        }
      ]
    },
    {
      "cell_type": "markdown",
      "source": [
        "# Klasifikasi SVM (Hyperparameter Tunning) Menggunakan Kernel RBF"
      ],
      "metadata": {
        "id": "g4P8YglHvlpA"
      }
    },
    {
      "cell_type": "markdown",
      "source": [
        "Hyperparameter terbaik untuk aspek efficiency ada pada kernel RBF dg C=100, gamma 0.01, score=0.9275"
      ],
      "metadata": {
        "id": "tJWDZyYJwIlA"
      }
    },
    {
      "cell_type": "code",
      "source": [
        "#Tuning Parameter with GridSearchCV\n",
        "#Kernel RBF\n",
        "\n",
        "param_grid = {'C': [0.1, 1, 10, 100],\n",
        "              'kernel': ['rbf'],\n",
        "              'gamma' :[0.01, 0.1, 1, 10]\n",
        "             }\n",
        "\n",
        "grid = GridSearchCV(svm.SVC(), param_grid, scoring='accuracy', refit = True, verbose = 3)\n",
        "# fitting the model for grid search\n",
        "grid.fit(x_satisfaction_train_vectorized, y_satisfaction_train)\n",
        "\n",
        "selected_kernel_rbf = grid.best_params_['kernel']\n",
        "print(\"Selected Kernel: \", selected_kernel_rbf)\n",
        "selected_C_rbf = grid.best_params_['C']\n",
        "print(\"Selected C: \", selected_C_rbf)\n",
        "selected_gamma_rbf= grid.best_params_['gamma']\n",
        "print(\"Selected Gamma: \", selected_gamma_rbf)\n",
        "\n",
        "best_params_rbf_HT = grid.best_params_\n",
        "model_looks_rbf_HT= grid.best_estimator_\n",
        "\n",
        "print(f'Best Score : {grid.best_score_}')\n",
        "print(\"best estimator: %s\" % (model_looks_rbf_HT))"
      ],
      "metadata": {
        "colab": {
          "base_uri": "https://localhost:8080/"
        },
        "id": "VXEof0fKvrzl",
        "outputId": "057a3bf9-568e-4a17-fc3b-eb214634b656"
      },
      "execution_count": null,
      "outputs": [
        {
          "output_type": "stream",
          "name": "stdout",
          "text": [
            "Fitting 5 folds for each of 16 candidates, totalling 80 fits\n",
            "[CV 1/5] END .....C=0.1, gamma=0.01, kernel=rbf;, score=0.654 total time=   0.1s\n",
            "[CV 2/5] END .....C=0.1, gamma=0.01, kernel=rbf;, score=0.658 total time=   0.1s\n",
            "[CV 3/5] END .....C=0.1, gamma=0.01, kernel=rbf;, score=0.658 total time=   0.1s\n",
            "[CV 4/5] END .....C=0.1, gamma=0.01, kernel=rbf;, score=0.658 total time=   0.1s\n",
            "[CV 5/5] END .....C=0.1, gamma=0.01, kernel=rbf;, score=0.654 total time=   0.1s\n",
            "[CV 1/5] END ......C=0.1, gamma=0.1, kernel=rbf;, score=0.654 total time=   0.1s\n",
            "[CV 2/5] END ......C=0.1, gamma=0.1, kernel=rbf;, score=0.683 total time=   0.1s\n",
            "[CV 3/5] END ......C=0.1, gamma=0.1, kernel=rbf;, score=0.696 total time=   0.1s\n",
            "[CV 4/5] END ......C=0.1, gamma=0.1, kernel=rbf;, score=0.658 total time=   0.1s\n",
            "[CV 5/5] END ......C=0.1, gamma=0.1, kernel=rbf;, score=0.700 total time=   0.1s\n",
            "[CV 1/5] END ........C=0.1, gamma=1, kernel=rbf;, score=0.787 total time=   0.1s\n",
            "[CV 2/5] END ........C=0.1, gamma=1, kernel=rbf;, score=0.738 total time=   0.1s\n",
            "[CV 3/5] END ........C=0.1, gamma=1, kernel=rbf;, score=0.762 total time=   0.1s\n",
            "[CV 4/5] END ........C=0.1, gamma=1, kernel=rbf;, score=0.783 total time=   0.1s\n",
            "[CV 5/5] END ........C=0.1, gamma=1, kernel=rbf;, score=0.767 total time=   0.1s\n",
            "[CV 1/5] END .......C=0.1, gamma=10, kernel=rbf;, score=0.783 total time=   0.1s\n",
            "[CV 2/5] END .......C=0.1, gamma=10, kernel=rbf;, score=0.733 total time=   0.1s\n",
            "[CV 3/5] END .......C=0.1, gamma=10, kernel=rbf;, score=0.754 total time=   0.1s\n",
            "[CV 4/5] END .......C=0.1, gamma=10, kernel=rbf;, score=0.779 total time=   0.1s\n",
            "[CV 5/5] END .......C=0.1, gamma=10, kernel=rbf;, score=0.762 total time=   0.1s\n",
            "[CV 1/5] END .......C=1, gamma=0.01, kernel=rbf;, score=0.713 total time=   0.1s\n",
            "[CV 2/5] END .......C=1, gamma=0.01, kernel=rbf;, score=0.683 total time=   0.1s\n",
            "[CV 3/5] END .......C=1, gamma=0.01, kernel=rbf;, score=0.696 total time=   0.1s\n",
            "[CV 4/5] END .......C=1, gamma=0.01, kernel=rbf;, score=0.721 total time=   0.1s\n",
            "[CV 5/5] END .......C=1, gamma=0.01, kernel=rbf;, score=0.700 total time=   0.1s\n",
            "[CV 1/5] END ........C=1, gamma=0.1, kernel=rbf;, score=0.771 total time=   0.1s\n",
            "[CV 2/5] END ........C=1, gamma=0.1, kernel=rbf;, score=0.725 total time=   0.1s\n",
            "[CV 3/5] END ........C=1, gamma=0.1, kernel=rbf;, score=0.754 total time=   0.1s\n",
            "[CV 4/5] END ........C=1, gamma=0.1, kernel=rbf;, score=0.771 total time=   0.1s\n",
            "[CV 5/5] END ........C=1, gamma=0.1, kernel=rbf;, score=0.742 total time=   0.1s\n",
            "[CV 1/5] END ..........C=1, gamma=1, kernel=rbf;, score=0.833 total time=   0.1s\n",
            "[CV 2/5] END ..........C=1, gamma=1, kernel=rbf;, score=0.800 total time=   0.1s\n",
            "[CV 3/5] END ..........C=1, gamma=1, kernel=rbf;, score=0.825 total time=   0.1s\n",
            "[CV 4/5] END ..........C=1, gamma=1, kernel=rbf;, score=0.858 total time=   0.1s\n",
            "[CV 5/5] END ..........C=1, gamma=1, kernel=rbf;, score=0.825 total time=   0.1s\n",
            "[CV 1/5] END .........C=1, gamma=10, kernel=rbf;, score=0.838 total time=   0.1s\n",
            "[CV 2/5] END .........C=1, gamma=10, kernel=rbf;, score=0.804 total time=   0.1s\n",
            "[CV 3/5] END .........C=1, gamma=10, kernel=rbf;, score=0.808 total time=   0.1s\n",
            "[CV 4/5] END .........C=1, gamma=10, kernel=rbf;, score=0.821 total time=   0.1s\n",
            "[CV 5/5] END .........C=1, gamma=10, kernel=rbf;, score=0.804 total time=   0.1s\n",
            "[CV 1/5] END ......C=10, gamma=0.01, kernel=rbf;, score=0.771 total time=   0.1s\n",
            "[CV 2/5] END ......C=10, gamma=0.01, kernel=rbf;, score=0.746 total time=   0.1s\n",
            "[CV 3/5] END ......C=10, gamma=0.01, kernel=rbf;, score=0.754 total time=   0.1s\n",
            "[CV 4/5] END ......C=10, gamma=0.01, kernel=rbf;, score=0.783 total time=   0.1s\n",
            "[CV 5/5] END ......C=10, gamma=0.01, kernel=rbf;, score=0.746 total time=   0.1s\n",
            "[CV 1/5] END .......C=10, gamma=0.1, kernel=rbf;, score=0.854 total time=   0.1s\n",
            "[CV 2/5] END .......C=10, gamma=0.1, kernel=rbf;, score=0.833 total time=   0.1s\n",
            "[CV 3/5] END .......C=10, gamma=0.1, kernel=rbf;, score=0.833 total time=   0.1s\n",
            "[CV 4/5] END .......C=10, gamma=0.1, kernel=rbf;, score=0.858 total time=   0.1s\n",
            "[CV 5/5] END .......C=10, gamma=0.1, kernel=rbf;, score=0.821 total time=   0.1s\n",
            "[CV 1/5] END .........C=10, gamma=1, kernel=rbf;, score=0.833 total time=   0.1s\n",
            "[CV 2/5] END .........C=10, gamma=1, kernel=rbf;, score=0.833 total time=   0.1s\n",
            "[CV 3/5] END .........C=10, gamma=1, kernel=rbf;, score=0.842 total time=   0.1s\n",
            "[CV 4/5] END .........C=10, gamma=1, kernel=rbf;, score=0.854 total time=   0.1s\n",
            "[CV 5/5] END .........C=10, gamma=1, kernel=rbf;, score=0.825 total time=   0.1s\n",
            "[CV 1/5] END ........C=10, gamma=10, kernel=rbf;, score=0.838 total time=   0.1s\n",
            "[CV 2/5] END ........C=10, gamma=10, kernel=rbf;, score=0.804 total time=   0.1s\n",
            "[CV 3/5] END ........C=10, gamma=10, kernel=rbf;, score=0.808 total time=   0.1s\n",
            "[CV 4/5] END ........C=10, gamma=10, kernel=rbf;, score=0.821 total time=   0.1s\n",
            "[CV 5/5] END ........C=10, gamma=10, kernel=rbf;, score=0.804 total time=   0.1s\n",
            "[CV 1/5] END .....C=100, gamma=0.01, kernel=rbf;, score=0.838 total time=   0.1s\n",
            "[CV 2/5] END .....C=100, gamma=0.01, kernel=rbf;, score=0.825 total time=   0.1s\n",
            "[CV 3/5] END .....C=100, gamma=0.01, kernel=rbf;, score=0.804 total time=   0.1s\n",
            "[CV 4/5] END .....C=100, gamma=0.01, kernel=rbf;, score=0.854 total time=   0.1s\n",
            "[CV 5/5] END .....C=100, gamma=0.01, kernel=rbf;, score=0.821 total time=   0.1s\n",
            "[CV 1/5] END ......C=100, gamma=0.1, kernel=rbf;, score=0.821 total time=   0.1s\n",
            "[CV 2/5] END ......C=100, gamma=0.1, kernel=rbf;, score=0.833 total time=   0.1s\n",
            "[CV 3/5] END ......C=100, gamma=0.1, kernel=rbf;, score=0.821 total time=   0.1s\n",
            "[CV 4/5] END ......C=100, gamma=0.1, kernel=rbf;, score=0.850 total time=   0.1s\n",
            "[CV 5/5] END ......C=100, gamma=0.1, kernel=rbf;, score=0.796 total time=   0.1s\n",
            "[CV 1/5] END ........C=100, gamma=1, kernel=rbf;, score=0.833 total time=   0.1s\n",
            "[CV 2/5] END ........C=100, gamma=1, kernel=rbf;, score=0.833 total time=   0.1s\n",
            "[CV 3/5] END ........C=100, gamma=1, kernel=rbf;, score=0.842 total time=   0.2s\n",
            "[CV 4/5] END ........C=100, gamma=1, kernel=rbf;, score=0.854 total time=   0.2s\n",
            "[CV 5/5] END ........C=100, gamma=1, kernel=rbf;, score=0.825 total time=   0.2s\n",
            "[CV 1/5] END .......C=100, gamma=10, kernel=rbf;, score=0.838 total time=   0.2s\n",
            "[CV 2/5] END .......C=100, gamma=10, kernel=rbf;, score=0.804 total time=   0.2s\n",
            "[CV 3/5] END .......C=100, gamma=10, kernel=rbf;, score=0.808 total time=   0.2s\n",
            "[CV 4/5] END .......C=100, gamma=10, kernel=rbf;, score=0.821 total time=   0.2s\n",
            "[CV 5/5] END .......C=100, gamma=10, kernel=rbf;, score=0.804 total time=   0.2s\n",
            "Selected Kernel:  rbf\n",
            "Selected C:  10\n",
            "Selected Gamma:  0.1\n",
            "Best Score : 0.8400000000000001\n",
            "best estimator: SVC(C=10, gamma=0.1)\n"
          ]
        }
      ]
    },
    {
      "cell_type": "markdown",
      "source": [
        "# K-Fold Cross Validation dengan Hyperparameter Tunning"
      ],
      "metadata": {
        "id": "G2fZwJyTwy03"
      }
    },
    {
      "cell_type": "code",
      "source": [
        "cross_val_score_linear= cross_val_score(model_looks_linear_HT, x_satisfaction_train_vectorized, y_satisfaction_train, scoring='accuracy', cv=5)\n",
        "print(\"Accuracy Score Linear of : %0.4f\" % cross_val_score_linear.mean(), cross_val_score_linear.std())\n",
        "\n",
        "cross_val_score_poly = cross_val_score(model_looks_poly_HT, x_satisfaction_train_vectorized, y_satisfaction_train, scoring='accuracy', cv=5)\n",
        "print(\"Accuracy Score poly of : %0.4f\" % cross_val_score_poly.mean(), cross_val_score_poly.std())\n",
        "\n",
        "cross_val_score_rbf = cross_val_score(model_looks_rbf_HT, x_satisfaction_train_vectorized, y_satisfaction_train, scoring='accuracy', cv=5)\n",
        "print(\"Accuracy Score rbf of : %0.4f\" % cross_val_score_rbf.mean(), cross_val_score_rbf.std())"
      ],
      "metadata": {
        "colab": {
          "base_uri": "https://localhost:8080/"
        },
        "id": "oJO4xRGdxBej",
        "outputId": "711227d0-77e1-4f7d-9bac-1fedb6468b54"
      },
      "execution_count": null,
      "outputs": [
        {
          "output_type": "stream",
          "name": "stdout",
          "text": [
            "Accuracy Score Linear of : 0.7917 0.01317615691736825\n",
            "Accuracy Score poly of : 0.7750 0.017280367794439786\n",
            "Accuracy Score rbf of : 0.8400 0.014092945437739781\n"
          ]
        }
      ]
    },
    {
      "cell_type": "markdown",
      "source": [
        "# Visualisasi Pengaruh Hyperparameter Tunning pada Model Klasifikasi SVM di Aspek Efficiency"
      ],
      "metadata": {
        "id": "jbBTyNVgx2B6"
      }
    },
    {
      "cell_type": "markdown",
      "source": [
        "Hyperparameter tunning pada aspek efficiency hanya berpengaruh pada kernel RBF dengan kenaikan sebesar 0.0075"
      ],
      "metadata": {
        "id": "LyYmgeYlyw_6"
      }
    },
    {
      "cell_type": "code",
      "source": [
        "import numpy as np\n",
        "from matplotlib.ticker import FormatStrFormatter\n",
        "\n",
        "import matplotlib.pyplot as plt\n",
        "%matplotlib inline\n",
        "\n",
        "\n",
        "name = ['Linear', 'RBF', 'Polynomial']\n",
        "before_HT = [cv_linear.mean(), cv_rbf.mean(), cv_poly.mean()]\n",
        "after_HT = [cross_val_score_linear.mean(), cross_val_score_rbf.mean(), cross_val_score_poly.mean()]\n",
        "diff_linear = ((cross_val_score_linear.mean()-cv_linear.mean()))\n",
        "diff_rbf = ((cross_val_score_rbf.mean()-cv_rbf.mean()))\n",
        "diff_poly = ((cross_val_score_poly.mean()-cv_poly.mean()))\n",
        "diff_HT = [diff_linear, diff_rbf, diff_poly]\n",
        "\n",
        "x = np.arange(len(name))\n",
        "width = 0.2\n",
        "\n",
        "fig, ax = plt.subplots(figsize=(14, 7))\n",
        "\n",
        "bfr = ax.bar(x - width/2, before_HT, width, label='Before', color='steelblue')\n",
        "aftr = ax.bar(x + width/2, after_HT, width, label='After', color='orange')\n",
        "diff = ax.bar(x + 0.3, diff_HT, width, label='Diffrenciate', color='cyan')\n",
        "\n",
        "ax.set_title('Hasil Hyperparameter Sentimen Beraspek Satisfaction', size=16)\n",
        "ax.set_ylabel('Accuracy', size=14)\n",
        "ax.set_xticks(x)\n",
        "ax.set_xticklabels(name, size=14)\n",
        "ax.legend(fontsize=14)\n",
        "ax.legend(bbox_to_anchor=(1.02, 1), loc='upper left', borderaxespad=0)\n",
        "ax.yaxis.set_major_formatter(FormatStrFormatter(\"%0.2f\"))\n",
        "for p in ax.patches:\n",
        "    h = p.get_height()\n",
        "    x = p.get_x()+p.get_width()/2\n",
        "    if h!= 0:\n",
        "      ax.annotate(\"%g\" % p.get_height(), xy=(x,h), xytext=(0,5), textcoords=\"offset points\",\n",
        "                  ha=\"center\", fontsize=10)\n",
        "\n",
        "plt.show()"
      ],
      "metadata": {
        "colab": {
          "base_uri": "https://localhost:8080/"
        },
        "id": "jqZN4Uh4xyBG",
        "outputId": "f4d33103-9893-477d-c5a4-7877d8e19f23"
      },
      "execution_count": null,
      "outputs": [
        {
          "output_type": "display_data",
          "data": {
            "text/plain": [
              "<Figure size 1400x700 with 1 Axes>"
            ],
            "image/png": "[encoded data removed]"
          },
          "metadata": {}
        }
      ]
    },
    {
      "cell_type": "markdown",
      "source": [
        "# Validasi Model Hyperparameter Tunning Data Test Linear Kernel"
      ],
      "metadata": {
        "id": "etunappIXY1I"
      }
    },
    {
      "cell_type": "code",
      "source": [
        "grid_predictions = model_looks_linear_HT.predict(x_satisfaction_test_vectorized)\n",
        "\n",
        "print(\"F1-SCORE \",f1(y_satisfaction_test,grid_predictions,average='macro') * 100)\n",
        "print(\"ACCURACY \",acc(y_satisfaction_test,grid_predictions) * 100)\n",
        "print(\"PRECISION \",prec(y_satisfaction_test,grid_predictions,average='macro') * 100)\n",
        "print(\"RECALL\",recall(y_satisfaction_test,grid_predictions,average='macro') * 100)\n",
        "\n",
        "print('Confusion Matrix : \\n', confusion_matrix(y_satisfaction_test, grid_predictions))\n",
        "print('Report Hasil : \\n',classification_report(y_satisfaction_test, grid_predictions))"
      ],
      "metadata": {
        "colab": {
          "base_uri": "https://localhost:8080/"
        },
        "id": "1SX832YjgWJ9",
        "outputId": "c0b061a3-a4b1-4d93-f811-bffd1af4567f"
      },
      "execution_count": null,
      "outputs": [
        {
          "output_type": "stream",
          "name": "stdout",
          "text": [
            "F1-SCORE  61.7379172894868\n",
            "ACCURACY  80.0\n",
            "PRECISION  81.59183673469387\n",
            "RECALL 56.81676008144929\n",
            "Confusion Matrix : \n",
            " [[  4  16   0]\n",
            " [  1 193   7]\n",
            " [  0  36  43]]\n",
            "Report Hasil : \n",
            "               precision    recall  f1-score   support\n",
            "\n",
            "          -1       0.80      0.20      0.32        20\n",
            "           0       0.79      0.96      0.87       201\n",
            "           1       0.86      0.54      0.67        79\n",
            "\n",
            "    accuracy                           0.80       300\n",
            "   macro avg       0.82      0.57      0.62       300\n",
            "weighted avg       0.81      0.80      0.78       300\n",
            "\n"
          ]
        }
      ]
    },
    {
      "cell_type": "markdown",
      "source": [
        "# Validasi Model Hyperparameter Tunning Data Test Polynomial Kernel"
      ],
      "metadata": {
        "id": "3XcZdCfngpWK"
      }
    },
    {
      "cell_type": "code",
      "source": [
        "grid_predictions = model_looks_poly_HT.predict(x_satisfaction_test_vectorized)\n",
        "\n",
        "print(\"F1-SCORE \",f1(y_satisfaction_test,grid_predictions,average='macro') * 100)\n",
        "print(\"ACCURACY \",acc(y_satisfaction_test,grid_predictions) * 100)\n",
        "print(\"PRECISION \",prec(y_satisfaction_test,grid_predictions,average='macro') * 100)\n",
        "print(\"RECALL\",recall(y_satisfaction_test,grid_predictions,average='macro') * 100)\n",
        "\n",
        "print('Confusion Matrix : \\n', confusion_matrix(y_satisfaction_test, grid_predictions))\n",
        "print('Report Hasil : \\n',classification_report(y_satisfaction_test, grid_predictions))"
      ],
      "metadata": {
        "colab": {
          "base_uri": "https://localhost:8080/"
        },
        "id": "9cU2FkyXgvQ4",
        "outputId": "4717918e-ad44-419e-e476-93e5b4892b86"
      },
      "execution_count": null,
      "outputs": [
        {
          "output_type": "stream",
          "name": "stdout",
          "text": [
            "F1-SCORE  60.92420666142145\n",
            "ACCURACY  81.66666666666667\n",
            "PRECISION  78.99259259259259\n",
            "RECALL 56.40122173940424\n",
            "Confusion Matrix : \n",
            " [[  3  17   0]\n",
            " [  2 198   1]\n",
            " [  0  35  44]]\n",
            "Report Hasil : \n",
            "               precision    recall  f1-score   support\n",
            "\n",
            "          -1       0.60      0.15      0.24        20\n",
            "           0       0.79      0.99      0.88       201\n",
            "           1       0.98      0.56      0.71        79\n",
            "\n",
            "    accuracy                           0.82       300\n",
            "   macro avg       0.79      0.56      0.61       300\n",
            "weighted avg       0.83      0.82      0.79       300\n",
            "\n"
          ]
        }
      ]
    },
    {
      "cell_type": "markdown",
      "source": [
        "# Validasi Model Hyperparameter Tunning Data Test RBF Kernel"
      ],
      "metadata": {
        "id": "M3RUXP32g0gX"
      }
    },
    {
      "cell_type": "code",
      "source": [
        "grid_predictions = model_looks_rbf_HT.predict(x_satisfaction_test_vectorized)\n",
        "\n",
        "print(\"F1-SCORE \",f1(y_satisfaction_test,grid_predictions,average='macro') * 100)\n",
        "print(\"ACCURACY \",acc(y_satisfaction_test,grid_predictions) * 100)\n",
        "print(\"PRECISION \",prec(y_satisfaction_test,grid_predictions,average='macro') * 100)\n",
        "print(\"RECALL\",recall(y_satisfaction_test,grid_predictions,average='macro') * 100)\n",
        "\n",
        "print('Confusion Matrix : \\n', confusion_matrix(y_satisfaction_test, grid_predictions))\n",
        "print('Report Hasil : \\n',classification_report(y_satisfaction_test, grid_predictions))"
      ],
      "metadata": {
        "colab": {
          "base_uri": "https://localhost:8080/"
        },
        "id": "QL1_wrr0g6M9",
        "outputId": "a9cab149-f127-4bf1-9784-4e844278e046"
      },
      "execution_count": null,
      "outputs": [
        {
          "output_type": "stream",
          "name": "stdout",
          "text": [
            "F1-SCORE  71.48253327056345\n",
            "ACCURACY  86.0\n",
            "PRECISION  77.12945590994372\n",
            "RECALL 69.20607930810085\n",
            "Confusion Matrix : \n",
            " [[  6  13   1]\n",
            " [  4 184  13]\n",
            " [  0  11  68]]\n",
            "Report Hasil : \n",
            "               precision    recall  f1-score   support\n",
            "\n",
            "          -1       0.60      0.30      0.40        20\n",
            "           0       0.88      0.92      0.90       201\n",
            "           1       0.83      0.86      0.84        79\n",
            "\n",
            "    accuracy                           0.86       300\n",
            "   macro avg       0.77      0.69      0.71       300\n",
            "weighted avg       0.85      0.86      0.85       300\n",
            "\n"
          ]
        }
      ]
    },
    {
      "cell_type": "markdown",
      "source": [
        "# Validasi Model Hyperparameter Tunning Data Train Linear Kernel"
      ],
      "metadata": {
        "id": "yzCHI6ADhFUC"
      }
    },
    {
      "cell_type": "code",
      "source": [
        "grid_predictions = model_looks_linear_HT.predict(x_satisfaction_train_vectorized)\n",
        "\n",
        "print(\"F1-SCORE \",f1(y_satisfaction_train,grid_predictions,average='macro') * 100)\n",
        "print(\"ACCURACY \",acc(y_satisfaction_train,grid_predictions) * 100)\n",
        "print(\"PRECISION \",prec(y_satisfaction_train,grid_predictions,average='macro') * 100)\n",
        "print(\"RECALL\",recall(y_satisfaction_train,grid_predictions,average='macro') * 100)\n",
        "\n",
        "print('Confusion Matrix : \\n', confusion_matrix(y_satisfaction_train, grid_predictions))\n",
        "print('Report Hasil : \\n',classification_report(y_satisfaction_train, grid_predictions))"
      ],
      "metadata": {
        "colab": {
          "base_uri": "https://localhost:8080/"
        },
        "id": "-j-5F5t-hLPk",
        "outputId": "bb1643c6-76af-463c-f244-8b0fada9bdda"
      },
      "execution_count": null,
      "outputs": [
        {
          "output_type": "stream",
          "name": "stdout",
          "text": [
            "F1-SCORE  73.90434913474624\n",
            "ACCURACY  87.16666666666667\n",
            "PRECISION  92.81899918735785\n",
            "RECALL 67.71782303584054\n",
            "Confusion Matrix : \n",
            " [[ 27  58   1]\n",
            " [  1 783   4]\n",
            " [  0  90 236]]\n",
            "Report Hasil : \n",
            "               precision    recall  f1-score   support\n",
            "\n",
            "          -1       0.96      0.31      0.47        86\n",
            "           0       0.84      0.99      0.91       788\n",
            "           1       0.98      0.72      0.83       326\n",
            "\n",
            "    accuracy                           0.87      1200\n",
            "   macro avg       0.93      0.68      0.74      1200\n",
            "weighted avg       0.89      0.87      0.86      1200\n",
            "\n"
          ]
        }
      ]
    },
    {
      "cell_type": "markdown",
      "source": [
        "# Validasi Model Hyperparameter Tunning Data Train Polynomial Kernel"
      ],
      "metadata": {
        "id": "uq3dIbWNhOP0"
      }
    },
    {
      "cell_type": "code",
      "source": [
        "grid_predictions = model_looks_poly_HT.predict(x_satisfaction_train_vectorized)\n",
        "\n",
        "print(\"F1-SCORE \",f1(y_satisfaction_train,grid_predictions,average='macro') * 100)\n",
        "print(\"ACCURACY \",acc(y_satisfaction_train,grid_predictions) * 100)\n",
        "print(\"PRECISION \",prec(y_satisfaction_train,grid_predictions,average='macro') * 100)\n",
        "print(\"RECALL\",recall(y_satisfaction_train,grid_predictions,average='macro') * 100)\n",
        "\n",
        "print('Confusion Matrix : \\n', confusion_matrix(y_satisfaction_train, grid_predictions))\n",
        "print('Report Hasil : \\n',classification_report(y_satisfaction_train, grid_predictions))"
      ],
      "metadata": {
        "colab": {
          "base_uri": "https://localhost:8080/"
        },
        "id": "RBrSYY-xhTBf",
        "outputId": "e8f7b87e-d8ec-4300-9665-bbcaf897107c"
      },
      "execution_count": null,
      "outputs": [
        {
          "output_type": "stream",
          "name": "stdout",
          "text": [
            "F1-SCORE  92.71652701855815\n",
            "ACCURACY  93.25\n",
            "PRECISION  96.41292777816174\n",
            "RECALL 90.12560355684823\n",
            "Confusion Matrix : \n",
            " [[ 80   6   0]\n",
            " [  1 786   1]\n",
            " [  0  73 253]]\n",
            "Report Hasil : \n",
            "               precision    recall  f1-score   support\n",
            "\n",
            "          -1       0.99      0.93      0.96        86\n",
            "           0       0.91      1.00      0.95       788\n",
            "           1       1.00      0.78      0.87       326\n",
            "\n",
            "    accuracy                           0.93      1200\n",
            "   macro avg       0.96      0.90      0.93      1200\n",
            "weighted avg       0.94      0.93      0.93      1200\n",
            "\n"
          ]
        }
      ]
    },
    {
      "cell_type": "markdown",
      "source": [
        "# Validasi Model Hyperparameter Tunning Data Train RBF Kernel"
      ],
      "metadata": {
        "id": "0vuHbN70hYYn"
      }
    },
    {
      "cell_type": "code",
      "source": [
        "grid_predictions = model_looks_rbf_HT.predict(x_satisfaction_train_vectorized)\n",
        "\n",
        "print(\"F1-SCORE \",f1(y_satisfaction_train,grid_predictions,average='macro') * 100)\n",
        "print(\"ACCURACY \",acc(y_satisfaction_train,grid_predictions) * 100)\n",
        "print(\"PRECISION \",prec(y_satisfaction_train,grid_predictions,average='macro') * 100)\n",
        "print(\"RECALL\",recall(y_satisfaction_train,grid_predictions,average='macro') * 100)\n",
        "\n",
        "print('Confusion Matrix : \\n', confusion_matrix(y_satisfaction_train, grid_predictions))\n",
        "print('Report Hasil : \\n',classification_report(y_satisfaction_train, grid_predictions))"
      ],
      "metadata": {
        "colab": {
          "base_uri": "https://localhost:8080/"
        },
        "id": "y54Zoj-MhcAL",
        "outputId": "feba0867-255e-4c71-8d8e-b83bec452ff2"
      },
      "execution_count": null,
      "outputs": [
        {
          "output_type": "stream",
          "name": "stdout",
          "text": [
            "F1-SCORE  93.27022859464446\n",
            "ACCURACY  95.91666666666666\n",
            "PRECISION  96.446317212856\n",
            "RECALL 90.81269453173452\n",
            "Confusion Matrix : \n",
            " [[ 68  15   3]\n",
            " [  1 772  15]\n",
            " [  0  15 311]]\n",
            "Report Hasil : \n",
            "               precision    recall  f1-score   support\n",
            "\n",
            "          -1       0.99      0.79      0.88        86\n",
            "           0       0.96      0.98      0.97       788\n",
            "           1       0.95      0.95      0.95       326\n",
            "\n",
            "    accuracy                           0.96      1200\n",
            "   macro avg       0.96      0.91      0.93      1200\n",
            "weighted avg       0.96      0.96      0.96      1200\n",
            "\n"
          ]
        }
      ]
    }
  ]
}