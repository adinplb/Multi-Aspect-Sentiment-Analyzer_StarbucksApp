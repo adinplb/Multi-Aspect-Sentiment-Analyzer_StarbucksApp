{
  "nbformat": 4,
  "nbformat_minor": 0,
  "metadata": {
    "colab": {
      "provenance": [],
      "collapsed_sections": [
        "N45e1Bwvi7FE",
        "9upZEhtNjnt5",
        "l1EYsNnglNjG",
        "l4vpa9onlh-7",
        "fV9hWKimmNIp",
        "1_8D4d0dmxPK",
        "HKx1ffInoUaV",
        "mb_UuPtBpWIU",
        "QqXpuoiestXe",
        "In2GZfOSu1Pc",
        "g4P8YglHvlpA",
        "G2fZwJyTwy03",
        "jbBTyNVgx2B6",
        "etunappIXY1I",
        "3XcZdCfngpWK",
        "M3RUXP32g0gX",
        "yzCHI6ADhFUC",
        "uq3dIbWNhOP0",
        "0vuHbN70hYYn"
      ]
    },
    "kernelspec": {
      "name": "python3",
      "display_name": "Python 3"
    },
    "language_info": {
      "name": "python"
    }
  },
  "cells": [
    {
      "cell_type": "markdown",
      "source": [
        "# Install & Import Package"
      ],
      "metadata": {
        "id": "N45e1Bwvi7FE"
      }
    },
    {
      "cell_type": "code",
      "source": [
        "!pip install Sastrawi"
      ],
      "metadata": {
        "colab": {
          "base_uri": "https://localhost:8080/"
        },
        "id": "BYNo887FjXnC",
        "outputId": "a20faebb-cd84-4a14-d922-4fc62b31366a"
      },
      "execution_count": null,
      "outputs": [
        {
          "output_type": "stream",
          "name": "stdout",
          "text": [
            "Looking in indexes: https://pypi.org/simple, https://us-python.pkg.dev/colab-wheels/public/simple/\n",
            "Collecting Sastrawi\n",
            "  Downloading Sastrawi-1.0.1-py2.py3-none-any.whl (209 kB)\n",
            "\u001b[2K     \u001b[90m━━━━━━━━━━━━━━━━━━━━━━━━━━━━━━━━━━━━━━━\u001b[0m \u001b[32m209.7/209.7 kB\u001b[0m \u001b[31m5.0 MB/s\u001b[0m eta \u001b[36m0:00:00\u001b[0m\n",
            "\u001b[?25hInstalling collected packages: Sastrawi\n",
            "Successfully installed Sastrawi-1.0.1\n"
          ]
        }
      ]
    },
    {
      "cell_type": "code",
      "execution_count": null,
      "metadata": {
        "id": "ER9s6ALUivQT"
      },
      "outputs": [],
      "source": [
        "# LIBRARY UNTUK MENGOLAH DATA\n",
        "import pandas as pd\n",
        "import numpy as np\n",
        "import re,string #import regular expression\n",
        "import Sastrawi\n",
        "import joblib\n",
        "\n",
        "import matplotlib.pyplot as plt\n",
        "import seaborn as sns\n",
        "sns.set()\n",
        "import matplotlib as mpl\n",
        "\n",
        "#Library Untuk Split Data\n",
        "from sklearn import model_selection\n",
        "from sklearn.model_selection import train_test_split\n",
        "\n",
        "#Library Ekstraksi Fitur TFIDF\n",
        "from sklearn.feature_extraction.text import TfidfVectorizer\n",
        "from sklearn.preprocessing import OneHotEncoder\n",
        "\n",
        "#Library Klasifikasi Support Vector Machine\n",
        "from sklearn.svm import SVC\n",
        "from sklearn import svm\n",
        "from sklearn.metrics import f1_score as f1\n",
        "from sklearn .metrics import accuracy_score as acc\n",
        "from sklearn.metrics import precision_score as prec\n",
        "from sklearn.metrics import recall_score as recall\n",
        "from sklearn.metrics import confusion_matrix\n",
        "from sklearn.metrics import classification_report\n",
        "from sklearn import metrics\n",
        "\n",
        "\n",
        "#Library HyperParameter Tuning\n",
        "from sklearn.model_selection import cross_val_score\n",
        "from sklearn.model_selection import GridSearchCV\n",
        "import timeit\n",
        "\n",
        "import warnings\n",
        "warnings.filterwarnings('ignore')"
      ]
    },
    {
      "cell_type": "markdown",
      "source": [
        "# Import Dataset \"Hasil Prepro Aspek Satisfaction"
      ],
      "metadata": {
        "id": "9upZEhtNjnt5"
      }
    },
    {
      "cell_type": "code",
      "source": [
        "from google.colab import drive\n",
        "drive.mount('/content/drive')"
      ],
      "metadata": {
        "colab": {
          "base_uri": "https://localhost:8080/"
        },
        "id": "R6_YIr8_jwrt",
        "outputId": "b677670b-df79-40ef-a4bc-263ac01a00eb"
      },
      "execution_count": null,
      "outputs": [
        {
          "output_type": "stream",
          "name": "stdout",
          "text": [
            "Mounted at /content/drive\n"
          ]
        }
      ]
    },
    {
      "cell_type": "code",
      "source": [
        "ulasan_aspek_satisfaction = pd.read_csv(\"/content/drive/MyDrive/TA_ADIN_ASBA_STARBUCKS_APP/hasil_prepro_aspek_satisfaction_starbucks_app.csv\")\n",
        "ulasan_aspek_satisfaction.shape"
      ],
      "metadata": {
        "colab": {
          "base_uri": "https://localhost:8080/"
        },
        "id": "4o7btSJojmvd",
        "outputId": "166ddffc-f8af-439b-c5a5-da6b87842fd1"
      },
      "execution_count": null,
      "outputs": [
        {
          "output_type": "execute_result",
          "data": {
            "text/plain": [
              "(1500, 3)"
            ]
          },
          "metadata": {},
          "execution_count": 4
        }
      ]
    },
    {
      "cell_type": "code",
      "source": [
        "ulasan_aspek_satisfaction['Satisfaction'].value_counts()"
      ],
      "metadata": {
        "colab": {
          "base_uri": "https://localhost:8080/"
        },
        "id": "MYG9OAm_kzbP",
        "outputId": "3c12a5fb-61d0-4074-af80-48555ac2dab9"
      },
      "execution_count": null,
      "outputs": [
        {
          "output_type": "execute_result",
          "data": {
            "text/plain": [
              "0    989\n",
              "1    511\n",
              "Name: Satisfaction, dtype: int64"
            ]
          },
          "metadata": {},
          "execution_count": 5
        }
      ]
    },
    {
      "cell_type": "code",
      "source": [
        "#detect missing values\n",
        "ulasan_aspek_satisfaction.isna().sum()"
      ],
      "metadata": {
        "colab": {
          "base_uri": "https://localhost:8080/"
        },
        "id": "-kCzND0sk3ls",
        "outputId": "cec5b144-ebea-442c-b081-d3310e9bf600"
      },
      "execution_count": null,
      "outputs": [
        {
          "output_type": "execute_result",
          "data": {
            "text/plain": [
              "Ulasan          0\n",
              "stemming        0\n",
              "Satisfaction    0\n",
              "dtype: int64"
            ]
          },
          "metadata": {},
          "execution_count": 6
        }
      ]
    },
    {
      "cell_type": "markdown",
      "source": [
        "# Inisialisasi Data"
      ],
      "metadata": {
        "id": "l1EYsNnglNjG"
      }
    },
    {
      "cell_type": "code",
      "source": [
        "x_satisfaction = ulasan_aspek_satisfaction['stemming'] #hasil stemming\n",
        "y_satisfaction = ulasan_aspek_satisfaction['Satisfaction'].values #labelnya"
      ],
      "metadata": {
        "id": "I_oVSzANlM7-"
      },
      "execution_count": null,
      "outputs": []
    },
    {
      "cell_type": "markdown",
      "source": [
        "# Split Data"
      ],
      "metadata": {
        "id": "l4vpa9onlh-7"
      }
    },
    {
      "cell_type": "code",
      "source": [
        "from sklearn.model_selection import train_test_split\n",
        "\n",
        "#Perbandingan data train dan data test sebesar 8:2\n",
        "x_satisfaction_train, x_satisfaction_test, y_satisfaction_train, y_satisfaction_test = train_test_split(\n",
        "    ulasan_aspek_satisfaction['stemming'],\n",
        "    ulasan_aspek_satisfaction['Satisfaction'],\n",
        "    test_size=0.2)\n",
        "\n",
        "train_df = pd.DataFrame()\n",
        "train_df['Ulasan'] = x_satisfaction_train\n",
        "train_df['sentiment'] = y_satisfaction_train\n",
        "test_df = pd.DataFrame()\n",
        "test_df['Ulasan'] = x_satisfaction_test\n",
        "test_df['sentiment'] = y_satisfaction_test"
      ],
      "metadata": {
        "id": "Jdez-gT0lhEC"
      },
      "execution_count": null,
      "outputs": []
    },
    {
      "cell_type": "markdown",
      "source": [
        "# Feature TF-IDF \"x_satisfaction\""
      ],
      "metadata": {
        "id": "fV9hWKimmNIp"
      }
    },
    {
      "cell_type": "code",
      "source": [
        "#merubah nilai x_satisfaction menjadi sebuah angka bukan teks\n",
        "tfidf_vect = TfidfVectorizer(use_idf=True)\n",
        "tfidf_vect.fit(x_satisfaction_train)\n",
        "x_satisfaction_train_vectorized = tfidf_vect.transform(x_satisfaction_train)\n",
        "x_satisfaction_test_vectorized = tfidf_vect.transform(x_satisfaction_test)"
      ],
      "metadata": {
        "id": "e7oO9WQMmiTr"
      },
      "execution_count": null,
      "outputs": []
    },
    {
      "cell_type": "code",
      "source": [
        "print (x_satisfaction_train_vectorized)"
      ],
      "metadata": {
        "colab": {
          "base_uri": "https://localhost:8080/"
        },
        "id": "ZK81udifmlx4",
        "outputId": "04355097-a0b4-4e07-c11d-6746934257ad"
      },
      "execution_count": null,
      "outputs": [
        {
          "output_type": "stream",
          "name": "stdout",
          "text": [
            "  (0, 1332)\t0.5874435077976256\n",
            "  (0, 952)\t0.5632744896796132\n",
            "  (0, 687)\t0.44680781782462314\n",
            "  (0, 436)\t0.3115941990755589\n",
            "  (0, 63)\t0.20224688738235652\n",
            "  (1, 1349)\t0.4737242312600588\n",
            "  (1, 1331)\t0.3501320041793632\n",
            "  (1, 1306)\t0.45795770327310903\n",
            "  (1, 1292)\t0.4341837743189626\n",
            "  (1, 541)\t0.3961002027184386\n",
            "  (1, 281)\t0.3128206417482383\n",
            "  (3, 1331)\t0.28433066770151977\n",
            "  (3, 1102)\t0.222982453924182\n",
            "  (3, 823)\t0.33816648169339897\n",
            "  (3, 654)\t0.7051726833519373\n",
            "  (3, 572)\t0.38469584434664084\n",
            "  (3, 436)\t0.21280742462714425\n",
            "  (3, 281)\t0.2540313392589232\n",
            "  (4, 1512)\t0.17486358848924263\n",
            "  (4, 1429)\t0.15810832738817984\n",
            "  (4, 1250)\t0.2858152933780334\n",
            "  (4, 1101)\t0.27630276578332563\n",
            "  (4, 957)\t0.3153639029768199\n",
            "  (4, 865)\t0.14082349882444056\n",
            "  (4, 824)\t0.2619590779784946\n",
            "  :\t:\n",
            "  (1196, 1155)\t0.47008339889936546\n",
            "  (1196, 968)\t0.4973423099001937\n",
            "  (1196, 878)\t0.4973423099001937\n",
            "  (1196, 63)\t0.16184178218932327\n",
            "  (1197, 1025)\t0.9074886242165096\n",
            "  (1197, 63)\t0.4200766560017665\n",
            "  (1198, 1248)\t0.7982095843961299\n",
            "  (1198, 865)\t0.6023798298234743\n",
            "  (1199, 1631)\t0.2800676766453083\n",
            "  (1199, 1402)\t0.2800676766453083\n",
            "  (1199, 1399)\t0.18760425318828566\n",
            "  (1199, 1359)\t0.2800676766453083\n",
            "  (1199, 1292)\t0.232640037915109\n",
            "  (1199, 790)\t0.18760425318828566\n",
            "  (1199, 768)\t0.26471740436822166\n",
            "  (1199, 696)\t0.18760425318828566\n",
            "  (1199, 336)\t0.2800676766453083\n",
            "  (1199, 300)\t0.24537834841959294\n",
            "  (1199, 281)\t0.16761244952345178\n",
            "  (1199, 232)\t0.2538262128623095\n",
            "  (1199, 191)\t0.2800676766453083\n",
            "  (1199, 189)\t0.2800676766453083\n",
            "  (1199, 63)\t0.18227547111765308\n",
            "  (1199, 47)\t0.2800676766453083\n",
            "  (1199, 22)\t0.18760425318828566\n"
          ]
        }
      ]
    },
    {
      "cell_type": "markdown",
      "source": [
        "# Klasifikasi SVM dengan K-Fold Cross Validation Menggunakan Kernel Linear"
      ],
      "metadata": {
        "id": "1_8D4d0dmxPK"
      }
    },
    {
      "cell_type": "markdown",
      "source": [
        "Kernel Linear memiliki akurasi paling tinggi sebesar 0.9208 (Tanpa Hyperparamater Tunning)"
      ],
      "metadata": {
        "id": "EwMyhi3qrKdz"
      }
    },
    {
      "cell_type": "code",
      "source": [
        "#Membuat Model dg Kernel Linear\n",
        "clf_linear = SVC(kernel='linear')\n",
        "\n",
        "#Evaluasi dg K-Fold Cross Validation\n",
        "#Menggunakan Data Train untuk Melatih Model\n",
        "cv_linear = cross_val_score(clf_linear, x_satisfaction_train_vectorized, y_satisfaction_train, scoring='accuracy', cv=5)\n",
        "\n",
        "#Hasil Setelah dilakukan 5x Fold (cv=5)\n",
        "print(\"Accuracy Score Linear of : %0.4f\" % (cv_linear.mean()))"
      ],
      "metadata": {
        "colab": {
          "base_uri": "https://localhost:8080/"
        },
        "id": "5hGtLQs7mwRZ",
        "outputId": "050e909e-c53b-4ca2-f3dc-8fe6e3717a17"
      },
      "execution_count": null,
      "outputs": [
        {
          "output_type": "stream",
          "name": "stdout",
          "text": [
            "Accuracy Score Linear of : 0.7833\n"
          ]
        }
      ]
    },
    {
      "cell_type": "markdown",
      "source": [
        "# Klasifikasi SVM dengan K-Fold Cross Validation Menggunakan Kernel Polynomial"
      ],
      "metadata": {
        "id": "HKx1ffInoUaV"
      }
    },
    {
      "cell_type": "code",
      "source": [
        "#Membuat Model dg Kernel Polynomial\n",
        "clf_poly = SVC(kernel='poly')\n",
        "\n",
        "#Evaluasi dg K-Fold Cross Validation\n",
        "#Menggunakan Data Train untuk Melatih Model\n",
        "cv_poly = cross_val_score(clf_poly, x_satisfaction_train_vectorized, y_satisfaction_train, scoring='accuracy', cv=5)\n",
        "\n",
        "#Hasil Setelah 5lipatan/fold (nilai cv=5)\n",
        "print(\"Accuracy Score Poly of : %0.4f\" % (cv_poly.mean()))"
      ],
      "metadata": {
        "colab": {
          "base_uri": "https://localhost:8080/"
        },
        "id": "ROq8aEcaoZDw",
        "outputId": "c4f5057f-ea50-476a-86f2-b65e1c6fc4a1"
      },
      "execution_count": null,
      "outputs": [
        {
          "output_type": "stream",
          "name": "stdout",
          "text": [
            "Accuracy Score Poly of : 0.7733\n"
          ]
        }
      ]
    },
    {
      "cell_type": "markdown",
      "source": [
        "# Klasifikasi SVM dengan K-Fold Cross Validation Menggunakan Kernel RBF"
      ],
      "metadata": {
        "id": "mb_UuPtBpWIU"
      }
    },
    {
      "cell_type": "code",
      "source": [
        "#Membuat Model dg Kernel rbf\n",
        "clf_rbf = SVC(kernel='rbf')\n",
        "\n",
        "#Evaluasi dg K-Fold Cross Validation\n",
        "#Menggunakan Data Train untuk Melatih Model\n",
        "cv_rbf= cross_val_score(clf_rbf, x_satisfaction_train_vectorized, y_satisfaction_train, scoring='accuracy', cv=5)\n",
        "\n",
        "#Hasil Setelah 5lipatan/fold (nilai cv=5)\n",
        "print(\"Accuracy Score RBF of : %0.4f\" % (cv_rbf.mean()))"
      ],
      "metadata": {
        "colab": {
          "base_uri": "https://localhost:8080/"
        },
        "id": "l59CuVryqfWY",
        "outputId": "86ec01af-93b0-4844-c7d0-11f52f40f0eb"
      },
      "execution_count": null,
      "outputs": [
        {
          "output_type": "stream",
          "name": "stdout",
          "text": [
            "Accuracy Score RBF of : 0.8225\n"
          ]
        }
      ]
    },
    {
      "cell_type": "markdown",
      "source": [
        "# Klasifikasi SVM (Hyperparameter Tunning) Menggunakan Kernel Linear"
      ],
      "metadata": {
        "id": "QqXpuoiestXe"
      }
    },
    {
      "cell_type": "code",
      "source": [
        "#Tuning Parameter with GridSearchCV\n",
        "#LINEAR KERNEL\n",
        "\n",
        "param_grid = {'C': [0.1, 1, 10, 100],\n",
        "              'kernel': ['linear'],\n",
        "              'gamma' :[0.01, 0.1, 1, 10]\n",
        "             }\n",
        "\n",
        "grid = GridSearchCV(svm.SVC(), param_grid, scoring='accuracy', refit = True, verbose = 3)\n",
        "# fitting the model for grid search\n",
        "grid.fit(x_satisfaction_train_vectorized, y_satisfaction_train)\n",
        "\n",
        "selected_kernel_linear = grid.best_params_['kernel']\n",
        "print(\"Selected Kernel: \", selected_kernel_linear)\n",
        "selected_C_linear = grid.best_params_['C']\n",
        "print(\"Selected C: \", selected_C_linear)\n",
        "selected_gamma_linear= grid.best_params_['gamma']\n",
        "print(\"Selected Gamma: \", selected_gamma_linear)\n",
        "\n",
        "best_params_linear_HT = grid.best_params_\n",
        "model_looks_linear_HT= grid.best_estimator_\n",
        "\n",
        "print(f'Best Score : {grid.best_score_}')\n",
        "print(\"best estimator: %s\" % (model_looks_linear_HT))"
      ],
      "metadata": {
        "colab": {
          "base_uri": "https://localhost:8080/"
        },
        "id": "Xq8iUoJmrpJR",
        "outputId": "fbc6787a-b53e-4977-ef11-b6e18cad90c9"
      },
      "execution_count": null,
      "outputs": [
        {
          "output_type": "stream",
          "name": "stdout",
          "text": [
            "Fitting 5 folds for each of 16 candidates, totalling 80 fits\n",
            "[CV 1/5] END ..C=0.1, gamma=0.01, kernel=linear;, score=0.754 total time=   0.1s\n",
            "[CV 2/5] END ..C=0.1, gamma=0.01, kernel=linear;, score=0.729 total time=   0.0s\n",
            "[CV 3/5] END ..C=0.1, gamma=0.01, kernel=linear;, score=0.729 total time=   0.0s\n",
            "[CV 4/5] END ..C=0.1, gamma=0.01, kernel=linear;, score=0.758 total time=   0.1s\n",
            "[CV 5/5] END ..C=0.1, gamma=0.01, kernel=linear;, score=0.713 total time=   0.0s\n",
            "[CV 1/5] END ...C=0.1, gamma=0.1, kernel=linear;, score=0.754 total time=   0.0s\n",
            "[CV 2/5] END ...C=0.1, gamma=0.1, kernel=linear;, score=0.729 total time=   0.0s\n",
            "[CV 3/5] END ...C=0.1, gamma=0.1, kernel=linear;, score=0.729 total time=   0.0s\n",
            "[CV 4/5] END ...C=0.1, gamma=0.1, kernel=linear;, score=0.758 total time=   0.1s\n",
            "[CV 5/5] END ...C=0.1, gamma=0.1, kernel=linear;, score=0.713 total time=   0.0s\n",
            "[CV 1/5] END .....C=0.1, gamma=1, kernel=linear;, score=0.754 total time=   0.0s\n",
            "[CV 2/5] END .....C=0.1, gamma=1, kernel=linear;, score=0.729 total time=   0.0s\n",
            "[CV 3/5] END .....C=0.1, gamma=1, kernel=linear;, score=0.729 total time=   0.1s\n",
            "[CV 4/5] END .....C=0.1, gamma=1, kernel=linear;, score=0.758 total time=   0.1s\n",
            "[CV 5/5] END .....C=0.1, gamma=1, kernel=linear;, score=0.713 total time=   0.0s\n",
            "[CV 1/5] END ....C=0.1, gamma=10, kernel=linear;, score=0.754 total time=   0.0s\n",
            "[CV 2/5] END ....C=0.1, gamma=10, kernel=linear;, score=0.729 total time=   0.0s\n",
            "[CV 3/5] END ....C=0.1, gamma=10, kernel=linear;, score=0.729 total time=   0.0s\n",
            "[CV 4/5] END ....C=0.1, gamma=10, kernel=linear;, score=0.758 total time=   0.1s\n",
            "[CV 5/5] END ....C=0.1, gamma=10, kernel=linear;, score=0.713 total time=   0.1s\n",
            "[CV 1/5] END ....C=1, gamma=0.01, kernel=linear;, score=0.800 total time=   0.0s\n",
            "[CV 2/5] END ....C=1, gamma=0.01, kernel=linear;, score=0.792 total time=   0.1s\n",
            "[CV 3/5] END ....C=1, gamma=0.01, kernel=linear;, score=0.762 total time=   0.0s\n",
            "[CV 4/5] END ....C=1, gamma=0.01, kernel=linear;, score=0.796 total time=   0.1s\n",
            "[CV 5/5] END ....C=1, gamma=0.01, kernel=linear;, score=0.767 total time=   0.0s\n",
            "[CV 1/5] END .....C=1, gamma=0.1, kernel=linear;, score=0.800 total time=   0.1s\n",
            "[CV 2/5] END .....C=1, gamma=0.1, kernel=linear;, score=0.792 total time=   0.0s\n",
            "[CV 3/5] END .....C=1, gamma=0.1, kernel=linear;, score=0.762 total time=   0.0s\n",
            "[CV 4/5] END .....C=1, gamma=0.1, kernel=linear;, score=0.796 total time=   0.0s\n",
            "[CV 5/5] END .....C=1, gamma=0.1, kernel=linear;, score=0.767 total time=   0.0s\n",
            "[CV 1/5] END .......C=1, gamma=1, kernel=linear;, score=0.800 total time=   0.1s\n",
            "[CV 2/5] END .......C=1, gamma=1, kernel=linear;, score=0.792 total time=   0.0s\n",
            "[CV 3/5] END .......C=1, gamma=1, kernel=linear;, score=0.762 total time=   0.0s\n",
            "[CV 4/5] END .......C=1, gamma=1, kernel=linear;, score=0.796 total time=   0.0s\n",
            "[CV 5/5] END .......C=1, gamma=1, kernel=linear;, score=0.767 total time=   0.0s\n",
            "[CV 1/5] END ......C=1, gamma=10, kernel=linear;, score=0.800 total time=   0.0s\n",
            "[CV 2/5] END ......C=1, gamma=10, kernel=linear;, score=0.792 total time=   0.0s\n",
            "[CV 3/5] END ......C=1, gamma=10, kernel=linear;, score=0.762 total time=   0.1s\n",
            "[CV 4/5] END ......C=1, gamma=10, kernel=linear;, score=0.796 total time=   0.1s\n",
            "[CV 5/5] END ......C=1, gamma=10, kernel=linear;, score=0.767 total time=   0.0s\n",
            "[CV 1/5] END ...C=10, gamma=0.01, kernel=linear;, score=0.704 total time=   0.1s\n",
            "[CV 2/5] END ...C=10, gamma=0.01, kernel=linear;, score=0.754 total time=   0.1s\n",
            "[CV 3/5] END ...C=10, gamma=0.01, kernel=linear;, score=0.775 total time=   0.1s\n",
            "[CV 4/5] END ...C=10, gamma=0.01, kernel=linear;, score=0.729 total time=   0.1s\n",
            "[CV 5/5] END ...C=10, gamma=0.01, kernel=linear;, score=0.771 total time=   0.1s\n",
            "[CV 1/5] END ....C=10, gamma=0.1, kernel=linear;, score=0.704 total time=   0.1s\n",
            "[CV 2/5] END ....C=10, gamma=0.1, kernel=linear;, score=0.754 total time=   0.1s\n",
            "[CV 3/5] END ....C=10, gamma=0.1, kernel=linear;, score=0.775 total time=   0.1s\n",
            "[CV 4/5] END ....C=10, gamma=0.1, kernel=linear;, score=0.729 total time=   0.1s\n",
            "[CV 5/5] END ....C=10, gamma=0.1, kernel=linear;, score=0.771 total time=   0.1s\n",
            "[CV 1/5] END ......C=10, gamma=1, kernel=linear;, score=0.704 total time=   0.2s\n",
            "[CV 2/5] END ......C=10, gamma=1, kernel=linear;, score=0.754 total time=   0.3s\n",
            "[CV 3/5] END ......C=10, gamma=1, kernel=linear;, score=0.775 total time=   0.1s\n",
            "[CV 4/5] END ......C=10, gamma=1, kernel=linear;, score=0.729 total time=   0.2s\n",
            "[CV 5/5] END ......C=10, gamma=1, kernel=linear;, score=0.771 total time=   0.2s\n",
            "[CV 1/5] END .....C=10, gamma=10, kernel=linear;, score=0.704 total time=   0.2s\n",
            "[CV 2/5] END .....C=10, gamma=10, kernel=linear;, score=0.754 total time=   0.2s\n",
            "[CV 3/5] END .....C=10, gamma=10, kernel=linear;, score=0.775 total time=   0.1s\n",
            "[CV 4/5] END .....C=10, gamma=10, kernel=linear;, score=0.729 total time=   0.2s\n",
            "[CV 5/5] END .....C=10, gamma=10, kernel=linear;, score=0.771 total time=   0.2s\n",
            "[CV 1/5] END ..C=100, gamma=0.01, kernel=linear;, score=0.725 total time=   0.2s\n",
            "[CV 2/5] END ..C=100, gamma=0.01, kernel=linear;, score=0.746 total time=   0.3s\n",
            "[CV 3/5] END ..C=100, gamma=0.01, kernel=linear;, score=0.754 total time=   0.1s\n",
            "[CV 4/5] END ..C=100, gamma=0.01, kernel=linear;, score=0.713 total time=   0.2s\n",
            "[CV 5/5] END ..C=100, gamma=0.01, kernel=linear;, score=0.762 total time=   0.2s\n",
            "[CV 1/5] END ...C=100, gamma=0.1, kernel=linear;, score=0.725 total time=   0.2s\n",
            "[CV 2/5] END ...C=100, gamma=0.1, kernel=linear;, score=0.746 total time=   0.3s\n",
            "[CV 3/5] END ...C=100, gamma=0.1, kernel=linear;, score=0.754 total time=   0.2s\n",
            "[CV 4/5] END ...C=100, gamma=0.1, kernel=linear;, score=0.713 total time=   0.2s\n",
            "[CV 5/5] END ...C=100, gamma=0.1, kernel=linear;, score=0.762 total time=   0.2s\n",
            "[CV 1/5] END .....C=100, gamma=1, kernel=linear;, score=0.725 total time=   0.3s\n",
            "[CV 2/5] END .....C=100, gamma=1, kernel=linear;, score=0.746 total time=   0.2s\n",
            "[CV 3/5] END .....C=100, gamma=1, kernel=linear;, score=0.754 total time=   0.1s\n",
            "[CV 4/5] END .....C=100, gamma=1, kernel=linear;, score=0.713 total time=   0.1s\n",
            "[CV 5/5] END .....C=100, gamma=1, kernel=linear;, score=0.762 total time=   0.1s\n",
            "[CV 1/5] END ....C=100, gamma=10, kernel=linear;, score=0.725 total time=   0.1s\n",
            "[CV 2/5] END ....C=100, gamma=10, kernel=linear;, score=0.746 total time=   0.1s\n",
            "[CV 3/5] END ....C=100, gamma=10, kernel=linear;, score=0.754 total time=   0.1s\n",
            "[CV 4/5] END ....C=100, gamma=10, kernel=linear;, score=0.713 total time=   0.1s\n",
            "[CV 5/5] END ....C=100, gamma=10, kernel=linear;, score=0.762 total time=   0.1s\n",
            "Selected Kernel:  linear\n",
            "Selected C:  1\n",
            "Selected Gamma:  0.01\n",
            "Best Score : 0.7833333333333334\n",
            "best estimator: SVC(C=1, gamma=0.01, kernel='linear')\n"
          ]
        }
      ]
    },
    {
      "cell_type": "markdown",
      "source": [
        "# Klasifikasi SVM (Hyperparameter Tunning) Menggunakan Kernel Polynomial"
      ],
      "metadata": {
        "id": "In2GZfOSu1Pc"
      }
    },
    {
      "cell_type": "code",
      "source": [
        "#Tuning Parameter with GridSearchCV\n",
        "#Kernel Polynomial\n",
        "\n",
        "param_grid = {'C': [0.1, 1, 10, 100],\n",
        "              'kernel': ['poly'],\n",
        "              'gamma' :[0.01, 0.1, 1, 10]\n",
        "             }\n",
        "\n",
        "grid = GridSearchCV(svm.SVC(), param_grid, scoring='accuracy', refit = True, verbose = 3)\n",
        "# fitting the model for grid search\n",
        "grid.fit(x_satisfaction_train_vectorized, y_satisfaction_train)\n",
        "\n",
        "\n",
        "selected_kernel_poly = grid.best_params_['kernel']\n",
        "print(\"Selected Kernel: \", selected_kernel_poly)\n",
        "selected_C_poly= grid.best_params_['C']\n",
        "print(\"Selected C: \", selected_C_poly)\n",
        "selected_gamma_poly = grid.best_params_['gamma']\n",
        "print(\"Selected Gamma: \", selected_gamma_poly)\n",
        "\n",
        "\n",
        "best_params_poly_HT = grid.best_params_\n",
        "model_looks_poly_HT= grid.best_estimator_\n",
        "\n",
        "print(f'Best Score : {grid.best_score_}')\n",
        "print(\"best estimator: %s\" % (model_looks_poly_HT))"
      ],
      "metadata": {
        "colab": {
          "base_uri": "https://localhost:8080/"
        },
        "id": "QlbaYx25u5yh",
        "outputId": "1b1f3abf-7bc0-4a94-e2be-71e70a2aedfb"
      },
      "execution_count": null,
      "outputs": [
        {
          "output_type": "stream",
          "name": "stdout",
          "text": [
            "Fitting 5 folds for each of 16 candidates, totalling 80 fits\n",
            "[CV 1/5] END ....C=0.1, gamma=0.01, kernel=poly;, score=0.650 total time=   0.1s\n",
            "[CV 2/5] END ....C=0.1, gamma=0.01, kernel=poly;, score=0.650 total time=   0.1s\n",
            "[CV 3/5] END ....C=0.1, gamma=0.01, kernel=poly;, score=0.650 total time=   0.1s\n",
            "[CV 4/5] END ....C=0.1, gamma=0.01, kernel=poly;, score=0.646 total time=   0.1s\n",
            "[CV 5/5] END ....C=0.1, gamma=0.01, kernel=poly;, score=0.646 total time=   0.2s\n",
            "[CV 1/5] END .....C=0.1, gamma=0.1, kernel=poly;, score=0.650 total time=   0.1s\n",
            "[CV 2/5] END .....C=0.1, gamma=0.1, kernel=poly;, score=0.650 total time=   0.1s\n",
            "[CV 3/5] END .....C=0.1, gamma=0.1, kernel=poly;, score=0.650 total time=   0.1s\n",
            "[CV 4/5] END .....C=0.1, gamma=0.1, kernel=poly;, score=0.646 total time=   0.1s\n",
            "[CV 5/5] END .....C=0.1, gamma=0.1, kernel=poly;, score=0.646 total time=   0.1s\n",
            "[CV 1/5] END .......C=0.1, gamma=1, kernel=poly;, score=0.742 total time=   0.1s\n",
            "[CV 2/5] END .......C=0.1, gamma=1, kernel=poly;, score=0.721 total time=   0.1s\n",
            "[CV 3/5] END .......C=0.1, gamma=1, kernel=poly;, score=0.704 total time=   0.1s\n",
            "[CV 4/5] END .......C=0.1, gamma=1, kernel=poly;, score=0.750 total time=   0.2s\n",
            "[CV 5/5] END .......C=0.1, gamma=1, kernel=poly;, score=0.700 total time=   0.1s\n",
            "[CV 1/5] END ......C=0.1, gamma=10, kernel=poly;, score=0.492 total time=   0.1s\n",
            "[CV 2/5] END ......C=0.1, gamma=10, kernel=poly;, score=0.500 total time=   0.2s\n",
            "[CV 3/5] END ......C=0.1, gamma=10, kernel=poly;, score=0.408 total time=   0.1s\n",
            "[CV 4/5] END ......C=0.1, gamma=10, kernel=poly;, score=0.475 total time=   0.1s\n",
            "[CV 5/5] END ......C=0.1, gamma=10, kernel=poly;, score=0.521 total time=   0.3s\n",
            "[CV 1/5] END ......C=1, gamma=0.01, kernel=poly;, score=0.650 total time=   0.1s\n",
            "[CV 2/5] END ......C=1, gamma=0.01, kernel=poly;, score=0.650 total time=   0.1s\n",
            "[CV 3/5] END ......C=1, gamma=0.01, kernel=poly;, score=0.650 total time=   0.1s\n",
            "[CV 4/5] END ......C=1, gamma=0.01, kernel=poly;, score=0.646 total time=   0.1s\n",
            "[CV 5/5] END ......C=1, gamma=0.01, kernel=poly;, score=0.646 total time=   0.1s\n",
            "[CV 1/5] END .......C=1, gamma=0.1, kernel=poly;, score=0.650 total time=   0.1s\n",
            "[CV 2/5] END .......C=1, gamma=0.1, kernel=poly;, score=0.650 total time=   0.1s\n",
            "[CV 3/5] END .......C=1, gamma=0.1, kernel=poly;, score=0.650 total time=   0.1s\n",
            "[CV 4/5] END .......C=1, gamma=0.1, kernel=poly;, score=0.646 total time=   0.1s\n",
            "[CV 5/5] END .......C=1, gamma=0.1, kernel=poly;, score=0.646 total time=   0.1s\n",
            "[CV 1/5] END .........C=1, gamma=1, kernel=poly;, score=0.792 total time=   0.1s\n",
            "[CV 2/5] END .........C=1, gamma=1, kernel=poly;, score=0.775 total time=   0.1s\n",
            "[CV 3/5] END .........C=1, gamma=1, kernel=poly;, score=0.750 total time=   0.1s\n",
            "[CV 4/5] END .........C=1, gamma=1, kernel=poly;, score=0.800 total time=   0.1s\n",
            "[CV 5/5] END .........C=1, gamma=1, kernel=poly;, score=0.746 total time=   0.1s\n",
            "[CV 1/5] END ........C=1, gamma=10, kernel=poly;, score=0.492 total time=   0.1s\n",
            "[CV 2/5] END ........C=1, gamma=10, kernel=poly;, score=0.500 total time=   0.1s\n",
            "[CV 3/5] END ........C=1, gamma=10, kernel=poly;, score=0.408 total time=   0.2s\n",
            "[CV 4/5] END ........C=1, gamma=10, kernel=poly;, score=0.475 total time=   0.1s\n",
            "[CV 5/5] END ........C=1, gamma=10, kernel=poly;, score=0.521 total time=   0.1s\n",
            "[CV 1/5] END .....C=10, gamma=0.01, kernel=poly;, score=0.650 total time=   0.1s\n",
            "[CV 2/5] END .....C=10, gamma=0.01, kernel=poly;, score=0.650 total time=   0.1s\n",
            "[CV 3/5] END .....C=10, gamma=0.01, kernel=poly;, score=0.650 total time=   0.1s\n",
            "[CV 4/5] END .....C=10, gamma=0.01, kernel=poly;, score=0.646 total time=   0.1s\n",
            "[CV 5/5] END .....C=10, gamma=0.01, kernel=poly;, score=0.646 total time=   0.1s\n",
            "[CV 1/5] END ......C=10, gamma=0.1, kernel=poly;, score=0.650 total time=   0.1s\n",
            "[CV 2/5] END ......C=10, gamma=0.1, kernel=poly;, score=0.650 total time=   0.1s\n",
            "[CV 3/5] END ......C=10, gamma=0.1, kernel=poly;, score=0.650 total time=   0.1s\n",
            "[CV 4/5] END ......C=10, gamma=0.1, kernel=poly;, score=0.646 total time=   0.1s\n",
            "[CV 5/5] END ......C=10, gamma=0.1, kernel=poly;, score=0.646 total time=   0.1s\n",
            "[CV 1/5] END ........C=10, gamma=1, kernel=poly;, score=0.575 total time=   0.1s\n",
            "[CV 2/5] END ........C=10, gamma=1, kernel=poly;, score=0.562 total time=   0.1s\n",
            "[CV 3/5] END ........C=10, gamma=1, kernel=poly;, score=0.604 total time=   0.2s\n",
            "[CV 4/5] END ........C=10, gamma=1, kernel=poly;, score=0.537 total time=   0.2s\n",
            "[CV 5/5] END ........C=10, gamma=1, kernel=poly;, score=0.600 total time=   0.1s\n",
            "[CV 1/5] END .......C=10, gamma=10, kernel=poly;, score=0.492 total time=   0.2s\n",
            "[CV 2/5] END .......C=10, gamma=10, kernel=poly;, score=0.500 total time=   0.1s\n",
            "[CV 3/5] END .......C=10, gamma=10, kernel=poly;, score=0.408 total time=   0.2s\n",
            "[CV 4/5] END .......C=10, gamma=10, kernel=poly;, score=0.475 total time=   0.1s\n",
            "[CV 5/5] END .......C=10, gamma=10, kernel=poly;, score=0.521 total time=   0.1s\n",
            "[CV 1/5] END ....C=100, gamma=0.01, kernel=poly;, score=0.650 total time=   0.1s\n",
            "[CV 2/5] END ....C=100, gamma=0.01, kernel=poly;, score=0.650 total time=   0.1s\n",
            "[CV 3/5] END ....C=100, gamma=0.01, kernel=poly;, score=0.650 total time=   0.1s\n",
            "[CV 4/5] END ....C=100, gamma=0.01, kernel=poly;, score=0.646 total time=   0.1s\n",
            "[CV 5/5] END ....C=100, gamma=0.01, kernel=poly;, score=0.646 total time=   0.1s\n",
            "[CV 1/5] END .....C=100, gamma=0.1, kernel=poly;, score=0.742 total time=   0.1s\n",
            "[CV 2/5] END .....C=100, gamma=0.1, kernel=poly;, score=0.721 total time=   0.1s\n",
            "[CV 3/5] END .....C=100, gamma=0.1, kernel=poly;, score=0.704 total time=   0.1s\n",
            "[CV 4/5] END .....C=100, gamma=0.1, kernel=poly;, score=0.750 total time=   0.1s\n",
            "[CV 5/5] END .....C=100, gamma=0.1, kernel=poly;, score=0.700 total time=   0.2s\n",
            "[CV 1/5] END .......C=100, gamma=1, kernel=poly;, score=0.492 total time=   0.2s\n",
            "[CV 2/5] END .......C=100, gamma=1, kernel=poly;, score=0.500 total time=   0.2s\n",
            "[CV 3/5] END .......C=100, gamma=1, kernel=poly;, score=0.408 total time=   0.2s\n",
            "[CV 4/5] END .......C=100, gamma=1, kernel=poly;, score=0.475 total time=   0.2s\n",
            "[CV 5/5] END .......C=100, gamma=1, kernel=poly;, score=0.521 total time=   0.1s\n",
            "[CV 1/5] END ......C=100, gamma=10, kernel=poly;, score=0.492 total time=   0.2s\n",
            "[CV 2/5] END ......C=100, gamma=10, kernel=poly;, score=0.500 total time=   0.3s\n",
            "[CV 3/5] END ......C=100, gamma=10, kernel=poly;, score=0.408 total time=   0.3s\n",
            "[CV 4/5] END ......C=100, gamma=10, kernel=poly;, score=0.475 total time=   0.3s\n",
            "[CV 5/5] END ......C=100, gamma=10, kernel=poly;, score=0.521 total time=   0.3s\n",
            "Selected Kernel:  poly\n",
            "Selected C:  1\n",
            "Selected Gamma:  1\n",
            "Best Score : 0.7725\n",
            "best estimator: SVC(C=1, gamma=1, kernel='poly')\n"
          ]
        }
      ]
    },
    {
      "cell_type": "markdown",
      "source": [
        "# Klasifikasi SVM (Hyperparameter Tunning) Menggunakan Kernel RBF"
      ],
      "metadata": {
        "id": "g4P8YglHvlpA"
      }
    },
    {
      "cell_type": "markdown",
      "source": [
        "Hyperparameter terbaik untuk aspek efficiency ada pada kernel RBF dg C=100, gamma 0.01, score=0.9275"
      ],
      "metadata": {
        "id": "tJWDZyYJwIlA"
      }
    },
    {
      "cell_type": "code",
      "source": [
        "#Tuning Parameter with GridSearchCV\n",
        "#Kernel RBF\n",
        "\n",
        "param_grid = {'C': [0.1, 1, 10, 100],\n",
        "              'kernel': ['rbf'],\n",
        "              'gamma' :[0.01, 0.1, 1, 10]\n",
        "             }\n",
        "\n",
        "grid = GridSearchCV(svm.SVC(), param_grid, scoring='accuracy', refit = True, verbose = 3)\n",
        "# fitting the model for grid search\n",
        "grid.fit(x_satisfaction_train_vectorized, y_satisfaction_train)\n",
        "\n",
        "selected_kernel_rbf = grid.best_params_['kernel']\n",
        "print(\"Selected Kernel: \", selected_kernel_rbf)\n",
        "selected_C_rbf = grid.best_params_['C']\n",
        "print(\"Selected C: \", selected_C_rbf)\n",
        "selected_gamma_rbf= grid.best_params_['gamma']\n",
        "print(\"Selected Gamma: \", selected_gamma_rbf)\n",
        "\n",
        "best_params_rbf_HT = grid.best_params_\n",
        "model_looks_rbf_HT= grid.best_estimator_\n",
        "\n",
        "print(f'Best Score : {grid.best_score_}')\n",
        "print(\"best estimator: %s\" % (model_looks_rbf_HT))"
      ],
      "metadata": {
        "colab": {
          "base_uri": "https://localhost:8080/"
        },
        "id": "VXEof0fKvrzl",
        "outputId": "2ddd4b8c-505b-47b9-9949-5eed04a17546"
      },
      "execution_count": null,
      "outputs": [
        {
          "output_type": "stream",
          "name": "stdout",
          "text": [
            "Fitting 5 folds for each of 16 candidates, totalling 80 fits\n",
            "[CV 1/5] END .....C=0.1, gamma=0.01, kernel=rbf;, score=0.650 total time=   0.3s\n",
            "[CV 2/5] END .....C=0.1, gamma=0.01, kernel=rbf;, score=0.650 total time=   0.3s\n",
            "[CV 3/5] END .....C=0.1, gamma=0.01, kernel=rbf;, score=0.650 total time=   0.3s\n",
            "[CV 4/5] END .....C=0.1, gamma=0.01, kernel=rbf;, score=0.646 total time=   0.2s\n",
            "[CV 5/5] END .....C=0.1, gamma=0.01, kernel=rbf;, score=0.646 total time=   0.2s\n",
            "[CV 1/5] END ......C=0.1, gamma=0.1, kernel=rbf;, score=0.721 total time=   0.2s\n",
            "[CV 2/5] END ......C=0.1, gamma=0.1, kernel=rbf;, score=0.700 total time=   0.3s\n",
            "[CV 3/5] END ......C=0.1, gamma=0.1, kernel=rbf;, score=0.683 total time=   0.3s\n",
            "[CV 4/5] END ......C=0.1, gamma=0.1, kernel=rbf;, score=0.721 total time=   0.3s\n",
            "[CV 5/5] END ......C=0.1, gamma=0.1, kernel=rbf;, score=0.683 total time=   0.2s\n",
            "[CV 1/5] END ........C=0.1, gamma=1, kernel=rbf;, score=0.775 total time=   0.4s\n",
            "[CV 2/5] END ........C=0.1, gamma=1, kernel=rbf;, score=0.775 total time=   0.3s\n",
            "[CV 3/5] END ........C=0.1, gamma=1, kernel=rbf;, score=0.762 total time=   0.4s\n",
            "[CV 4/5] END ........C=0.1, gamma=1, kernel=rbf;, score=0.787 total time=   0.2s\n",
            "[CV 5/5] END ........C=0.1, gamma=1, kernel=rbf;, score=0.750 total time=   0.2s\n",
            "[CV 1/5] END .......C=0.1, gamma=10, kernel=rbf;, score=0.771 total time=   0.4s\n",
            "[CV 2/5] END .......C=0.1, gamma=10, kernel=rbf;, score=0.767 total time=   0.3s\n",
            "[CV 3/5] END .......C=0.1, gamma=10, kernel=rbf;, score=0.762 total time=   0.2s\n",
            "[CV 4/5] END .......C=0.1, gamma=10, kernel=rbf;, score=0.783 total time=   0.2s\n",
            "[CV 5/5] END .......C=0.1, gamma=10, kernel=rbf;, score=0.742 total time=   0.2s\n",
            "[CV 1/5] END .......C=1, gamma=0.01, kernel=rbf;, score=0.721 total time=   0.1s\n",
            "[CV 2/5] END .......C=1, gamma=0.01, kernel=rbf;, score=0.704 total time=   0.1s\n",
            "[CV 3/5] END .......C=1, gamma=0.01, kernel=rbf;, score=0.683 total time=   0.1s\n",
            "[CV 4/5] END .......C=1, gamma=0.01, kernel=rbf;, score=0.721 total time=   0.1s\n",
            "[CV 5/5] END .......C=1, gamma=0.01, kernel=rbf;, score=0.692 total time=   0.1s\n",
            "[CV 1/5] END ........C=1, gamma=0.1, kernel=rbf;, score=0.771 total time=   0.1s\n",
            "[CV 2/5] END ........C=1, gamma=0.1, kernel=rbf;, score=0.746 total time=   0.1s\n",
            "[CV 3/5] END ........C=1, gamma=0.1, kernel=rbf;, score=0.725 total time=   0.1s\n",
            "[CV 4/5] END ........C=1, gamma=0.1, kernel=rbf;, score=0.779 total time=   0.1s\n",
            "[CV 5/5] END ........C=1, gamma=0.1, kernel=rbf;, score=0.725 total time=   0.2s\n",
            "[CV 1/5] END ..........C=1, gamma=1, kernel=rbf;, score=0.838 total time=   0.3s\n",
            "[CV 2/5] END ..........C=1, gamma=1, kernel=rbf;, score=0.833 total time=   0.2s\n",
            "[CV 3/5] END ..........C=1, gamma=1, kernel=rbf;, score=0.817 total time=   0.2s\n",
            "[CV 4/5] END ..........C=1, gamma=1, kernel=rbf;, score=0.833 total time=   0.2s\n",
            "[CV 5/5] END ..........C=1, gamma=1, kernel=rbf;, score=0.796 total time=   0.2s\n",
            "[CV 1/5] END .........C=1, gamma=10, kernel=rbf;, score=0.825 total time=   0.1s\n",
            "[CV 2/5] END .........C=1, gamma=10, kernel=rbf;, score=0.829 total time=   0.2s\n",
            "[CV 3/5] END .........C=1, gamma=10, kernel=rbf;, score=0.796 total time=   0.2s\n",
            "[CV 4/5] END .........C=1, gamma=10, kernel=rbf;, score=0.829 total time=   0.2s\n",
            "[CV 5/5] END .........C=1, gamma=10, kernel=rbf;, score=0.783 total time=   0.1s\n",
            "[CV 1/5] END ......C=10, gamma=0.01, kernel=rbf;, score=0.775 total time=   0.1s\n",
            "[CV 2/5] END ......C=10, gamma=0.01, kernel=rbf;, score=0.750 total time=   0.2s\n",
            "[CV 3/5] END ......C=10, gamma=0.01, kernel=rbf;, score=0.725 total time=   0.1s\n",
            "[CV 4/5] END ......C=10, gamma=0.01, kernel=rbf;, score=0.779 total time=   0.2s\n",
            "[CV 5/5] END ......C=10, gamma=0.01, kernel=rbf;, score=0.738 total time=   0.3s\n",
            "[CV 1/5] END .......C=10, gamma=0.1, kernel=rbf;, score=0.850 total time=   0.1s\n",
            "[CV 2/5] END .......C=10, gamma=0.1, kernel=rbf;, score=0.833 total time=   0.1s\n",
            "[CV 3/5] END .......C=10, gamma=0.1, kernel=rbf;, score=0.825 total time=   0.1s\n",
            "[CV 4/5] END .......C=10, gamma=0.1, kernel=rbf;, score=0.829 total time=   0.1s\n",
            "[CV 5/5] END .......C=10, gamma=0.1, kernel=rbf;, score=0.833 total time=   0.1s\n",
            "[CV 1/5] END .........C=10, gamma=1, kernel=rbf;, score=0.842 total time=   0.1s\n",
            "[CV 2/5] END .........C=10, gamma=1, kernel=rbf;, score=0.854 total time=   0.1s\n",
            "[CV 3/5] END .........C=10, gamma=1, kernel=rbf;, score=0.808 total time=   0.1s\n",
            "[CV 4/5] END .........C=10, gamma=1, kernel=rbf;, score=0.833 total time=   0.1s\n",
            "[CV 5/5] END .........C=10, gamma=1, kernel=rbf;, score=0.808 total time=   0.1s\n",
            "[CV 1/5] END ........C=10, gamma=10, kernel=rbf;, score=0.825 total time=   0.1s\n",
            "[CV 2/5] END ........C=10, gamma=10, kernel=rbf;, score=0.829 total time=   0.1s\n",
            "[CV 3/5] END ........C=10, gamma=10, kernel=rbf;, score=0.796 total time=   0.1s\n",
            "[CV 4/5] END ........C=10, gamma=10, kernel=rbf;, score=0.829 total time=   0.1s\n",
            "[CV 5/5] END ........C=10, gamma=10, kernel=rbf;, score=0.783 total time=   0.1s\n",
            "[CV 1/5] END .....C=100, gamma=0.01, kernel=rbf;, score=0.817 total time=   0.1s\n",
            "[CV 2/5] END .....C=100, gamma=0.01, kernel=rbf;, score=0.821 total time=   0.1s\n",
            "[CV 3/5] END .....C=100, gamma=0.01, kernel=rbf;, score=0.825 total time=   0.1s\n",
            "[CV 4/5] END .....C=100, gamma=0.01, kernel=rbf;, score=0.812 total time=   0.1s\n",
            "[CV 5/5] END .....C=100, gamma=0.01, kernel=rbf;, score=0.825 total time=   0.1s\n",
            "[CV 1/5] END ......C=100, gamma=0.1, kernel=rbf;, score=0.800 total time=   0.1s\n",
            "[CV 2/5] END ......C=100, gamma=0.1, kernel=rbf;, score=0.833 total time=   0.1s\n",
            "[CV 3/5] END ......C=100, gamma=0.1, kernel=rbf;, score=0.792 total time=   0.1s\n",
            "[CV 4/5] END ......C=100, gamma=0.1, kernel=rbf;, score=0.808 total time=   0.1s\n",
            "[CV 5/5] END ......C=100, gamma=0.1, kernel=rbf;, score=0.821 total time=   0.1s\n",
            "[CV 1/5] END ........C=100, gamma=1, kernel=rbf;, score=0.842 total time=   0.1s\n",
            "[CV 2/5] END ........C=100, gamma=1, kernel=rbf;, score=0.854 total time=   0.1s\n",
            "[CV 3/5] END ........C=100, gamma=1, kernel=rbf;, score=0.808 total time=   0.1s\n",
            "[CV 4/5] END ........C=100, gamma=1, kernel=rbf;, score=0.833 total time=   0.1s\n",
            "[CV 5/5] END ........C=100, gamma=1, kernel=rbf;, score=0.808 total time=   0.1s\n",
            "[CV 1/5] END .......C=100, gamma=10, kernel=rbf;, score=0.825 total time=   0.1s\n",
            "[CV 2/5] END .......C=100, gamma=10, kernel=rbf;, score=0.829 total time=   0.1s\n",
            "[CV 3/5] END .......C=100, gamma=10, kernel=rbf;, score=0.796 total time=   0.1s\n",
            "[CV 4/5] END .......C=100, gamma=10, kernel=rbf;, score=0.829 total time=   0.1s\n",
            "[CV 5/5] END .......C=100, gamma=10, kernel=rbf;, score=0.783 total time=   0.1s\n",
            "Selected Kernel:  rbf\n",
            "Selected C:  10\n",
            "Selected Gamma:  0.1\n",
            "Best Score : 0.8341666666666667\n",
            "best estimator: SVC(C=10, gamma=0.1)\n"
          ]
        }
      ]
    },
    {
      "cell_type": "markdown",
      "source": [
        "# K-Fold Cross Validation dengan Hyperparameter Tunning"
      ],
      "metadata": {
        "id": "G2fZwJyTwy03"
      }
    },
    {
      "cell_type": "code",
      "source": [
        "cross_val_score_linear= cross_val_score(model_looks_linear_HT, x_satisfaction_train_vectorized, y_satisfaction_train, scoring='accuracy', cv=5)\n",
        "print(\"Accuracy Score Linear of : %0.4f\" % cross_val_score_linear.mean(), cross_val_score_linear.std())\n",
        "\n",
        "cross_val_score_poly = cross_val_score(model_looks_poly_HT, x_satisfaction_train_vectorized, y_satisfaction_train, scoring='accuracy', cv=5)\n",
        "print(\"Accuracy Score poly of : %0.4f\" % cross_val_score_poly.mean(), cross_val_score_poly.std())\n",
        "\n",
        "cross_val_score_rbf = cross_val_score(model_looks_rbf_HT, x_satisfaction_train_vectorized, y_satisfaction_train, scoring='accuracy', cv=5)\n",
        "print(\"Accuracy Score rbf of : %0.4f\" % cross_val_score_rbf.mean(), cross_val_score_rbf.std())"
      ],
      "metadata": {
        "colab": {
          "base_uri": "https://localhost:8080/"
        },
        "id": "oJO4xRGdxBej",
        "outputId": "7c53274c-59e5-4e2b-d326-6979a0a26e93"
      },
      "execution_count": null,
      "outputs": [
        {
          "output_type": "stream",
          "name": "stdout",
          "text": [
            "Accuracy Score Linear of : 0.7833 0.015590239111558088\n",
            "Accuracy Score poly of : 0.7725 0.021666666666666667\n",
            "Accuracy Score rbf of : 0.8342 0.008498365855987969\n"
          ]
        }
      ]
    },
    {
      "cell_type": "markdown",
      "source": [
        "# Visualisasi Pengaruh Hyperparameter Tunning pada Model Klasifikasi SVM di Aspek Efficiency"
      ],
      "metadata": {
        "id": "jbBTyNVgx2B6"
      }
    },
    {
      "cell_type": "markdown",
      "source": [
        "Hyperparameter tunning pada aspek efficiency hanya berpengaruh pada kernel RBF dengan kenaikan sebesar 0.0075"
      ],
      "metadata": {
        "id": "LyYmgeYlyw_6"
      }
    },
    {
      "cell_type": "code",
      "source": [
        "import numpy as np\n",
        "from matplotlib.ticker import FormatStrFormatter\n",
        "\n",
        "import matplotlib.pyplot as plt\n",
        "%matplotlib inline\n",
        "\n",
        "\n",
        "name = ['Linear', 'RBF', 'Polynomial']\n",
        "before_HT = [cv_linear.mean(), cv_rbf.mean(), cv_poly.mean()]\n",
        "after_HT = [cross_val_score_linear.mean(), cross_val_score_rbf.mean(), cross_val_score_poly.mean()]\n",
        "diff_linear = ((cross_val_score_linear.mean()-cv_linear.mean()))\n",
        "diff_rbf = ((cross_val_score_rbf.mean()-cv_rbf.mean()))\n",
        "diff_poly = ((cross_val_score_poly.mean()-cv_poly.mean()))\n",
        "diff_HT = [diff_linear, diff_rbf, diff_poly]\n",
        "\n",
        "x = np.arange(len(name))\n",
        "width = 0.2\n",
        "\n",
        "fig, ax = plt.subplots(figsize=(14, 7))\n",
        "\n",
        "bfr = ax.bar(x - width/2, before_HT, width, label='Before', color='steelblue')\n",
        "aftr = ax.bar(x + width/2, after_HT, width, label='After', color='orange')\n",
        "diff = ax.bar(x + 0.3, diff_HT, width, label='Diffrenciate', color='cyan')\n",
        "\n",
        "ax.set_title('Hasil Hyperparameter Aspek Satisfaction', size=16)\n",
        "ax.set_ylabel('Accuracy', size=14)\n",
        "ax.set_xticks(x)\n",
        "ax.set_xticklabels(name, size=14)\n",
        "ax.legend(fontsize=14)\n",
        "ax.legend(bbox_to_anchor=(1.02, 1), loc='upper left', borderaxespad=0)\n",
        "ax.yaxis.set_major_formatter(FormatStrFormatter(\"%0.2f\"))\n",
        "for p in ax.patches:\n",
        "    h = p.get_height()\n",
        "    x = p.get_x()+p.get_width()/2\n",
        "    if h!= 0:\n",
        "      ax.annotate(\"%g\" % p.get_height(), xy=(x,h), xytext=(0,5), textcoords=\"offset points\",\n",
        "                  ha=\"center\", fontsize=10)\n",
        "\n",
        "plt.show()"
      ],
      "metadata": {
        "colab": {
          "base_uri": "https://localhost:8080/"
        },
        "id": "jqZN4Uh4xyBG",
        "outputId": "a3247ee8-2d16-4f05-859b-0f98c9817efa"
      },
      "execution_count": null,
      "outputs": [
        {
          "output_type": "display_data",
          "data": {
            "text/plain": [
              "<Figure size 1400x700 with 1 Axes>"
            ],
            "image/png": "[encoded data removed]"
          },
          "metadata": {}
        }
      ]
    },
    {
      "cell_type": "markdown",
      "source": [
        "# Validasi Model Hyperparameter Tunning Data Test Linear Kernel"
      ],
      "metadata": {
        "id": "etunappIXY1I"
      }
    },
    {
      "cell_type": "code",
      "source": [
        "grid_predictions = model_looks_linear_HT.predict(x_satisfaction_test_vectorized)\n",
        "\n",
        "print(\"F1-SCORE \",f1(y_satisfaction_test,grid_predictions,average='macro') * 100)\n",
        "print(\"ACCURACY \",acc(y_satisfaction_test,grid_predictions) * 100)\n",
        "print(\"PRECISION \",prec(y_satisfaction_test,grid_predictions,average='macro') * 100)\n",
        "print(\"RECALL\",recall(y_satisfaction_test,grid_predictions,average='macro') * 100)\n",
        "\n",
        "print('Confusion Matrix : \\n', confusion_matrix(y_satisfaction_test, grid_predictions))\n",
        "print('Report Hasil : \\n',classification_report(y_satisfaction_test, grid_predictions))"
      ],
      "metadata": {
        "id": "1SX832YjgWJ9",
        "colab": {
          "base_uri": "https://localhost:8080/"
        },
        "outputId": "0f780c51-53fe-4f4f-b7a1-ed06dc1003b0"
      },
      "execution_count": null,
      "outputs": [
        {
          "output_type": "stream",
          "name": "stdout",
          "text": [
            "F1-SCORE  77.02392215164211\n",
            "ACCURACY  83.0\n",
            "PRECISION  82.9082359646623\n",
            "RECALL 74.59662388838596\n",
            "Confusion Matrix : \n",
            " [[201  10]\n",
            " [ 41  48]]\n",
            "Report Hasil : \n",
            "               precision    recall  f1-score   support\n",
            "\n",
            "           0       0.83      0.95      0.89       211\n",
            "           1       0.83      0.54      0.65        89\n",
            "\n",
            "    accuracy                           0.83       300\n",
            "   macro avg       0.83      0.75      0.77       300\n",
            "weighted avg       0.83      0.83      0.82       300\n",
            "\n"
          ]
        }
      ]
    },
    {
      "cell_type": "markdown",
      "source": [
        "# Validasi Model Hyperparameter Tunning Data Test Polynomial Kernel"
      ],
      "metadata": {
        "id": "3XcZdCfngpWK"
      }
    },
    {
      "cell_type": "code",
      "source": [
        "grid_predictions = model_looks_poly_HT.predict(x_satisfaction_test_vectorized)\n",
        "\n",
        "print(\"F1-SCORE \",f1(y_satisfaction_test,grid_predictions,average='macro') * 100)\n",
        "print(\"ACCURACY \",acc(y_satisfaction_test,grid_predictions) * 100)\n",
        "print(\"PRECISION \",prec(y_satisfaction_test,grid_predictions,average='macro') * 100)\n",
        "print(\"RECALL\",recall(y_satisfaction_test,grid_predictions,average='macro') * 100)\n",
        "\n",
        "print('Confusion Matrix : \\n', confusion_matrix(y_satisfaction_test, grid_predictions))\n",
        "print('Report Hasil : \\n',classification_report(y_satisfaction_test, grid_predictions))"
      ],
      "metadata": {
        "id": "9cU2FkyXgvQ4",
        "colab": {
          "base_uri": "https://localhost:8080/"
        },
        "outputId": "04c4aca8-fb20-45cd-bc77-06b962db8edc"
      },
      "execution_count": null,
      "outputs": [
        {
          "output_type": "stream",
          "name": "stdout",
          "text": [
            "F1-SCORE  77.77112137598334\n",
            "ACCURACY  84.33333333333334\n",
            "PRECISION  88.14484126984127\n",
            "RECALL 74.56999840247084\n",
            "Confusion Matrix : \n",
            " [[208   3]\n",
            " [ 44  45]]\n",
            "Report Hasil : \n",
            "               precision    recall  f1-score   support\n",
            "\n",
            "           0       0.83      0.99      0.90       211\n",
            "           1       0.94      0.51      0.66        89\n",
            "\n",
            "    accuracy                           0.84       300\n",
            "   macro avg       0.88      0.75      0.78       300\n",
            "weighted avg       0.86      0.84      0.83       300\n",
            "\n"
          ]
        }
      ]
    },
    {
      "cell_type": "markdown",
      "source": [
        "# Validasi Model Hyperparameter Tunning Data Test RBF Kernel"
      ],
      "metadata": {
        "id": "M3RUXP32g0gX"
      }
    },
    {
      "cell_type": "code",
      "source": [
        "grid_predictions = model_looks_rbf_HT.predict(x_satisfaction_test_vectorized)\n",
        "\n",
        "print(\"F1-SCORE \",f1(y_satisfaction_test,grid_predictions,average='macro') * 100)\n",
        "print(\"ACCURACY \",acc(y_satisfaction_test,grid_predictions) * 100)\n",
        "print(\"PRECISION \",prec(y_satisfaction_test,grid_predictions,average='macro') * 100)\n",
        "print(\"RECALL\",recall(y_satisfaction_test,grid_predictions,average='macro') * 100)\n",
        "\n",
        "print('Confusion Matrix : \\n', confusion_matrix(y_satisfaction_test, grid_predictions))\n",
        "print('Report Hasil : \\n',classification_report(y_satisfaction_test, grid_predictions))"
      ],
      "metadata": {
        "id": "QL1_wrr0g6M9",
        "colab": {
          "base_uri": "https://localhost:8080/"
        },
        "outputId": "9237d99e-dc83-428c-edda-16e0ece707e6"
      },
      "execution_count": null,
      "outputs": [
        {
          "output_type": "stream",
          "name": "stdout",
          "text": [
            "F1-SCORE  85.5421686746988\n",
            "ACCURACY  87.66666666666667\n",
            "PRECISION  84.86519607843137\n",
            "RECALL 86.35976356568507\n",
            "Confusion Matrix : \n",
            " [[189  22]\n",
            " [ 15  74]]\n",
            "Report Hasil : \n",
            "               precision    recall  f1-score   support\n",
            "\n",
            "           0       0.93      0.90      0.91       211\n",
            "           1       0.77      0.83      0.80        89\n",
            "\n",
            "    accuracy                           0.88       300\n",
            "   macro avg       0.85      0.86      0.86       300\n",
            "weighted avg       0.88      0.88      0.88       300\n",
            "\n"
          ]
        }
      ]
    },
    {
      "cell_type": "markdown",
      "source": [
        "# Validasi Model Hyperparameter Tunning Data Train Linear Kernel"
      ],
      "metadata": {
        "id": "yzCHI6ADhFUC"
      }
    },
    {
      "cell_type": "code",
      "source": [
        "grid_predictions = model_looks_linear_HT.predict(x_satisfaction_train_vectorized)\n",
        "\n",
        "print(\"F1-SCORE \",f1(y_satisfaction_train,grid_predictions,average='macro') * 100)\n",
        "print(\"ACCURACY \",acc(y_satisfaction_train,grid_predictions) * 100)\n",
        "print(\"PRECISION \",prec(y_satisfaction_train,grid_predictions,average='macro') * 100)\n",
        "print(\"RECALL\",recall(y_satisfaction_train,grid_predictions,average='macro') * 100)\n",
        "\n",
        "print('Confusion Matrix : \\n', confusion_matrix(y_satisfaction_train, grid_predictions))\n",
        "print('Report Hasil : \\n',classification_report(y_satisfaction_train, grid_predictions))"
      ],
      "metadata": {
        "id": "-j-5F5t-hLPk",
        "colab": {
          "base_uri": "https://localhost:8080/"
        },
        "outputId": "f28c94d7-db2e-4ecd-97e9-df05862e21a0"
      },
      "execution_count": null,
      "outputs": [
        {
          "output_type": "stream",
          "name": "stdout",
          "text": [
            "F1-SCORE  87.09528066533187\n",
            "ACCURACY  89.08333333333334\n",
            "PRECISION  91.81017030760421\n",
            "RECALL 84.91240146687947\n",
            "Confusion Matrix : \n",
            " [[770   8]\n",
            " [123 299]]\n",
            "Report Hasil : \n",
            "               precision    recall  f1-score   support\n",
            "\n",
            "           0       0.86      0.99      0.92       778\n",
            "           1       0.97      0.71      0.82       422\n",
            "\n",
            "    accuracy                           0.89      1200\n",
            "   macro avg       0.92      0.85      0.87      1200\n",
            "weighted avg       0.90      0.89      0.89      1200\n",
            "\n"
          ]
        }
      ]
    },
    {
      "cell_type": "markdown",
      "source": [
        "# Validasi Model Hyperparameter Tunning Data Train Polynomial Kernel"
      ],
      "metadata": {
        "id": "uq3dIbWNhOP0"
      }
    },
    {
      "cell_type": "code",
      "source": [
        "grid_predictions = model_looks_poly_HT.predict(x_satisfaction_train_vectorized)\n",
        "\n",
        "print(\"F1-SCORE \",f1(y_satisfaction_train,grid_predictions,average='macro') * 100)\n",
        "print(\"ACCURACY \",acc(y_satisfaction_train,grid_predictions) * 100)\n",
        "print(\"PRECISION \",prec(y_satisfaction_train,grid_predictions,average='macro') * 100)\n",
        "print(\"RECALL\",recall(y_satisfaction_train,grid_predictions,average='macro') * 100)\n",
        "\n",
        "print('Confusion Matrix : \\n', confusion_matrix(y_satisfaction_train, grid_predictions))\n",
        "print('Report Hasil : \\n',classification_report(y_satisfaction_train, grid_predictions))"
      ],
      "metadata": {
        "id": "RBrSYY-xhTBf",
        "colab": {
          "base_uri": "https://localhost:8080/"
        },
        "outputId": "e800a8dc-c888-4500-f388-35bf0557a09d"
      },
      "execution_count": null,
      "outputs": [
        {
          "output_type": "stream",
          "name": "stdout",
          "text": [
            "F1-SCORE  92.74356787310155\n",
            "ACCURACY  93.66666666666667\n",
            "PRECISION  95.36134453781513\n",
            "RECALL 91.10369278378147\n",
            "Confusion Matrix : \n",
            " [[776   2]\n",
            " [ 74 348]]\n",
            "Report Hasil : \n",
            "               precision    recall  f1-score   support\n",
            "\n",
            "           0       0.91      1.00      0.95       778\n",
            "           1       0.99      0.82      0.90       422\n",
            "\n",
            "    accuracy                           0.94      1200\n",
            "   macro avg       0.95      0.91      0.93      1200\n",
            "weighted avg       0.94      0.94      0.94      1200\n",
            "\n"
          ]
        }
      ]
    },
    {
      "cell_type": "markdown",
      "source": [
        "# Validasi Model Hyperparameter Tunning Data Train RBF Kernel"
      ],
      "metadata": {
        "id": "0vuHbN70hYYn"
      }
    },
    {
      "cell_type": "code",
      "source": [
        "grid_predictions = model_looks_rbf_HT.predict(x_satisfaction_train_vectorized)\n",
        "\n",
        "print(\"F1-SCORE \",f1(y_satisfaction_train,grid_predictions,average='macro') * 100)\n",
        "print(\"ACCURACY \",acc(y_satisfaction_train,grid_predictions) * 100)\n",
        "print(\"PRECISION \",prec(y_satisfaction_train,grid_predictions,average='macro') * 100)\n",
        "print(\"RECALL\",recall(y_satisfaction_train,grid_predictions,average='macro') * 100)\n",
        "\n",
        "print('Confusion Matrix : \\n', confusion_matrix(y_satisfaction_train, grid_predictions))\n",
        "print('Report Hasil : \\n',classification_report(y_satisfaction_train, grid_predictions))"
      ],
      "metadata": {
        "id": "y54Zoj-MhcAL",
        "colab": {
          "base_uri": "https://localhost:8080/"
        },
        "outputId": "e768cfdd-28f4-4dff-bcd5-8acdf6c09029"
      },
      "execution_count": null,
      "outputs": [
        {
          "output_type": "stream",
          "name": "stdout",
          "text": [
            "F1-SCORE  95.75911789652248\n",
            "ACCURACY  96.16666666666667\n",
            "PRECISION  96.20056830167141\n",
            "RECALL 95.36300393523312\n",
            "Confusion Matrix : \n",
            " [[763  15]\n",
            " [ 31 391]]\n",
            "Report Hasil : \n",
            "               precision    recall  f1-score   support\n",
            "\n",
            "           0       0.96      0.98      0.97       778\n",
            "           1       0.96      0.93      0.94       422\n",
            "\n",
            "    accuracy                           0.96      1200\n",
            "   macro avg       0.96      0.95      0.96      1200\n",
            "weighted avg       0.96      0.96      0.96      1200\n",
            "\n"
          ]
        }
      ]
    }
  ]
}