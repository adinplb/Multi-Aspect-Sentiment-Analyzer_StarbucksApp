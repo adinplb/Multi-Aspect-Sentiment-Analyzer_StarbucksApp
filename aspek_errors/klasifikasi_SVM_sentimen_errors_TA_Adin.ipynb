{
  "nbformat": 4,
  "nbformat_minor": 0,
  "metadata": {
    "colab": {
      "provenance": [],
      "collapsed_sections": [
        "N45e1Bwvi7FE",
        "9upZEhtNjnt5",
        "ApTaQveGDQwx",
        "l1EYsNnglNjG",
        "l4vpa9onlh-7",
        "fV9hWKimmNIp",
        "1_8D4d0dmxPK",
        "HKx1ffInoUaV",
        "mb_UuPtBpWIU",
        "QqXpuoiestXe",
        "In2GZfOSu1Pc",
        "g4P8YglHvlpA",
        "G2fZwJyTwy03",
        "jbBTyNVgx2B6",
        "etunappIXY1I",
        "3XcZdCfngpWK",
        "M3RUXP32g0gX",
        "yzCHI6ADhFUC",
        "uq3dIbWNhOP0",
        "0vuHbN70hYYn"
      ]
    },
    "kernelspec": {
      "name": "python3",
      "display_name": "Python 3"
    },
    "language_info": {
      "name": "python"
    }
  },
  "cells": [
    {
      "cell_type": "markdown",
      "source": [
        "# Install & Import Package"
      ],
      "metadata": {
        "id": "N45e1Bwvi7FE"
      }
    },
    {
      "cell_type": "code",
      "source": [
        "!pip install Sastrawi"
      ],
      "metadata": {
        "colab": {
          "base_uri": "https://localhost:8080/"
        },
        "id": "BYNo887FjXnC",
        "outputId": "7c93c897-e9f3-4bbd-caa7-7a85d762be26"
      },
      "execution_count": null,
      "outputs": [
        {
          "output_type": "stream",
          "name": "stdout",
          "text": [
            "Looking in indexes: https://pypi.org/simple, https://us-python.pkg.dev/colab-wheels/public/simple/\n",
            "Collecting Sastrawi\n",
            "  Downloading Sastrawi-1.0.1-py2.py3-none-any.whl (209 kB)\n",
            "\u001b[2K     \u001b[90m━━━━━━━━━━━━━━━━━━━━━━━━━━━━━━━━━━━━━━━\u001b[0m \u001b[32m209.7/209.7 kB\u001b[0m \u001b[31m4.5 MB/s\u001b[0m eta \u001b[36m0:00:00\u001b[0m\n",
            "\u001b[?25hInstalling collected packages: Sastrawi\n",
            "Successfully installed Sastrawi-1.0.1\n"
          ]
        }
      ]
    },
    {
      "cell_type": "code",
      "execution_count": null,
      "metadata": {
        "id": "ER9s6ALUivQT"
      },
      "outputs": [],
      "source": [
        "# LIBRARY UNTUK MENGOLAH DATA\n",
        "import pandas as pd\n",
        "import numpy as np\n",
        "import re,string #import regular expression\n",
        "import Sastrawi\n",
        "import joblib\n",
        "\n",
        "import matplotlib.pyplot as plt\n",
        "import seaborn as sns\n",
        "sns.set()\n",
        "import matplotlib as mpl\n",
        "\n",
        "#Library Untuk Split Data\n",
        "from sklearn import model_selection\n",
        "from sklearn.model_selection import train_test_split\n",
        "\n",
        "#Library Ekstraksi Fitur TFIDF\n",
        "from sklearn.feature_extraction.text import TfidfVectorizer\n",
        "from sklearn.preprocessing import OneHotEncoder\n",
        "\n",
        "#Library Klasifikasi Support Vector Machine\n",
        "from sklearn.svm import SVC\n",
        "from sklearn import svm\n",
        "from sklearn.metrics import f1_score as f1\n",
        "from sklearn .metrics import accuracy_score as acc\n",
        "from sklearn.metrics import precision_score as prec\n",
        "from sklearn.metrics import recall_score as recall\n",
        "from sklearn.metrics import confusion_matrix\n",
        "from sklearn.metrics import classification_report\n",
        "from sklearn import metrics\n",
        "\n",
        "\n",
        "#Library HyperParameter Tuning\n",
        "from sklearn.model_selection import cross_val_score\n",
        "from sklearn.model_selection import GridSearchCV\n",
        "import timeit\n",
        "\n",
        "import warnings\n",
        "warnings.filterwarnings('ignore')"
      ]
    },
    {
      "cell_type": "markdown",
      "source": [
        "# Import Dataset \"Hasil Prepro Sentimen BerAspek Errors"
      ],
      "metadata": {
        "id": "9upZEhtNjnt5"
      }
    },
    {
      "cell_type": "code",
      "source": [
        "from google.colab import drive\n",
        "drive.mount('/content/drive')"
      ],
      "metadata": {
        "colab": {
          "base_uri": "https://localhost:8080/"
        },
        "id": "R6_YIr8_jwrt",
        "outputId": "0d5f2eeb-81c9-4983-f828-5ea9ae11654e"
      },
      "execution_count": null,
      "outputs": [
        {
          "output_type": "stream",
          "name": "stdout",
          "text": [
            "Mounted at /content/drive\n"
          ]
        }
      ]
    },
    {
      "cell_type": "code",
      "source": [
        "ulasan_sentimen_errors = pd.read_csv(\"/content/drive/MyDrive/TA_ADIN_ASBA_STARBUCKS_APP/hasil_prepro_sentimen_errors_starbucks_app.csv\")\n",
        "ulasan_sentimen_errors.shape"
      ],
      "metadata": {
        "colab": {
          "base_uri": "https://localhost:8080/"
        },
        "id": "4o7btSJojmvd",
        "outputId": "445ddf34-c3f0-41f8-ee7d-fcdd557143d7"
      },
      "execution_count": null,
      "outputs": [
        {
          "output_type": "execute_result",
          "data": {
            "text/plain": [
              "(1500, 3)"
            ]
          },
          "metadata": {},
          "execution_count": 4
        }
      ]
    },
    {
      "cell_type": "code",
      "source": [
        "ulasan_sentimen_errors['Errors'].value_counts()"
      ],
      "metadata": {
        "colab": {
          "base_uri": "https://localhost:8080/"
        },
        "id": "MYG9OAm_kzbP",
        "outputId": "1d4086f8-fece-4d94-867a-8b25483ed8b2"
      },
      "execution_count": null,
      "outputs": [
        {
          "output_type": "execute_result",
          "data": {
            "text/plain": [
              "-1    793\n",
              " 0    662\n",
              " 1     45\n",
              "Name: Errors, dtype: int64"
            ]
          },
          "metadata": {},
          "execution_count": 5
        }
      ]
    },
    {
      "cell_type": "code",
      "source": [
        "#detect missing values\n",
        "ulasan_sentimen_errors.isna().sum()"
      ],
      "metadata": {
        "colab": {
          "base_uri": "https://localhost:8080/"
        },
        "id": "-kCzND0sk3ls",
        "outputId": "4ccc5b89-7a60-42c7-b032-9a1b09eda8fc"
      },
      "execution_count": null,
      "outputs": [
        {
          "output_type": "execute_result",
          "data": {
            "text/plain": [
              "Ulasan      0\n",
              "stemming    0\n",
              "Errors      0\n",
              "dtype: int64"
            ]
          },
          "metadata": {},
          "execution_count": 6
        }
      ]
    },
    {
      "cell_type": "markdown",
      "source": [
        "# Inisialisasi Data"
      ],
      "metadata": {
        "id": "l1EYsNnglNjG"
      }
    },
    {
      "cell_type": "code",
      "source": [
        "x_errors = ulasan_sentimen_errors['stemming'] #hasil stemming\n",
        "y_errors = ulasan_sentimen_errors['Errors'].values #labelnya"
      ],
      "metadata": {
        "id": "I_oVSzANlM7-"
      },
      "execution_count": null,
      "outputs": []
    },
    {
      "cell_type": "markdown",
      "source": [
        "# Split Data"
      ],
      "metadata": {
        "id": "l4vpa9onlh-7"
      }
    },
    {
      "cell_type": "code",
      "source": [
        "from sklearn.model_selection import train_test_split\n",
        "\n",
        "#Perbandingan data train dan data test sebesar 8:2\n",
        "x_errors_train, x_errors_test, y_errors_train, y_errors_test = train_test_split(\n",
        "    ulasan_sentimen_errors['stemming'],\n",
        "    ulasan_sentimen_errors['Errors'],\n",
        "    test_size=0.2)\n",
        "\n",
        "train_df = pd.DataFrame()\n",
        "train_df['Ulasan'] = x_errors_train\n",
        "train_df['sentiment'] = y_errors_train\n",
        "test_df = pd.DataFrame()\n",
        "test_df['Ulasan'] = x_errors_test\n",
        "test_df['sentiment'] = y_errors_test"
      ],
      "metadata": {
        "id": "Jdez-gT0lhEC"
      },
      "execution_count": null,
      "outputs": []
    },
    {
      "cell_type": "markdown",
      "source": [
        "# Feature TF-IDF \"x_errors\""
      ],
      "metadata": {
        "id": "fV9hWKimmNIp"
      }
    },
    {
      "cell_type": "code",
      "source": [
        "#merubah nilai x_errors menjadi sebuah angka bukan teks\n",
        "tfidf_vect = TfidfVectorizer(use_idf=True)\n",
        "tfidf_vect.fit(x_errors_train)\n",
        "x_errors_train_vectorized = tfidf_vect.transform(x_errors_train)\n",
        "x_errors_test_vectorized = tfidf_vect.transform(x_errors_test)"
      ],
      "metadata": {
        "id": "e7oO9WQMmiTr"
      },
      "execution_count": null,
      "outputs": []
    },
    {
      "cell_type": "code",
      "source": [
        "print (x_errors_train_vectorized)"
      ],
      "metadata": {
        "colab": {
          "base_uri": "https://localhost:8080/"
        },
        "id": "ZK81udifmlx4",
        "outputId": "a56415f4-e4b2-4c65-f9a3-83195db3ba6c"
      },
      "execution_count": null,
      "outputs": [
        {
          "output_type": "stream",
          "name": "stdout",
          "text": [
            "  (0, 92)\t1.0\n",
            "  (1, 1452)\t0.3311381285825896\n",
            "  (1, 1395)\t0.3022248495498387\n",
            "  (1, 1271)\t0.2723577973042946\n",
            "  (1, 1238)\t0.2772817957534467\n",
            "  (1, 1031)\t0.41244876755766857\n",
            "  (1, 435)\t0.43014614586699546\n",
            "  (1, 421)\t0.4550891996633875\n",
            "  (1, 252)\t0.2927419406070155\n",
            "  (2, 1406)\t0.4849527149638561\n",
            "  (2, 1176)\t0.2954773696236887\n",
            "  (2, 903)\t0.41293431725370944\n",
            "  (2, 708)\t0.32205721741396126\n",
            "  (2, 497)\t0.43951416504398205\n",
            "  (2, 232)\t0.4583728671735835\n",
            "  (3, 1411)\t0.25406355916426615\n",
            "  (3, 856)\t0.5650494599040521\n",
            "  (3, 654)\t0.24748430296300608\n",
            "  (3, 340)\t0.28252472995202604\n",
            "  (3, 316)\t0.30825382804415397\n",
            "  (3, 17)\t0.6165076560883079\n",
            "  (4, 92)\t1.0\n",
            "  (5, 1397)\t0.5522033864595846\n",
            "  (5, 158)\t0.8337094337852768\n",
            "  (6, 675)\t0.8822699235970477\n",
            "  :\t:\n",
            "  (1196, 879)\t0.6371330981991912\n",
            "  (1196, 220)\t0.3487329719300861\n",
            "  (1196, 66)\t0.6873476045407517\n",
            "  (1197, 1178)\t0.48415428424421075\n",
            "  (1197, 1029)\t0.48415428424421075\n",
            "  (1197, 849)\t0.21300251509644239\n",
            "  (1197, 636)\t0.35228685661724174\n",
            "  (1197, 530)\t0.3568021669794913\n",
            "  (1197, 423)\t0.48415428424421075\n",
            "  (1198, 1426)\t0.15055217561231887\n",
            "  (1198, 1374)\t0.30029235326856024\n",
            "  (1198, 1369)\t0.30029235326856024\n",
            "  (1198, 1129)\t0.30029235326856024\n",
            "  (1198, 849)\t0.13211289994114628\n",
            "  (1198, 828)\t0.30029235326856024\n",
            "  (1198, 767)\t0.26309798606781365\n",
            "  (1198, 647)\t0.28383358358612637\n",
            "  (1198, 409)\t0.30029235326856024\n",
            "  (1198, 371)\t0.30029235326856024\n",
            "  (1198, 289)\t0.30029235326856024\n",
            "  (1198, 113)\t0.24401944804081285\n",
            "  (1198, 105)\t0.1399022012608399\n",
            "  (1198, 53)\t0.09785741796576572\n",
            "  (1198, 3)\t0.30029235326856024\n",
            "  (1199, 901)\t1.0\n"
          ]
        }
      ]
    },
    {
      "cell_type": "markdown",
      "source": [
        "# Klasifikasi SVM dengan K-Fold Cross Validation Menggunakan Kernel Linear"
      ],
      "metadata": {
        "id": "1_8D4d0dmxPK"
      }
    },
    {
      "cell_type": "markdown",
      "source": [
        "Kernel Linear memiliki akurasi paling tinggi sebesar 0.9208 (Tanpa Hyperparamater Tunning)"
      ],
      "metadata": {
        "id": "EwMyhi3qrKdz"
      }
    },
    {
      "cell_type": "code",
      "source": [
        "#Membuat Model dg Kernel Linear\n",
        "clf_linear = SVC(kernel='linear')\n",
        "\n",
        "#Evaluasi dg K-Fold Cross Validation\n",
        "#Menggunakan Data Train untuk Melatih Model\n",
        "cv_linear = cross_val_score(clf_linear, x_errors_train_vectorized, y_errors_train, scoring='accuracy', cv=5)\n",
        "\n",
        "#Hasil Setelah dilakukan 5x Fold (cv=5)\n",
        "print(\"Accuracy Score Linear of : %0.4f\" % (cv_linear.mean()))"
      ],
      "metadata": {
        "colab": {
          "base_uri": "https://localhost:8080/"
        },
        "id": "5hGtLQs7mwRZ",
        "outputId": "34ec04e2-4b7f-46ef-c7ae-b6a0bfbbcd96"
      },
      "execution_count": null,
      "outputs": [
        {
          "output_type": "stream",
          "name": "stdout",
          "text": [
            "Accuracy Score Linear of : 0.8500\n"
          ]
        }
      ]
    },
    {
      "cell_type": "markdown",
      "source": [
        "# Klasifikasi SVM dengan K-Fold Cross Validation Menggunakan Kernel Polynomial"
      ],
      "metadata": {
        "id": "HKx1ffInoUaV"
      }
    },
    {
      "cell_type": "code",
      "source": [
        "#Membuat Model dg Kernel Polynomial\n",
        "clf_poly = SVC(kernel='poly')\n",
        "\n",
        "#Evaluasi dg K-Fold Cross Validation\n",
        "#Menggunakan Data Train untuk Melatih Model\n",
        "cv_poly = cross_val_score(clf_poly, x_errors_train_vectorized, y_errors_train, scoring='accuracy', cv=5)\n",
        "\n",
        "#Hasil Setelah 5lipatan/fold (nilai cv=5)\n",
        "print(\"Accuracy Score Poly of : %0.4f\" % (cv_poly.mean()))"
      ],
      "metadata": {
        "colab": {
          "base_uri": "https://localhost:8080/"
        },
        "id": "ROq8aEcaoZDw",
        "outputId": "1578280c-823b-43ca-a08b-a587ab5dfff3"
      },
      "execution_count": null,
      "outputs": [
        {
          "output_type": "stream",
          "name": "stdout",
          "text": [
            "Accuracy Score Poly of : 0.7300\n"
          ]
        }
      ]
    },
    {
      "cell_type": "markdown",
      "source": [
        "# Klasifikasi SVM dengan K-Fold Cross Validation Menggunakan Kernel RBF"
      ],
      "metadata": {
        "id": "mb_UuPtBpWIU"
      }
    },
    {
      "cell_type": "code",
      "source": [
        "#Membuat Model dg Kernel rbf\n",
        "clf_rbf = SVC(kernel='rbf')\n",
        "\n",
        "#Evaluasi dg K-Fold Cross Validation\n",
        "#Menggunakan Data Train untuk Melatih Model\n",
        "cv_rbf= cross_val_score(clf_rbf, x_errors_train_vectorized, y_errors_train, scoring='accuracy', cv=5)\n",
        "\n",
        "#Hasil Setelah 5lipatan/fold (nilai cv=5)\n",
        "print(\"Accuracy Score RBF of : %0.4f\" % (cv_rbf.mean()))"
      ],
      "metadata": {
        "colab": {
          "base_uri": "https://localhost:8080/"
        },
        "id": "l59CuVryqfWY",
        "outputId": "7b058432-e2d8-4ee8-93c6-18eec4b85390"
      },
      "execution_count": null,
      "outputs": [
        {
          "output_type": "stream",
          "name": "stdout",
          "text": [
            "Accuracy Score RBF of : 0.8367\n"
          ]
        }
      ]
    },
    {
      "cell_type": "markdown",
      "source": [
        "# Klasifikasi SVM (Hyperparameter Tunning) Menggunakan Kernel Linear"
      ],
      "metadata": {
        "id": "QqXpuoiestXe"
      }
    },
    {
      "cell_type": "code",
      "source": [
        "#Tuning Parameter with GridSearchCV\n",
        "#LINEAR KERNEL\n",
        "\n",
        "param_grid = {'C': [0.1, 1, 10, 100],\n",
        "              'kernel': ['linear'],\n",
        "              'gamma' :[0.01, 0.1, 1, 10]\n",
        "             }\n",
        "\n",
        "grid = GridSearchCV(svm.SVC(), param_grid, scoring='accuracy', refit = True, verbose = 3)\n",
        "# fitting the model for grid search\n",
        "grid.fit(x_errors_train_vectorized, y_errors_train)\n",
        "\n",
        "selected_kernel_linear = grid.best_params_['kernel']\n",
        "print(\"Selected Kernel: \", selected_kernel_linear)\n",
        "selected_C_linear = grid.best_params_['C']\n",
        "print(\"Selected C: \", selected_C_linear)\n",
        "selected_gamma_linear= grid.best_params_['gamma']\n",
        "print(\"Selected Gamma: \", selected_gamma_linear)\n",
        "\n",
        "best_params_linear_HT = grid.best_params_\n",
        "model_looks_linear_HT= grid.best_estimator_\n",
        "\n",
        "print(f'Best Score : {grid.best_score_}')\n",
        "print(\"best estimator: %s\" % (model_looks_linear_HT))"
      ],
      "metadata": {
        "colab": {
          "base_uri": "https://localhost:8080/"
        },
        "id": "Xq8iUoJmrpJR",
        "outputId": "28f709cb-961c-4798-c4a1-ffe47e848c53"
      },
      "execution_count": null,
      "outputs": [
        {
          "output_type": "stream",
          "name": "stdout",
          "text": [
            "Fitting 5 folds for each of 16 candidates, totalling 80 fits\n",
            "[CV 1/5] END ..C=0.1, gamma=0.01, kernel=linear;, score=0.721 total time=   0.1s\n",
            "[CV 2/5] END ..C=0.1, gamma=0.01, kernel=linear;, score=0.696 total time=   0.1s\n",
            "[CV 3/5] END ..C=0.1, gamma=0.01, kernel=linear;, score=0.721 total time=   0.1s\n",
            "[CV 4/5] END ..C=0.1, gamma=0.01, kernel=linear;, score=0.671 total time=   0.1s\n",
            "[CV 5/5] END ..C=0.1, gamma=0.01, kernel=linear;, score=0.662 total time=   0.1s\n",
            "[CV 1/5] END ...C=0.1, gamma=0.1, kernel=linear;, score=0.721 total time=   0.1s\n",
            "[CV 2/5] END ...C=0.1, gamma=0.1, kernel=linear;, score=0.696 total time=   0.1s\n",
            "[CV 3/5] END ...C=0.1, gamma=0.1, kernel=linear;, score=0.721 total time=   0.1s\n",
            "[CV 4/5] END ...C=0.1, gamma=0.1, kernel=linear;, score=0.671 total time=   0.1s\n",
            "[CV 5/5] END ...C=0.1, gamma=0.1, kernel=linear;, score=0.662 total time=   0.1s\n",
            "[CV 1/5] END .....C=0.1, gamma=1, kernel=linear;, score=0.721 total time=   0.1s\n",
            "[CV 2/5] END .....C=0.1, gamma=1, kernel=linear;, score=0.696 total time=   0.1s\n",
            "[CV 3/5] END .....C=0.1, gamma=1, kernel=linear;, score=0.721 total time=   0.1s\n",
            "[CV 4/5] END .....C=0.1, gamma=1, kernel=linear;, score=0.671 total time=   0.1s\n",
            "[CV 5/5] END .....C=0.1, gamma=1, kernel=linear;, score=0.662 total time=   0.1s\n",
            "[CV 1/5] END ....C=0.1, gamma=10, kernel=linear;, score=0.721 total time=   0.1s\n",
            "[CV 2/5] END ....C=0.1, gamma=10, kernel=linear;, score=0.696 total time=   0.1s\n",
            "[CV 3/5] END ....C=0.1, gamma=10, kernel=linear;, score=0.721 total time=   0.1s\n",
            "[CV 4/5] END ....C=0.1, gamma=10, kernel=linear;, score=0.671 total time=   0.1s\n",
            "[CV 5/5] END ....C=0.1, gamma=10, kernel=linear;, score=0.662 total time=   0.1s\n",
            "[CV 1/5] END ....C=1, gamma=0.01, kernel=linear;, score=0.846 total time=   0.1s\n",
            "[CV 2/5] END ....C=1, gamma=0.01, kernel=linear;, score=0.850 total time=   0.1s\n",
            "[CV 3/5] END ....C=1, gamma=0.01, kernel=linear;, score=0.850 total time=   0.1s\n",
            "[CV 4/5] END ....C=1, gamma=0.01, kernel=linear;, score=0.838 total time=   0.1s\n",
            "[CV 5/5] END ....C=1, gamma=0.01, kernel=linear;, score=0.867 total time=   0.1s\n",
            "[CV 1/5] END .....C=1, gamma=0.1, kernel=linear;, score=0.846 total time=   0.1s\n",
            "[CV 2/5] END .....C=1, gamma=0.1, kernel=linear;, score=0.850 total time=   0.1s\n",
            "[CV 3/5] END .....C=1, gamma=0.1, kernel=linear;, score=0.850 total time=   0.1s\n",
            "[CV 4/5] END .....C=1, gamma=0.1, kernel=linear;, score=0.838 total time=   0.1s\n",
            "[CV 5/5] END .....C=1, gamma=0.1, kernel=linear;, score=0.867 total time=   0.1s\n",
            "[CV 1/5] END .......C=1, gamma=1, kernel=linear;, score=0.846 total time=   0.1s\n",
            "[CV 2/5] END .......C=1, gamma=1, kernel=linear;, score=0.850 total time=   0.1s\n",
            "[CV 3/5] END .......C=1, gamma=1, kernel=linear;, score=0.850 total time=   0.1s\n",
            "[CV 4/5] END .......C=1, gamma=1, kernel=linear;, score=0.838 total time=   0.1s\n",
            "[CV 5/5] END .......C=1, gamma=1, kernel=linear;, score=0.867 total time=   0.1s\n",
            "[CV 1/5] END ......C=1, gamma=10, kernel=linear;, score=0.846 total time=   0.1s\n",
            "[CV 2/5] END ......C=1, gamma=10, kernel=linear;, score=0.850 total time=   0.1s\n",
            "[CV 3/5] END ......C=1, gamma=10, kernel=linear;, score=0.850 total time=   0.1s\n",
            "[CV 4/5] END ......C=1, gamma=10, kernel=linear;, score=0.838 total time=   0.1s\n",
            "[CV 5/5] END ......C=1, gamma=10, kernel=linear;, score=0.867 total time=   0.1s\n",
            "[CV 1/5] END ...C=10, gamma=0.01, kernel=linear;, score=0.858 total time=   0.1s\n",
            "[CV 2/5] END ...C=10, gamma=0.01, kernel=linear;, score=0.812 total time=   0.1s\n",
            "[CV 3/5] END ...C=10, gamma=0.01, kernel=linear;, score=0.829 total time=   0.1s\n",
            "[CV 4/5] END ...C=10, gamma=0.01, kernel=linear;, score=0.817 total time=   0.1s\n",
            "[CV 5/5] END ...C=10, gamma=0.01, kernel=linear;, score=0.842 total time=   0.1s\n",
            "[CV 1/5] END ....C=10, gamma=0.1, kernel=linear;, score=0.858 total time=   0.1s\n",
            "[CV 2/5] END ....C=10, gamma=0.1, kernel=linear;, score=0.812 total time=   0.1s\n",
            "[CV 3/5] END ....C=10, gamma=0.1, kernel=linear;, score=0.829 total time=   0.1s\n",
            "[CV 4/5] END ....C=10, gamma=0.1, kernel=linear;, score=0.817 total time=   0.1s\n",
            "[CV 5/5] END ....C=10, gamma=0.1, kernel=linear;, score=0.842 total time=   0.1s\n",
            "[CV 1/5] END ......C=10, gamma=1, kernel=linear;, score=0.858 total time=   0.1s\n",
            "[CV 2/5] END ......C=10, gamma=1, kernel=linear;, score=0.812 total time=   0.1s\n",
            "[CV 3/5] END ......C=10, gamma=1, kernel=linear;, score=0.829 total time=   0.1s\n",
            "[CV 4/5] END ......C=10, gamma=1, kernel=linear;, score=0.817 total time=   0.1s\n",
            "[CV 5/5] END ......C=10, gamma=1, kernel=linear;, score=0.842 total time=   0.1s\n",
            "[CV 1/5] END .....C=10, gamma=10, kernel=linear;, score=0.858 total time=   0.1s\n",
            "[CV 2/5] END .....C=10, gamma=10, kernel=linear;, score=0.812 total time=   0.1s\n",
            "[CV 3/5] END .....C=10, gamma=10, kernel=linear;, score=0.829 total time=   0.1s\n",
            "[CV 4/5] END .....C=10, gamma=10, kernel=linear;, score=0.817 total time=   0.1s\n",
            "[CV 5/5] END .....C=10, gamma=10, kernel=linear;, score=0.842 total time=   0.1s\n",
            "[CV 1/5] END ..C=100, gamma=0.01, kernel=linear;, score=0.846 total time=   0.0s\n",
            "[CV 2/5] END ..C=100, gamma=0.01, kernel=linear;, score=0.812 total time=   0.1s\n",
            "[CV 3/5] END ..C=100, gamma=0.01, kernel=linear;, score=0.808 total time=   0.1s\n",
            "[CV 4/5] END ..C=100, gamma=0.01, kernel=linear;, score=0.804 total time=   0.1s\n",
            "[CV 5/5] END ..C=100, gamma=0.01, kernel=linear;, score=0.825 total time=   0.1s\n",
            "[CV 1/5] END ...C=100, gamma=0.1, kernel=linear;, score=0.846 total time=   0.1s\n",
            "[CV 2/5] END ...C=100, gamma=0.1, kernel=linear;, score=0.812 total time=   0.1s\n",
            "[CV 3/5] END ...C=100, gamma=0.1, kernel=linear;, score=0.808 total time=   0.1s\n",
            "[CV 4/5] END ...C=100, gamma=0.1, kernel=linear;, score=0.804 total time=   0.1s\n",
            "[CV 5/5] END ...C=100, gamma=0.1, kernel=linear;, score=0.825 total time=   0.1s\n",
            "[CV 1/5] END .....C=100, gamma=1, kernel=linear;, score=0.846 total time=   0.1s\n",
            "[CV 2/5] END .....C=100, gamma=1, kernel=linear;, score=0.812 total time=   0.1s\n",
            "[CV 3/5] END .....C=100, gamma=1, kernel=linear;, score=0.808 total time=   0.1s\n",
            "[CV 4/5] END .....C=100, gamma=1, kernel=linear;, score=0.804 total time=   0.1s\n",
            "[CV 5/5] END .....C=100, gamma=1, kernel=linear;, score=0.825 total time=   0.1s\n",
            "[CV 1/5] END ....C=100, gamma=10, kernel=linear;, score=0.846 total time=   0.1s\n",
            "[CV 2/5] END ....C=100, gamma=10, kernel=linear;, score=0.812 total time=   0.1s\n",
            "[CV 3/5] END ....C=100, gamma=10, kernel=linear;, score=0.808 total time=   0.1s\n",
            "[CV 4/5] END ....C=100, gamma=10, kernel=linear;, score=0.804 total time=   0.1s\n",
            "[CV 5/5] END ....C=100, gamma=10, kernel=linear;, score=0.825 total time=   0.1s\n",
            "Selected Kernel:  linear\n",
            "Selected C:  1\n",
            "Selected Gamma:  0.01\n",
            "Best Score : 0.85\n",
            "best estimator: SVC(C=1, gamma=0.01, kernel='linear')\n"
          ]
        }
      ]
    },
    {
      "cell_type": "markdown",
      "source": [
        "# Klasifikasi SVM (Hyperparameter Tunning) Menggunakan Kernel Polynomial"
      ],
      "metadata": {
        "id": "In2GZfOSu1Pc"
      }
    },
    {
      "cell_type": "code",
      "source": [
        "#Tuning Parameter with GridSearchCV\n",
        "#Kernel Polynomial\n",
        "\n",
        "param_grid = {'C': [0.1, 1, 10, 100],\n",
        "              'kernel': ['poly'],\n",
        "              'gamma' :[0.01, 0.1, 1, 10]\n",
        "             }\n",
        "\n",
        "grid = GridSearchCV(svm.SVC(), param_grid, scoring='accuracy', refit = True, verbose = 3)\n",
        "# fitting the model for grid search\n",
        "grid.fit(x_errors_train_vectorized, y_errors_train)\n",
        "\n",
        "\n",
        "selected_kernel_poly = grid.best_params_['kernel']\n",
        "print(\"Selected Kernel: \", selected_kernel_poly)\n",
        "selected_C_poly= grid.best_params_['C']\n",
        "print(\"Selected C: \", selected_C_poly)\n",
        "selected_gamma_poly = grid.best_params_['gamma']\n",
        "print(\"Selected Gamma: \", selected_gamma_poly)\n",
        "\n",
        "\n",
        "best_params_poly_HT = grid.best_params_\n",
        "model_looks_poly_HT= grid.best_estimator_\n",
        "\n",
        "print(f'Best Score : {grid.best_score_}')\n",
        "print(\"best estimator: %s\" % (model_looks_poly_HT))"
      ],
      "metadata": {
        "colab": {
          "base_uri": "https://localhost:8080/"
        },
        "id": "QlbaYx25u5yh",
        "outputId": "87e961b7-4855-4e31-eaef-c2501f5377f9"
      },
      "execution_count": null,
      "outputs": [
        {
          "output_type": "stream",
          "name": "stdout",
          "text": [
            "Fitting 5 folds for each of 16 candidates, totalling 80 fits\n",
            "[CV 1/5] END ....C=0.1, gamma=0.01, kernel=poly;, score=0.537 total time=   0.1s\n",
            "[CV 2/5] END ....C=0.1, gamma=0.01, kernel=poly;, score=0.537 total time=   0.1s\n",
            "[CV 3/5] END ....C=0.1, gamma=0.01, kernel=poly;, score=0.537 total time=   0.1s\n",
            "[CV 4/5] END ....C=0.1, gamma=0.01, kernel=poly;, score=0.537 total time=   0.1s\n",
            "[CV 5/5] END ....C=0.1, gamma=0.01, kernel=poly;, score=0.537 total time=   0.1s\n",
            "[CV 1/5] END .....C=0.1, gamma=0.1, kernel=poly;, score=0.537 total time=   0.1s\n",
            "[CV 2/5] END .....C=0.1, gamma=0.1, kernel=poly;, score=0.537 total time=   0.1s\n",
            "[CV 3/5] END .....C=0.1, gamma=0.1, kernel=poly;, score=0.537 total time=   0.1s\n",
            "[CV 4/5] END .....C=0.1, gamma=0.1, kernel=poly;, score=0.537 total time=   0.1s\n",
            "[CV 5/5] END .....C=0.1, gamma=0.1, kernel=poly;, score=0.537 total time=   0.1s\n",
            "[CV 1/5] END .......C=0.1, gamma=1, kernel=poly;, score=0.629 total time=   0.1s\n",
            "[CV 2/5] END .......C=0.1, gamma=1, kernel=poly;, score=0.592 total time=   0.1s\n",
            "[CV 3/5] END .......C=0.1, gamma=1, kernel=poly;, score=0.608 total time=   0.1s\n",
            "[CV 4/5] END .......C=0.1, gamma=1, kernel=poly;, score=0.613 total time=   0.1s\n",
            "[CV 5/5] END .......C=0.1, gamma=1, kernel=poly;, score=0.600 total time=   0.1s\n",
            "[CV 1/5] END ......C=0.1, gamma=10, kernel=poly;, score=0.554 total time=   0.2s\n",
            "[CV 2/5] END ......C=0.1, gamma=10, kernel=poly;, score=0.525 total time=   0.1s\n",
            "[CV 3/5] END ......C=0.1, gamma=10, kernel=poly;, score=0.588 total time=   0.2s\n",
            "[CV 4/5] END ......C=0.1, gamma=10, kernel=poly;, score=0.550 total time=   0.2s\n",
            "[CV 5/5] END ......C=0.1, gamma=10, kernel=poly;, score=0.546 total time=   0.2s\n",
            "[CV 1/5] END ......C=1, gamma=0.01, kernel=poly;, score=0.537 total time=   0.1s\n",
            "[CV 2/5] END ......C=1, gamma=0.01, kernel=poly;, score=0.537 total time=   0.1s\n",
            "[CV 3/5] END ......C=1, gamma=0.01, kernel=poly;, score=0.537 total time=   0.1s\n",
            "[CV 4/5] END ......C=1, gamma=0.01, kernel=poly;, score=0.537 total time=   0.1s\n",
            "[CV 5/5] END ......C=1, gamma=0.01, kernel=poly;, score=0.537 total time=   0.1s\n",
            "[CV 1/5] END .......C=1, gamma=0.1, kernel=poly;, score=0.537 total time=   0.1s\n",
            "[CV 2/5] END .......C=1, gamma=0.1, kernel=poly;, score=0.537 total time=   0.1s\n",
            "[CV 3/5] END .......C=1, gamma=0.1, kernel=poly;, score=0.537 total time=   0.1s\n",
            "[CV 4/5] END .......C=1, gamma=0.1, kernel=poly;, score=0.537 total time=   0.1s\n",
            "[CV 5/5] END .......C=1, gamma=0.1, kernel=poly;, score=0.537 total time=   0.1s\n",
            "[CV 1/5] END .........C=1, gamma=1, kernel=poly;, score=0.742 total time=   0.1s\n",
            "[CV 2/5] END .........C=1, gamma=1, kernel=poly;, score=0.729 total time=   0.1s\n",
            "[CV 3/5] END .........C=1, gamma=1, kernel=poly;, score=0.750 total time=   0.1s\n",
            "[CV 4/5] END .........C=1, gamma=1, kernel=poly;, score=0.675 total time=   0.1s\n",
            "[CV 5/5] END .........C=1, gamma=1, kernel=poly;, score=0.708 total time=   0.1s\n",
            "[CV 1/5] END ........C=1, gamma=10, kernel=poly;, score=0.554 total time=   0.1s\n",
            "[CV 2/5] END ........C=1, gamma=10, kernel=poly;, score=0.525 total time=   0.1s\n",
            "[CV 3/5] END ........C=1, gamma=10, kernel=poly;, score=0.588 total time=   0.1s\n",
            "[CV 4/5] END ........C=1, gamma=10, kernel=poly;, score=0.550 total time=   0.1s\n",
            "[CV 5/5] END ........C=1, gamma=10, kernel=poly;, score=0.546 total time=   0.1s\n",
            "[CV 1/5] END .....C=10, gamma=0.01, kernel=poly;, score=0.537 total time=   0.1s\n",
            "[CV 2/5] END .....C=10, gamma=0.01, kernel=poly;, score=0.537 total time=   0.1s\n",
            "[CV 3/5] END .....C=10, gamma=0.01, kernel=poly;, score=0.537 total time=   0.1s\n",
            "[CV 4/5] END .....C=10, gamma=0.01, kernel=poly;, score=0.537 total time=   0.1s\n",
            "[CV 5/5] END .....C=10, gamma=0.01, kernel=poly;, score=0.537 total time=   0.1s\n",
            "[CV 1/5] END ......C=10, gamma=0.1, kernel=poly;, score=0.537 total time=   0.1s\n",
            "[CV 2/5] END ......C=10, gamma=0.1, kernel=poly;, score=0.537 total time=   0.1s\n",
            "[CV 3/5] END ......C=10, gamma=0.1, kernel=poly;, score=0.537 total time=   0.1s\n",
            "[CV 4/5] END ......C=10, gamma=0.1, kernel=poly;, score=0.537 total time=   0.1s\n",
            "[CV 5/5] END ......C=10, gamma=0.1, kernel=poly;, score=0.537 total time=   0.1s\n",
            "[CV 1/5] END ........C=10, gamma=1, kernel=poly;, score=0.567 total time=   0.1s\n",
            "[CV 2/5] END ........C=10, gamma=1, kernel=poly;, score=0.529 total time=   0.1s\n",
            "[CV 3/5] END ........C=10, gamma=1, kernel=poly;, score=0.596 total time=   0.1s\n",
            "[CV 4/5] END ........C=10, gamma=1, kernel=poly;, score=0.562 total time=   0.1s\n",
            "[CV 5/5] END ........C=10, gamma=1, kernel=poly;, score=0.567 total time=   0.1s\n",
            "[CV 1/5] END .......C=10, gamma=10, kernel=poly;, score=0.554 total time=   0.1s\n",
            "[CV 2/5] END .......C=10, gamma=10, kernel=poly;, score=0.525 total time=   0.1s\n",
            "[CV 3/5] END .......C=10, gamma=10, kernel=poly;, score=0.588 total time=   0.1s\n",
            "[CV 4/5] END .......C=10, gamma=10, kernel=poly;, score=0.550 total time=   0.1s\n",
            "[CV 5/5] END .......C=10, gamma=10, kernel=poly;, score=0.546 total time=   0.1s\n",
            "[CV 1/5] END ....C=100, gamma=0.01, kernel=poly;, score=0.537 total time=   0.1s\n",
            "[CV 2/5] END ....C=100, gamma=0.01, kernel=poly;, score=0.537 total time=   0.1s\n",
            "[CV 3/5] END ....C=100, gamma=0.01, kernel=poly;, score=0.537 total time=   0.1s\n",
            "[CV 4/5] END ....C=100, gamma=0.01, kernel=poly;, score=0.537 total time=   0.1s\n",
            "[CV 5/5] END ....C=100, gamma=0.01, kernel=poly;, score=0.537 total time=   0.1s\n",
            "[CV 1/5] END .....C=100, gamma=0.1, kernel=poly;, score=0.629 total time=   0.1s\n",
            "[CV 2/5] END .....C=100, gamma=0.1, kernel=poly;, score=0.592 total time=   0.1s\n",
            "[CV 3/5] END .....C=100, gamma=0.1, kernel=poly;, score=0.608 total time=   0.1s\n",
            "[CV 4/5] END .....C=100, gamma=0.1, kernel=poly;, score=0.613 total time=   0.1s\n",
            "[CV 5/5] END .....C=100, gamma=0.1, kernel=poly;, score=0.600 total time=   0.1s\n",
            "[CV 1/5] END .......C=100, gamma=1, kernel=poly;, score=0.554 total time=   0.1s\n",
            "[CV 2/5] END .......C=100, gamma=1, kernel=poly;, score=0.525 total time=   0.1s\n",
            "[CV 3/5] END .......C=100, gamma=1, kernel=poly;, score=0.588 total time=   0.1s\n",
            "[CV 4/5] END .......C=100, gamma=1, kernel=poly;, score=0.550 total time=   0.1s\n",
            "[CV 5/5] END .......C=100, gamma=1, kernel=poly;, score=0.546 total time=   0.1s\n",
            "[CV 1/5] END ......C=100, gamma=10, kernel=poly;, score=0.554 total time=   0.1s\n",
            "[CV 2/5] END ......C=100, gamma=10, kernel=poly;, score=0.525 total time=   0.1s\n",
            "[CV 3/5] END ......C=100, gamma=10, kernel=poly;, score=0.588 total time=   0.1s\n",
            "[CV 4/5] END ......C=100, gamma=10, kernel=poly;, score=0.550 total time=   0.1s\n",
            "[CV 5/5] END ......C=100, gamma=10, kernel=poly;, score=0.546 total time=   0.1s\n",
            "Selected Kernel:  poly\n",
            "Selected C:  1\n",
            "Selected Gamma:  1\n",
            "Best Score : 0.7208333333333333\n",
            "best estimator: SVC(C=1, gamma=1, kernel='poly')\n"
          ]
        }
      ]
    },
    {
      "cell_type": "markdown",
      "source": [
        "# Klasifikasi SVM (Hyperparameter Tunning) Menggunakan Kernel RBF"
      ],
      "metadata": {
        "id": "g4P8YglHvlpA"
      }
    },
    {
      "cell_type": "markdown",
      "source": [
        "Hyperparameter terbaik untuk aspek efficiency ada pada kernel RBF dg C=100, gamma 0.01, score=0.9275"
      ],
      "metadata": {
        "id": "tJWDZyYJwIlA"
      }
    },
    {
      "cell_type": "code",
      "source": [
        "#Tuning Parameter with GridSearchCV\n",
        "#Kernel RBF\n",
        "\n",
        "param_grid = {'C': [0.1, 1, 10, 100],\n",
        "              'kernel': ['rbf'],\n",
        "              'gamma' :[0.01, 0.1, 1, 10]\n",
        "             }\n",
        "\n",
        "grid = GridSearchCV(svm.SVC(), param_grid, scoring='accuracy', refit = True, verbose = 3)\n",
        "# fitting the model for grid search\n",
        "grid.fit(x_errors_train_vectorized, y_errors_train)\n",
        "\n",
        "selected_kernel_rbf = grid.best_params_['kernel']\n",
        "print(\"Selected Kernel: \", selected_kernel_rbf)\n",
        "selected_C_rbf = grid.best_params_['C']\n",
        "print(\"Selected C: \", selected_C_rbf)\n",
        "selected_gamma_rbf= grid.best_params_['gamma']\n",
        "print(\"Selected Gamma: \", selected_gamma_rbf)\n",
        "\n",
        "best_params_rbf_HT = grid.best_params_\n",
        "model_looks_rbf_HT= grid.best_estimator_\n",
        "\n",
        "print(f'Best Score : {grid.best_score_}')\n",
        "print(\"best estimator: %s\" % (model_looks_rbf_HT))"
      ],
      "metadata": {
        "colab": {
          "base_uri": "https://localhost:8080/"
        },
        "id": "VXEof0fKvrzl",
        "outputId": "e5d8bbc3-151a-4325-fb4f-909ebb6f8436"
      },
      "execution_count": null,
      "outputs": [
        {
          "output_type": "stream",
          "name": "stdout",
          "text": [
            "Fitting 5 folds for each of 16 candidates, totalling 80 fits\n",
            "[CV 1/5] END .....C=0.1, gamma=0.01, kernel=rbf;, score=0.537 total time=   0.1s\n",
            "[CV 2/5] END .....C=0.1, gamma=0.01, kernel=rbf;, score=0.537 total time=   0.1s\n",
            "[CV 3/5] END .....C=0.1, gamma=0.01, kernel=rbf;, score=0.537 total time=   0.1s\n",
            "[CV 4/5] END .....C=0.1, gamma=0.01, kernel=rbf;, score=0.537 total time=   0.1s\n",
            "[CV 5/5] END .....C=0.1, gamma=0.01, kernel=rbf;, score=0.537 total time=   0.1s\n",
            "[CV 1/5] END ......C=0.1, gamma=0.1, kernel=rbf;, score=0.604 total time=   0.1s\n",
            "[CV 2/5] END ......C=0.1, gamma=0.1, kernel=rbf;, score=0.571 total time=   0.1s\n",
            "[CV 3/5] END ......C=0.1, gamma=0.1, kernel=rbf;, score=0.592 total time=   0.1s\n",
            "[CV 4/5] END ......C=0.1, gamma=0.1, kernel=rbf;, score=0.596 total time=   0.1s\n",
            "[CV 5/5] END ......C=0.1, gamma=0.1, kernel=rbf;, score=0.583 total time=   0.1s\n",
            "[CV 1/5] END ........C=0.1, gamma=1, kernel=rbf;, score=0.704 total time=   0.1s\n",
            "[CV 2/5] END ........C=0.1, gamma=1, kernel=rbf;, score=0.617 total time=   0.1s\n",
            "[CV 3/5] END ........C=0.1, gamma=1, kernel=rbf;, score=0.683 total time=   0.1s\n",
            "[CV 4/5] END ........C=0.1, gamma=1, kernel=rbf;, score=0.683 total time=   0.1s\n",
            "[CV 5/5] END ........C=0.1, gamma=1, kernel=rbf;, score=0.662 total time=   0.1s\n",
            "[CV 1/5] END .......C=0.1, gamma=10, kernel=rbf;, score=0.696 total time=   0.1s\n",
            "[CV 2/5] END .......C=0.1, gamma=10, kernel=rbf;, score=0.613 total time=   0.1s\n",
            "[CV 3/5] END .......C=0.1, gamma=10, kernel=rbf;, score=0.675 total time=   0.1s\n",
            "[CV 4/5] END .......C=0.1, gamma=10, kernel=rbf;, score=0.675 total time=   0.1s\n",
            "[CV 5/5] END .......C=0.1, gamma=10, kernel=rbf;, score=0.650 total time=   0.1s\n",
            "[CV 1/5] END .......C=1, gamma=0.01, kernel=rbf;, score=0.608 total time=   0.1s\n",
            "[CV 2/5] END .......C=1, gamma=0.01, kernel=rbf;, score=0.571 total time=   0.1s\n",
            "[CV 3/5] END .......C=1, gamma=0.01, kernel=rbf;, score=0.596 total time=   0.1s\n",
            "[CV 4/5] END .......C=1, gamma=0.01, kernel=rbf;, score=0.604 total time=   0.1s\n",
            "[CV 5/5] END .......C=1, gamma=0.01, kernel=rbf;, score=0.583 total time=   0.1s\n",
            "[CV 1/5] END ........C=1, gamma=0.1, kernel=rbf;, score=0.854 total time=   0.1s\n",
            "[CV 2/5] END ........C=1, gamma=0.1, kernel=rbf;, score=0.846 total time=   0.1s\n",
            "[CV 3/5] END ........C=1, gamma=0.1, kernel=rbf;, score=0.887 total time=   0.1s\n",
            "[CV 4/5] END ........C=1, gamma=0.1, kernel=rbf;, score=0.846 total time=   0.1s\n",
            "[CV 5/5] END ........C=1, gamma=0.1, kernel=rbf;, score=0.842 total time=   0.1s\n",
            "[CV 1/5] END ..........C=1, gamma=1, kernel=rbf;, score=0.854 total time=   0.1s\n",
            "[CV 2/5] END ..........C=1, gamma=1, kernel=rbf;, score=0.812 total time=   0.1s\n",
            "[CV 3/5] END ..........C=1, gamma=1, kernel=rbf;, score=0.892 total time=   0.1s\n",
            "[CV 4/5] END ..........C=1, gamma=1, kernel=rbf;, score=0.804 total time=   0.1s\n",
            "[CV 5/5] END ..........C=1, gamma=1, kernel=rbf;, score=0.821 total time=   0.1s\n",
            "[CV 1/5] END .........C=1, gamma=10, kernel=rbf;, score=0.758 total time=   0.1s\n",
            "[CV 2/5] END .........C=1, gamma=10, kernel=rbf;, score=0.692 total time=   0.1s\n",
            "[CV 3/5] END .........C=1, gamma=10, kernel=rbf;, score=0.733 total time=   0.1s\n",
            "[CV 4/5] END .........C=1, gamma=10, kernel=rbf;, score=0.721 total time=   0.1s\n",
            "[CV 5/5] END .........C=1, gamma=10, kernel=rbf;, score=0.713 total time=   0.1s\n",
            "[CV 1/5] END ......C=10, gamma=0.01, kernel=rbf;, score=0.850 total time=   0.1s\n",
            "[CV 2/5] END ......C=10, gamma=0.01, kernel=rbf;, score=0.863 total time=   0.1s\n",
            "[CV 3/5] END ......C=10, gamma=0.01, kernel=rbf;, score=0.879 total time=   0.1s\n",
            "[CV 4/5] END ......C=10, gamma=0.01, kernel=rbf;, score=0.842 total time=   0.1s\n",
            "[CV 5/5] END ......C=10, gamma=0.01, kernel=rbf;, score=0.850 total time=   0.1s\n",
            "[CV 1/5] END .......C=10, gamma=0.1, kernel=rbf;, score=0.871 total time=   0.1s\n",
            "[CV 2/5] END .......C=10, gamma=0.1, kernel=rbf;, score=0.829 total time=   0.1s\n",
            "[CV 3/5] END .......C=10, gamma=0.1, kernel=rbf;, score=0.867 total time=   0.1s\n",
            "[CV 4/5] END .......C=10, gamma=0.1, kernel=rbf;, score=0.838 total time=   0.1s\n",
            "[CV 5/5] END .......C=10, gamma=0.1, kernel=rbf;, score=0.850 total time=   0.1s\n",
            "[CV 1/5] END .........C=10, gamma=1, kernel=rbf;, score=0.867 total time=   0.1s\n",
            "[CV 2/5] END .........C=10, gamma=1, kernel=rbf;, score=0.850 total time=   0.1s\n",
            "[CV 3/5] END .........C=10, gamma=1, kernel=rbf;, score=0.892 total time=   0.1s\n",
            "[CV 4/5] END .........C=10, gamma=1, kernel=rbf;, score=0.829 total time=   0.1s\n",
            "[CV 5/5] END .........C=10, gamma=1, kernel=rbf;, score=0.842 total time=   0.1s\n",
            "[CV 1/5] END ........C=10, gamma=10, kernel=rbf;, score=0.758 total time=   0.1s\n",
            "[CV 2/5] END ........C=10, gamma=10, kernel=rbf;, score=0.692 total time=   0.1s\n",
            "[CV 3/5] END ........C=10, gamma=10, kernel=rbf;, score=0.733 total time=   0.1s\n",
            "[CV 4/5] END ........C=10, gamma=10, kernel=rbf;, score=0.725 total time=   0.1s\n",
            "[CV 5/5] END ........C=10, gamma=10, kernel=rbf;, score=0.717 total time=   0.1s\n",
            "[CV 1/5] END .....C=100, gamma=0.01, kernel=rbf;, score=0.858 total time=   0.1s\n",
            "[CV 2/5] END .....C=100, gamma=0.01, kernel=rbf;, score=0.842 total time=   0.1s\n",
            "[CV 3/5] END .....C=100, gamma=0.01, kernel=rbf;, score=0.838 total time=   0.1s\n",
            "[CV 4/5] END .....C=100, gamma=0.01, kernel=rbf;, score=0.838 total time=   0.1s\n",
            "[CV 5/5] END .....C=100, gamma=0.01, kernel=rbf;, score=0.854 total time=   0.1s\n",
            "[CV 1/5] END ......C=100, gamma=0.1, kernel=rbf;, score=0.879 total time=   0.1s\n",
            "[CV 2/5] END ......C=100, gamma=0.1, kernel=rbf;, score=0.808 total time=   0.1s\n",
            "[CV 3/5] END ......C=100, gamma=0.1, kernel=rbf;, score=0.858 total time=   0.1s\n",
            "[CV 4/5] END ......C=100, gamma=0.1, kernel=rbf;, score=0.833 total time=   0.1s\n",
            "[CV 5/5] END ......C=100, gamma=0.1, kernel=rbf;, score=0.829 total time=   0.1s\n",
            "[CV 1/5] END ........C=100, gamma=1, kernel=rbf;, score=0.867 total time=   0.2s\n",
            "[CV 2/5] END ........C=100, gamma=1, kernel=rbf;, score=0.850 total time=   0.1s\n",
            "[CV 3/5] END ........C=100, gamma=1, kernel=rbf;, score=0.892 total time=   0.2s\n",
            "[CV 4/5] END ........C=100, gamma=1, kernel=rbf;, score=0.829 total time=   0.2s\n",
            "[CV 5/5] END ........C=100, gamma=1, kernel=rbf;, score=0.842 total time=   0.1s\n",
            "[CV 1/5] END .......C=100, gamma=10, kernel=rbf;, score=0.758 total time=   0.2s\n",
            "[CV 2/5] END .......C=100, gamma=10, kernel=rbf;, score=0.692 total time=   0.2s\n",
            "[CV 3/5] END .......C=100, gamma=10, kernel=rbf;, score=0.733 total time=   0.2s\n",
            "[CV 4/5] END .......C=100, gamma=10, kernel=rbf;, score=0.725 total time=   0.2s\n",
            "[CV 5/5] END .......C=100, gamma=10, kernel=rbf;, score=0.717 total time=   0.2s\n",
            "Selected Kernel:  rbf\n",
            "Selected C:  10\n",
            "Selected Gamma:  0.01\n",
            "Best Score : 0.8566666666666667\n",
            "best estimator: SVC(C=10, gamma=0.01)\n"
          ]
        }
      ]
    },
    {
      "cell_type": "markdown",
      "source": [
        "# K-Fold Cross Validation dengan Hyperparameter Tunning"
      ],
      "metadata": {
        "id": "G2fZwJyTwy03"
      }
    },
    {
      "cell_type": "code",
      "source": [
        "cross_val_score_linear= cross_val_score(model_looks_linear_HT, x_errors_train_vectorized, y_errors_train, scoring='accuracy', cv=5)\n",
        "print(\"Accuracy Score Linear of : %0.4f\" % cross_val_score_linear.mean(), cross_val_score_linear.std())\n",
        "\n",
        "cross_val_score_poly = cross_val_score(model_looks_poly_HT, x_errors_train_vectorized, y_errors_train, scoring='accuracy', cv=5)\n",
        "print(\"Accuracy Score poly of : %0.4f\" % cross_val_score_poly.mean(), cross_val_score_poly.std())\n",
        "\n",
        "cross_val_score_rbf = cross_val_score(model_looks_rbf_HT, x_errors_train_vectorized, y_errors_train, scoring='accuracy', cv=5)\n",
        "print(\"Accuracy Score rbf of : %0.4f\" % cross_val_score_rbf.mean(), cross_val_score_rbf.std())"
      ],
      "metadata": {
        "colab": {
          "base_uri": "https://localhost:8080/"
        },
        "id": "oJO4xRGdxBej",
        "outputId": "d78294e4-14e5-444e-d7ff-bf48547d49e1"
      },
      "execution_count": null,
      "outputs": [
        {
          "output_type": "stream",
          "name": "stdout",
          "text": [
            "Accuracy Score Linear of : 0.8500 0.009501461875826156\n",
            "Accuracy Score poly of : 0.7208 0.026874192494328483\n",
            "Accuracy Score rbf of : 0.8567 0.013070322617798436\n"
          ]
        }
      ]
    },
    {
      "cell_type": "markdown",
      "source": [
        "# Visualisasi Pengaruh Hyperparameter Tunning pada Model Klasifikasi SVM di Aspek Errors"
      ],
      "metadata": {
        "id": "jbBTyNVgx2B6"
      }
    },
    {
      "cell_type": "markdown",
      "source": [
        "Hyperparameter tunning pada aspek efficiency hanya berpengaruh pada kernel RBF dengan kenaikan sebesar 0.0075"
      ],
      "metadata": {
        "id": "LyYmgeYlyw_6"
      }
    },
    {
      "cell_type": "code",
      "source": [
        "import numpy as np\n",
        "from matplotlib.ticker import FormatStrFormatter\n",
        "\n",
        "import matplotlib.pyplot as plt\n",
        "%matplotlib inline\n",
        "\n",
        "\n",
        "name = ['Linear', 'RBF', 'Polynomial']\n",
        "before_HT = [cv_linear.mean(), cv_rbf.mean(), cv_poly.mean()]\n",
        "after_HT = [cross_val_score_linear.mean(), cross_val_score_rbf.mean(), cross_val_score_poly.mean()]\n",
        "diff_linear = ((cross_val_score_linear.mean()-cv_linear.mean()))\n",
        "diff_rbf = ((cross_val_score_rbf.mean()-cv_rbf.mean()))\n",
        "diff_poly = ((cross_val_score_poly.mean()-cv_poly.mean()))\n",
        "diff_HT = [diff_linear, diff_rbf, diff_poly]\n",
        "\n",
        "x = np.arange(len(name))\n",
        "width = 0.2\n",
        "\n",
        "fig, ax = plt.subplots(figsize=(14, 7))\n",
        "\n",
        "bfr = ax.bar(x - width/2, before_HT, width, label='Before', color='steelblue')\n",
        "aftr = ax.bar(x + width/2, after_HT, width, label='After', color='orange')\n",
        "diff = ax.bar(x + 0.3, diff_HT, width, label='Diffrenciate', color='cyan')\n",
        "\n",
        "ax.set_title('Hasil Hyperparameter Sentimen Beraspek errors', size=16)\n",
        "ax.set_ylabel('Accuracy', size=14)\n",
        "ax.set_xticks(x)\n",
        "ax.set_xticklabels(name, size=14)\n",
        "ax.legend(fontsize=14)\n",
        "ax.legend(bbox_to_anchor=(1.02, 1), loc='upper left', borderaxespad=0)\n",
        "ax.yaxis.set_major_formatter(FormatStrFormatter(\"%0.2f\"))\n",
        "for p in ax.patches:\n",
        "    h = p.get_height()\n",
        "    x = p.get_x()+p.get_width()/2\n",
        "    if h!= 0:\n",
        "      ax.annotate(\"%g\" % p.get_height(), xy=(x,h), xytext=(0,5), textcoords=\"offset points\",\n",
        "                  ha=\"center\", fontsize=10)\n",
        "\n",
        "plt.show()"
      ],
      "metadata": {
        "colab": {
          "base_uri": "https://localhost:8080/"
        },
        "id": "jqZN4Uh4xyBG",
        "outputId": "92dc9ed5-7c70-46a9-f75d-e84364a8306b"
      },
      "execution_count": null,
      "outputs": [
        {
          "output_type": "display_data",
          "data": {
            "text/plain": [
              "<Figure size 1400x700 with 1 Axes>"
            ],
            "image/png": "[encoded data removed]"
          },
          "metadata": {}
        }
      ]
    },
    {
      "cell_type": "markdown",
      "source": [
        "# Validasi Model Hyperparameter Tunning Data Test Linear Kernel"
      ],
      "metadata": {
        "id": "etunappIXY1I"
      }
    },
    {
      "cell_type": "code",
      "source": [
        "grid_predictions = model_looks_linear_HT.predict(x_errors_test_vectorized)\n",
        "\n",
        "print(\"F1-SCORE \",f1(y_errors_test,grid_predictions,average='macro') * 100)\n",
        "print(\"ACCURACY \",acc(y_errors_test,grid_predictions) * 100)\n",
        "print(\"PRECISION \",prec(y_errors_test,grid_predictions,average='macro') * 100)\n",
        "print(\"RECALL\",recall(y_errors_test,grid_predictions,average='macro') * 100)\n",
        "\n",
        "print('Confusion Matrix : \\n', confusion_matrix(y_errors_test, grid_predictions))\n",
        "print('Report Hasil : \\n',classification_report(y_errors_test, grid_predictions))"
      ],
      "metadata": {
        "colab": {
          "base_uri": "https://localhost:8080/"
        },
        "id": "1SX832YjgWJ9",
        "outputId": "317eb05d-4cbf-4e7d-9bca-47b309f84aab"
      },
      "execution_count": null,
      "outputs": [
        {
          "output_type": "stream",
          "name": "stdout",
          "text": [
            "F1-SCORE  65.74141820620694\n",
            "ACCURACY  85.33333333333334\n",
            "PRECISION  68.46816707218167\n",
            "RECALL 64.28448857020285\n",
            "Confusion Matrix : \n",
            " [[134  14   0]\n",
            " [ 24 121   2]\n",
            " [  2   2   1]]\n",
            "Report Hasil : \n",
            "               precision    recall  f1-score   support\n",
            "\n",
            "          -1       0.84      0.91      0.87       148\n",
            "           0       0.88      0.82      0.85       147\n",
            "           1       0.33      0.20      0.25         5\n",
            "\n",
            "    accuracy                           0.85       300\n",
            "   macro avg       0.68      0.64      0.66       300\n",
            "weighted avg       0.85      0.85      0.85       300\n",
            "\n"
          ]
        }
      ]
    },
    {
      "cell_type": "markdown",
      "source": [
        "# Validasi Model Hyperparameter Tunning Data Test Polynomial Kernel"
      ],
      "metadata": {
        "id": "3XcZdCfngpWK"
      }
    },
    {
      "cell_type": "code",
      "source": [
        "grid_predictions = model_looks_poly_HT.predict(x_errors_test_vectorized)\n",
        "\n",
        "print(\"F1-SCORE \",f1(y_errors_test,grid_predictions,average='macro') * 100)\n",
        "print(\"ACCURACY \",acc(y_errors_test,grid_predictions) * 100)\n",
        "print(\"PRECISION \",prec(y_errors_test,grid_predictions,average='macro') * 100)\n",
        "print(\"RECALL\",recall(y_errors_test,grid_predictions,average='macro') * 100)\n",
        "\n",
        "print('Confusion Matrix : \\n', confusion_matrix(y_errors_test, grid_predictions))\n",
        "print('Report Hasil : \\n',classification_report(y_errors_test, grid_predictions))"
      ],
      "metadata": {
        "colab": {
          "base_uri": "https://localhost:8080/"
        },
        "id": "9cU2FkyXgvQ4",
        "outputId": "3a1aaf9c-7220-456b-de10-7f32a5e11cf9"
      },
      "execution_count": null,
      "outputs": [
        {
          "output_type": "stream",
          "name": "stdout",
          "text": [
            "F1-SCORE  46.6404961028617\n",
            "ACCURACY  71.33333333333334\n",
            "PRECISION  53.54037267080746\n",
            "RECALL 48.302384016669734\n",
            "Confusion Matrix : \n",
            " [[146   2   0]\n",
            " [ 79  68   0]\n",
            " [  5   0   0]]\n",
            "Report Hasil : \n",
            "               precision    recall  f1-score   support\n",
            "\n",
            "          -1       0.63      0.99      0.77       148\n",
            "           0       0.97      0.46      0.63       147\n",
            "           1       0.00      0.00      0.00         5\n",
            "\n",
            "    accuracy                           0.71       300\n",
            "   macro avg       0.54      0.48      0.47       300\n",
            "weighted avg       0.79      0.71      0.69       300\n",
            "\n"
          ]
        }
      ]
    },
    {
      "cell_type": "markdown",
      "source": [
        "# Validasi Model Hyperparameter Tunning Data Test RBF Kernel"
      ],
      "metadata": {
        "id": "M3RUXP32g0gX"
      }
    },
    {
      "cell_type": "code",
      "source": [
        "grid_predictions = model_looks_rbf_HT.predict(x_errors_test_vectorized)\n",
        "\n",
        "print(\"F1-SCORE \",f1(y_errors_test,grid_predictions,average='macro') * 100)\n",
        "print(\"ACCURACY \",acc(y_errors_test,grid_predictions) * 100)\n",
        "print(\"PRECISION \",prec(y_errors_test,grid_predictions,average='macro') * 100)\n",
        "print(\"RECALL\",recall(y_errors_test,grid_predictions,average='macro') * 100)\n",
        "\n",
        "print('Confusion Matrix : \\n', confusion_matrix(y_errors_test, grid_predictions))\n",
        "print('Report Hasil : \\n',classification_report(y_errors_test, grid_predictions))"
      ],
      "metadata": {
        "colab": {
          "base_uri": "https://localhost:8080/"
        },
        "id": "QL1_wrr0g6M9",
        "outputId": "adfa1558-a63c-416e-e27d-570f4b50855b"
      },
      "execution_count": null,
      "outputs": [
        {
          "output_type": "stream",
          "name": "stdout",
          "text": [
            "F1-SCORE  57.750642381244745\n",
            "ACCURACY  86.0\n",
            "PRECISION  57.87629147512631\n",
            "RECALL 58.287369001654724\n",
            "Confusion Matrix : \n",
            " [[141   7   0]\n",
            " [ 30 117   0]\n",
            " [  2   3   0]]\n",
            "Report Hasil : \n",
            "               precision    recall  f1-score   support\n",
            "\n",
            "          -1       0.82      0.95      0.88       148\n",
            "           0       0.92      0.80      0.85       147\n",
            "           1       0.00      0.00      0.00         5\n",
            "\n",
            "    accuracy                           0.86       300\n",
            "   macro avg       0.58      0.58      0.58       300\n",
            "weighted avg       0.85      0.86      0.85       300\n",
            "\n"
          ]
        }
      ]
    },
    {
      "cell_type": "markdown",
      "source": [
        "# Validasi Model Hyperparameter Tunning Data Train Linear Kernel"
      ],
      "metadata": {
        "id": "yzCHI6ADhFUC"
      }
    },
    {
      "cell_type": "code",
      "source": [
        "grid_predictions = model_looks_linear_HT.predict(x_errors_train_vectorized)\n",
        "\n",
        "print(\"F1-SCORE \",f1(y_errors_train,grid_predictions,average='macro') * 100)\n",
        "print(\"ACCURACY \",acc(y_errors_train,grid_predictions) * 100)\n",
        "print(\"PRECISION \",prec(y_errors_train,grid_predictions,average='macro') * 100)\n",
        "print(\"RECALL\",recall(y_errors_train,grid_predictions,average='macro') * 100)\n",
        "\n",
        "print('Confusion Matrix : \\n', confusion_matrix(y_errors_train, grid_predictions))\n",
        "print('Report Hasil : \\n',classification_report(y_errors_train, grid_predictions))"
      ],
      "metadata": {
        "colab": {
          "base_uri": "https://localhost:8080/"
        },
        "id": "-j-5F5t-hLPk",
        "outputId": "d3b0cbe8-c88d-44cb-e1f4-14a3ce57e83e"
      },
      "execution_count": null,
      "outputs": [
        {
          "output_type": "stream",
          "name": "stdout",
          "text": [
            "F1-SCORE  87.2177240373488\n",
            "ACCURACY  95.75\n",
            "PRECISION  94.45196973447385\n",
            "RECALL 83.04671232533053\n",
            "Confusion Matrix : \n",
            " [[631  13   1]\n",
            " [ 18 496   1]\n",
            " [ 10   8  22]]\n",
            "Report Hasil : \n",
            "               precision    recall  f1-score   support\n",
            "\n",
            "          -1       0.96      0.98      0.97       645\n",
            "           0       0.96      0.96      0.96       515\n",
            "           1       0.92      0.55      0.69        40\n",
            "\n",
            "    accuracy                           0.96      1200\n",
            "   macro avg       0.94      0.83      0.87      1200\n",
            "weighted avg       0.96      0.96      0.96      1200\n",
            "\n"
          ]
        }
      ]
    },
    {
      "cell_type": "markdown",
      "source": [
        "# Validasi Model Hyperparameter Tunning Data Train Polynomial Kernel"
      ],
      "metadata": {
        "id": "uq3dIbWNhOP0"
      }
    },
    {
      "cell_type": "code",
      "source": [
        "grid_predictions = model_looks_poly_HT.predict(x_errors_train_vectorized)\n",
        "\n",
        "print(\"F1-SCORE \",f1(y_errors_train,grid_predictions,average='macro') * 100)\n",
        "print(\"ACCURACY \",acc(y_errors_train,grid_predictions) * 100)\n",
        "print(\"PRECISION \",prec(y_errors_train,grid_predictions,average='macro') * 100)\n",
        "print(\"RECALL\",recall(y_errors_train,grid_predictions,average='macro') * 100)\n",
        "\n",
        "print('Confusion Matrix : \\n', confusion_matrix(y_errors_train, grid_predictions))\n",
        "print('Report Hasil : \\n',classification_report(y_errors_train, grid_predictions))"
      ],
      "metadata": {
        "colab": {
          "base_uri": "https://localhost:8080/"
        },
        "id": "RBrSYY-xhTBf",
        "outputId": "86022083-d93e-4bd4-96ef-c5532213ad2a"
      },
      "execution_count": null,
      "outputs": [
        {
          "output_type": "stream",
          "name": "stdout",
          "text": [
            "F1-SCORE  90.05974246867314\n",
            "ACCURACY  93.0\n",
            "PRECISION  95.98994318579769\n",
            "RECALL 86.1084142394822\n",
            "Confusion Matrix : \n",
            " [[645   0   0]\n",
            " [ 73 442   0]\n",
            " [  6   5  29]]\n",
            "Report Hasil : \n",
            "               precision    recall  f1-score   support\n",
            "\n",
            "          -1       0.89      1.00      0.94       645\n",
            "           0       0.99      0.86      0.92       515\n",
            "           1       1.00      0.72      0.84        40\n",
            "\n",
            "    accuracy                           0.93      1200\n",
            "   macro avg       0.96      0.86      0.90      1200\n",
            "weighted avg       0.94      0.93      0.93      1200\n",
            "\n"
          ]
        }
      ]
    },
    {
      "cell_type": "markdown",
      "source": [
        "# Validasi Model Hyperparameter Tunning Data Train RBF Kernel"
      ],
      "metadata": {
        "id": "0vuHbN70hYYn"
      }
    },
    {
      "cell_type": "code",
      "source": [
        "grid_predictions = model_looks_rbf_HT.predict(x_errors_train_vectorized)\n",
        "\n",
        "print(\"F1-SCORE \",f1(y_errors_train,grid_predictions,average='macro') * 100)\n",
        "print(\"ACCURACY \",acc(y_errors_train,grid_predictions) * 100)\n",
        "print(\"PRECISION \",prec(y_errors_train,grid_predictions,average='macro') * 100)\n",
        "print(\"RECALL\",recall(y_errors_train,grid_predictions,average='macro') * 100)\n",
        "\n",
        "print('Confusion Matrix : \\n', confusion_matrix(y_errors_train, grid_predictions))\n",
        "print('Report Hasil : \\n',classification_report(y_errors_train, grid_predictions))"
      ],
      "metadata": {
        "colab": {
          "base_uri": "https://localhost:8080/"
        },
        "id": "y54Zoj-MhcAL",
        "outputId": "443bd206-d51e-4ffe-df0f-8c314ac19657"
      },
      "execution_count": null,
      "outputs": [
        {
          "output_type": "stream",
          "name": "stdout",
          "text": [
            "F1-SCORE  61.40198253145617\n",
            "ACCURACY  90.75\n",
            "PRECISION  60.403138528138534\n",
            "RECALL 62.436466721858466\n",
            "Confusion Matrix : \n",
            " [[617  28   0]\n",
            " [ 43 472   0]\n",
            " [ 12  28   0]]\n",
            "Report Hasil : \n",
            "               precision    recall  f1-score   support\n",
            "\n",
            "          -1       0.92      0.96      0.94       645\n",
            "           0       0.89      0.92      0.91       515\n",
            "           1       0.00      0.00      0.00        40\n",
            "\n",
            "    accuracy                           0.91      1200\n",
            "   macro avg       0.60      0.62      0.61      1200\n",
            "weighted avg       0.88      0.91      0.89      1200\n",
            "\n"
          ]
        }
      ]
    }
  ]
}