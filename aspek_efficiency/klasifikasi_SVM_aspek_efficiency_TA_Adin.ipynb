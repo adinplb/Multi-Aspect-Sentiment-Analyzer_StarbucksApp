{
  "nbformat": 4,
  "nbformat_minor": 0,
  "metadata": {
    "colab": {
      "provenance": [],
      "collapsed_sections": [
        "N45e1Bwvi7FE",
        "9upZEhtNjnt5",
        "ApTaQveGDQwx",
        "l1EYsNnglNjG",
        "l4vpa9onlh-7",
        "fV9hWKimmNIp",
        "1_8D4d0dmxPK",
        "HKx1ffInoUaV",
        "mb_UuPtBpWIU",
        "QqXpuoiestXe",
        "In2GZfOSu1Pc",
        "g4P8YglHvlpA",
        "G2fZwJyTwy03",
        "jbBTyNVgx2B6",
        "etunappIXY1I",
        "3XcZdCfngpWK",
        "M3RUXP32g0gX",
        "yzCHI6ADhFUC",
        "uq3dIbWNhOP0",
        "0vuHbN70hYYn"
      ]
    },
    "kernelspec": {
      "name": "python3",
      "display_name": "Python 3"
    },
    "language_info": {
      "name": "python"
    }
  },
  "cells": [
    {
      "cell_type": "markdown",
      "source": [
        "# Install & Import Package"
      ],
      "metadata": {
        "id": "N45e1Bwvi7FE"
      }
    },
    {
      "cell_type": "code",
      "source": [
        "!pip install Sastrawi"
      ],
      "metadata": {
        "colab": {
          "base_uri": "https://localhost:8080/"
        },
        "id": "BYNo887FjXnC",
        "outputId": "1c18bcc0-a222-4166-dde0-4517152ef376"
      },
      "execution_count": null,
      "outputs": [
        {
          "output_type": "stream",
          "name": "stdout",
          "text": [
            "Looking in indexes: https://pypi.org/simple, https://us-python.pkg.dev/colab-wheels/public/simple/\n",
            "Collecting Sastrawi\n",
            "  Downloading Sastrawi-1.0.1-py2.py3-none-any.whl (209 kB)\n",
            "\u001b[2K     \u001b[90m━━━━━━━━━━━━━━━━━━━━━━━━━━━━━━━━━━━━━━\u001b[0m \u001b[32m209.7/209.7 kB\u001b[0m \u001b[31m12.9 MB/s\u001b[0m eta \u001b[36m0:00:00\u001b[0m\n",
            "\u001b[?25hInstalling collected packages: Sastrawi\n",
            "Successfully installed Sastrawi-1.0.1\n"
          ]
        }
      ]
    },
    {
      "cell_type": "code",
      "execution_count": null,
      "metadata": {
        "id": "ER9s6ALUivQT"
      },
      "outputs": [],
      "source": [
        "# LIBRARY UNTUK MENGOLAH DATA\n",
        "import pandas as pd\n",
        "import numpy as np\n",
        "import re,string #import regular expression\n",
        "import Sastrawi\n",
        "import joblib\n",
        "\n",
        "import matplotlib.pyplot as plt\n",
        "import seaborn as sns\n",
        "sns.set()\n",
        "import matplotlib as mpl\n",
        "\n",
        "#Library Untuk Split Data\n",
        "from sklearn import model_selection\n",
        "from sklearn.model_selection import train_test_split\n",
        "\n",
        "#Library Ekstraksi Fitur TFIDF\n",
        "from sklearn.feature_extraction.text import TfidfVectorizer\n",
        "from sklearn.preprocessing import OneHotEncoder\n",
        "\n",
        "#Library Klasifikasi Support Vector Machine\n",
        "from sklearn.svm import SVC\n",
        "from sklearn import svm\n",
        "from sklearn.metrics import f1_score as f1\n",
        "from sklearn .metrics import accuracy_score as acc\n",
        "from sklearn.metrics import precision_score as prec\n",
        "from sklearn.metrics import recall_score as recall\n",
        "from sklearn.metrics import confusion_matrix\n",
        "from sklearn.metrics import classification_report\n",
        "from sklearn import metrics\n",
        "\n",
        "\n",
        "#Library HyperParameter Tuning\n",
        "from sklearn.model_selection import cross_val_score\n",
        "from sklearn.model_selection import GridSearchCV\n",
        "import timeit\n",
        "\n",
        "import warnings\n",
        "warnings.filterwarnings('ignore')"
      ]
    },
    {
      "cell_type": "markdown",
      "source": [
        "# Import Dataset \"Hasil Prepro Aspek Efficiency"
      ],
      "metadata": {
        "id": "9upZEhtNjnt5"
      }
    },
    {
      "cell_type": "code",
      "source": [
        "from google.colab import drive\n",
        "drive.mount('/content/drive')"
      ],
      "metadata": {
        "colab": {
          "base_uri": "https://localhost:8080/"
        },
        "id": "R6_YIr8_jwrt",
        "outputId": "d37823e2-79cd-4c58-de84-530dd6cf5aac"
      },
      "execution_count": null,
      "outputs": [
        {
          "output_type": "stream",
          "name": "stdout",
          "text": [
            "Mounted at /content/drive\n"
          ]
        }
      ]
    },
    {
      "cell_type": "code",
      "source": [
        "ulasan_aspek_efficiency = pd.read_csv(\"/content/drive/MyDrive/TA_ADIN_ASBA_STARBUCKS_APP/hasil_prepro_aspek_efficiency_starbucks_app.csv\")\n",
        "ulasan_aspek_efficiency.shape"
      ],
      "metadata": {
        "colab": {
          "base_uri": "https://localhost:8080/"
        },
        "id": "4o7btSJojmvd",
        "outputId": "4e9320f5-408a-492f-e4c1-a25e84c9230b"
      },
      "execution_count": null,
      "outputs": [
        {
          "output_type": "execute_result",
          "data": {
            "text/plain": [
              "(1500, 3)"
            ]
          },
          "metadata": {},
          "execution_count": 5
        }
      ]
    },
    {
      "cell_type": "code",
      "source": [
        "ulasan_aspek_efficiency['Efficiency'].value_counts()"
      ],
      "metadata": {
        "colab": {
          "base_uri": "https://localhost:8080/"
        },
        "id": "MYG9OAm_kzbP",
        "outputId": "b544dd28-0dd7-4cbb-8a2c-57bada9a9d1c"
      },
      "execution_count": null,
      "outputs": [
        {
          "output_type": "execute_result",
          "data": {
            "text/plain": [
              "0    1373\n",
              "1     127\n",
              "Name: Efficiency, dtype: int64"
            ]
          },
          "metadata": {},
          "execution_count": 6
        }
      ]
    },
    {
      "cell_type": "code",
      "source": [
        "#detect missing values\n",
        "ulasan_aspek_efficiency.isna().sum()"
      ],
      "metadata": {
        "colab": {
          "base_uri": "https://localhost:8080/"
        },
        "id": "-kCzND0sk3ls",
        "outputId": "3a763bdb-9d8b-490d-b9ec-4c7e960e6614"
      },
      "execution_count": null,
      "outputs": [
        {
          "output_type": "execute_result",
          "data": {
            "text/plain": [
              "Ulasan        0\n",
              "stemming      0\n",
              "Efficiency    0\n",
              "dtype: int64"
            ]
          },
          "metadata": {},
          "execution_count": 7
        }
      ]
    },
    {
      "cell_type": "markdown",
      "source": [
        "# Inisialisasi Data"
      ],
      "metadata": {
        "id": "l1EYsNnglNjG"
      }
    },
    {
      "cell_type": "code",
      "source": [
        "x_efficiency = ulasan_aspek_efficiency['stemming'] #hasil stemming\n",
        "y_efficiency = ulasan_aspek_efficiency['Efficiency'].values #labelnya"
      ],
      "metadata": {
        "id": "I_oVSzANlM7-"
      },
      "execution_count": null,
      "outputs": []
    },
    {
      "cell_type": "markdown",
      "source": [
        "# Split Data"
      ],
      "metadata": {
        "id": "l4vpa9onlh-7"
      }
    },
    {
      "cell_type": "code",
      "source": [
        "from sklearn.model_selection import train_test_split\n",
        "\n",
        "#Perbandingan data train dan data test sebesar 8:2\n",
        "x_efficiency_train, x_efficiency_test, y_efficiency_train, y_efficiency_test = train_test_split(\n",
        "    ulasan_aspek_efficiency['stemming'],\n",
        "    ulasan_aspek_efficiency['Efficiency'],\n",
        "    test_size=0.2)\n",
        "\n",
        "train_df = pd.DataFrame()\n",
        "train_df['Ulasan'] = x_efficiency_train\n",
        "train_df['sentiment'] = y_efficiency_train\n",
        "test_df = pd.DataFrame()\n",
        "test_df['Ulasan'] = x_efficiency_test\n",
        "test_df['sentiment'] = y_efficiency_test"
      ],
      "metadata": {
        "id": "Jdez-gT0lhEC"
      },
      "execution_count": null,
      "outputs": []
    },
    {
      "cell_type": "markdown",
      "source": [
        "# Feature TF-IDF \"x_efficiency\""
      ],
      "metadata": {
        "id": "fV9hWKimmNIp"
      }
    },
    {
      "cell_type": "code",
      "source": [
        "#merubah nilai x_efficiency menjadi sebuah angka bukan teks\n",
        "tfidf_vect = TfidfVectorizer(use_idf=True)\n",
        "tfidf_vect.fit(x_efficiency_train)\n",
        "x_efficiency_train_vectorized = tfidf_vect.transform(x_efficiency_train)\n",
        "x_efficiency_test_vectorized = tfidf_vect.transform(x_efficiency_test)"
      ],
      "metadata": {
        "id": "e7oO9WQMmiTr"
      },
      "execution_count": null,
      "outputs": []
    },
    {
      "cell_type": "code",
      "source": [
        "print (x_efficiency_train_vectorized)"
      ],
      "metadata": {
        "colab": {
          "base_uri": "https://localhost:8080/"
        },
        "id": "ZK81udifmlx4",
        "outputId": "ddbce0c2-657e-4950-bdf9-84e8c984e358"
      },
      "execution_count": null,
      "outputs": [
        {
          "output_type": "stream",
          "name": "stdout",
          "text": [
            "  (0, 367)\t1.0\n",
            "  (1, 1358)\t0.33393601714839166\n",
            "  (1, 1132)\t0.6329917271200125\n",
            "  (1, 547)\t0.6984326809712535\n",
            "  (3, 1382)\t1.0\n",
            "  (4, 1462)\t0.21184605242227797\n",
            "  (4, 1206)\t0.23383250770996553\n",
            "  (4, 1064)\t0.2023876522223736\n",
            "  (4, 470)\t0.33624304379514863\n",
            "  (4, 300)\t0.34781919006918965\n",
            "  (4, 213)\t0.3837779847748563\n",
            "  (4, 145)\t0.26432545438381533\n",
            "  (4, 107)\t0.21890825947824427\n",
            "  (4, 103)\t0.16925557242439998\n",
            "  (4, 70)\t0.3837779847748563\n",
            "  (4, 66)\t0.2519122471859311\n",
            "  (4, 31)\t0.34781919006918965\n",
            "  (5, 1399)\t0.39443416931268904\n",
            "  (5, 1358)\t0.18858764647774975\n",
            "  (5, 1211)\t0.33585832057628234\n",
            "  (5, 923)\t0.35747692350418897\n",
            "  (5, 808)\t0.39443416931268904\n",
            "  (5, 517)\t0.39443416931268904\n",
            "  (5, 416)\t0.4144109316263125\n",
            "  (5, 247)\t0.2619438289592823\n",
            "  :\t:\n",
            "  (1194, 945)\t0.3534687539228334\n",
            "  (1194, 675)\t0.6019530319879665\n",
            "  (1194, 386)\t0.22911095487714667\n",
            "  (1194, 107)\t0.201619771771392\n",
            "  (1195, 1495)\t0.3903321878533293\n",
            "  (1195, 1382)\t0.22042093793240405\n",
            "  (1195, 1177)\t0.40377051047572815\n",
            "  (1195, 1117)\t0.34858894507391064\n",
            "  (1195, 1015)\t0.34284910209899155\n",
            "  (1195, 301)\t0.44551375325514675\n",
            "  (1195, 84)\t0.44551375325514675\n",
            "  (1197, 1158)\t0.42180436502033425\n",
            "  (1197, 1048)\t0.30323912285342086\n",
            "  (1197, 921)\t0.42180436502033425\n",
            "  (1197, 917)\t0.3196421300568696\n",
            "  (1197, 645)\t0.42180436502033425\n",
            "  (1197, 379)\t0.3069189692133185\n",
            "  (1197, 371)\t0.42180436502033425\n",
            "  (1198, 1491)\t0.5254981574192085\n",
            "  (1198, 416)\t0.32420245032241646\n",
            "  (1198, 232)\t0.617148411989146\n",
            "  (1198, 66)\t0.20254841272698276\n",
            "  (1198, 47)\t0.44367379439742993\n",
            "  (1199, 834)\t0.8782462301257367\n",
            "  (1199, 118)\t0.4782086984465378\n"
          ]
        }
      ]
    },
    {
      "cell_type": "markdown",
      "source": [
        "# Klasifikasi SVM dengan K-Fold Cross Validation Menggunakan Kernel Linear"
      ],
      "metadata": {
        "id": "1_8D4d0dmxPK"
      }
    },
    {
      "cell_type": "markdown",
      "source": [
        "Kernel Linear memiliki akurasi paling tinggi sebesar 0.9208 (Tanpa Hyperparamater Tunning)"
      ],
      "metadata": {
        "id": "EwMyhi3qrKdz"
      }
    },
    {
      "cell_type": "code",
      "source": [
        "#Membuat Model dg Kernel Linear\n",
        "clf_linear = SVC(kernel='linear')\n",
        "\n",
        "#Evaluasi dg K-Fold Cross Validation\n",
        "#Menggunakan Data Train untuk Melatih Model\n",
        "cv_linear = cross_val_score(clf_linear, x_efficiency_train_vectorized, y_efficiency_train, scoring='accuracy', cv=5)\n",
        "\n",
        "#Hasil Setelah dilakukan 5x Fold (cv=5)\n",
        "print(\"Accuracy Score Linear of : %0.4f\" % (cv_linear.mean()))"
      ],
      "metadata": {
        "colab": {
          "base_uri": "https://localhost:8080/"
        },
        "id": "5hGtLQs7mwRZ",
        "outputId": "d0d40cde-480b-44cc-9f44-fa9fd4d9b836"
      },
      "execution_count": null,
      "outputs": [
        {
          "output_type": "stream",
          "name": "stdout",
          "text": [
            "Accuracy Score Linear of : 0.9267\n"
          ]
        }
      ]
    },
    {
      "cell_type": "markdown",
      "source": [
        "# Klasifikasi SVM dengan K-Fold Cross Validation Menggunakan Kernel Polynomial"
      ],
      "metadata": {
        "id": "HKx1ffInoUaV"
      }
    },
    {
      "cell_type": "code",
      "source": [
        "#Membuat Model dg Kernel Polynomial\n",
        "clf_poly = SVC(kernel='poly')\n",
        "\n",
        "#Evaluasi dg K-Fold Cross Validation\n",
        "#Menggunakan Data Train untuk Melatih Model\n",
        "cv_poly = cross_val_score(clf_poly, x_efficiency_train_vectorized, y_efficiency_train, scoring='accuracy', cv=5)\n",
        "\n",
        "#Hasil Setelah 5lipatan/fold (nilai cv=5)\n",
        "print(\"Accuracy Score Poly of : %0.4f\" % (cv_poly.mean()))"
      ],
      "metadata": {
        "colab": {
          "base_uri": "https://localhost:8080/"
        },
        "id": "ROq8aEcaoZDw",
        "outputId": "2a8c5854-98da-4146-ecb9-12459365340e"
      },
      "execution_count": null,
      "outputs": [
        {
          "output_type": "stream",
          "name": "stdout",
          "text": [
            "Accuracy Score Poly of : 0.9225\n"
          ]
        }
      ]
    },
    {
      "cell_type": "markdown",
      "source": [
        "# Klasifikasi SVM dengan K-Fold Cross Validation Menggunakan Kernel RBF"
      ],
      "metadata": {
        "id": "mb_UuPtBpWIU"
      }
    },
    {
      "cell_type": "code",
      "source": [
        "#Membuat Model dg Kernel rbf\n",
        "clf_rbf = SVC(kernel='rbf')\n",
        "\n",
        "#Evaluasi dg K-Fold Cross Validation\n",
        "#Menggunakan Data Train untuk Melatih Model\n",
        "cv_rbf= cross_val_score(clf_rbf, x_efficiency_train_vectorized, y_efficiency_train, scoring='accuracy', cv=5)\n",
        "\n",
        "#Hasil Setelah 5lipatan/fold (nilai cv=5)\n",
        "print(\"Accuracy Score RBF of : %0.4f\" % (cv_rbf.mean()))"
      ],
      "metadata": {
        "colab": {
          "base_uri": "https://localhost:8080/"
        },
        "id": "l59CuVryqfWY",
        "outputId": "a5d5b131-117a-4b93-e294-edae77994f93"
      },
      "execution_count": null,
      "outputs": [
        {
          "output_type": "stream",
          "name": "stdout",
          "text": [
            "Accuracy Score RBF of : 0.9258\n"
          ]
        }
      ]
    },
    {
      "cell_type": "markdown",
      "source": [
        "# Klasifikasi SVM (Hyperparameter Tunning) Menggunakan Kernel Linear"
      ],
      "metadata": {
        "id": "QqXpuoiestXe"
      }
    },
    {
      "cell_type": "code",
      "source": [
        "#Tuning Parameter with GridSearchCV\n",
        "#LINEAR KERNEL\n",
        "\n",
        "param_grid = {'C': [0.1, 1, 10, 100],\n",
        "              'kernel': ['linear'],\n",
        "              'gamma' :[0.01, 0.1, 1, 10]\n",
        "             }\n",
        "\n",
        "grid = GridSearchCV(svm.SVC(), param_grid, scoring='accuracy', refit = True, verbose = 3)\n",
        "# fitting the model for grid search\n",
        "grid.fit(x_efficiency_train_vectorized, y_efficiency_train)\n",
        "\n",
        "selected_kernel_linear = grid.best_params_['kernel']\n",
        "print(\"Selected Kernel: \", selected_kernel_linear)\n",
        "selected_C_linear = grid.best_params_['C']\n",
        "print(\"Selected C: \", selected_C_linear)\n",
        "selected_gamma_linear= grid.best_params_['gamma']\n",
        "print(\"Selected Gamma: \", selected_gamma_linear)\n",
        "\n",
        "best_params_linear_HT = grid.best_params_\n",
        "model_looks_linear_HT= grid.best_estimator_\n",
        "\n",
        "print(f'Best Score : {grid.best_score_}')\n",
        "print(\"best estimator: %s\" % (model_looks_linear_HT))"
      ],
      "metadata": {
        "colab": {
          "base_uri": "https://localhost:8080/"
        },
        "id": "Xq8iUoJmrpJR",
        "outputId": "5fb335b1-688e-4cf2-b528-b6818991d607"
      },
      "execution_count": null,
      "outputs": [
        {
          "output_type": "stream",
          "name": "stdout",
          "text": [
            "Fitting 5 folds for each of 16 candidates, totalling 80 fits\n",
            "[CV 1/5] END ..C=0.1, gamma=0.01, kernel=linear;, score=0.917 total time=   0.0s\n",
            "[CV 2/5] END ..C=0.1, gamma=0.01, kernel=linear;, score=0.917 total time=   0.0s\n",
            "[CV 3/5] END ..C=0.1, gamma=0.01, kernel=linear;, score=0.917 total time=   0.0s\n",
            "[CV 4/5] END ..C=0.1, gamma=0.01, kernel=linear;, score=0.917 total time=   0.0s\n",
            "[CV 5/5] END ..C=0.1, gamma=0.01, kernel=linear;, score=0.912 total time=   0.0s\n",
            "[CV 1/5] END ...C=0.1, gamma=0.1, kernel=linear;, score=0.917 total time=   0.0s\n",
            "[CV 2/5] END ...C=0.1, gamma=0.1, kernel=linear;, score=0.917 total time=   0.0s\n",
            "[CV 3/5] END ...C=0.1, gamma=0.1, kernel=linear;, score=0.917 total time=   0.0s\n",
            "[CV 4/5] END ...C=0.1, gamma=0.1, kernel=linear;, score=0.917 total time=   0.0s\n",
            "[CV 5/5] END ...C=0.1, gamma=0.1, kernel=linear;, score=0.912 total time=   0.0s\n",
            "[CV 1/5] END .....C=0.1, gamma=1, kernel=linear;, score=0.917 total time=   0.0s\n",
            "[CV 2/5] END .....C=0.1, gamma=1, kernel=linear;, score=0.917 total time=   0.0s\n",
            "[CV 3/5] END .....C=0.1, gamma=1, kernel=linear;, score=0.917 total time=   0.0s\n",
            "[CV 4/5] END .....C=0.1, gamma=1, kernel=linear;, score=0.917 total time=   0.0s\n",
            "[CV 5/5] END .....C=0.1, gamma=1, kernel=linear;, score=0.912 total time=   0.0s\n",
            "[CV 1/5] END ....C=0.1, gamma=10, kernel=linear;, score=0.917 total time=   0.0s\n",
            "[CV 2/5] END ....C=0.1, gamma=10, kernel=linear;, score=0.917 total time=   0.0s\n",
            "[CV 3/5] END ....C=0.1, gamma=10, kernel=linear;, score=0.917 total time=   0.0s\n",
            "[CV 4/5] END ....C=0.1, gamma=10, kernel=linear;, score=0.917 total time=   0.0s\n",
            "[CV 5/5] END ....C=0.1, gamma=10, kernel=linear;, score=0.912 total time=   0.0s\n",
            "[CV 1/5] END ....C=1, gamma=0.01, kernel=linear;, score=0.929 total time=   0.0s\n",
            "[CV 2/5] END ....C=1, gamma=0.01, kernel=linear;, score=0.925 total time=   0.0s\n",
            "[CV 3/5] END ....C=1, gamma=0.01, kernel=linear;, score=0.925 total time=   0.0s\n",
            "[CV 4/5] END ....C=1, gamma=0.01, kernel=linear;, score=0.921 total time=   0.0s\n",
            "[CV 5/5] END ....C=1, gamma=0.01, kernel=linear;, score=0.933 total time=   0.0s\n",
            "[CV 1/5] END .....C=1, gamma=0.1, kernel=linear;, score=0.929 total time=   0.0s\n",
            "[CV 2/5] END .....C=1, gamma=0.1, kernel=linear;, score=0.925 total time=   0.0s\n",
            "[CV 3/5] END .....C=1, gamma=0.1, kernel=linear;, score=0.925 total time=   0.0s\n",
            "[CV 4/5] END .....C=1, gamma=0.1, kernel=linear;, score=0.921 total time=   0.0s\n",
            "[CV 5/5] END .....C=1, gamma=0.1, kernel=linear;, score=0.933 total time=   0.0s\n",
            "[CV 1/5] END .......C=1, gamma=1, kernel=linear;, score=0.929 total time=   0.0s\n",
            "[CV 2/5] END .......C=1, gamma=1, kernel=linear;, score=0.925 total time=   0.0s\n",
            "[CV 3/5] END .......C=1, gamma=1, kernel=linear;, score=0.925 total time=   0.0s\n",
            "[CV 4/5] END .......C=1, gamma=1, kernel=linear;, score=0.921 total time=   0.0s\n",
            "[CV 5/5] END .......C=1, gamma=1, kernel=linear;, score=0.933 total time=   0.0s\n",
            "[CV 1/5] END ......C=1, gamma=10, kernel=linear;, score=0.929 total time=   0.0s\n",
            "[CV 2/5] END ......C=1, gamma=10, kernel=linear;, score=0.925 total time=   0.0s\n",
            "[CV 3/5] END ......C=1, gamma=10, kernel=linear;, score=0.925 total time=   0.0s\n",
            "[CV 4/5] END ......C=1, gamma=10, kernel=linear;, score=0.921 total time=   0.0s\n",
            "[CV 5/5] END ......C=1, gamma=10, kernel=linear;, score=0.933 total time=   0.0s\n",
            "[CV 1/5] END ...C=10, gamma=0.01, kernel=linear;, score=0.938 total time=   0.0s\n",
            "[CV 2/5] END ...C=10, gamma=0.01, kernel=linear;, score=0.929 total time=   0.0s\n",
            "[CV 3/5] END ...C=10, gamma=0.01, kernel=linear;, score=0.925 total time=   0.0s\n",
            "[CV 4/5] END ...C=10, gamma=0.01, kernel=linear;, score=0.904 total time=   0.0s\n",
            "[CV 5/5] END ...C=10, gamma=0.01, kernel=linear;, score=0.912 total time=   0.0s\n",
            "[CV 1/5] END ....C=10, gamma=0.1, kernel=linear;, score=0.938 total time=   0.0s\n",
            "[CV 2/5] END ....C=10, gamma=0.1, kernel=linear;, score=0.929 total time=   0.0s\n",
            "[CV 3/5] END ....C=10, gamma=0.1, kernel=linear;, score=0.925 total time=   0.0s\n",
            "[CV 4/5] END ....C=10, gamma=0.1, kernel=linear;, score=0.904 total time=   0.0s\n",
            "[CV 5/5] END ....C=10, gamma=0.1, kernel=linear;, score=0.912 total time=   0.0s\n",
            "[CV 1/5] END ......C=10, gamma=1, kernel=linear;, score=0.938 total time=   0.0s\n",
            "[CV 2/5] END ......C=10, gamma=1, kernel=linear;, score=0.929 total time=   0.0s\n",
            "[CV 3/5] END ......C=10, gamma=1, kernel=linear;, score=0.925 total time=   0.0s\n",
            "[CV 4/5] END ......C=10, gamma=1, kernel=linear;, score=0.904 total time=   0.0s\n",
            "[CV 5/5] END ......C=10, gamma=1, kernel=linear;, score=0.912 total time=   0.0s\n",
            "[CV 1/5] END .....C=10, gamma=10, kernel=linear;, score=0.938 total time=   0.0s\n",
            "[CV 2/5] END .....C=10, gamma=10, kernel=linear;, score=0.929 total time=   0.0s\n",
            "[CV 3/5] END .....C=10, gamma=10, kernel=linear;, score=0.925 total time=   0.0s\n",
            "[CV 4/5] END .....C=10, gamma=10, kernel=linear;, score=0.904 total time=   0.0s\n",
            "[CV 5/5] END .....C=10, gamma=10, kernel=linear;, score=0.912 total time=   0.0s\n",
            "[CV 1/5] END ..C=100, gamma=0.01, kernel=linear;, score=0.938 total time=   0.0s\n",
            "[CV 2/5] END ..C=100, gamma=0.01, kernel=linear;, score=0.917 total time=   0.0s\n",
            "[CV 3/5] END ..C=100, gamma=0.01, kernel=linear;, score=0.925 total time=   0.0s\n",
            "[CV 4/5] END ..C=100, gamma=0.01, kernel=linear;, score=0.900 total time=   0.0s\n",
            "[CV 5/5] END ..C=100, gamma=0.01, kernel=linear;, score=0.912 total time=   0.0s\n",
            "[CV 1/5] END ...C=100, gamma=0.1, kernel=linear;, score=0.938 total time=   0.0s\n",
            "[CV 2/5] END ...C=100, gamma=0.1, kernel=linear;, score=0.917 total time=   0.0s\n",
            "[CV 3/5] END ...C=100, gamma=0.1, kernel=linear;, score=0.925 total time=   0.0s\n",
            "[CV 4/5] END ...C=100, gamma=0.1, kernel=linear;, score=0.900 total time=   0.0s\n",
            "[CV 5/5] END ...C=100, gamma=0.1, kernel=linear;, score=0.912 total time=   0.0s\n",
            "[CV 1/5] END .....C=100, gamma=1, kernel=linear;, score=0.938 total time=   0.0s\n",
            "[CV 2/5] END .....C=100, gamma=1, kernel=linear;, score=0.917 total time=   0.0s\n",
            "[CV 3/5] END .....C=100, gamma=1, kernel=linear;, score=0.925 total time=   0.0s\n",
            "[CV 4/5] END .....C=100, gamma=1, kernel=linear;, score=0.900 total time=   0.0s\n",
            "[CV 5/5] END .....C=100, gamma=1, kernel=linear;, score=0.912 total time=   0.0s\n",
            "[CV 1/5] END ....C=100, gamma=10, kernel=linear;, score=0.938 total time=   0.0s\n",
            "[CV 2/5] END ....C=100, gamma=10, kernel=linear;, score=0.917 total time=   0.0s\n",
            "[CV 3/5] END ....C=100, gamma=10, kernel=linear;, score=0.925 total time=   0.0s\n",
            "[CV 4/5] END ....C=100, gamma=10, kernel=linear;, score=0.900 total time=   0.0s\n",
            "[CV 5/5] END ....C=100, gamma=10, kernel=linear;, score=0.912 total time=   0.0s\n",
            "Selected Kernel:  linear\n",
            "Selected C:  1\n",
            "Selected Gamma:  0.01\n",
            "Best Score : 0.9266666666666667\n",
            "best estimator: SVC(C=1, gamma=0.01, kernel='linear')\n"
          ]
        }
      ]
    },
    {
      "cell_type": "markdown",
      "source": [
        "# Klasifikasi SVM (Hyperparameter Tunning) Menggunakan Kernel Polynomial"
      ],
      "metadata": {
        "id": "In2GZfOSu1Pc"
      }
    },
    {
      "cell_type": "code",
      "source": [
        "#Tuning Parameter with GridSearchCV\n",
        "#Kernel Polynomial\n",
        "\n",
        "param_grid = {'C': [0.1, 1, 10, 100],\n",
        "              'kernel': ['poly'],\n",
        "              'gamma' :[0.01, 0.1, 1, 10]\n",
        "             }\n",
        "\n",
        "grid = GridSearchCV(svm.SVC(), param_grid, scoring='accuracy', refit = True, verbose = 3)\n",
        "# fitting the model for grid search\n",
        "grid.fit(x_efficiency_train_vectorized, y_efficiency_train)\n",
        "\n",
        "\n",
        "selected_kernel_poly = grid.best_params_['kernel']\n",
        "print(\"Selected Kernel: \", selected_kernel_poly)\n",
        "selected_C_poly= grid.best_params_['C']\n",
        "print(\"Selected C: \", selected_C_poly)\n",
        "selected_gamma_poly = grid.best_params_['gamma']\n",
        "print(\"Selected Gamma: \", selected_gamma_poly)\n",
        "\n",
        "\n",
        "best_params_poly_HT = grid.best_params_\n",
        "model_looks_poly_HT= grid.best_estimator_\n",
        "\n",
        "print(f'Best Score : {grid.best_score_}')\n",
        "print(\"best estimator: %s\" % (model_looks_poly_HT))"
      ],
      "metadata": {
        "colab": {
          "base_uri": "https://localhost:8080/"
        },
        "id": "QlbaYx25u5yh",
        "outputId": "e079d0b1-61e3-4a3f-c8a9-fc13bdd28264"
      },
      "execution_count": null,
      "outputs": [
        {
          "output_type": "stream",
          "name": "stdout",
          "text": [
            "Fitting 5 folds for each of 16 candidates, totalling 80 fits\n",
            "[CV 1/5] END ....C=0.1, gamma=0.01, kernel=poly;, score=0.917 total time=   0.0s\n",
            "[CV 2/5] END ....C=0.1, gamma=0.01, kernel=poly;, score=0.917 total time=   0.0s\n",
            "[CV 3/5] END ....C=0.1, gamma=0.01, kernel=poly;, score=0.917 total time=   0.0s\n",
            "[CV 4/5] END ....C=0.1, gamma=0.01, kernel=poly;, score=0.917 total time=   0.0s\n",
            "[CV 5/5] END ....C=0.1, gamma=0.01, kernel=poly;, score=0.912 total time=   0.0s\n",
            "[CV 1/5] END .....C=0.1, gamma=0.1, kernel=poly;, score=0.917 total time=   0.0s\n",
            "[CV 2/5] END .....C=0.1, gamma=0.1, kernel=poly;, score=0.917 total time=   0.0s\n",
            "[CV 3/5] END .....C=0.1, gamma=0.1, kernel=poly;, score=0.917 total time=   0.0s\n",
            "[CV 4/5] END .....C=0.1, gamma=0.1, kernel=poly;, score=0.917 total time=   0.0s\n",
            "[CV 5/5] END .....C=0.1, gamma=0.1, kernel=poly;, score=0.912 total time=   0.0s\n",
            "[CV 1/5] END .......C=0.1, gamma=1, kernel=poly;, score=0.917 total time=   0.0s\n",
            "[CV 2/5] END .......C=0.1, gamma=1, kernel=poly;, score=0.917 total time=   0.0s\n",
            "[CV 3/5] END .......C=0.1, gamma=1, kernel=poly;, score=0.917 total time=   0.0s\n",
            "[CV 4/5] END .......C=0.1, gamma=1, kernel=poly;, score=0.917 total time=   0.0s\n",
            "[CV 5/5] END .......C=0.1, gamma=1, kernel=poly;, score=0.912 total time=   0.0s\n",
            "[CV 1/5] END ......C=0.1, gamma=10, kernel=poly;, score=0.925 total time=   0.0s\n",
            "[CV 2/5] END ......C=0.1, gamma=10, kernel=poly;, score=0.912 total time=   0.1s\n",
            "[CV 3/5] END ......C=0.1, gamma=10, kernel=poly;, score=0.917 total time=   0.1s\n",
            "[CV 4/5] END ......C=0.1, gamma=10, kernel=poly;, score=0.917 total time=   0.0s\n",
            "[CV 5/5] END ......C=0.1, gamma=10, kernel=poly;, score=0.933 total time=   0.0s\n",
            "[CV 1/5] END ......C=1, gamma=0.01, kernel=poly;, score=0.917 total time=   0.0s\n",
            "[CV 2/5] END ......C=1, gamma=0.01, kernel=poly;, score=0.917 total time=   0.0s\n",
            "[CV 3/5] END ......C=1, gamma=0.01, kernel=poly;, score=0.917 total time=   0.0s\n",
            "[CV 4/5] END ......C=1, gamma=0.01, kernel=poly;, score=0.917 total time=   0.0s\n",
            "[CV 5/5] END ......C=1, gamma=0.01, kernel=poly;, score=0.912 total time=   0.0s\n",
            "[CV 1/5] END .......C=1, gamma=0.1, kernel=poly;, score=0.917 total time=   0.0s\n",
            "[CV 2/5] END .......C=1, gamma=0.1, kernel=poly;, score=0.917 total time=   0.0s\n",
            "[CV 3/5] END .......C=1, gamma=0.1, kernel=poly;, score=0.917 total time=   0.0s\n",
            "[CV 4/5] END .......C=1, gamma=0.1, kernel=poly;, score=0.917 total time=   0.0s\n",
            "[CV 5/5] END .......C=1, gamma=0.1, kernel=poly;, score=0.912 total time=   0.0s\n",
            "[CV 1/5] END .........C=1, gamma=1, kernel=poly;, score=0.925 total time=   0.1s\n",
            "[CV 2/5] END .........C=1, gamma=1, kernel=poly;, score=0.917 total time=   0.0s\n",
            "[CV 3/5] END .........C=1, gamma=1, kernel=poly;, score=0.921 total time=   0.0s\n",
            "[CV 4/5] END .........C=1, gamma=1, kernel=poly;, score=0.917 total time=   0.0s\n",
            "[CV 5/5] END .........C=1, gamma=1, kernel=poly;, score=0.929 total time=   0.0s\n",
            "[CV 1/5] END ........C=1, gamma=10, kernel=poly;, score=0.925 total time=   0.1s\n",
            "[CV 2/5] END ........C=1, gamma=10, kernel=poly;, score=0.912 total time=   0.1s\n",
            "[CV 3/5] END ........C=1, gamma=10, kernel=poly;, score=0.917 total time=   0.1s\n",
            "[CV 4/5] END ........C=1, gamma=10, kernel=poly;, score=0.917 total time=   0.1s\n",
            "[CV 5/5] END ........C=1, gamma=10, kernel=poly;, score=0.933 total time=   0.1s\n",
            "[CV 1/5] END .....C=10, gamma=0.01, kernel=poly;, score=0.917 total time=   0.0s\n",
            "[CV 2/5] END .....C=10, gamma=0.01, kernel=poly;, score=0.917 total time=   0.0s\n",
            "[CV 3/5] END .....C=10, gamma=0.01, kernel=poly;, score=0.917 total time=   0.0s\n",
            "[CV 4/5] END .....C=10, gamma=0.01, kernel=poly;, score=0.917 total time=   0.0s\n",
            "[CV 5/5] END .....C=10, gamma=0.01, kernel=poly;, score=0.912 total time=   0.0s\n",
            "[CV 1/5] END ......C=10, gamma=0.1, kernel=poly;, score=0.917 total time=   0.0s\n",
            "[CV 2/5] END ......C=10, gamma=0.1, kernel=poly;, score=0.917 total time=   0.0s\n",
            "[CV 3/5] END ......C=10, gamma=0.1, kernel=poly;, score=0.917 total time=   0.0s\n",
            "[CV 4/5] END ......C=10, gamma=0.1, kernel=poly;, score=0.917 total time=   0.0s\n",
            "[CV 5/5] END ......C=10, gamma=0.1, kernel=poly;, score=0.912 total time=   0.0s\n",
            "[CV 1/5] END ........C=10, gamma=1, kernel=poly;, score=0.925 total time=   0.1s\n",
            "[CV 2/5] END ........C=10, gamma=1, kernel=poly;, score=0.912 total time=   0.0s\n",
            "[CV 3/5] END ........C=10, gamma=1, kernel=poly;, score=0.917 total time=   0.1s\n",
            "[CV 4/5] END ........C=10, gamma=1, kernel=poly;, score=0.917 total time=   0.0s\n",
            "[CV 5/5] END ........C=10, gamma=1, kernel=poly;, score=0.933 total time=   0.1s\n",
            "[CV 1/5] END .......C=10, gamma=10, kernel=poly;, score=0.925 total time=   0.0s\n",
            "[CV 2/5] END .......C=10, gamma=10, kernel=poly;, score=0.912 total time=   0.1s\n",
            "[CV 3/5] END .......C=10, gamma=10, kernel=poly;, score=0.917 total time=   0.1s\n",
            "[CV 4/5] END .......C=10, gamma=10, kernel=poly;, score=0.917 total time=   0.1s\n",
            "[CV 5/5] END .......C=10, gamma=10, kernel=poly;, score=0.933 total time=   0.0s\n",
            "[CV 1/5] END ....C=100, gamma=0.01, kernel=poly;, score=0.917 total time=   0.0s\n",
            "[CV 2/5] END ....C=100, gamma=0.01, kernel=poly;, score=0.917 total time=   0.0s\n",
            "[CV 3/5] END ....C=100, gamma=0.01, kernel=poly;, score=0.917 total time=   0.0s\n",
            "[CV 4/5] END ....C=100, gamma=0.01, kernel=poly;, score=0.917 total time=   0.0s\n",
            "[CV 5/5] END ....C=100, gamma=0.01, kernel=poly;, score=0.912 total time=   0.0s\n",
            "[CV 1/5] END .....C=100, gamma=0.1, kernel=poly;, score=0.917 total time=   0.0s\n",
            "[CV 2/5] END .....C=100, gamma=0.1, kernel=poly;, score=0.917 total time=   0.0s\n",
            "[CV 3/5] END .....C=100, gamma=0.1, kernel=poly;, score=0.917 total time=   0.0s\n",
            "[CV 4/5] END .....C=100, gamma=0.1, kernel=poly;, score=0.917 total time=   0.0s\n",
            "[CV 5/5] END .....C=100, gamma=0.1, kernel=poly;, score=0.912 total time=   0.0s\n",
            "[CV 1/5] END .......C=100, gamma=1, kernel=poly;, score=0.925 total time=   0.1s\n",
            "[CV 2/5] END .......C=100, gamma=1, kernel=poly;, score=0.912 total time=   0.1s\n",
            "[CV 3/5] END .......C=100, gamma=1, kernel=poly;, score=0.917 total time=   0.1s\n",
            "[CV 4/5] END .......C=100, gamma=1, kernel=poly;, score=0.917 total time=   0.1s\n",
            "[CV 5/5] END .......C=100, gamma=1, kernel=poly;, score=0.933 total time=   0.1s\n",
            "[CV 1/5] END ......C=100, gamma=10, kernel=poly;, score=0.925 total time=   0.0s\n",
            "[CV 2/5] END ......C=100, gamma=10, kernel=poly;, score=0.912 total time=   0.0s\n",
            "[CV 3/5] END ......C=100, gamma=10, kernel=poly;, score=0.917 total time=   0.1s\n",
            "[CV 4/5] END ......C=100, gamma=10, kernel=poly;, score=0.917 total time=   0.1s\n",
            "[CV 5/5] END ......C=100, gamma=10, kernel=poly;, score=0.933 total time=   0.0s\n",
            "Selected Kernel:  poly\n",
            "Selected C:  1\n",
            "Selected Gamma:  1\n",
            "Best Score : 0.9216666666666666\n",
            "best estimator: SVC(C=1, gamma=1, kernel='poly')\n"
          ]
        }
      ]
    },
    {
      "cell_type": "markdown",
      "source": [
        "# Klasifikasi SVM (Hyperparameter Tunning) Menggunakan Kernel RBF"
      ],
      "metadata": {
        "id": "g4P8YglHvlpA"
      }
    },
    {
      "cell_type": "markdown",
      "source": [
        "Hyperparameter terbaik untuk aspek efficiency ada pada kernel RBF dg C=100, gamma 0.01, score=0.9275"
      ],
      "metadata": {
        "id": "tJWDZyYJwIlA"
      }
    },
    {
      "cell_type": "code",
      "source": [
        "#Tuning Parameter with GridSearchCV\n",
        "#Kernel RBF\n",
        "\n",
        "param_grid = {'C': [0.1, 1, 10, 100],\n",
        "              'kernel': ['rbf'],\n",
        "              'gamma' :[0.01, 0.1, 1, 10]\n",
        "             }\n",
        "\n",
        "grid = GridSearchCV(svm.SVC(), param_grid, scoring='accuracy', refit = True, verbose = 3)\n",
        "# fitting the model for grid search\n",
        "grid.fit(x_efficiency_train_vectorized, y_efficiency_train)\n",
        "\n",
        "selected_kernel_rbf = grid.best_params_['kernel']\n",
        "print(\"Selected Kernel: \", selected_kernel_rbf)\n",
        "selected_C_rbf = grid.best_params_['C']\n",
        "print(\"Selected C: \", selected_C_rbf)\n",
        "selected_gamma_rbf= grid.best_params_['gamma']\n",
        "print(\"Selected Gamma: \", selected_gamma_rbf)\n",
        "\n",
        "best_params_rbf_HT = grid.best_params_\n",
        "model_looks_rbf_HT= grid.best_estimator_\n",
        "\n",
        "print(f'Best Score : {grid.best_score_}')\n",
        "print(\"best estimator: %s\" % (model_looks_rbf_HT))"
      ],
      "metadata": {
        "colab": {
          "base_uri": "https://localhost:8080/"
        },
        "id": "VXEof0fKvrzl",
        "outputId": "f989c9ce-a1f3-4c5a-d0d6-657e1c104314"
      },
      "execution_count": null,
      "outputs": [
        {
          "output_type": "stream",
          "name": "stdout",
          "text": [
            "Fitting 5 folds for each of 16 candidates, totalling 80 fits\n",
            "[CV 1/5] END .....C=0.1, gamma=0.01, kernel=rbf;, score=0.917 total time=   0.0s\n",
            "[CV 2/5] END .....C=0.1, gamma=0.01, kernel=rbf;, score=0.917 total time=   0.0s\n",
            "[CV 3/5] END .....C=0.1, gamma=0.01, kernel=rbf;, score=0.917 total time=   0.0s\n",
            "[CV 4/5] END .....C=0.1, gamma=0.01, kernel=rbf;, score=0.917 total time=   0.0s\n",
            "[CV 5/5] END .....C=0.1, gamma=0.01, kernel=rbf;, score=0.912 total time=   0.0s\n",
            "[CV 1/5] END ......C=0.1, gamma=0.1, kernel=rbf;, score=0.917 total time=   0.0s\n",
            "[CV 2/5] END ......C=0.1, gamma=0.1, kernel=rbf;, score=0.917 total time=   0.0s\n",
            "[CV 3/5] END ......C=0.1, gamma=0.1, kernel=rbf;, score=0.917 total time=   0.0s\n",
            "[CV 4/5] END ......C=0.1, gamma=0.1, kernel=rbf;, score=0.917 total time=   0.0s\n",
            "[CV 5/5] END ......C=0.1, gamma=0.1, kernel=rbf;, score=0.912 total time=   0.0s\n",
            "[CV 1/5] END ........C=0.1, gamma=1, kernel=rbf;, score=0.917 total time=   0.1s\n",
            "[CV 2/5] END ........C=0.1, gamma=1, kernel=rbf;, score=0.917 total time=   0.1s\n",
            "[CV 3/5] END ........C=0.1, gamma=1, kernel=rbf;, score=0.917 total time=   0.1s\n",
            "[CV 4/5] END ........C=0.1, gamma=1, kernel=rbf;, score=0.917 total time=   0.1s\n",
            "[CV 5/5] END ........C=0.1, gamma=1, kernel=rbf;, score=0.912 total time=   0.1s\n",
            "[CV 1/5] END .......C=0.1, gamma=10, kernel=rbf;, score=0.917 total time=   0.1s\n",
            "[CV 2/5] END .......C=0.1, gamma=10, kernel=rbf;, score=0.917 total time=   0.1s\n",
            "[CV 3/5] END .......C=0.1, gamma=10, kernel=rbf;, score=0.917 total time=   0.1s\n",
            "[CV 4/5] END .......C=0.1, gamma=10, kernel=rbf;, score=0.917 total time=   0.1s\n",
            "[CV 5/5] END .......C=0.1, gamma=10, kernel=rbf;, score=0.912 total time=   0.1s\n",
            "[CV 1/5] END .......C=1, gamma=0.01, kernel=rbf;, score=0.917 total time=   0.0s\n",
            "[CV 2/5] END .......C=1, gamma=0.01, kernel=rbf;, score=0.917 total time=   0.0s\n",
            "[CV 3/5] END .......C=1, gamma=0.01, kernel=rbf;, score=0.917 total time=   0.0s\n",
            "[CV 4/5] END .......C=1, gamma=0.01, kernel=rbf;, score=0.917 total time=   0.0s\n",
            "[CV 5/5] END .......C=1, gamma=0.01, kernel=rbf;, score=0.912 total time=   0.0s\n",
            "[CV 1/5] END ........C=1, gamma=0.1, kernel=rbf;, score=0.917 total time=   0.0s\n",
            "[CV 2/5] END ........C=1, gamma=0.1, kernel=rbf;, score=0.917 total time=   0.0s\n",
            "[CV 3/5] END ........C=1, gamma=0.1, kernel=rbf;, score=0.917 total time=   0.0s\n",
            "[CV 4/5] END ........C=1, gamma=0.1, kernel=rbf;, score=0.917 total time=   0.0s\n",
            "[CV 5/5] END ........C=1, gamma=0.1, kernel=rbf;, score=0.912 total time=   0.0s\n",
            "[CV 1/5] END ..........C=1, gamma=1, kernel=rbf;, score=0.925 total time=   0.1s\n",
            "[CV 2/5] END ..........C=1, gamma=1, kernel=rbf;, score=0.921 total time=   0.1s\n",
            "[CV 3/5] END ..........C=1, gamma=1, kernel=rbf;, score=0.929 total time=   0.1s\n",
            "[CV 4/5] END ..........C=1, gamma=1, kernel=rbf;, score=0.921 total time=   0.1s\n",
            "[CV 5/5] END ..........C=1, gamma=1, kernel=rbf;, score=0.933 total time=   0.1s\n",
            "[CV 1/5] END .........C=1, gamma=10, kernel=rbf;, score=0.921 total time=   0.1s\n",
            "[CV 2/5] END .........C=1, gamma=10, kernel=rbf;, score=0.917 total time=   0.1s\n",
            "[CV 3/5] END .........C=1, gamma=10, kernel=rbf;, score=0.917 total time=   0.2s\n",
            "[CV 4/5] END .........C=1, gamma=10, kernel=rbf;, score=0.917 total time=   0.2s\n",
            "[CV 5/5] END .........C=1, gamma=10, kernel=rbf;, score=0.917 total time=   0.2s\n",
            "[CV 1/5] END ......C=10, gamma=0.01, kernel=rbf;, score=0.917 total time=   0.1s\n",
            "[CV 2/5] END ......C=10, gamma=0.01, kernel=rbf;, score=0.917 total time=   0.1s\n",
            "[CV 3/5] END ......C=10, gamma=0.01, kernel=rbf;, score=0.917 total time=   0.1s\n",
            "[CV 4/5] END ......C=10, gamma=0.01, kernel=rbf;, score=0.917 total time=   0.1s\n",
            "[CV 5/5] END ......C=10, gamma=0.01, kernel=rbf;, score=0.912 total time=   0.1s\n",
            "[CV 1/5] END .......C=10, gamma=0.1, kernel=rbf;, score=0.950 total time=   0.1s\n",
            "[CV 2/5] END .......C=10, gamma=0.1, kernel=rbf;, score=0.929 total time=   0.1s\n",
            "[CV 3/5] END .......C=10, gamma=0.1, kernel=rbf;, score=0.921 total time=   0.1s\n",
            "[CV 4/5] END .......C=10, gamma=0.1, kernel=rbf;, score=0.929 total time=   0.1s\n",
            "[CV 5/5] END .......C=10, gamma=0.1, kernel=rbf;, score=0.933 total time=   0.1s\n",
            "[CV 1/5] END .........C=10, gamma=1, kernel=rbf;, score=0.933 total time=   0.1s\n",
            "[CV 2/5] END .........C=10, gamma=1, kernel=rbf;, score=0.925 total time=   0.1s\n",
            "[CV 3/5] END .........C=10, gamma=1, kernel=rbf;, score=0.921 total time=   0.1s\n",
            "[CV 4/5] END .........C=10, gamma=1, kernel=rbf;, score=0.921 total time=   0.1s\n",
            "[CV 5/5] END .........C=10, gamma=1, kernel=rbf;, score=0.938 total time=   0.1s\n",
            "[CV 1/5] END ........C=10, gamma=10, kernel=rbf;, score=0.921 total time=   0.1s\n",
            "[CV 2/5] END ........C=10, gamma=10, kernel=rbf;, score=0.917 total time=   0.1s\n",
            "[CV 3/5] END ........C=10, gamma=10, kernel=rbf;, score=0.917 total time=   0.1s\n",
            "[CV 4/5] END ........C=10, gamma=10, kernel=rbf;, score=0.917 total time=   0.1s\n",
            "[CV 5/5] END ........C=10, gamma=10, kernel=rbf;, score=0.917 total time=   0.1s\n",
            "[CV 1/5] END .....C=100, gamma=0.01, kernel=rbf;, score=0.950 total time=   0.0s\n",
            "[CV 2/5] END .....C=100, gamma=0.01, kernel=rbf;, score=0.929 total time=   0.0s\n",
            "[CV 3/5] END .....C=100, gamma=0.01, kernel=rbf;, score=0.921 total time=   0.0s\n",
            "[CV 4/5] END .....C=100, gamma=0.01, kernel=rbf;, score=0.921 total time=   0.0s\n",
            "[CV 5/5] END .....C=100, gamma=0.01, kernel=rbf;, score=0.929 total time=   0.0s\n",
            "[CV 1/5] END ......C=100, gamma=0.1, kernel=rbf;, score=0.946 total time=   0.0s\n",
            "[CV 2/5] END ......C=100, gamma=0.1, kernel=rbf;, score=0.925 total time=   0.0s\n",
            "[CV 3/5] END ......C=100, gamma=0.1, kernel=rbf;, score=0.921 total time=   0.0s\n",
            "[CV 4/5] END ......C=100, gamma=0.1, kernel=rbf;, score=0.912 total time=   0.0s\n",
            "[CV 5/5] END ......C=100, gamma=0.1, kernel=rbf;, score=0.917 total time=   0.0s\n",
            "[CV 1/5] END ........C=100, gamma=1, kernel=rbf;, score=0.933 total time=   0.1s\n",
            "[CV 2/5] END ........C=100, gamma=1, kernel=rbf;, score=0.925 total time=   0.1s\n",
            "[CV 3/5] END ........C=100, gamma=1, kernel=rbf;, score=0.921 total time=   0.1s\n",
            "[CV 4/5] END ........C=100, gamma=1, kernel=rbf;, score=0.921 total time=   0.1s\n",
            "[CV 5/5] END ........C=100, gamma=1, kernel=rbf;, score=0.938 total time=   0.1s\n",
            "[CV 1/5] END .......C=100, gamma=10, kernel=rbf;, score=0.921 total time=   0.1s\n",
            "[CV 2/5] END .......C=100, gamma=10, kernel=rbf;, score=0.917 total time=   0.1s\n",
            "[CV 3/5] END .......C=100, gamma=10, kernel=rbf;, score=0.917 total time=   0.1s\n",
            "[CV 4/5] END .......C=100, gamma=10, kernel=rbf;, score=0.917 total time=   0.1s\n",
            "[CV 5/5] END .......C=100, gamma=10, kernel=rbf;, score=0.917 total time=   0.1s\n",
            "Selected Kernel:  rbf\n",
            "Selected C:  10\n",
            "Selected Gamma:  0.1\n",
            "Best Score : 0.9324999999999999\n",
            "best estimator: SVC(C=10, gamma=0.1)\n"
          ]
        }
      ]
    },
    {
      "cell_type": "markdown",
      "source": [
        "# K-Fold Cross Validation dengan Hyperparameter Tunning"
      ],
      "metadata": {
        "id": "G2fZwJyTwy03"
      }
    },
    {
      "cell_type": "code",
      "source": [
        "cross_val_score_linear= cross_val_score(model_looks_linear_HT, x_efficiency_train_vectorized, y_efficiency_train, scoring='accuracy', cv=5)\n",
        "print(\"Accuracy Score Linear of : %0.4f\" % cross_val_score_linear.mean(), cross_val_score_linear.std())\n",
        "\n",
        "cross_val_score_poly = cross_val_score(model_looks_poly_HT, x_efficiency_train_vectorized, y_efficiency_train, scoring='accuracy', cv=5)\n",
        "print(\"Accuracy Score poly of : %0.4f\" % cross_val_score_poly.mean(), cross_val_score_poly.std())\n",
        "\n",
        "cross_val_score_rbf = cross_val_score(model_looks_rbf_HT, x_efficiency_train_vectorized, y_efficiency_train, scoring='accuracy', cv=5)\n",
        "print(\"Accuracy Score rbf of : %0.4f\" % cross_val_score_rbf.mean(), cross_val_score_rbf.std())"
      ],
      "metadata": {
        "colab": {
          "base_uri": "https://localhost:8080/"
        },
        "id": "oJO4xRGdxBej",
        "outputId": "85338f8d-0809-4dd9-ec88-06ea72c0b5f0"
      },
      "execution_count": null,
      "outputs": [
        {
          "output_type": "stream",
          "name": "stdout",
          "text": [
            "Accuracy Score Linear of : 0.9267 0.004249182927994003\n",
            "Accuracy Score poly of : 0.9217 0.004859126579037782\n",
            "Accuracy Score rbf of : 0.9325 0.00964653075232518\n"
          ]
        }
      ]
    },
    {
      "cell_type": "markdown",
      "source": [
        "# Visualisasi Pengaruh Hyperparameter Tunning pada Model Klasifikasi SVM di Aspek Efficiency"
      ],
      "metadata": {
        "id": "jbBTyNVgx2B6"
      }
    },
    {
      "cell_type": "markdown",
      "source": [
        "Hyperparameter tunning pada aspek efficiency hanya berpengaruh pada kernel RBF dengan kenaikan sebesar 0.0075"
      ],
      "metadata": {
        "id": "LyYmgeYlyw_6"
      }
    },
    {
      "cell_type": "code",
      "source": [
        "import numpy as np\n",
        "from matplotlib.ticker import FormatStrFormatter\n",
        "\n",
        "import matplotlib.pyplot as plt\n",
        "%matplotlib inline\n",
        "\n",
        "\n",
        "name = ['Linear', 'RBF', 'Polynomial']\n",
        "before_HT = [cv_linear.mean(), cv_rbf.mean(), cv_poly.mean()]\n",
        "after_HT = [cross_val_score_linear.mean(), cross_val_score_rbf.mean(), cross_val_score_poly.mean()]\n",
        "diff_linear = ((cross_val_score_linear.mean()-cv_linear.mean()))\n",
        "diff_rbf = ((cross_val_score_rbf.mean()-cv_rbf.mean()))\n",
        "diff_poly = ((cross_val_score_poly.mean()-cv_poly.mean()))\n",
        "diff_HT = [diff_linear, diff_rbf, diff_poly]\n",
        "\n",
        "x = np.arange(len(name))\n",
        "width = 0.2\n",
        "\n",
        "fig, ax = plt.subplots(figsize=(14, 7))\n",
        "\n",
        "bfr = ax.bar(x - width/2, before_HT, width, label='Before', color='steelblue')\n",
        "aftr = ax.bar(x + width/2, after_HT, width, label='After', color='orange')\n",
        "diff = ax.bar(x + 0.3, diff_HT, width, label='Diffrenciate', color='cyan')\n",
        "\n",
        "ax.set_title('Hasil Hyperparameter Aspek Efficiency', size=16)\n",
        "ax.set_ylabel('Accuracy', size=14)\n",
        "ax.set_xticks(x)\n",
        "ax.set_xticklabels(name, size=14)\n",
        "ax.legend(fontsize=14)\n",
        "ax.legend(bbox_to_anchor=(1.02, 1), loc='upper left', borderaxespad=0)\n",
        "ax.yaxis.set_major_formatter(FormatStrFormatter(\"%0.2f\"))\n",
        "for p in ax.patches:\n",
        "    h = p.get_height()\n",
        "    x = p.get_x()+p.get_width()/2\n",
        "    if h!= 0:\n",
        "      ax.annotate(\"%g\" % p.get_height(), xy=(x,h), xytext=(0,5), textcoords=\"offset points\",\n",
        "                  ha=\"center\", fontsize=10)\n",
        "\n",
        "plt.show()"
      ],
      "metadata": {
        "colab": {
          "base_uri": "https://localhost:8080/"
        },
        "id": "jqZN4Uh4xyBG",
        "outputId": "4e4ea3a1-7f33-40b3-d224-5c6f252861b8"
      },
      "execution_count": null,
      "outputs": [
        {
          "output_type": "display_data",
          "data": {
            "text/plain": [
              "<Figure size 1400x700 with 1 Axes>"
            ],
            "image/png": "[encoded data removed]"
          },
          "metadata": {}
        }
      ]
    },
    {
      "cell_type": "markdown",
      "source": [
        "# Validasi Model Hyperparameter Tunning Data Test Linear Kernel"
      ],
      "metadata": {
        "id": "etunappIXY1I"
      }
    },
    {
      "cell_type": "code",
      "source": [
        "grid_predictions = model_looks_linear_HT.predict(x_efficiency_test_vectorized)\n",
        "\n",
        "print(\"F1-SCORE \",f1(y_efficiency_test,grid_predictions,average='macro') * 100)\n",
        "print(\"ACCURACY \",acc(y_efficiency_test,grid_predictions) * 100)\n",
        "print(\"PRECISION \",prec(y_efficiency_test,grid_predictions,average='macro') * 100)\n",
        "print(\"RECALL\",recall(y_efficiency_test,grid_predictions,average='macro') * 100)\n",
        "\n",
        "print('Confusion Matrix : \\n', confusion_matrix(y_efficiency_test, grid_predictions))\n",
        "print('Report Hasil : \\n',classification_report(y_efficiency_test, grid_predictions))"
      ],
      "metadata": {
        "colab": {
          "base_uri": "https://localhost:8080/"
        },
        "id": "1SX832YjgWJ9",
        "outputId": "5baea125-183e-4277-dd71-364362cd2e5c"
      },
      "execution_count": null,
      "outputs": [
        {
          "output_type": "stream",
          "name": "stdout",
          "text": [
            "F1-SCORE  59.91662658329325\n",
            "ACCURACY  91.66666666666666\n",
            "PRECISION  74.81716235982448\n",
            "RECALL 57.144862436833236\n",
            "Confusion Matrix : \n",
            " [[271   3]\n",
            " [ 22   4]]\n",
            "Report Hasil : \n",
            "               precision    recall  f1-score   support\n",
            "\n",
            "           0       0.92      0.99      0.96       274\n",
            "           1       0.57      0.15      0.24        26\n",
            "\n",
            "    accuracy                           0.92       300\n",
            "   macro avg       0.75      0.57      0.60       300\n",
            "weighted avg       0.89      0.92      0.89       300\n",
            "\n"
          ]
        }
      ]
    },
    {
      "cell_type": "code",
      "source": [
        "grid_predictions"
      ],
      "metadata": {
        "colab": {
          "base_uri": "https://localhost:8080/"
        },
        "id": "NSgHqZ-ifxP6",
        "outputId": "aaaf2d3e-dd6a-4d5d-f9f8-02caa3589ea9"
      },
      "execution_count": null,
      "outputs": [
        {
          "output_type": "execute_result",
          "data": {
            "text/plain": [
              "array([0, 0, 0, 0, 0, 0, 0, 0, 0, 0, 0, 0, 0, 0, 0, 0, 0, 0, 0, 0, 0, 0,\n",
              "       0, 0, 0, 0, 0, 0, 0, 0, 0, 0, 0, 0, 0, 0, 0, 0, 0, 0, 0, 0, 0, 0,\n",
              "       0, 1, 0, 0, 0, 0, 0, 0, 0, 0, 0, 0, 0, 0, 0, 0, 0, 0, 0, 0, 0, 0,\n",
              "       0, 0, 0, 0, 0, 0, 0, 0, 0, 0, 0, 0, 0, 0, 0, 0, 0, 0, 0, 0, 0, 0,\n",
              "       0, 0, 0, 0, 0, 0, 0, 0, 0, 0, 0, 0, 1, 0, 0, 0, 0, 0, 0, 0, 0, 0,\n",
              "       0, 0, 1, 0, 0, 0, 1, 0, 0, 0, 0, 0, 0, 0, 0, 0, 0, 0, 0, 0, 0, 0,\n",
              "       0, 0, 0, 0, 0, 0, 0, 0, 0, 0, 0, 0, 0, 0, 0, 0, 0, 0, 0, 0, 0, 0,\n",
              "       0, 0, 0, 0, 0, 0, 0, 0, 0, 0, 0, 0, 0, 0, 0, 0, 0, 0, 0, 0, 0, 0,\n",
              "       0, 0, 0, 0, 0, 0, 0, 0, 0, 0, 0, 0, 0, 0, 0, 0, 0, 0, 0, 0, 0, 0,\n",
              "       0, 0, 0, 0, 0, 0, 0, 0, 0, 0, 0, 0, 0, 0, 0, 0, 0, 0, 0, 1, 0, 0,\n",
              "       0, 0, 0, 0, 0, 0, 0, 0, 0, 0, 0, 0, 0, 0, 0, 0, 0, 0, 0, 0, 0, 0,\n",
              "       0, 0, 0, 0, 0, 0, 0, 0, 0, 0, 0, 0, 1, 0, 0, 0, 0, 0, 0, 0, 0, 0,\n",
              "       0, 1, 0, 0, 0, 0, 0, 0, 0, 0, 0, 0, 0, 0, 0, 0, 0, 0, 0, 0, 0, 0,\n",
              "       0, 0, 0, 0, 0, 0, 0, 0, 0, 0, 0, 0, 0, 0])"
            ]
          },
          "metadata": {},
          "execution_count": 21
        }
      ]
    },
    {
      "cell_type": "markdown",
      "source": [
        "# Validasi Model Hyperparameter Tunning Data Test Polynomial Kernel"
      ],
      "metadata": {
        "id": "3XcZdCfngpWK"
      }
    },
    {
      "cell_type": "code",
      "source": [
        "grid_predictions = model_looks_poly_HT.predict(x_efficiency_test_vectorized)\n",
        "\n",
        "print(\"F1-SCORE \",f1(y_efficiency_test,grid_predictions,average='macro') * 100)\n",
        "print(\"ACCURACY \",acc(y_efficiency_test,grid_predictions) * 100)\n",
        "print(\"PRECISION \",prec(y_efficiency_test,grid_predictions,average='macro') * 100)\n",
        "print(\"RECALL\",recall(y_efficiency_test,grid_predictions,average='macro') * 100)\n",
        "\n",
        "print('Confusion Matrix : \\n', confusion_matrix(y_efficiency_test, grid_predictions))\n",
        "print('Report Hasil : \\n',classification_report(y_efficiency_test, grid_predictions))"
      ],
      "metadata": {
        "colab": {
          "base_uri": "https://localhost:8080/"
        },
        "id": "9cU2FkyXgvQ4",
        "outputId": "01b39f89-b1c9-4d7e-a877-7425283f176e"
      },
      "execution_count": null,
      "outputs": [
        {
          "output_type": "stream",
          "name": "stdout",
          "text": [
            "F1-SCORE  53.50328683662017\n",
            "ACCURACY  90.33333333333333\n",
            "PRECISION  78.61952861952861\n",
            "RECALL 53.14814814814815\n",
            "Confusion Matrix : \n",
            " [[269   1]\n",
            " [ 28   2]]\n",
            "Report Hasil : \n",
            "               precision    recall  f1-score   support\n",
            "\n",
            "           0       0.91      1.00      0.95       270\n",
            "           1       0.67      0.07      0.12        30\n",
            "\n",
            "    accuracy                           0.90       300\n",
            "   macro avg       0.79      0.53      0.54       300\n",
            "weighted avg       0.88      0.90      0.87       300\n",
            "\n"
          ]
        }
      ]
    },
    {
      "cell_type": "markdown",
      "source": [
        "# Validasi Model Hyperparameter Tunning Data Test RBF Kernel"
      ],
      "metadata": {
        "id": "M3RUXP32g0gX"
      }
    },
    {
      "cell_type": "code",
      "source": [
        "grid_predictions = model_looks_rbf_HT.predict(x_efficiency_test_vectorized)\n",
        "\n",
        "print(\"F1-SCORE \",f1(y_efficiency_test,grid_predictions,average='macro') * 100)\n",
        "print(\"ACCURACY \",acc(y_efficiency_test,grid_predictions) * 100)\n",
        "print(\"PRECISION \",prec(y_efficiency_test,grid_predictions,average='macro') * 100)\n",
        "print(\"RECALL\",recall(y_efficiency_test,grid_predictions,average='macro') * 100)\n",
        "\n",
        "print('Confusion Matrix : \\n', confusion_matrix(y_efficiency_test, grid_predictions))\n",
        "print('Report Hasil : \\n',classification_report(y_efficiency_test, grid_predictions))"
      ],
      "metadata": {
        "colab": {
          "base_uri": "https://localhost:8080/"
        },
        "id": "QL1_wrr0g6M9",
        "outputId": "1342e707-d102-4563-ec96-eb24696d93d5"
      },
      "execution_count": null,
      "outputs": [
        {
          "output_type": "stream",
          "name": "stdout",
          "text": [
            "F1-SCORE  74.77477477477477\n",
            "ACCURACY  93.0\n",
            "PRECISION  86.8421052631579\n",
            "RECALL 69.44444444444444\n",
            "Confusion Matrix : \n",
            " [[267   3]\n",
            " [ 18  12]]\n",
            "Report Hasil : \n",
            "               precision    recall  f1-score   support\n",
            "\n",
            "           0       0.94      0.99      0.96       270\n",
            "           1       0.80      0.40      0.53        30\n",
            "\n",
            "    accuracy                           0.93       300\n",
            "   macro avg       0.87      0.69      0.75       300\n",
            "weighted avg       0.92      0.93      0.92       300\n",
            "\n"
          ]
        }
      ]
    },
    {
      "cell_type": "markdown",
      "source": [
        "# Validasi Model Hyperparameter Tunning Data Train Linear Kernel"
      ],
      "metadata": {
        "id": "yzCHI6ADhFUC"
      }
    },
    {
      "cell_type": "code",
      "source": [
        "grid_predictions = model_looks_linear_HT.predict(x_efficiency_train_vectorized)\n",
        "\n",
        "print(\"F1-SCORE \",f1(y_efficiency_train,grid_predictions,average='macro') * 100)\n",
        "print(\"ACCURACY \",acc(y_efficiency_train,grid_predictions) * 100)\n",
        "print(\"PRECISION \",prec(y_efficiency_train,grid_predictions,average='macro') * 100)\n",
        "print(\"RECALL\",recall(y_efficiency_train,grid_predictions,average='macro') * 100)\n",
        "\n",
        "print('Confusion Matrix : \\n', confusion_matrix(y_efficiency_train, grid_predictions))\n",
        "print('Report Hasil : \\n',classification_report(y_efficiency_train, grid_predictions))"
      ],
      "metadata": {
        "colab": {
          "base_uri": "https://localhost:8080/"
        },
        "id": "-j-5F5t-hLPk",
        "outputId": "d1b53dd5-f539-4996-8423-e07b98472416"
      },
      "execution_count": null,
      "outputs": [
        {
          "output_type": "stream",
          "name": "stdout",
          "text": [
            "F1-SCORE  83.14291065742647\n",
            "ACCURACY  96.0\n",
            "PRECISION  95.30766177054386\n",
            "RECALL 76.6681309642867\n",
            "Confusion Matrix : \n",
            " [[1100    3]\n",
            " [  45   52]]\n",
            "Report Hasil : \n",
            "               precision    recall  f1-score   support\n",
            "\n",
            "           0       0.96      1.00      0.98      1103\n",
            "           1       0.95      0.54      0.68        97\n",
            "\n",
            "    accuracy                           0.96      1200\n",
            "   macro avg       0.95      0.77      0.83      1200\n",
            "weighted avg       0.96      0.96      0.95      1200\n",
            "\n"
          ]
        }
      ]
    },
    {
      "cell_type": "markdown",
      "source": [
        "# Validasi Model Hyperparameter Tunning Data Train Polynomial Kernel"
      ],
      "metadata": {
        "id": "uq3dIbWNhOP0"
      }
    },
    {
      "cell_type": "code",
      "source": [
        "grid_predictions = model_looks_poly_HT.predict(x_efficiency_train_vectorized)\n",
        "\n",
        "print(\"F1-SCORE \",f1(y_efficiency_train,grid_predictions,average='macro') * 100)\n",
        "print(\"ACCURACY \",acc(y_efficiency_train,grid_predictions) * 100)\n",
        "print(\"PRECISION \",prec(y_efficiency_train,grid_predictions,average='macro') * 100)\n",
        "print(\"RECALL\",recall(y_efficiency_train,grid_predictions,average='macro') * 100)\n",
        "\n",
        "print('Confusion Matrix : \\n', confusion_matrix(y_efficiency_train, grid_predictions))\n",
        "print('Report Hasil : \\n',classification_report(y_efficiency_train, grid_predictions))"
      ],
      "metadata": {
        "colab": {
          "base_uri": "https://localhost:8080/"
        },
        "id": "RBrSYY-xhTBf",
        "outputId": "5ad61fbe-00a5-4ae4-f5a2-286dd863d9b2"
      },
      "execution_count": null,
      "outputs": [
        {
          "output_type": "stream",
          "name": "stdout",
          "text": [
            "F1-SCORE  99.16274201988489\n",
            "ACCURACY  99.75\n",
            "PRECISION  98.934219785918\n",
            "RECALL 99.39387425110525\n",
            "Confusion Matrix : \n",
            " [[1101    2]\n",
            " [   1   96]]\n",
            "Report Hasil : \n",
            "               precision    recall  f1-score   support\n",
            "\n",
            "           0       1.00      1.00      1.00      1103\n",
            "           1       0.98      0.99      0.98        97\n",
            "\n",
            "    accuracy                           1.00      1200\n",
            "   macro avg       0.99      0.99      0.99      1200\n",
            "weighted avg       1.00      1.00      1.00      1200\n",
            "\n"
          ]
        }
      ]
    },
    {
      "cell_type": "markdown",
      "source": [
        "# Validasi Model Hyperparameter Tunning Data Train RBF Kernel"
      ],
      "metadata": {
        "id": "0vuHbN70hYYn"
      }
    },
    {
      "cell_type": "code",
      "source": [
        "grid_predictions = model_looks_rbf_HT.predict(x_efficiency_train_vectorized)\n",
        "\n",
        "print(\"F1-SCORE \",f1(y_efficiency_train,grid_predictions,average='macro') * 100)\n",
        "print(\"ACCURACY \",acc(y_efficiency_train,grid_predictions) * 100)\n",
        "print(\"PRECISION \",prec(y_efficiency_train,grid_predictions,average='macro') * 100)\n",
        "print(\"RECALL\",recall(y_efficiency_train,grid_predictions,average='macro') * 100)\n",
        "\n",
        "print('Confusion Matrix : \\n', confusion_matrix(y_efficiency_train, grid_predictions))\n",
        "print('Report Hasil : \\n',classification_report(y_efficiency_train, grid_predictions))"
      ],
      "metadata": {
        "colab": {
          "base_uri": "https://localhost:8080/"
        },
        "id": "y54Zoj-MhcAL",
        "outputId": "e2385515-fee5-47d1-e0c0-d514497ff83d"
      },
      "execution_count": null,
      "outputs": [
        {
          "output_type": "stream",
          "name": "stdout",
          "text": [
            "F1-SCORE  93.78868209143947\n",
            "ACCURACY  98.25\n",
            "PRECISION  96.37489040123586\n",
            "RECALL 91.52592274116515\n",
            "Confusion Matrix : \n",
            " [[1098    5]\n",
            " [  16   81]]\n",
            "Report Hasil : \n",
            "               precision    recall  f1-score   support\n",
            "\n",
            "           0       0.99      1.00      0.99      1103\n",
            "           1       0.94      0.84      0.89        97\n",
            "\n",
            "    accuracy                           0.98      1200\n",
            "   macro avg       0.96      0.92      0.94      1200\n",
            "weighted avg       0.98      0.98      0.98      1200\n",
            "\n"
          ]
        }
      ]
    }
  ]
}