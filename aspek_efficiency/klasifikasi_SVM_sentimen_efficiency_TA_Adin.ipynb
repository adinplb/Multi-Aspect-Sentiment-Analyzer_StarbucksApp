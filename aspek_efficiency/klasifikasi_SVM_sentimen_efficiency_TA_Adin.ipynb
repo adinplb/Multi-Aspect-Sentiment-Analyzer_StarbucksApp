{
  "nbformat": 4,
  "nbformat_minor": 0,
  "metadata": {
    "colab": {
      "provenance": [],
      "collapsed_sections": [
        "N45e1Bwvi7FE",
        "9upZEhtNjnt5",
        "l1EYsNnglNjG",
        "l4vpa9onlh-7",
        "fV9hWKimmNIp",
        "1_8D4d0dmxPK",
        "HKx1ffInoUaV",
        "mb_UuPtBpWIU",
        "QqXpuoiestXe",
        "In2GZfOSu1Pc",
        "g4P8YglHvlpA",
        "G2fZwJyTwy03",
        "etunappIXY1I",
        "3XcZdCfngpWK",
        "M3RUXP32g0gX",
        "yzCHI6ADhFUC",
        "uq3dIbWNhOP0",
        "0vuHbN70hYYn"
      ]
    },
    "kernelspec": {
      "name": "python3",
      "display_name": "Python 3"
    },
    "language_info": {
      "name": "python"
    }
  },
  "cells": [
    {
      "cell_type": "markdown",
      "source": [
        "# Install & Import Package"
      ],
      "metadata": {
        "id": "N45e1Bwvi7FE"
      }
    },
    {
      "cell_type": "code",
      "source": [
        "!pip install Sastrawi"
      ],
      "metadata": {
        "colab": {
          "base_uri": "https://localhost:8080/"
        },
        "id": "BYNo887FjXnC",
        "outputId": "9b890877-9ee2-4e0d-dbaa-93c739295062"
      },
      "execution_count": null,
      "outputs": [
        {
          "output_type": "stream",
          "name": "stdout",
          "text": [
            "Looking in indexes: https://pypi.org/simple, https://us-python.pkg.dev/colab-wheels/public/simple/\n",
            "Collecting Sastrawi\n",
            "  Downloading Sastrawi-1.0.1-py2.py3-none-any.whl (209 kB)\n",
            "\u001b[2K     \u001b[90m━━━━━━━━━━━━━━━━━━━━━━━━━━━━━━━━━━━━━━\u001b[0m \u001b[32m209.7/209.7 kB\u001b[0m \u001b[31m17.0 MB/s\u001b[0m eta \u001b[36m0:00:00\u001b[0m\n",
            "\u001b[?25hInstalling collected packages: Sastrawi\n",
            "Successfully installed Sastrawi-1.0.1\n"
          ]
        }
      ]
    },
    {
      "cell_type": "code",
      "execution_count": null,
      "metadata": {
        "id": "ER9s6ALUivQT"
      },
      "outputs": [],
      "source": [
        "# LIBRARY UNTUK MENGOLAH DATA\n",
        "import pandas as pd\n",
        "import numpy as np\n",
        "import re,string #import regular expression\n",
        "import Sastrawi\n",
        "import joblib\n",
        "\n",
        "import matplotlib.pyplot as plt\n",
        "import seaborn as sns\n",
        "sns.set()\n",
        "import matplotlib as mpl\n",
        "\n",
        "#Library Untuk Split Data\n",
        "from sklearn import model_selection\n",
        "from sklearn.model_selection import train_test_split\n",
        "\n",
        "#Library Ekstraksi Fitur TFIDF\n",
        "from sklearn.feature_extraction.text import TfidfVectorizer\n",
        "from sklearn.preprocessing import OneHotEncoder\n",
        "\n",
        "#Library Klasifikasi Support Vector Machine\n",
        "from sklearn.svm import SVC\n",
        "from sklearn import svm\n",
        "from sklearn.metrics import f1_score as f1\n",
        "from sklearn .metrics import accuracy_score as acc\n",
        "from sklearn.metrics import precision_score as prec\n",
        "from sklearn.metrics import recall_score as recall\n",
        "from sklearn.metrics import confusion_matrix\n",
        "from sklearn.metrics import classification_report\n",
        "from sklearn import metrics\n",
        "\n",
        "\n",
        "#Library HyperParameter Tuning\n",
        "from sklearn.model_selection import cross_val_score\n",
        "from sklearn.model_selection import GridSearchCV\n",
        "import timeit\n",
        "\n",
        "import warnings\n",
        "warnings.filterwarnings('ignore')"
      ]
    },
    {
      "cell_type": "markdown",
      "source": [
        "# Import Dataset \"Hasil Prepro Sentimen BerAspek Efficiency"
      ],
      "metadata": {
        "id": "9upZEhtNjnt5"
      }
    },
    {
      "cell_type": "code",
      "source": [
        "from google.colab import drive\n",
        "drive.mount('/content/drive')"
      ],
      "metadata": {
        "colab": {
          "base_uri": "https://localhost:8080/"
        },
        "id": "R6_YIr8_jwrt",
        "outputId": "1b4a9972-744a-42ae-c3aa-0480513ca7c3"
      },
      "execution_count": null,
      "outputs": [
        {
          "output_type": "stream",
          "name": "stdout",
          "text": [
            "Mounted at /content/drive\n"
          ]
        }
      ]
    },
    {
      "cell_type": "code",
      "source": [
        "ulasan_sentimen_efficiency = pd.read_csv(\"/content/drive/MyDrive/TA_ADIN_ASBA_STARBUCKS_APP/hasil_prepro_sentimen_efficiency_starbucks_app.csv\")\n",
        "ulasan_sentimen_efficiency.shape"
      ],
      "metadata": {
        "colab": {
          "base_uri": "https://localhost:8080/"
        },
        "id": "4o7btSJojmvd",
        "outputId": "631f20b9-1d7b-4a2e-e6e5-030a5174ff01"
      },
      "execution_count": null,
      "outputs": [
        {
          "output_type": "execute_result",
          "data": {
            "text/plain": [
              "(1500, 3)"
            ]
          },
          "metadata": {},
          "execution_count": 4
        }
      ]
    },
    {
      "cell_type": "code",
      "source": [
        "ulasan_sentimen_efficiency['Efficiency'].value_counts()"
      ],
      "metadata": {
        "colab": {
          "base_uri": "https://localhost:8080/"
        },
        "id": "MYG9OAm_kzbP",
        "outputId": "02ad806f-2a61-48ce-c47f-794fea6985aa"
      },
      "execution_count": null,
      "outputs": [
        {
          "output_type": "execute_result",
          "data": {
            "text/plain": [
              " 0    1373\n",
              "-1      80\n",
              " 1      47\n",
              "Name: Efficiency, dtype: int64"
            ]
          },
          "metadata": {},
          "execution_count": 5
        }
      ]
    },
    {
      "cell_type": "code",
      "source": [
        "#detect missing values\n",
        "ulasan_sentimen_efficiency.isna().sum()"
      ],
      "metadata": {
        "colab": {
          "base_uri": "https://localhost:8080/"
        },
        "id": "-kCzND0sk3ls",
        "outputId": "ccb8b894-2680-4e34-fff7-b2b31b3045fe"
      },
      "execution_count": null,
      "outputs": [
        {
          "output_type": "execute_result",
          "data": {
            "text/plain": [
              "Ulasan        0\n",
              "stemming      0\n",
              "Efficiency    0\n",
              "dtype: int64"
            ]
          },
          "metadata": {},
          "execution_count": 6
        }
      ]
    },
    {
      "cell_type": "markdown",
      "source": [
        "# Inisialisasi Data"
      ],
      "metadata": {
        "id": "l1EYsNnglNjG"
      }
    },
    {
      "cell_type": "code",
      "source": [
        "x_efficiency = ulasan_sentimen_efficiency['stemming'] #hasil stemming\n",
        "y_efficiency = ulasan_sentimen_efficiency['Efficiency'].values #labelnya"
      ],
      "metadata": {
        "id": "I_oVSzANlM7-"
      },
      "execution_count": null,
      "outputs": []
    },
    {
      "cell_type": "markdown",
      "source": [
        "# Split Data"
      ],
      "metadata": {
        "id": "l4vpa9onlh-7"
      }
    },
    {
      "cell_type": "code",
      "source": [
        "from sklearn.model_selection import train_test_split\n",
        "\n",
        "#Perbandingan data train dan data test sebesar 8:2\n",
        "x_efficiency_train, x_efficiency_test, y_efficiency_train, y_efficiency_test = train_test_split(\n",
        "    ulasan_sentimen_efficiency['stemming'],\n",
        "    ulasan_sentimen_efficiency['Efficiency'],\n",
        "    test_size=0.2)\n",
        "\n",
        "train_df = pd.DataFrame()\n",
        "train_df['Ulasan'] = x_efficiency_train\n",
        "train_df['sentiment'] = y_efficiency_train\n",
        "test_df = pd.DataFrame()\n",
        "test_df['Ulasan'] = x_efficiency_test\n",
        "test_df['sentiment'] = y_efficiency_test"
      ],
      "metadata": {
        "id": "Jdez-gT0lhEC"
      },
      "execution_count": null,
      "outputs": []
    },
    {
      "cell_type": "markdown",
      "source": [
        "# Feature TF-IDF \"x_efficiency\""
      ],
      "metadata": {
        "id": "fV9hWKimmNIp"
      }
    },
    {
      "cell_type": "code",
      "source": [
        "#merubah nilai x_efficiency menjadi sebuah angka bukan teks\n",
        "tfidf_vect = TfidfVectorizer(use_idf=True)\n",
        "tfidf_vect.fit(x_efficiency_train)\n",
        "x_efficiency_train_vectorized = tfidf_vect.transform(x_efficiency_train)\n",
        "x_efficiency_test_vectorized = tfidf_vect.transform(x_efficiency_test)"
      ],
      "metadata": {
        "id": "e7oO9WQMmiTr"
      },
      "execution_count": null,
      "outputs": []
    },
    {
      "cell_type": "code",
      "source": [
        "print (x_efficiency_train_vectorized)"
      ],
      "metadata": {
        "colab": {
          "base_uri": "https://localhost:8080/"
        },
        "id": "ZK81udifmlx4",
        "outputId": "d26a0ed0-afac-4bb5-aeea-0f1e809c0a5c"
      },
      "execution_count": null,
      "outputs": [
        {
          "output_type": "stream",
          "name": "stdout",
          "text": [
            "  (0, 1383)\t0.8008966822698391\n",
            "  (0, 1131)\t0.5988025587196204\n",
            "  (1, 309)\t0.842713302514573\n",
            "  (1, 60)\t0.5383626006373229\n",
            "  (2, 1554)\t0.19523168185955816\n",
            "  (2, 1433)\t0.18719932131179426\n",
            "  (2, 1389)\t0.19523168185955816\n",
            "  (2, 1333)\t0.27671995319966386\n",
            "  (2, 1256)\t0.2065526582071849\n",
            "  (2, 1216)\t0.3874179318768671\n",
            "  (2, 1152)\t0.2065526582071849\n",
            "  (2, 1120)\t0.19523168185955816\n",
            "  (2, 1055)\t0.23563666855599122\n",
            "  (2, 1048)\t0.22506903075415188\n",
            "  (2, 951)\t0.2065526582071849\n",
            "  (2, 744)\t0.19523168185955816\n",
            "  (2, 743)\t0.14520403172115018\n",
            "  (2, 689)\t0.2065526582071849\n",
            "  (2, 673)\t0.19523168185955816\n",
            "  (2, 624)\t0.2065526582071849\n",
            "  (2, 616)\t0.13493680168091596\n",
            "  (2, 553)\t0.3356919688328073\n",
            "  (2, 295)\t0.19523168185955816\n",
            "  (2, 1)\t0.19523168185955816\n",
            "  (3, 1387)\t0.3927997737964704\n",
            "  :\t:\n",
            "  (1193, 919)\t0.13185875854166873\n",
            "  (1193, 856)\t0.18095457191209963\n",
            "  (1193, 853)\t0.1735096103642611\n",
            "  (1193, 738)\t0.18095457191209963\n",
            "  (1193, 564)\t0.18095457191209963\n",
            "  (1193, 534)\t0.16301652640832065\n",
            "  (1193, 516)\t0.14507848090454165\n",
            "  (1193, 484)\t0.36190914382419925\n",
            "  (1193, 337)\t0.1735096103642611\n",
            "  (1193, 279)\t0.19144765586804008\n",
            "  (1193, 278)\t0.38289531173608016\n",
            "  (1193, 130)\t0.16301652640832065\n",
            "  (1194, 868)\t0.9050782874284298\n",
            "  (1194, 110)\t0.4252449807177279\n",
            "  (1195, 97)\t1.0\n",
            "  (1196, 429)\t0.9417725706710969\n",
            "  (1196, 60)\t0.33625053922864423\n",
            "  (1198, 1287)\t0.5846760208694707\n",
            "  (1198, 1077)\t0.8112668800217608\n",
            "  (1199, 1361)\t0.36659686252669743\n",
            "  (1199, 1287)\t0.3580068806491296\n",
            "  (1199, 1164)\t0.5315261207480747\n",
            "  (1199, 1037)\t0.3963699210894403\n",
            "  (1199, 729)\t0.41769093496481413\n",
            "  (1199, 407)\t0.35120217149063165\n"
          ]
        }
      ]
    },
    {
      "cell_type": "markdown",
      "source": [
        "# Klasifikasi SVM dengan K-Fold Cross Validation Menggunakan Kernel Linear"
      ],
      "metadata": {
        "id": "1_8D4d0dmxPK"
      }
    },
    {
      "cell_type": "markdown",
      "source": [
        "Kernel Linear memiliki akurasi paling tinggi sebesar 0.9208 (Tanpa Hyperparamater Tunning)"
      ],
      "metadata": {
        "id": "EwMyhi3qrKdz"
      }
    },
    {
      "cell_type": "code",
      "source": [
        "#Membuat Model dg Kernel Linear\n",
        "clf_linear = SVC(kernel='linear')\n",
        "\n",
        "#Evaluasi dg K-Fold Cross Validation\n",
        "#Menggunakan Data Train untuk Melatih Model\n",
        "cv_linear = cross_val_score(clf_linear, x_efficiency_train_vectorized, y_efficiency_train, scoring='accuracy', cv=5)\n",
        "\n",
        "#Hasil Setelah dilakukan 5x Fold (cv=5)\n",
        "print(\"Accuracy Score Linear of : %0.4f\" % (cv_linear.mean()))"
      ],
      "metadata": {
        "colab": {
          "base_uri": "https://localhost:8080/"
        },
        "id": "5hGtLQs7mwRZ",
        "outputId": "7ffe2a03-556a-46a6-de2e-c59535408b08"
      },
      "execution_count": null,
      "outputs": [
        {
          "output_type": "stream",
          "name": "stdout",
          "text": [
            "Accuracy Score Linear of : 0.9208\n"
          ]
        }
      ]
    },
    {
      "cell_type": "markdown",
      "source": [
        "# Klasifikasi SVM dengan K-Fold Cross Validation Menggunakan Kernel Polynomial"
      ],
      "metadata": {
        "id": "HKx1ffInoUaV"
      }
    },
    {
      "cell_type": "code",
      "source": [
        "#Membuat Model dg Kernel Polynomial\n",
        "clf_poly = SVC(kernel='poly')\n",
        "\n",
        "#Evaluasi dg K-Fold Cross Validation\n",
        "#Menggunakan Data Train untuk Melatih Model\n",
        "cv_poly = cross_val_score(clf_poly, x_efficiency_train_vectorized, y_efficiency_train, scoring='accuracy', cv=5)\n",
        "\n",
        "#Hasil Setelah 5lipatan/fold (nilai cv=5)\n",
        "print(\"Accuracy Score Poly of : %0.4f\" % (cv_poly.mean()))"
      ],
      "metadata": {
        "colab": {
          "base_uri": "https://localhost:8080/"
        },
        "id": "ROq8aEcaoZDw",
        "outputId": "f60d7a9c-d3ed-4593-cb43-0da5f4dba332"
      },
      "execution_count": null,
      "outputs": [
        {
          "output_type": "stream",
          "name": "stdout",
          "text": [
            "Accuracy Score Poly of : 0.9158\n"
          ]
        }
      ]
    },
    {
      "cell_type": "markdown",
      "source": [
        "# Klasifikasi SVM dengan K-Fold Cross Validation Menggunakan Kernel RBF"
      ],
      "metadata": {
        "id": "mb_UuPtBpWIU"
      }
    },
    {
      "cell_type": "code",
      "source": [
        "#Membuat Model dg Kernel rbf\n",
        "clf_rbf = SVC(kernel='rbf')\n",
        "\n",
        "#Evaluasi dg K-Fold Cross Validation\n",
        "#Menggunakan Data Train untuk Melatih Model\n",
        "cv_rbf= cross_val_score(clf_rbf, x_efficiency_train_vectorized, y_efficiency_train, scoring='accuracy', cv=5)\n",
        "\n",
        "#Hasil Setelah 5lipatan/fold (nilai cv=5)\n",
        "print(\"Accuracy Score RBF of : %0.4f\" % (cv_rbf.mean()))"
      ],
      "metadata": {
        "colab": {
          "base_uri": "https://localhost:8080/"
        },
        "id": "l59CuVryqfWY",
        "outputId": "5ea2293b-1ed9-4bb4-b024-d372096e45cb"
      },
      "execution_count": null,
      "outputs": [
        {
          "output_type": "stream",
          "name": "stdout",
          "text": [
            "Accuracy Score RBF of : 0.9183\n"
          ]
        }
      ]
    },
    {
      "cell_type": "markdown",
      "source": [
        "# Klasifikasi SVM (Hyperparameter Tunning) Menggunakan Kernel Linear"
      ],
      "metadata": {
        "id": "QqXpuoiestXe"
      }
    },
    {
      "cell_type": "code",
      "source": [
        "#Tuning Parameter with GridSearchCV\n",
        "#LINEAR KERNEL\n",
        "\n",
        "param_grid = {'C': [0.1, 1, 10, 100],\n",
        "              'kernel': ['linear'],\n",
        "              'gamma' :[0.01, 0.1, 1, 10]\n",
        "             }\n",
        "\n",
        "grid = GridSearchCV(svm.SVC(), param_grid, scoring='accuracy', refit = True, verbose = 3)\n",
        "# fitting the model for grid search\n",
        "grid.fit(x_efficiency_train_vectorized, y_efficiency_train)\n",
        "\n",
        "selected_kernel_linear = grid.best_params_['kernel']\n",
        "print(\"Selected Kernel: \", selected_kernel_linear)\n",
        "selected_C_linear = grid.best_params_['C']\n",
        "print(\"Selected C: \", selected_C_linear)\n",
        "selected_gamma_linear= grid.best_params_['gamma']\n",
        "print(\"Selected Gamma: \", selected_gamma_linear)\n",
        "\n",
        "best_params_linear_HT = grid.best_params_\n",
        "model_looks_linear_HT= grid.best_estimator_\n",
        "\n",
        "print(f'Best Score : {grid.best_score_}')\n",
        "print(\"best estimator: %s\" % (model_looks_linear_HT))"
      ],
      "metadata": {
        "colab": {
          "base_uri": "https://localhost:8080/"
        },
        "id": "Xq8iUoJmrpJR",
        "outputId": "e0bb5a7c-563b-4e66-d15b-87d8e9597c95"
      },
      "execution_count": null,
      "outputs": [
        {
          "output_type": "stream",
          "name": "stdout",
          "text": [
            "Fitting 5 folds for each of 16 candidates, totalling 80 fits\n",
            "[CV 1/5] END ..C=0.1, gamma=0.01, kernel=linear;, score=0.917 total time=   0.1s\n",
            "[CV 2/5] END ..C=0.1, gamma=0.01, kernel=linear;, score=0.917 total time=   0.1s\n",
            "[CV 3/5] END ..C=0.1, gamma=0.01, kernel=linear;, score=0.917 total time=   0.1s\n",
            "[CV 4/5] END ..C=0.1, gamma=0.01, kernel=linear;, score=0.917 total time=   0.1s\n",
            "[CV 5/5] END ..C=0.1, gamma=0.01, kernel=linear;, score=0.917 total time=   0.2s\n",
            "[CV 1/5] END ...C=0.1, gamma=0.1, kernel=linear;, score=0.917 total time=   0.0s\n",
            "[CV 2/5] END ...C=0.1, gamma=0.1, kernel=linear;, score=0.917 total time=   0.1s\n",
            "[CV 3/5] END ...C=0.1, gamma=0.1, kernel=linear;, score=0.917 total time=   0.0s\n",
            "[CV 4/5] END ...C=0.1, gamma=0.1, kernel=linear;, score=0.917 total time=   0.0s\n",
            "[CV 5/5] END ...C=0.1, gamma=0.1, kernel=linear;, score=0.917 total time=   0.1s\n",
            "[CV 1/5] END .....C=0.1, gamma=1, kernel=linear;, score=0.917 total time=   0.1s\n",
            "[CV 2/5] END .....C=0.1, gamma=1, kernel=linear;, score=0.917 total time=   0.0s\n",
            "[CV 3/5] END .....C=0.1, gamma=1, kernel=linear;, score=0.917 total time=   0.1s\n",
            "[CV 4/5] END .....C=0.1, gamma=1, kernel=linear;, score=0.917 total time=   0.0s\n",
            "[CV 5/5] END .....C=0.1, gamma=1, kernel=linear;, score=0.917 total time=   0.1s\n",
            "[CV 1/5] END ....C=0.1, gamma=10, kernel=linear;, score=0.917 total time=   0.1s\n",
            "[CV 2/5] END ....C=0.1, gamma=10, kernel=linear;, score=0.917 total time=   0.1s\n",
            "[CV 3/5] END ....C=0.1, gamma=10, kernel=linear;, score=0.917 total time=   0.1s\n",
            "[CV 4/5] END ....C=0.1, gamma=10, kernel=linear;, score=0.917 total time=   0.1s\n",
            "[CV 5/5] END ....C=0.1, gamma=10, kernel=linear;, score=0.917 total time=   0.1s\n",
            "[CV 1/5] END ....C=1, gamma=0.01, kernel=linear;, score=0.917 total time=   0.1s\n",
            "[CV 2/5] END ....C=1, gamma=0.01, kernel=linear;, score=0.929 total time=   0.1s\n",
            "[CV 3/5] END ....C=1, gamma=0.01, kernel=linear;, score=0.929 total time=   0.1s\n",
            "[CV 4/5] END ....C=1, gamma=0.01, kernel=linear;, score=0.908 total time=   0.0s\n",
            "[CV 5/5] END ....C=1, gamma=0.01, kernel=linear;, score=0.921 total time=   0.1s\n",
            "[CV 1/5] END .....C=1, gamma=0.1, kernel=linear;, score=0.917 total time=   0.1s\n",
            "[CV 2/5] END .....C=1, gamma=0.1, kernel=linear;, score=0.929 total time=   0.1s\n",
            "[CV 3/5] END .....C=1, gamma=0.1, kernel=linear;, score=0.929 total time=   0.1s\n",
            "[CV 4/5] END .....C=1, gamma=0.1, kernel=linear;, score=0.908 total time=   0.0s\n",
            "[CV 5/5] END .....C=1, gamma=0.1, kernel=linear;, score=0.921 total time=   0.1s\n",
            "[CV 1/5] END .......C=1, gamma=1, kernel=linear;, score=0.917 total time=   0.1s\n",
            "[CV 2/5] END .......C=1, gamma=1, kernel=linear;, score=0.929 total time=   0.1s\n",
            "[CV 3/5] END .......C=1, gamma=1, kernel=linear;, score=0.929 total time=   0.1s\n",
            "[CV 4/5] END .......C=1, gamma=1, kernel=linear;, score=0.908 total time=   0.0s\n",
            "[CV 5/5] END .......C=1, gamma=1, kernel=linear;, score=0.921 total time=   0.1s\n",
            "[CV 1/5] END ......C=1, gamma=10, kernel=linear;, score=0.917 total time=   0.1s\n",
            "[CV 2/5] END ......C=1, gamma=10, kernel=linear;, score=0.929 total time=   0.2s\n",
            "[CV 3/5] END ......C=1, gamma=10, kernel=linear;, score=0.929 total time=   0.1s\n",
            "[CV 4/5] END ......C=1, gamma=10, kernel=linear;, score=0.908 total time=   0.1s\n",
            "[CV 5/5] END ......C=1, gamma=10, kernel=linear;, score=0.921 total time=   0.1s\n",
            "[CV 1/5] END ...C=10, gamma=0.01, kernel=linear;, score=0.904 total time=   0.1s\n",
            "[CV 2/5] END ...C=10, gamma=0.01, kernel=linear;, score=0.938 total time=   0.1s\n",
            "[CV 3/5] END ...C=10, gamma=0.01, kernel=linear;, score=0.933 total time=   0.1s\n",
            "[CV 4/5] END ...C=10, gamma=0.01, kernel=linear;, score=0.896 total time=   0.1s\n",
            "[CV 5/5] END ...C=10, gamma=0.01, kernel=linear;, score=0.929 total time=   0.1s\n",
            "[CV 1/5] END ....C=10, gamma=0.1, kernel=linear;, score=0.904 total time=   0.1s\n",
            "[CV 2/5] END ....C=10, gamma=0.1, kernel=linear;, score=0.938 total time=   0.1s\n",
            "[CV 3/5] END ....C=10, gamma=0.1, kernel=linear;, score=0.933 total time=   0.1s\n",
            "[CV 4/5] END ....C=10, gamma=0.1, kernel=linear;, score=0.896 total time=   0.1s\n",
            "[CV 5/5] END ....C=10, gamma=0.1, kernel=linear;, score=0.929 total time=   0.1s\n",
            "[CV 1/5] END ......C=10, gamma=1, kernel=linear;, score=0.904 total time=   0.1s\n",
            "[CV 2/5] END ......C=10, gamma=1, kernel=linear;, score=0.938 total time=   0.1s\n",
            "[CV 3/5] END ......C=10, gamma=1, kernel=linear;, score=0.933 total time=   0.1s\n",
            "[CV 4/5] END ......C=10, gamma=1, kernel=linear;, score=0.896 total time=   0.0s\n",
            "[CV 5/5] END ......C=10, gamma=1, kernel=linear;, score=0.929 total time=   0.1s\n",
            "[CV 1/5] END .....C=10, gamma=10, kernel=linear;, score=0.904 total time=   0.1s\n",
            "[CV 2/5] END .....C=10, gamma=10, kernel=linear;, score=0.938 total time=   0.1s\n",
            "[CV 3/5] END .....C=10, gamma=10, kernel=linear;, score=0.933 total time=   0.1s\n",
            "[CV 4/5] END .....C=10, gamma=10, kernel=linear;, score=0.896 total time=   0.1s\n",
            "[CV 5/5] END .....C=10, gamma=10, kernel=linear;, score=0.929 total time=   0.1s\n",
            "[CV 1/5] END ..C=100, gamma=0.01, kernel=linear;, score=0.900 total time=   0.1s\n",
            "[CV 2/5] END ..C=100, gamma=0.01, kernel=linear;, score=0.938 total time=   0.1s\n",
            "[CV 3/5] END ..C=100, gamma=0.01, kernel=linear;, score=0.917 total time=   0.1s\n",
            "[CV 4/5] END ..C=100, gamma=0.01, kernel=linear;, score=0.912 total time=   0.1s\n",
            "[CV 5/5] END ..C=100, gamma=0.01, kernel=linear;, score=0.908 total time=   0.1s\n",
            "[CV 1/5] END ...C=100, gamma=0.1, kernel=linear;, score=0.900 total time=   0.1s\n",
            "[CV 2/5] END ...C=100, gamma=0.1, kernel=linear;, score=0.938 total time=   0.1s\n",
            "[CV 3/5] END ...C=100, gamma=0.1, kernel=linear;, score=0.917 total time=   0.1s\n",
            "[CV 4/5] END ...C=100, gamma=0.1, kernel=linear;, score=0.912 total time=   0.0s\n",
            "[CV 5/5] END ...C=100, gamma=0.1, kernel=linear;, score=0.908 total time=   0.0s\n",
            "[CV 1/5] END .....C=100, gamma=1, kernel=linear;, score=0.900 total time=   0.0s\n",
            "[CV 2/5] END .....C=100, gamma=1, kernel=linear;, score=0.938 total time=   0.0s\n",
            "[CV 3/5] END .....C=100, gamma=1, kernel=linear;, score=0.917 total time=   0.0s\n",
            "[CV 4/5] END .....C=100, gamma=1, kernel=linear;, score=0.912 total time=   0.0s\n",
            "[CV 5/5] END .....C=100, gamma=1, kernel=linear;, score=0.908 total time=   0.0s\n",
            "[CV 1/5] END ....C=100, gamma=10, kernel=linear;, score=0.900 total time=   0.1s\n",
            "[CV 2/5] END ....C=100, gamma=10, kernel=linear;, score=0.938 total time=   0.0s\n",
            "[CV 3/5] END ....C=100, gamma=10, kernel=linear;, score=0.917 total time=   0.0s\n",
            "[CV 4/5] END ....C=100, gamma=10, kernel=linear;, score=0.912 total time=   0.0s\n",
            "[CV 5/5] END ....C=100, gamma=10, kernel=linear;, score=0.908 total time=   0.0s\n",
            "Selected Kernel:  linear\n",
            "Selected C:  1\n",
            "Selected Gamma:  0.01\n",
            "Best Score : 0.9208333333333332\n",
            "best estimator: SVC(C=1, gamma=0.01, kernel='linear')\n"
          ]
        }
      ]
    },
    {
      "cell_type": "markdown",
      "source": [
        "# Klasifikasi SVM (Hyperparameter Tunning) Menggunakan Kernel Polynomial"
      ],
      "metadata": {
        "id": "In2GZfOSu1Pc"
      }
    },
    {
      "cell_type": "code",
      "source": [
        "#Tuning Parameter with GridSearchCV\n",
        "#Kernel Polynomial\n",
        "\n",
        "param_grid = {'C': [0.1, 1, 10, 100],\n",
        "              'kernel': ['poly'],\n",
        "              'gamma' :[0.01, 0.1, 1, 10]\n",
        "             }\n",
        "\n",
        "grid = GridSearchCV(svm.SVC(), param_grid, scoring='accuracy', refit = True, verbose = 3)\n",
        "# fitting the model for grid search\n",
        "grid.fit(x_efficiency_train_vectorized, y_efficiency_train)\n",
        "\n",
        "\n",
        "selected_kernel_poly = grid.best_params_['kernel']\n",
        "print(\"Selected Kernel: \", selected_kernel_poly)\n",
        "selected_C_poly= grid.best_params_['C']\n",
        "print(\"Selected C: \", selected_C_poly)\n",
        "selected_gamma_poly = grid.best_params_['gamma']\n",
        "print(\"Selected Gamma: \", selected_gamma_poly)\n",
        "\n",
        "\n",
        "best_params_poly_HT = grid.best_params_\n",
        "model_looks_poly_HT= grid.best_estimator_\n",
        "\n",
        "print(f'Best Score : {grid.best_score_}')\n",
        "print(\"best estimator: %s\" % (model_looks_poly_HT))"
      ],
      "metadata": {
        "colab": {
          "base_uri": "https://localhost:8080/"
        },
        "id": "QlbaYx25u5yh",
        "outputId": "22fafff0-c80c-4eb5-f9af-e1914aa3a3b5"
      },
      "execution_count": null,
      "outputs": [
        {
          "output_type": "stream",
          "name": "stdout",
          "text": [
            "Fitting 5 folds for each of 16 candidates, totalling 80 fits\n",
            "[CV 1/5] END ....C=0.1, gamma=0.01, kernel=poly;, score=0.917 total time=   0.0s\n",
            "[CV 2/5] END ....C=0.1, gamma=0.01, kernel=poly;, score=0.917 total time=   0.0s\n",
            "[CV 3/5] END ....C=0.1, gamma=0.01, kernel=poly;, score=0.917 total time=   0.0s\n",
            "[CV 4/5] END ....C=0.1, gamma=0.01, kernel=poly;, score=0.917 total time=   0.0s\n",
            "[CV 5/5] END ....C=0.1, gamma=0.01, kernel=poly;, score=0.917 total time=   0.0s\n",
            "[CV 1/5] END .....C=0.1, gamma=0.1, kernel=poly;, score=0.917 total time=   0.0s\n",
            "[CV 2/5] END .....C=0.1, gamma=0.1, kernel=poly;, score=0.917 total time=   0.0s\n",
            "[CV 3/5] END .....C=0.1, gamma=0.1, kernel=poly;, score=0.917 total time=   0.0s\n",
            "[CV 4/5] END .....C=0.1, gamma=0.1, kernel=poly;, score=0.917 total time=   0.0s\n",
            "[CV 5/5] END .....C=0.1, gamma=0.1, kernel=poly;, score=0.917 total time=   0.0s\n",
            "[CV 1/5] END .......C=0.1, gamma=1, kernel=poly;, score=0.917 total time=   0.0s\n",
            "[CV 2/5] END .......C=0.1, gamma=1, kernel=poly;, score=0.917 total time=   0.1s\n",
            "[CV 3/5] END .......C=0.1, gamma=1, kernel=poly;, score=0.917 total time=   0.1s\n",
            "[CV 4/5] END .......C=0.1, gamma=1, kernel=poly;, score=0.917 total time=   0.0s\n",
            "[CV 5/5] END .......C=0.1, gamma=1, kernel=poly;, score=0.917 total time=   0.1s\n",
            "[CV 1/5] END ......C=0.1, gamma=10, kernel=poly;, score=0.912 total time=   0.1s\n",
            "[CV 2/5] END ......C=0.1, gamma=10, kernel=poly;, score=0.917 total time=   0.1s\n",
            "[CV 3/5] END ......C=0.1, gamma=10, kernel=poly;, score=0.917 total time=   0.1s\n",
            "[CV 4/5] END ......C=0.1, gamma=10, kernel=poly;, score=0.904 total time=   0.1s\n",
            "[CV 5/5] END ......C=0.1, gamma=10, kernel=poly;, score=0.917 total time=   0.1s\n",
            "[CV 1/5] END ......C=1, gamma=0.01, kernel=poly;, score=0.917 total time=   0.0s\n",
            "[CV 2/5] END ......C=1, gamma=0.01, kernel=poly;, score=0.917 total time=   0.0s\n",
            "[CV 3/5] END ......C=1, gamma=0.01, kernel=poly;, score=0.917 total time=   0.0s\n",
            "[CV 4/5] END ......C=1, gamma=0.01, kernel=poly;, score=0.917 total time=   0.0s\n",
            "[CV 5/5] END ......C=1, gamma=0.01, kernel=poly;, score=0.917 total time=   0.0s\n",
            "[CV 1/5] END .......C=1, gamma=0.1, kernel=poly;, score=0.917 total time=   0.0s\n",
            "[CV 2/5] END .......C=1, gamma=0.1, kernel=poly;, score=0.917 total time=   0.0s\n",
            "[CV 3/5] END .......C=1, gamma=0.1, kernel=poly;, score=0.917 total time=   0.0s\n",
            "[CV 4/5] END .......C=1, gamma=0.1, kernel=poly;, score=0.917 total time=   0.0s\n",
            "[CV 5/5] END .......C=1, gamma=0.1, kernel=poly;, score=0.917 total time=   0.0s\n",
            "[CV 1/5] END .........C=1, gamma=1, kernel=poly;, score=0.921 total time=   0.1s\n",
            "[CV 2/5] END .........C=1, gamma=1, kernel=poly;, score=0.921 total time=   0.1s\n",
            "[CV 3/5] END .........C=1, gamma=1, kernel=poly;, score=0.912 total time=   0.1s\n",
            "[CV 4/5] END .........C=1, gamma=1, kernel=poly;, score=0.912 total time=   0.1s\n",
            "[CV 5/5] END .........C=1, gamma=1, kernel=poly;, score=0.917 total time=   0.1s\n",
            "[CV 1/5] END ........C=1, gamma=10, kernel=poly;, score=0.912 total time=   0.1s\n",
            "[CV 2/5] END ........C=1, gamma=10, kernel=poly;, score=0.917 total time=   0.1s\n",
            "[CV 3/5] END ........C=1, gamma=10, kernel=poly;, score=0.917 total time=   0.1s\n",
            "[CV 4/5] END ........C=1, gamma=10, kernel=poly;, score=0.904 total time=   0.1s\n",
            "[CV 5/5] END ........C=1, gamma=10, kernel=poly;, score=0.917 total time=   0.1s\n",
            "[CV 1/5] END .....C=10, gamma=0.01, kernel=poly;, score=0.917 total time=   0.0s\n",
            "[CV 2/5] END .....C=10, gamma=0.01, kernel=poly;, score=0.917 total time=   0.0s\n",
            "[CV 3/5] END .....C=10, gamma=0.01, kernel=poly;, score=0.917 total time=   0.0s\n",
            "[CV 4/5] END .....C=10, gamma=0.01, kernel=poly;, score=0.917 total time=   0.0s\n",
            "[CV 5/5] END .....C=10, gamma=0.01, kernel=poly;, score=0.917 total time=   0.0s\n",
            "[CV 1/5] END ......C=10, gamma=0.1, kernel=poly;, score=0.917 total time=   0.0s\n",
            "[CV 2/5] END ......C=10, gamma=0.1, kernel=poly;, score=0.917 total time=   0.0s\n",
            "[CV 3/5] END ......C=10, gamma=0.1, kernel=poly;, score=0.917 total time=   0.0s\n",
            "[CV 4/5] END ......C=10, gamma=0.1, kernel=poly;, score=0.917 total time=   0.0s\n",
            "[CV 5/5] END ......C=10, gamma=0.1, kernel=poly;, score=0.917 total time=   0.0s\n",
            "[CV 1/5] END ........C=10, gamma=1, kernel=poly;, score=0.912 total time=   0.1s\n",
            "[CV 2/5] END ........C=10, gamma=1, kernel=poly;, score=0.917 total time=   0.1s\n",
            "[CV 3/5] END ........C=10, gamma=1, kernel=poly;, score=0.917 total time=   0.1s\n",
            "[CV 4/5] END ........C=10, gamma=1, kernel=poly;, score=0.904 total time=   0.1s\n",
            "[CV 5/5] END ........C=10, gamma=1, kernel=poly;, score=0.917 total time=   0.1s\n",
            "[CV 1/5] END .......C=10, gamma=10, kernel=poly;, score=0.912 total time=   0.1s\n",
            "[CV 2/5] END .......C=10, gamma=10, kernel=poly;, score=0.917 total time=   0.1s\n",
            "[CV 3/5] END .......C=10, gamma=10, kernel=poly;, score=0.917 total time=   0.1s\n",
            "[CV 4/5] END .......C=10, gamma=10, kernel=poly;, score=0.904 total time=   0.1s\n",
            "[CV 5/5] END .......C=10, gamma=10, kernel=poly;, score=0.917 total time=   0.1s\n",
            "[CV 1/5] END ....C=100, gamma=0.01, kernel=poly;, score=0.917 total time=   0.0s\n",
            "[CV 2/5] END ....C=100, gamma=0.01, kernel=poly;, score=0.917 total time=   0.0s\n",
            "[CV 3/5] END ....C=100, gamma=0.01, kernel=poly;, score=0.917 total time=   0.0s\n",
            "[CV 4/5] END ....C=100, gamma=0.01, kernel=poly;, score=0.917 total time=   0.0s\n",
            "[CV 5/5] END ....C=100, gamma=0.01, kernel=poly;, score=0.917 total time=   0.0s\n",
            "[CV 1/5] END .....C=100, gamma=0.1, kernel=poly;, score=0.917 total time=   0.0s\n",
            "[CV 2/5] END .....C=100, gamma=0.1, kernel=poly;, score=0.917 total time=   0.1s\n",
            "[CV 3/5] END .....C=100, gamma=0.1, kernel=poly;, score=0.917 total time=   0.0s\n",
            "[CV 4/5] END .....C=100, gamma=0.1, kernel=poly;, score=0.917 total time=   0.1s\n",
            "[CV 5/5] END .....C=100, gamma=0.1, kernel=poly;, score=0.917 total time=   0.1s\n",
            "[CV 1/5] END .......C=100, gamma=1, kernel=poly;, score=0.912 total time=   0.1s\n",
            "[CV 2/5] END .......C=100, gamma=1, kernel=poly;, score=0.917 total time=   0.1s\n",
            "[CV 3/5] END .......C=100, gamma=1, kernel=poly;, score=0.917 total time=   0.1s\n",
            "[CV 4/5] END .......C=100, gamma=1, kernel=poly;, score=0.904 total time=   0.1s\n",
            "[CV 5/5] END .......C=100, gamma=1, kernel=poly;, score=0.917 total time=   0.1s\n",
            "[CV 1/5] END ......C=100, gamma=10, kernel=poly;, score=0.912 total time=   0.1s\n",
            "[CV 2/5] END ......C=100, gamma=10, kernel=poly;, score=0.917 total time=   0.1s\n",
            "[CV 3/5] END ......C=100, gamma=10, kernel=poly;, score=0.917 total time=   0.1s\n",
            "[CV 4/5] END ......C=100, gamma=10, kernel=poly;, score=0.904 total time=   0.1s\n",
            "[CV 5/5] END ......C=100, gamma=10, kernel=poly;, score=0.917 total time=   0.1s\n",
            "Selected Kernel:  poly\n",
            "Selected C:  0.1\n",
            "Selected Gamma:  0.01\n",
            "Best Score : 0.9166666666666666\n",
            "best estimator: SVC(C=0.1, gamma=0.01, kernel='poly')\n"
          ]
        }
      ]
    },
    {
      "cell_type": "markdown",
      "source": [
        "# Klasifikasi SVM (Hyperparameter Tunning) Menggunakan Kernel RBF"
      ],
      "metadata": {
        "id": "g4P8YglHvlpA"
      }
    },
    {
      "cell_type": "markdown",
      "source": [
        "Hyperparameter terbaik untuk aspek efficiency ada pada kernel RBF dg C=100, gamma 0.01, score=0.9275"
      ],
      "metadata": {
        "id": "tJWDZyYJwIlA"
      }
    },
    {
      "cell_type": "code",
      "source": [
        "#Tuning Parameter with GridSearchCV\n",
        "#Kernel RBF\n",
        "\n",
        "param_grid = {'C': [0.1, 1, 10, 100],\n",
        "              'kernel': ['rbf'],\n",
        "              'gamma' :[0.01, 0.1, 1, 10]\n",
        "             }\n",
        "\n",
        "grid = GridSearchCV(svm.SVC(), param_grid, scoring='accuracy', refit = True, verbose = 3)\n",
        "# fitting the model for grid search\n",
        "grid.fit(x_efficiency_train_vectorized, y_efficiency_train)\n",
        "\n",
        "selected_kernel_rbf = grid.best_params_['kernel']\n",
        "print(\"Selected Kernel: \", selected_kernel_rbf)\n",
        "selected_C_rbf = grid.best_params_['C']\n",
        "print(\"Selected C: \", selected_C_rbf)\n",
        "selected_gamma_rbf= grid.best_params_['gamma']\n",
        "print(\"Selected Gamma: \", selected_gamma_rbf)\n",
        "\n",
        "best_params_rbf_HT = grid.best_params_\n",
        "model_looks_rbf_HT= grid.best_estimator_\n",
        "\n",
        "print(f'Best Score : {grid.best_score_}')\n",
        "print(\"best estimator: %s\" % (model_looks_rbf_HT))"
      ],
      "metadata": {
        "colab": {
          "base_uri": "https://localhost:8080/"
        },
        "id": "VXEof0fKvrzl",
        "outputId": "0f56da6e-4133-4767-d9d5-e0edf0fe750f"
      },
      "execution_count": null,
      "outputs": [
        {
          "output_type": "stream",
          "name": "stdout",
          "text": [
            "Fitting 5 folds for each of 16 candidates, totalling 80 fits\n",
            "[CV 1/5] END .....C=0.1, gamma=0.01, kernel=rbf;, score=0.917 total time=   0.0s\n",
            "[CV 2/5] END .....C=0.1, gamma=0.01, kernel=rbf;, score=0.917 total time=   0.0s\n",
            "[CV 3/5] END .....C=0.1, gamma=0.01, kernel=rbf;, score=0.917 total time=   0.0s\n",
            "[CV 4/5] END .....C=0.1, gamma=0.01, kernel=rbf;, score=0.917 total time=   0.0s\n",
            "[CV 5/5] END .....C=0.1, gamma=0.01, kernel=rbf;, score=0.917 total time=   0.0s\n",
            "[CV 1/5] END ......C=0.1, gamma=0.1, kernel=rbf;, score=0.917 total time=   0.0s\n",
            "[CV 2/5] END ......C=0.1, gamma=0.1, kernel=rbf;, score=0.917 total time=   0.1s\n",
            "[CV 3/5] END ......C=0.1, gamma=0.1, kernel=rbf;, score=0.917 total time=   0.1s\n",
            "[CV 4/5] END ......C=0.1, gamma=0.1, kernel=rbf;, score=0.917 total time=   0.1s\n",
            "[CV 5/5] END ......C=0.1, gamma=0.1, kernel=rbf;, score=0.917 total time=   0.1s\n",
            "[CV 1/5] END ........C=0.1, gamma=1, kernel=rbf;, score=0.917 total time=   0.1s\n",
            "[CV 2/5] END ........C=0.1, gamma=1, kernel=rbf;, score=0.917 total time=   0.1s\n",
            "[CV 3/5] END ........C=0.1, gamma=1, kernel=rbf;, score=0.917 total time=   0.1s\n",
            "[CV 4/5] END ........C=0.1, gamma=1, kernel=rbf;, score=0.917 total time=   0.1s\n",
            "[CV 5/5] END ........C=0.1, gamma=1, kernel=rbf;, score=0.917 total time=   0.1s\n",
            "[CV 1/5] END .......C=0.1, gamma=10, kernel=rbf;, score=0.917 total time=   0.2s\n",
            "[CV 2/5] END .......C=0.1, gamma=10, kernel=rbf;, score=0.917 total time=   0.2s\n",
            "[CV 3/5] END .......C=0.1, gamma=10, kernel=rbf;, score=0.917 total time=   0.2s\n",
            "[CV 4/5] END .......C=0.1, gamma=10, kernel=rbf;, score=0.917 total time=   0.2s\n",
            "[CV 5/5] END .......C=0.1, gamma=10, kernel=rbf;, score=0.917 total time=   0.2s\n",
            "[CV 1/5] END .......C=1, gamma=0.01, kernel=rbf;, score=0.917 total time=   0.1s\n",
            "[CV 2/5] END .......C=1, gamma=0.01, kernel=rbf;, score=0.917 total time=   0.1s\n",
            "[CV 3/5] END .......C=1, gamma=0.01, kernel=rbf;, score=0.917 total time=   0.1s\n",
            "[CV 4/5] END .......C=1, gamma=0.01, kernel=rbf;, score=0.917 total time=   0.0s\n",
            "[CV 5/5] END .......C=1, gamma=0.01, kernel=rbf;, score=0.917 total time=   0.1s\n",
            "[CV 1/5] END ........C=1, gamma=0.1, kernel=rbf;, score=0.917 total time=   0.1s\n",
            "[CV 2/5] END ........C=1, gamma=0.1, kernel=rbf;, score=0.917 total time=   0.1s\n",
            "[CV 3/5] END ........C=1, gamma=0.1, kernel=rbf;, score=0.917 total time=   0.1s\n",
            "[CV 4/5] END ........C=1, gamma=0.1, kernel=rbf;, score=0.917 total time=   0.1s\n",
            "[CV 5/5] END ........C=1, gamma=0.1, kernel=rbf;, score=0.917 total time=   0.1s\n",
            "[CV 1/5] END ..........C=1, gamma=1, kernel=rbf;, score=0.921 total time=   0.1s\n",
            "[CV 2/5] END ..........C=1, gamma=1, kernel=rbf;, score=0.925 total time=   0.1s\n",
            "[CV 3/5] END ..........C=1, gamma=1, kernel=rbf;, score=0.917 total time=   0.1s\n",
            "[CV 4/5] END ..........C=1, gamma=1, kernel=rbf;, score=0.912 total time=   0.1s\n",
            "[CV 5/5] END ..........C=1, gamma=1, kernel=rbf;, score=0.917 total time=   0.1s\n",
            "[CV 1/5] END .........C=1, gamma=10, kernel=rbf;, score=0.908 total time=   0.2s\n",
            "[CV 2/5] END .........C=1, gamma=10, kernel=rbf;, score=0.917 total time=   0.2s\n",
            "[CV 3/5] END .........C=1, gamma=10, kernel=rbf;, score=0.912 total time=   0.2s\n",
            "[CV 4/5] END .........C=1, gamma=10, kernel=rbf;, score=0.912 total time=   0.2s\n",
            "[CV 5/5] END .........C=1, gamma=10, kernel=rbf;, score=0.917 total time=   0.2s\n",
            "[CV 1/5] END ......C=10, gamma=0.01, kernel=rbf;, score=0.917 total time=   0.1s\n",
            "[CV 2/5] END ......C=10, gamma=0.01, kernel=rbf;, score=0.917 total time=   0.1s\n",
            "[CV 3/5] END ......C=10, gamma=0.01, kernel=rbf;, score=0.917 total time=   0.1s\n",
            "[CV 4/5] END ......C=10, gamma=0.01, kernel=rbf;, score=0.917 total time=   0.1s\n",
            "[CV 5/5] END ......C=10, gamma=0.01, kernel=rbf;, score=0.917 total time=   0.1s\n",
            "[CV 1/5] END .......C=10, gamma=0.1, kernel=rbf;, score=0.917 total time=   0.1s\n",
            "[CV 2/5] END .......C=10, gamma=0.1, kernel=rbf;, score=0.933 total time=   0.1s\n",
            "[CV 3/5] END .......C=10, gamma=0.1, kernel=rbf;, score=0.929 total time=   0.1s\n",
            "[CV 4/5] END .......C=10, gamma=0.1, kernel=rbf;, score=0.908 total time=   0.1s\n",
            "[CV 5/5] END .......C=10, gamma=0.1, kernel=rbf;, score=0.933 total time=   0.1s\n",
            "[CV 1/5] END .........C=10, gamma=1, kernel=rbf;, score=0.912 total time=   0.1s\n",
            "[CV 2/5] END .........C=10, gamma=1, kernel=rbf;, score=0.925 total time=   0.1s\n",
            "[CV 3/5] END .........C=10, gamma=1, kernel=rbf;, score=0.925 total time=   0.1s\n",
            "[CV 4/5] END .........C=10, gamma=1, kernel=rbf;, score=0.912 total time=   0.1s\n",
            "[CV 5/5] END .........C=10, gamma=1, kernel=rbf;, score=0.925 total time=   0.1s\n",
            "[CV 1/5] END ........C=10, gamma=10, kernel=rbf;, score=0.908 total time=   0.1s\n",
            "[CV 2/5] END ........C=10, gamma=10, kernel=rbf;, score=0.917 total time=   0.1s\n",
            "[CV 3/5] END ........C=10, gamma=10, kernel=rbf;, score=0.912 total time=   0.1s\n",
            "[CV 4/5] END ........C=10, gamma=10, kernel=rbf;, score=0.912 total time=   0.1s\n",
            "[CV 5/5] END ........C=10, gamma=10, kernel=rbf;, score=0.917 total time=   0.1s\n",
            "[CV 1/5] END .....C=100, gamma=0.01, kernel=rbf;, score=0.917 total time=   0.1s\n",
            "[CV 2/5] END .....C=100, gamma=0.01, kernel=rbf;, score=0.933 total time=   0.1s\n",
            "[CV 3/5] END .....C=100, gamma=0.01, kernel=rbf;, score=0.929 total time=   0.1s\n",
            "[CV 4/5] END .....C=100, gamma=0.01, kernel=rbf;, score=0.908 total time=   0.0s\n",
            "[CV 5/5] END .....C=100, gamma=0.01, kernel=rbf;, score=0.929 total time=   0.1s\n",
            "[CV 1/5] END ......C=100, gamma=0.1, kernel=rbf;, score=0.904 total time=   0.1s\n",
            "[CV 2/5] END ......C=100, gamma=0.1, kernel=rbf;, score=0.933 total time=   0.1s\n",
            "[CV 3/5] END ......C=100, gamma=0.1, kernel=rbf;, score=0.933 total time=   0.1s\n",
            "[CV 4/5] END ......C=100, gamma=0.1, kernel=rbf;, score=0.904 total time=   0.1s\n",
            "[CV 5/5] END ......C=100, gamma=0.1, kernel=rbf;, score=0.929 total time=   0.1s\n",
            "[CV 1/5] END ........C=100, gamma=1, kernel=rbf;, score=0.912 total time=   0.1s\n",
            "[CV 2/5] END ........C=100, gamma=1, kernel=rbf;, score=0.925 total time=   0.1s\n",
            "[CV 3/5] END ........C=100, gamma=1, kernel=rbf;, score=0.925 total time=   0.1s\n",
            "[CV 4/5] END ........C=100, gamma=1, kernel=rbf;, score=0.908 total time=   0.1s\n",
            "[CV 5/5] END ........C=100, gamma=1, kernel=rbf;, score=0.925 total time=   0.1s\n",
            "[CV 1/5] END .......C=100, gamma=10, kernel=rbf;, score=0.908 total time=   0.1s\n",
            "[CV 2/5] END .......C=100, gamma=10, kernel=rbf;, score=0.917 total time=   0.1s\n",
            "[CV 3/5] END .......C=100, gamma=10, kernel=rbf;, score=0.912 total time=   0.1s\n",
            "[CV 4/5] END .......C=100, gamma=10, kernel=rbf;, score=0.912 total time=   0.1s\n",
            "[CV 5/5] END .......C=100, gamma=10, kernel=rbf;, score=0.917 total time=   0.1s\n",
            "Selected Kernel:  rbf\n",
            "Selected C:  10\n",
            "Selected Gamma:  0.1\n",
            "Best Score : 0.9241666666666667\n",
            "best estimator: SVC(C=10, gamma=0.1)\n"
          ]
        }
      ]
    },
    {
      "cell_type": "markdown",
      "source": [
        "# K-Fold Cross Validation dengan Hyperparameter Tunning"
      ],
      "metadata": {
        "id": "G2fZwJyTwy03"
      }
    },
    {
      "cell_type": "code",
      "source": [
        "cross_val_score_linear= cross_val_score(model_looks_linear_HT, x_efficiency_train_vectorized, y_efficiency_train, scoring='accuracy', cv=5)\n",
        "print(\"Accuracy Score Linear of : %0.4f\" % cross_val_score_linear.mean(), cross_val_score_linear.std())\n",
        "\n",
        "cross_val_score_poly = cross_val_score(model_looks_poly_HT, x_efficiency_train_vectorized, y_efficiency_train, scoring='accuracy', cv=5)\n",
        "print(\"Accuracy Score poly of : %0.4f\" % cross_val_score_poly.mean(), cross_val_score_poly.std())\n",
        "\n",
        "cross_val_score_rbf = cross_val_score(model_looks_rbf_HT, x_efficiency_train_vectorized, y_efficiency_train, scoring='accuracy', cv=5)\n",
        "print(\"Accuracy Score rbf of : %0.4f\" % cross_val_score_rbf.mean(), cross_val_score_rbf.std())"
      ],
      "metadata": {
        "colab": {
          "base_uri": "https://localhost:8080/"
        },
        "id": "oJO4xRGdxBej",
        "outputId": "bbde31cb-ce61-42a4-ecae-78fb17528891"
      },
      "execution_count": null,
      "outputs": [
        {
          "output_type": "stream",
          "name": "stdout",
          "text": [
            "Accuracy Score Linear of : 0.9208 0.007905694150420967\n",
            "Accuracy Score poly of : 0.9167 0.0\n",
            "Accuracy Score rbf of : 0.9242 0.010000000000000016\n"
          ]
        }
      ]
    },
    {
      "cell_type": "markdown",
      "source": [
        "# Visualisasi Pengaruh Hyperparameter Tunning pada Model Klasifikasi SVM di Aspek Efficiency"
      ],
      "metadata": {
        "id": "jbBTyNVgx2B6"
      }
    },
    {
      "cell_type": "markdown",
      "source": [
        "Hyperparameter tunning pada aspek efficiency hanya berpengaruh pada kernel RBF dengan kenaikan sebesar 0.0075"
      ],
      "metadata": {
        "id": "LyYmgeYlyw_6"
      }
    },
    {
      "cell_type": "code",
      "source": [
        "import numpy as np\n",
        "from matplotlib.ticker import FormatStrFormatter\n",
        "\n",
        "import matplotlib.pyplot as plt\n",
        "%matplotlib inline\n",
        "\n",
        "\n",
        "name = ['Linear', 'RBF', 'Polynomial']\n",
        "before_HT = [cv_linear.mean(), cv_rbf.mean(), cv_poly.mean()]\n",
        "after_HT = [cross_val_score_linear.mean(), cross_val_score_rbf.mean(), cross_val_score_poly.mean()]\n",
        "diff_linear = ((cross_val_score_linear.mean()-cv_linear.mean()))\n",
        "diff_rbf = ((cross_val_score_rbf.mean()-cv_rbf.mean()))\n",
        "diff_poly = ((cross_val_score_poly.mean()-cv_poly.mean()))\n",
        "diff_HT = [diff_linear, diff_rbf, diff_poly]\n",
        "\n",
        "x = np.arange(len(name))\n",
        "width = 0.2\n",
        "\n",
        "fig, ax = plt.subplots(figsize=(14, 7))\n",
        "\n",
        "bfr = ax.bar(x - width/2, before_HT, width, label='Before', color='steelblue')\n",
        "aftr = ax.bar(x + width/2, after_HT, width, label='After', color='orange')\n",
        "diff = ax.bar(x + 0.3, diff_HT, width, label='Diffrenciate', color='cyan')\n",
        "\n",
        "ax.set_title('Hasil Hyperparameter Sentimen Beraspek Efficiency', size=16)\n",
        "ax.set_ylabel('Accuracy', size=14)\n",
        "ax.set_xticks(x)\n",
        "ax.set_xticklabels(name, size=14)\n",
        "ax.legend(fontsize=14)\n",
        "ax.legend(bbox_to_anchor=(1.02, 1), loc='upper left', borderaxespad=0)\n",
        "ax.yaxis.set_major_formatter(FormatStrFormatter(\"%0.2f\"))\n",
        "for p in ax.patches:\n",
        "    h = p.get_height()\n",
        "    x = p.get_x()+p.get_width()/2\n",
        "    if h!= 0:\n",
        "      ax.annotate(\"%g\" % p.get_height(), xy=(x,h), xytext=(0,5), textcoords=\"offset points\",\n",
        "                  ha=\"center\", fontsize=10)\n",
        "\n",
        "plt.show()"
      ],
      "metadata": {
        "colab": {
          "base_uri": "https://localhost:8080/"
        },
        "id": "jqZN4Uh4xyBG",
        "outputId": "8f54ff89-5b7d-4234-dbd9-bd2452f8cc25"
      },
      "execution_count": null,
      "outputs": [
        {
          "output_type": "display_data",
          "data": {
            "text/plain": [
              "<Figure size 1400x700 with 1 Axes>"
            ],
            "image/png": "[encoded data removed]"
          },
          "metadata": {}
        }
      ]
    },
    {
      "cell_type": "markdown",
      "source": [
        "# Validasi Model Hyperparameter Tunning Data Test Linear Kernel"
      ],
      "metadata": {
        "id": "etunappIXY1I"
      }
    },
    {
      "cell_type": "code",
      "source": [
        "grid_predictions = model_looks_linear_HT.predict(x_efficiency_test_vectorized)\n",
        "\n",
        "print(\"F1-SCORE \",f1(y_efficiency_test,grid_predictions,average='macro') * 100)\n",
        "print(\"ACCURACY \",acc(y_efficiency_test,grid_predictions) * 100)\n",
        "print(\"PRECISION \",prec(y_efficiency_test,grid_predictions,average='macro') * 100)\n",
        "print(\"RECALL\",recall(y_efficiency_test,grid_predictions,average='macro') * 100)\n",
        "\n",
        "print('Confusion Matrix : \\n', confusion_matrix(y_efficiency_test, grid_predictions))\n",
        "print('Report Hasil : \\n',classification_report(y_efficiency_test, grid_predictions))"
      ],
      "metadata": {
        "colab": {
          "base_uri": "https://localhost:8080/"
        },
        "id": "1SX832YjgWJ9",
        "outputId": "156e79bd-de0d-4da9-8432-a4a976f8eefd"
      },
      "execution_count": null,
      "outputs": [
        {
          "output_type": "stream",
          "name": "stdout",
          "text": [
            "F1-SCORE  44.47381764656653\n",
            "ACCURACY  91.66666666666666\n",
            "PRECISION  80.63063063063063\n",
            "RECALL 40.43345543345543\n",
            "Confusion Matrix : \n",
            " [[  2  13   0]\n",
            " [  0 272   1]\n",
            " [  0  11   1]]\n",
            "Report Hasil : \n",
            "               precision    recall  f1-score   support\n",
            "\n",
            "          -1       1.00      0.13      0.24        15\n",
            "           0       0.92      1.00      0.96       273\n",
            "           1       0.50      0.08      0.14        12\n",
            "\n",
            "    accuracy                           0.92       300\n",
            "   macro avg       0.81      0.40      0.44       300\n",
            "weighted avg       0.91      0.92      0.89       300\n",
            "\n"
          ]
        }
      ]
    },
    {
      "cell_type": "markdown",
      "source": [
        "# Validasi Model Hyperparameter Tunning Data Test Polynomial Kernel"
      ],
      "metadata": {
        "id": "3XcZdCfngpWK"
      }
    },
    {
      "cell_type": "code",
      "source": [
        "grid_predictions = model_looks_poly_HT.predict(x_efficiency_test_vectorized)\n",
        "\n",
        "print(\"F1-SCORE \",f1(y_efficiency_test,grid_predictions,average='macro') * 100)\n",
        "print(\"ACCURACY \",acc(y_efficiency_test,grid_predictions) * 100)\n",
        "print(\"PRECISION \",prec(y_efficiency_test,grid_predictions,average='macro') * 100)\n",
        "print(\"RECALL\",recall(y_efficiency_test,grid_predictions,average='macro') * 100)\n",
        "\n",
        "print('Confusion Matrix : \\n', confusion_matrix(y_efficiency_test, grid_predictions))\n",
        "print('Report Hasil : \\n',classification_report(y_efficiency_test, grid_predictions))"
      ],
      "metadata": {
        "colab": {
          "base_uri": "https://localhost:8080/"
        },
        "id": "9cU2FkyXgvQ4",
        "outputId": "9145434f-4525-46a0-e30f-6e5fe33f847b"
      },
      "execution_count": null,
      "outputs": [
        {
          "output_type": "stream",
          "name": "stdout",
          "text": [
            "F1-SCORE  31.762652705061083\n",
            "ACCURACY  91.0\n",
            "PRECISION  30.333333333333336\n",
            "RECALL 33.33333333333333\n",
            "Confusion Matrix : \n",
            " [[  0  15   0]\n",
            " [  0 273   0]\n",
            " [  0  12   0]]\n",
            "Report Hasil : \n",
            "               precision    recall  f1-score   support\n",
            "\n",
            "          -1       0.00      0.00      0.00        15\n",
            "           0       0.91      1.00      0.95       273\n",
            "           1       0.00      0.00      0.00        12\n",
            "\n",
            "    accuracy                           0.91       300\n",
            "   macro avg       0.30      0.33      0.32       300\n",
            "weighted avg       0.83      0.91      0.87       300\n",
            "\n"
          ]
        }
      ]
    },
    {
      "cell_type": "markdown",
      "source": [
        "# Validasi Model Hyperparameter Tunning Data Test RBF Kernel"
      ],
      "metadata": {
        "id": "M3RUXP32g0gX"
      }
    },
    {
      "cell_type": "code",
      "source": [
        "grid_predictions = model_looks_rbf_HT.predict(x_efficiency_test_vectorized)\n",
        "\n",
        "print(\"F1-SCORE \",f1(y_efficiency_test,grid_predictions,average='macro') * 100)\n",
        "print(\"ACCURACY \",acc(y_efficiency_test,grid_predictions) * 100)\n",
        "print(\"PRECISION \",prec(y_efficiency_test,grid_predictions,average='macro') * 100)\n",
        "print(\"RECALL\",recall(y_efficiency_test,grid_predictions,average='macro') * 100)\n",
        "\n",
        "print('Confusion Matrix : \\n', confusion_matrix(y_efficiency_test, grid_predictions))\n",
        "print('Report Hasil : \\n',classification_report(y_efficiency_test, grid_predictions))"
      ],
      "metadata": {
        "colab": {
          "base_uri": "https://localhost:8080/"
        },
        "id": "QL1_wrr0g6M9",
        "outputId": "6403184d-8c97-4171-fe19-86b630519742"
      },
      "execution_count": null,
      "outputs": [
        {
          "output_type": "stream",
          "name": "stdout",
          "text": [
            "F1-SCORE  58.62948299953423\n",
            "ACCURACY  93.0\n",
            "PRECISION  89.38356164383562\n",
            "RECALL 50.433455433455435\n",
            "Confusion Matrix : \n",
            " [[  4  11   0]\n",
            " [  0 272   1]\n",
            " [  0   9   3]]\n",
            "Report Hasil : \n",
            "               precision    recall  f1-score   support\n",
            "\n",
            "          -1       1.00      0.27      0.42        15\n",
            "           0       0.93      1.00      0.96       273\n",
            "           1       0.75      0.25      0.38        12\n",
            "\n",
            "    accuracy                           0.93       300\n",
            "   macro avg       0.89      0.50      0.59       300\n",
            "weighted avg       0.93      0.93      0.91       300\n",
            "\n"
          ]
        }
      ]
    },
    {
      "cell_type": "markdown",
      "source": [
        "# Validasi Model Hyperparameter Tunning Data Train Linear Kernel"
      ],
      "metadata": {
        "id": "yzCHI6ADhFUC"
      }
    },
    {
      "cell_type": "code",
      "source": [
        "grid_predictions = model_looks_linear_HT.predict(x_efficiency_train_vectorized)\n",
        "\n",
        "print(\"F1-SCORE \",f1(y_efficiency_train,grid_predictions,average='macro') * 100)\n",
        "print(\"ACCURACY \",acc(y_efficiency_train,grid_predictions) * 100)\n",
        "print(\"PRECISION \",prec(y_efficiency_train,grid_predictions,average='macro') * 100)\n",
        "print(\"RECALL\",recall(y_efficiency_train,grid_predictions,average='macro') * 100)\n",
        "\n",
        "print('Confusion Matrix : \\n', confusion_matrix(y_efficiency_train, grid_predictions))\n",
        "print('Report Hasil : \\n',classification_report(y_efficiency_train, grid_predictions))"
      ],
      "metadata": {
        "colab": {
          "base_uri": "https://localhost:8080/"
        },
        "id": "-j-5F5t-hLPk",
        "outputId": "44503cf6-2ad6-4721-cf83-5e59e55c3b1a"
      },
      "execution_count": null,
      "outputs": [
        {
          "output_type": "stream",
          "name": "stdout",
          "text": [
            "F1-SCORE  72.43431926546361\n",
            "ACCURACY  95.16666666666667\n",
            "PRECISION  95.18799345272483\n",
            "RECALL 62.43023643023643\n",
            "Confusion Matrix : \n",
            " [[  29   36    0]\n",
            " [   1 1098    1]\n",
            " [   0   20   15]]\n",
            "Report Hasil : \n",
            "               precision    recall  f1-score   support\n",
            "\n",
            "          -1       0.97      0.45      0.61        65\n",
            "           0       0.95      1.00      0.97      1100\n",
            "           1       0.94      0.43      0.59        35\n",
            "\n",
            "    accuracy                           0.95      1200\n",
            "   macro avg       0.95      0.62      0.72      1200\n",
            "weighted avg       0.95      0.95      0.94      1200\n",
            "\n"
          ]
        }
      ]
    },
    {
      "cell_type": "markdown",
      "source": [
        "# Validasi Model Hyperparameter Tunning Data Train Polynomial Kernel"
      ],
      "metadata": {
        "id": "uq3dIbWNhOP0"
      }
    },
    {
      "cell_type": "code",
      "source": [
        "grid_predictions = model_looks_poly_HT.predict(x_efficiency_train_vectorized)\n",
        "\n",
        "print(\"F1-SCORE \",f1(y_efficiency_train,grid_predictions,average='macro') * 100)\n",
        "print(\"ACCURACY \",acc(y_efficiency_train,grid_predictions) * 100)\n",
        "print(\"PRECISION \",prec(y_efficiency_train,grid_predictions,average='macro') * 100)\n",
        "print(\"RECALL\",recall(y_efficiency_train,grid_predictions,average='macro') * 100)\n",
        "\n",
        "print('Confusion Matrix : \\n', confusion_matrix(y_efficiency_train, grid_predictions))\n",
        "print('Report Hasil : \\n',classification_report(y_efficiency_train, grid_predictions))"
      ],
      "metadata": {
        "colab": {
          "base_uri": "https://localhost:8080/"
        },
        "id": "RBrSYY-xhTBf",
        "outputId": "324be15c-bab7-4cd6-ad6a-7d0b6304232a"
      },
      "execution_count": null,
      "outputs": [
        {
          "output_type": "stream",
          "name": "stdout",
          "text": [
            "F1-SCORE  31.884057971014496\n",
            "ACCURACY  91.66666666666666\n",
            "PRECISION  30.555555555555554\n",
            "RECALL 33.33333333333333\n",
            "Confusion Matrix : \n",
            " [[   0   65    0]\n",
            " [   0 1100    0]\n",
            " [   0   35    0]]\n",
            "Report Hasil : \n",
            "               precision    recall  f1-score   support\n",
            "\n",
            "          -1       0.00      0.00      0.00        65\n",
            "           0       0.92      1.00      0.96      1100\n",
            "           1       0.00      0.00      0.00        35\n",
            "\n",
            "    accuracy                           0.92      1200\n",
            "   macro avg       0.31      0.33      0.32      1200\n",
            "weighted avg       0.84      0.92      0.88      1200\n",
            "\n"
          ]
        }
      ]
    },
    {
      "cell_type": "markdown",
      "source": [
        "# Validasi Model Hyperparameter Tunning Data Train RBF Kernel"
      ],
      "metadata": {
        "id": "0vuHbN70hYYn"
      }
    },
    {
      "cell_type": "code",
      "source": [
        "grid_predictions = model_looks_rbf_HT.predict(x_efficiency_train_vectorized)\n",
        "\n",
        "print(\"F1-SCORE \",f1(y_efficiency_train,grid_predictions,average='macro') * 100)\n",
        "print(\"ACCURACY \",acc(y_efficiency_train,grid_predictions) * 100)\n",
        "print(\"PRECISION \",prec(y_efficiency_train,grid_predictions,average='macro') * 100)\n",
        "print(\"RECALL\",recall(y_efficiency_train,grid_predictions,average='macro') * 100)\n",
        "\n",
        "print('Confusion Matrix : \\n', confusion_matrix(y_efficiency_train, grid_predictions))\n",
        "print('Report Hasil : \\n',classification_report(y_efficiency_train, grid_predictions))"
      ],
      "metadata": {
        "colab": {
          "base_uri": "https://localhost:8080/"
        },
        "id": "y54Zoj-MhcAL",
        "outputId": "fd7ebc6c-f128-4905-b815-518a6a582902"
      },
      "execution_count": null,
      "outputs": [
        {
          "output_type": "stream",
          "name": "stdout",
          "text": [
            "F1-SCORE  91.82251499040967\n",
            "ACCURACY  98.25\n",
            "PRECISION  95.83208871342742\n",
            "RECALL 88.48051948051948\n",
            "Confusion Matrix : \n",
            " [[  52   12    1]\n",
            " [   1 1097    2]\n",
            " [   0    5   30]]\n",
            "Report Hasil : \n",
            "               precision    recall  f1-score   support\n",
            "\n",
            "          -1       0.98      0.80      0.88        65\n",
            "           0       0.98      1.00      0.99      1100\n",
            "           1       0.91      0.86      0.88        35\n",
            "\n",
            "    accuracy                           0.98      1200\n",
            "   macro avg       0.96      0.88      0.92      1200\n",
            "weighted avg       0.98      0.98      0.98      1200\n",
            "\n"
          ]
        }
      ]
    }
  ]
}